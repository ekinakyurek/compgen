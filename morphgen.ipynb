{
 "cells": [
  {
   "cell_type": "code",
   "execution_count": 3,
   "metadata": {},
   "outputs": [
    {
     "ename": "UndefVarError",
     "evalue": "UndefVarError: gpu not defined",
     "output_type": "error",
     "traceback": [
      "UndefVarError: gpu not defined",
      "",
      "Stacktrace:",
      " [1] top-level scope at In[3]:5"
     ]
    }
   ],
   "source": [
    "using Plots\n",
    "import Plots: px\n",
    "theme(:default)\n",
    "ENV[\"LINES\"] = 20"
   ]
  },
  {
   "cell_type": "code",
   "execution_count": 5,
   "metadata": {},
   "outputs": [
    {
     "name": "stderr",
     "output_type": "stream",
     "text": [
      "┌ Info: Precompiling KnetLayers [80bfaf46-ad8a-11e8-19eb-a135e382307b]\n",
      "└ @ Base loading.jl:1242\n",
      "ERROR: LoadError: InitError: CUDA error: no CUDA-capable device is detected (code #100, ERROR_NO_DEVICE)\n",
      "Stacktrace:\n",
      " [1] macro expansion at /home/gridsan/eakyurek/.julia/packages/CUDAdrv/ADRHQ/src/base.jl:145 [inlined]\n",
      " [2] init(::Int64) at /home/gridsan/eakyurek/.julia/packages/CUDAdrv/ADRHQ/src/init.jl:10 (repeats 2 times)\n",
      " [3] __init__() at /home/gridsan/eakyurek/.julia/packages/CUDAdrv/ADRHQ/src/CUDAdrv.jl:83\n",
      " [4] _include_from_serialized(::String, ::Array{Any,1}) at ./loading.jl:685\n",
      " [5] _require_search_from_serialized(::Base.PkgId, ::String) at ./loading.jl:765\n",
      " [6] _tryrequire_from_serialized(::Base.PkgId, ::UInt64, ::String) at ./loading.jl:700\n",
      " [7] _require_search_from_serialized(::Base.PkgId, ::String) at ./loading.jl:754\n",
      " [8] _require(::Base.PkgId) at ./loading.jl:990\n",
      " [9] require(::Base.PkgId) at ./loading.jl:911\n",
      " [10] require(::Module, ::Symbol) at ./loading.jl:906\n",
      " [11] include at ./boot.jl:328 [inlined]\n",
      " [12] include_relative(::Module, ::String) at ./loading.jl:1094\n",
      " [13] include(::Module, ::String) at ./Base.jl:31\n",
      " [14] top-level scope at none:2\n",
      " [15] eval at ./boot.jl:330 [inlined]\n",
      " [16] eval(::Expr) at ./client.jl:432\n",
      " [17] top-level scope at ./none:3\n",
      "during initialization of module CUDAdrv\n",
      "in expression starting at /home/gridsan/eakyurek/.julia/dev/KnetLayers/src/KnetLayers.jl:3\n"
     ]
    },
    {
     "ename": "LoadError",
     "evalue": "Failed to precompile KnetLayers [80bfaf46-ad8a-11e8-19eb-a135e382307b] to /home/gridsan/eakyurek/.julia/compiled/v1.2/KnetLayers/ZXBRh.ji.",
     "output_type": "error",
     "traceback": [
      "Failed to precompile KnetLayers [80bfaf46-ad8a-11e8-19eb-a135e382307b] to /home/gridsan/eakyurek/.julia/compiled/v1.2/KnetLayers/ZXBRh.ji.",
      "",
      "Stacktrace:",
      " [1] error(::String) at ./error.jl:33",
      " [2] compilecache(::Base.PkgId, ::String) at ./loading.jl:1253",
      " [3] _require(::Base.PkgId) at ./loading.jl:1013",
      " [4] require(::Base.PkgId) at ./loading.jl:911",
      " [5] require(::Module, ::Symbol) at ./loading.jl:906",
      " [6] include at ./boot.jl:328 [inlined]",
      " [7] include_relative(::Module, ::String) at ./loading.jl:1094",
      " [8] include(::Module, ::String) at ./Base.jl:31",
      " [9] include(::String) at ./client.jl:431",
      " [10] top-level scope at In[5]:1"
     ]
    }
   ],
   "source": [
    "include(\"parser.jl\")\n",
    "include(\"models.jl\")\n",
    "gpu()\n",
    "download(SIGDataSet)"
   ]
  },
  {
   "cell_type": "code",
   "execution_count": null,
   "metadata": {},
   "outputs": [],
   "source": [
    "a = KnetArray(30,5,6)\n",
    "b = KnetArray(30,5)\n",
    "vcat(a,b)"
   ]
  },
  {
   "cell_type": "code",
   "execution_count": 6,
   "metadata": {},
   "outputs": [],
   "source": [
    "data  = map(parseDataLine, eachline(\"./data/Sigmorphon/task1/all/spanish-train-high\"));\n",
    "vocab = Vocabulary(data)\n",
    "edata = encode(data,vocab);\n",
    "test  = map(parseDataLine, eachline(\"./data/Sigmorphon/task1/all/spanish-test\"));\n",
    "tdata = encode(test,vocab);\n",
    "dictionary = [parseDataLine(line) for line in  eachline(\"./data/unimorph/spa/spa\") if line != \"\"];"
   ]
  },
  {
   "cell_type": "code",
   "execution_count": 7,
   "metadata": {},
   "outputs": [],
   "source": [
    "vocab.chars.toElement;"
   ]
  },
  {
   "cell_type": "code",
   "execution_count": 8,
   "metadata": {},
   "outputs": [
    {
     "data": {
      "text/plain": [
       "(unk = 1, mask = 2, eow = 3, bow = 4)"
      ]
     },
     "execution_count": 8,
     "metadata": {},
     "output_type": "execute_result"
    }
   ],
   "source": [
    "vocab.specialIndices"
   ]
  },
  {
   "cell_type": "code",
   "execution_count": 9,
   "metadata": {},
   "outputs": [],
   "source": [
    "trainsfs = unique(map(x->join(x.surface),data));\n",
    "testsfs  =  unique(map(x->join(x.surface),test)); \n",
    "dictsfs  = unique([map(x->join(x.surface),dictionary); trainsfs; testsfs]);"
   ]
  },
  {
   "cell_type": "code",
   "execution_count": 114,
   "metadata": {},
   "outputs": [
    {
     "name": "stdout",
     "output_type": "stream",
     "text": [
      "(loss = 27.164620870971678,)\n",
      "(loss = 22.277743563842773,)\n",
      "(loss = 20.867304635620116,)\n",
      "(loss = 20.033033688354493,)\n",
      "(loss = 19.3868299407959,)\n",
      "(loss = 18.674105474853516,)\n",
      "(loss = 18.08714924621582,)\n",
      "(loss = 17.50064096221924,)\n",
      "(loss = 16.92261676635742,)\n",
      "(loss = 16.388945954895018,)\n",
      "(loss = 15.922529460144043,)\n",
      "(loss = 15.494584680175782,)\n",
      "(loss = 15.070867434692383,)\n",
      "(loss = 14.722307774353027,)\n",
      "(loss = 14.350033538818359,)\n",
      "(loss = 13.996989518737793,)\n",
      "(loss = 13.751421380615234,)\n",
      "(loss = 13.464950401306153,)\n",
      "(loss = 13.235102838134766,)\n",
      "(loss = 13.027240686035157,)\n",
      "(loss = 12.85623283996582,)\n",
      "(loss = 12.69574707183838,)\n",
      "(loss = 12.539847482299805,)\n",
      "(loss = 12.468811534118652,)\n",
      "(loss = 12.55334242401123,)\n",
      "(loss = 12.421272288513183,)\n",
      "(loss = 12.333470881652833,)\n",
      "(loss = 12.258336614990235,)\n",
      "(loss = 12.157724942016602,)\n",
      "(loss = 12.133267546081543,)\n",
      "(loss = 11.93139398651123,)\n",
      "(loss = 11.699908198547364,)\n",
      "(loss = 11.61518007659912,)\n",
      "(loss = 11.564944371032714,)\n",
      "(loss = 11.489014318847657,)\n",
      "(loss = 11.477059184265137,)\n",
      "(loss = 11.434383961486816,)\n",
      "(loss = 11.390202915954589,)\n",
      "(loss = 11.34346941986084,)\n",
      "(loss = 11.262027073669433,)\n",
      "(loss = 11.429449731445313,)\n",
      "(loss = 11.395573596191406,)\n",
      "(loss = 11.355663783264161,)\n",
      "(loss = 11.325008071899415,)\n",
      "(loss = 11.301325532531738,)\n",
      "(loss = 11.284538676452637,)\n",
      "(loss = 11.23553316040039,)\n",
      "(loss = 11.214849491882324,)\n",
      "(loss = 11.220586558532714,)\n",
      "(loss = 11.17139398803711,)\n"
     ]
    },
    {
     "data": {
      "text/plain": [
       "(encoder = LSTM{Param{KnetArray{Float32,3}}, Multiply{Param{KnetArray{Float32,2}}}}(input=38,hidden=512,embed=16), Wμ = Multiply{Param{KnetArray{Float32,2}}}(input=512 output=16), Wσ = Dense{ELU}(Linear(Multiply{Param{KnetArray{Float32,2}}}(input=512 output=16), Bias{Param{KnetArray{Float32,1}}}(length=16))), Weaμ = Linear(Multiply{Param{KnetArray{Float32,2}}}(input=512 output=512), Bias{Param{KnetArray{Float32,1}}}(length=512)), Weaσ = Linear(Multiply{Param{KnetArray{Float32,2}}}(input=512 output=512), Bias{Param{KnetArray{Float32,1}}}(length=512)), Wμa = Linear(Multiply{Param{KnetArray{Float32,2}}}(input=512 output=512), Bias{Param{KnetArray{Float32,1}}}(length=512)), Wσa = Linear(Multiply{Param{KnetArray{Float32,2}}}(input=512 output=512), Bias{Param{KnetArray{Float32,1}}}(length=512)), output = Linear(Multiply{Param{KnetArray{Float32,2}}}(input=512 output=38), Bias{Param{KnetArray{Float32,1}}}(length=38)), Wdec = Multiply{Param{KnetArray{Float32,2}}}(input=16 output=512), decoder = LSTM{Param{KnetArray{Float32,3}}, Multiply{Param{KnetArray{Float32,2}}}}(input=38,hidden=512,embed=16,dropout=0.4), num = 2, latentSize = 16, hiddenSize = 512)"
      ]
     },
     "execution_count": 114,
     "metadata": {},
     "output_type": "execute_result"
    }
   ],
   "source": [
    "morph = EncAttentiveVAE(length(vocab.chars); H=512, E=16, Z=16)\n",
    "train_ae!(morph, data, vocab; optim=Adam(), epoch=50)"
   ]
  },
  {
   "cell_type": "code",
   "execution_count": 115,
   "metadata": {},
   "outputs": [
    {
     "name": "stdout",
     "output_type": "stream",
     "text": [
      "(kl_weight = 0.1f0, fbr = 3, loss = 24.136080081176758)\n",
      "(kl_weight = 0.2f0, fbr = 3, loss = 20.495269009399415)\n",
      "(kl_weight = 0.3f0, fbr = 3, loss = 19.547788580322266)\n",
      "(kl_weight = 0.4f0, fbr = 3, loss = 18.818262884521484)\n",
      "(kl_weight = 0.5f0, fbr = 3, loss = 18.21607395324707)\n",
      "(kl_weight = 0.6f0, fbr = 3, loss = 17.59560764312744)\n",
      "(kl_weight = 0.70000005f0, fbr = 3, loss = 17.021373539733887)\n",
      "(kl_weight = 0.8000001f0, fbr = 3, loss = 16.42401690673828)\n",
      "(kl_weight = 0.9000001f0, fbr = 3, loss = 15.929938021850585)\n",
      "(kl_weight = 1.0f0, fbr = 3, loss = 15.413370597839355)\n",
      "(kl_weight = 1.0f0, fbr = 3, loss = 15.019504417419434)\n",
      "(kl_weight = 1.0f0, fbr = 3, loss = 14.610223217773438)\n",
      "(kl_weight = 1.0f0, fbr = 3, loss = 14.223151504516602)\n",
      "(kl_weight = 1.0f0, fbr = 3, loss = 13.919325914001465)\n",
      "(kl_weight = 1.0f0, fbr = 3, loss = 13.584100263977051)\n",
      "(kl_weight = 1.0f0, fbr = 3, loss = 13.372099995422364)\n",
      "(kl_weight = 1.0f0, fbr = 3, loss = 13.091981503295898)\n",
      "(kl_weight = 1.0f0, fbr = 3, loss = 12.895043862915038)\n",
      "(kl_weight = 1.0f0, fbr = 3, loss = 12.696215005493164)\n",
      "(kl_weight = 1.0f0, fbr = 3, loss = 12.561980252075195)\n",
      "(kl_weight = 1.0f0, fbr = 3, loss = 12.395515495300293)\n",
      "(kl_weight = 1.0f0, fbr = 3, loss = 12.251409358215332)\n",
      "(kl_weight = 1.0f0, fbr = 3, loss = 12.19536852722168)\n",
      "(kl_weight = 1.0f0, fbr = 3, loss = 12.091283723449706)\n",
      "(kl_weight = 1.0f0, fbr = 3, loss = 12.006956216430664)\n",
      "(kl_weight = 1.0f0, fbr = 3, loss = 11.915142291259766)\n",
      "(kl_weight = 1.0f0, fbr = 3, loss = 11.857932444763184)\n",
      "(kl_weight = 1.0f0, fbr = 3, loss = 11.805878134155273)\n",
      "(kl_weight = 1.0f0, fbr = 3, loss = 11.725646656799317)\n",
      "(kl_weight = 1.0f0, fbr = 3, loss = 11.661846003723145)\n",
      "(kl_weight = 1.0f0, fbr = 3, loss = 11.638674496459961)\n",
      "(kl_weight = 1.0f0, fbr = 3, loss = 11.538560459899902)\n",
      "(kl_weight = 1.0f0, fbr = 3, loss = 11.517468824768066)\n",
      "(kl_weight = 1.0f0, fbr = 3, loss = 11.489681597900391)\n",
      "(kl_weight = 1.0f0, fbr = 3, loss = 11.432397790527343)\n",
      "(kl_weight = 1.0f0, fbr = 3, loss = 11.394275688171387)\n",
      "(kl_weight = 1.0f0, fbr = 3, loss = 11.379101042175293)\n",
      "(kl_weight = 1.0f0, fbr = 3, loss = 11.369725251770019)\n",
      "(kl_weight = 1.0f0, fbr = 3, loss = 11.341080348205566)\n",
      "(kl_weight = 1.0f0, fbr = 3, loss = 11.382605964660645)\n",
      "(kl_weight = 1.0f0, fbr = 3, loss = 11.292196807861329)\n",
      "(kl_weight = 1.0f0, fbr = 3, loss = 11.265019438171386)\n",
      "(kl_weight = 1.0f0, fbr = 3, loss = 11.223179402160644)\n",
      "(kl_weight = 1.0f0, fbr = 3, loss = 11.167779550170899)\n",
      "(kl_weight = 1.0f0, fbr = 3, loss = 11.161081062316894)\n"
     ]
    }
   ],
   "source": [
    "morphv =  EncAttentiveVAE(length(vocab.chars); H=512, E=16, Z=16)\n",
    "copytoparams(morphv.encoder, morph.encoder)\n",
    "copytoparams(morphv.Wμ, morph.Wμ)\n",
    "copytoparams(morphv.Wσa, morph.Wσa)\n",
    "copytoparams(morphv.Wμa, morph.Wμa)\n",
    "copytoparams(morphv.Wσ, morph.Wσ)\n",
    "copytoparams(morphv.Weaμ, morph.Weaμ)\n",
    "copytoparams(morphv.Weaσ, morph.Weaσ)\n",
    "morphv.decoder.embedding = morphv.encoder.embedding\n",
    "train_vae!(morphv, data, vocab; optim=Adam(), epoch=45, kl_weight=0.0f0, kl_rate = 0.1f0, fb_rate=3)"
   ]
  },
  {
   "cell_type": "code",
   "execution_count": 116,
   "metadata": {},
   "outputs": [],
   "source": [
    "samples = sample(morphv, vocab, edata; N=10000);"
   ]
  },
  {
   "cell_type": "code",
   "execution_count": 117,
   "metadata": {},
   "outputs": [
    {
     "data": {
      "text/plain": [
       "3628-element Array{String,1}:\n",
       " \"transfirieres\"   \n",
       " \"imputan\"         \n",
       " \"embaucaré\"       \n",
       " \"espumaras\"       \n",
       " \"invitaran\"       \n",
       " \"selfiaran\"       \n",
       " \"redescubriríamos\"\n",
       " \"interactúen\"     \n",
       " ⋮                 \n",
       " \"empobrezcamos\"   \n",
       " \"apropiare\"       \n",
       " \"indexaría\"       \n",
       " \"recolectaran\"    \n",
       " \"os retraéis\"     \n",
       " \"reubicase\"       \n",
       " \"rebuscarán\"      "
      ]
     },
     "execution_count": 117,
     "metadata": {},
     "output_type": "execute_result"
    }
   ],
   "source": [
    "unique(samples[findall([s ∈ trainsfs for s in samples])])"
   ]
  },
  {
   "cell_type": "code",
   "execution_count": 118,
   "metadata": {},
   "outputs": [
    {
     "data": {
      "text/plain": [
       "5674"
      ]
     },
     "execution_count": 118,
     "metadata": {},
     "output_type": "execute_result"
    }
   ],
   "source": [
    "length(samples[findall([s ∈ trainsfs for s in samples])])"
   ]
  },
  {
   "cell_type": "code",
   "execution_count": 119,
   "metadata": {},
   "outputs": [
    {
     "data": {
      "text/plain": [
       "7-element Array{String,1}:\n",
       " \"no enamore\"   \n",
       " \"irritaríais\"  \n",
       " \"interpolamos\" \n",
       " \"desalineará\"  \n",
       " \"retradujere\"  \n",
       " \"conquistareis\"\n",
       " \"civilizase\"   "
      ]
     },
     "execution_count": 119,
     "metadata": {},
     "output_type": "execute_result"
    }
   ],
   "source": [
    "unique(samples[findall([s ∈ testsfs for s in samples])])"
   ]
  },
  {
   "cell_type": "code",
   "execution_count": 120,
   "metadata": {},
   "outputs": [
    {
     "data": {
      "text/plain": [
       "7"
      ]
     },
     "execution_count": 120,
     "metadata": {},
     "output_type": "execute_result"
    }
   ],
   "source": [
    "length(samples[findall([s ∈ testsfs for s in samples])])"
   ]
  },
  {
   "cell_type": "code",
   "execution_count": 121,
   "metadata": {},
   "outputs": [
    {
     "data": {
      "text/plain": [
       "1-element Array{Int64,1}:\n",
       " 6765"
      ]
     },
     "execution_count": 121,
     "metadata": {},
     "output_type": "execute_result"
    }
   ],
   "source": [
    "unique(length(samples[findall([s ∈ dictsfs for s in samples])]))"
   ]
  },
  {
   "cell_type": "code",
   "execution_count": 122,
   "metadata": {},
   "outputs": [
    {
     "data": {
      "text/plain": [
       "12-element Array{String,1}:\n",
       " \"acompasa\"\n",
       " \"acompasa\"\n",
       " \"acompasa\"\n",
       " \"acompasa\"\n",
       " \"acompasa\"\n",
       " \"acompasa\"\n",
       " \"acompasa\"\n",
       " \"acompasa\"\n",
       " \"acompasa\"\n",
       " \"acompasa\"\n",
       " \"acompasa\"\n",
       " \"acompasa\""
      ]
     },
     "execution_count": 122,
     "metadata": {},
     "output_type": "execute_result"
    }
   ],
   "source": [
    "sampleinter(morphv, vocab, data; N=10)"
   ]
  },
  {
   "cell_type": "code",
   "execution_count": 123,
   "metadata": {},
   "outputs": [
    {
     "data": {
      "text/plain": [
       "(13, Float32[0.023899008; 0.011107493; … ; 0.034281414; 0.024155574], K32(16,1)[0.06590545⋯])"
      ]
     },
     "execution_count": 123,
     "metadata": {},
     "output_type": "execute_result"
    }
   ],
   "source": [
    "au, sigma, mu = calc_au(morphv,tdata; delta=0.01)"
   ]
  },
  {
   "cell_type": "code",
   "execution_count": 124,
   "metadata": {},
   "outputs": [
    {
     "data": {
      "text/plain": [
       "0.24139830017089636"
      ]
     },
     "execution_count": 124,
     "metadata": {},
     "output_type": "execute_result"
    }
   ],
   "source": [
    "mi = calc_mi(morphv,tdata)"
   ]
  },
  {
   "cell_type": "code",
   "execution_count": 134,
   "metadata": {},
   "outputs": [
    {
     "data": {
      "text/plain": [
       "2.768850193697965"
      ]
     },
     "execution_count": 134,
     "metadata": {},
     "output_type": "execute_result"
    }
   ],
   "source": [
    "calc_ppl(morphv,edata)"
   ]
  },
  {
   "cell_type": "code",
   "execution_count": null,
   "metadata": {},
   "outputs": [],
   "source": [
    "atts = attentions(morph,edata, vocab);"
   ]
  },
  {
   "cell_type": "code",
   "execution_count": null,
   "metadata": {},
   "outputs": [],
   "source": [
    "function getsingle(sfs,exs,perms, αs,i) \n",
    "    join(vocab.chars[sfs[i]]), map(e->join(vocab.chars[e]),exs[i][perms[i]]), map(x->x[:,perms[i],i],αs)\n",
    "end"
   ]
  },
  {
   "cell_type": "code",
   "execution_count": null,
   "metadata": {},
   "outputs": [],
   "source": [
    "i = rand(1:length(atts))\n",
    "s1,e1,α1 =  getsingle(atts[i]...,rand(1:16))\n",
    "ys = 1:512\n",
    "h1 = heatmap(e1, ys, α1.αu; size=(1200,800), xtickfont = font(10, \"Halvetica\"), title= s1 * \", mu\", xrotation = 45, titlefontsize=10, left_margin=100px, bottom_margin=100px, right_margin=100px);\n",
    "h2 = heatmap(e1, ys, α1.ασ ;size=(1200,800), xtickfont = font(10, \"Halvetica\"), title=s1 * \", sigma\", xrotation = 45, titlefontsize=10, left_margin=100px, bottom_margin=100px, right_margin=100px);"
   ]
  },
  {
   "cell_type": "code",
   "execution_count": null,
   "metadata": {},
   "outputs": [],
   "source": [
    "println(s1);println(e1)"
   ]
  },
  {
   "cell_type": "code",
   "execution_count": null,
   "metadata": {
    "scrolled": true
   },
   "outputs": [],
   "source": [
    "h1"
   ]
  },
  {
   "cell_type": "markdown",
   "metadata": {},
   "source": [
    "# To-Dos\n",
    "1. Add unrelated surface forms to the examplars too see whether the attention mappings are meaningful\n",
    "2. Comparing with Normal Vae\n",
    "3. Different Sampling Function on LM ($top_k$, temperature)\n",
    "4. Attention in Decoder\n",
    "5. Attention to the hidden state sequence, not just to the final state.\n",
    "6. Metric for testing generation quality?"
   ]
  },
  {
   "cell_type": "code",
   "execution_count": 10,
   "metadata": {},
   "outputs": [
    {
     "data": {
      "text/plain": [
       "nsample_packed_sequence (generic function with 1 method)"
      ]
     },
     "execution_count": 10,
     "metadata": {},
     "output_type": "execute_result"
    }
   ],
   "source": [
    "include(\"models.jl\")\n",
    "include(\"parser.jl\")"
   ]
  },
  {
   "cell_type": "code",
   "execution_count": 11,
   "metadata": {},
   "outputs": [
    {
     "name": "stderr",
     "output_type": "stream",
     "text": [
      "┌ Warning: k=(Ptr{Nothing} @0x0000145ad3b06a00, 1024) v=16 ni=11\n",
      "└ @ Knet /home/gridsan/eakyurek/.julia/packages/Knet/IIjk8/src/gcnode.jl:114\n"
     ]
    },
    {
     "name": "stdout",
     "output_type": "stream",
     "text": [
      "(loss = 25.48106213684082,)\n",
      "(loss = 19.689124320983886,)\n",
      "(loss = 17.678109156799316,)\n",
      "(loss = 16.370846723937987,)\n",
      "(loss = 15.536462135314942,)\n",
      "(loss = 14.368440203857421,)\n",
      "(loss = 13.249526008605956,)\n",
      "(loss = 12.069123878479004,)\n",
      "(loss = 10.896824002075196,)\n",
      "(loss = 9.808624589538574,)\n",
      "(loss = 8.827186461639405,)\n",
      "(loss = 7.936842854309082,)\n",
      "(loss = 7.197932009887695,)\n",
      "(loss = 6.580391456604004,)\n",
      "(loss = 5.9857867866516115,)\n",
      "(loss = 5.381615408325195,)\n",
      "(loss = 4.859548914718628,)\n",
      "(loss = 4.425895553970337,)\n",
      "(loss = 3.9908497341156006,)\n",
      "(loss = 3.480626374435425,)\n",
      "(loss = 3.1255239784240723,)\n",
      "(loss = 2.850472118186951,)\n",
      "(loss = 2.5576387145996096,)\n",
      "(loss = 2.3368043502807616,)\n",
      "(loss = 2.186519179534912,)\n",
      "(loss = 2.1458755438804626,)\n",
      "(loss = 1.8643888281822205,)\n",
      "(loss = 1.7929048946380615,)\n",
      "(loss = 1.6799940519332885,)\n",
      "(loss = 1.5623530780792236,)\n",
      "(loss = 1.4947972586631775,)\n",
      "(loss = 1.386211607837677,)\n",
      "(loss = 1.2810854886054992,)\n",
      "(loss = 1.2522531479358674,)\n",
      "(loss = 1.2778243978977204,)\n",
      "(loss = 1.1256057923316956,)\n",
      "(loss = 1.097336360168457,)\n",
      "(loss = 0.9937601534366608,)\n",
      "(loss = 1.140788660478592,)\n",
      "(loss = 0.9261936738491058,)\n"
     ]
    }
   ],
   "source": [
    "morph2 = VAE(length(vocab.chars); H=768, E=16, Z=16)\n",
    "train_ae!(morph2, data, vocab; optim=Adam(), epoch=40);"
   ]
  },
  {
   "cell_type": "code",
   "execution_count": 30,
   "metadata": {},
   "outputs": [
    {
     "name": "stderr",
     "output_type": "stream",
     "text": [
      "┌ Info: Building the CUDAnative run-time library for your sm_70 device, this might take a while...\n",
      "└ @ CUDAnative /home/gridsan/eakyurek/.julia/packages/CUDAnative/Lr0yj/src/compiler/rtlib.jl:173\n"
     ]
    },
    {
     "name": "stdout",
     "output_type": "stream",
     "text": [
      "(kl_weight = 0.1f0, fbr = 4, loss = 15.270148815917969)\n",
      "(kl_weight = 0.2f0, fbr = 4, loss = 14.885761770629882)\n",
      "(kl_weight = 0.3f0, fbr = 4, loss = 15.071471437072754)\n",
      "(kl_weight = 0.4f0, fbr = 4, loss = 15.637279937744141)\n",
      "(kl_weight = 0.5f0, fbr = 4, loss = 16.101967961120607)\n",
      "(kl_weight = 0.6f0, fbr = 4, loss = 16.486581394958495)\n",
      "(kl_weight = 0.70000005f0, fbr = 4, loss = 16.79835317993164)\n",
      "(kl_weight = 0.8000001f0, fbr = 4, loss = 17.05850625152588)\n",
      "(kl_weight = 0.9000001f0, fbr = 4, loss = 17.139191821289064)\n",
      "(kl_weight = 1.0f0, fbr = 4, loss = 17.23550920562744)\n",
      "(kl_weight = 1.0f0, fbr = 4, loss = 17.210766073608397)\n",
      "(kl_weight = 1.0f0, fbr = 4, loss = 16.833934939575194)\n",
      "(kl_weight = 1.0f0, fbr = 4, loss = 16.420325607299805)\n",
      "(kl_weight = 1.0f0, fbr = 4, loss = 16.05777875518799)\n",
      "(kl_weight = 1.0f0, fbr = 4, loss = 15.691811177062988)\n",
      "(kl_weight = 1.0f0, fbr = 4, loss = 15.344958515930175)\n",
      "(kl_weight = 1.0f0, fbr = 4, loss = 15.036047290039063)\n",
      "(kl_weight = 1.0f0, fbr = 4, loss = 14.711586245727538)\n",
      "(kl_weight = 1.0f0, fbr = 4, loss = 14.432443719482421)\n",
      "(kl_weight = 1.0f0, fbr = 4, loss = 14.169635789489746)\n",
      "(kl_weight = 1.0f0, fbr = 4, loss = 13.911838369750976)\n",
      "(kl_weight = 1.0f0, fbr = 4, loss = 13.743111054992676)\n",
      "(kl_weight = 1.0f0, fbr = 4, loss = 13.574439553833008)\n",
      "(kl_weight = 1.0f0, fbr = 4, loss = 13.419685607910155)\n",
      "(kl_weight = 1.0f0, fbr = 4, loss = 13.183355949401856)\n",
      "(kl_weight = 1.0f0, fbr = 4, loss = 13.006743531799316)\n",
      "(kl_weight = 1.0f0, fbr = 4, loss = 12.945183918762208)\n",
      "(kl_weight = 1.0f0, fbr = 4, loss = 12.795896980285644)\n",
      "(kl_weight = 1.0f0, fbr = 4, loss = 12.665309526062012)\n",
      "(kl_weight = 1.0f0, fbr = 4, loss = 12.576160523986816)\n",
      "(kl_weight = 1.0f0, fbr = 4, loss = 12.535612228393555)\n",
      "(kl_weight = 1.0f0, fbr = 4, loss = 12.355989051818847)\n",
      "(kl_weight = 1.0f0, fbr = 4, loss = 12.296156311035157)\n",
      "(kl_weight = 1.0f0, fbr = 4, loss = 12.263656918334961)\n",
      "(kl_weight = 1.0f0, fbr = 4, loss = 12.178680868530273)\n",
      "(kl_weight = 1.0f0, fbr = 4, loss = 12.09137233428955)\n",
      "(kl_weight = 1.0f0, fbr = 4, loss = 12.012419522094726)\n",
      "(kl_weight = 1.0f0, fbr = 4, loss = 11.993025044250489)\n",
      "(kl_weight = 1.0f0, fbr = 4, loss = 11.898360862731934)\n",
      "(kl_weight = 1.0f0, fbr = 4, loss = 11.848924714660644)\n",
      "(kl_weight = 1.0f0, fbr = 4, loss = 11.814821449279785)\n",
      "(kl_weight = 1.0f0, fbr = 4, loss = 11.78623133544922)\n",
      "(kl_weight = 1.0f0, fbr = 4, loss = 11.745576113891602)\n",
      "(kl_weight = 1.0f0, fbr = 4, loss = 11.666065455627441)\n",
      "(kl_weight = 1.0f0, fbr = 4, loss = 11.649380647277832)\n"
     ]
    }
   ],
   "source": [
    "morph3 = VAE(length(vocab.chars); H=768, E=16, Z=16)\n",
    "copytoparams(morph3.encoder, morph2.encoder)\n",
    "copytoparams(morph3.Wμ, morph2.Wμ)\n",
    "copytoparams(morph3.Wσ, morph2.Wσ)\n",
    "morph3.decoder.embedding = morph3.encoder.embedding\n",
    "train_vae!(morph3, data, vocab; optim=Adam(), epoch=45, kl_weight=0.0f0, kl_rate = 0.1f0, fb_rate=4)"
   ]
  },
  {
   "cell_type": "code",
   "execution_count": 31,
   "metadata": {},
   "outputs": [
    {
     "data": {
      "text/plain": [
       "10005-element Array{String,1}:\n",
       " \"mantengamos\"    \n",
       " \"gangrenare\"     \n",
       " \"sifrancaríamos\" \n",
       " \"deporaren\"      \n",
       " \"achuchare\"      \n",
       " \"gestionasen\"    \n",
       " \"potencializando\"\n",
       " \"chuchee\"        \n",
       " ⋮                \n",
       " \"anope\"          \n",
       " \"desertalases\"   \n",
       " \"humillaríamos\"  \n",
       " \"relumbraríamos\" \n",
       " \"enolgueces\"     \n",
       " \"judicializarás\" \n",
       " \"desabotanarán\"  "
      ]
     },
     "execution_count": 31,
     "metadata": {},
     "output_type": "execute_result"
    }
   ],
   "source": [
    "samples = sample(morph3, vocab, edata; N=10000, useprior=true)"
   ]
  },
  {
   "cell_type": "code",
   "execution_count": 32,
   "metadata": {},
   "outputs": [
    {
     "data": {
      "text/plain": [
       "4274-element Array{String,1}:\n",
       " \"mantengamos\"      \n",
       " \"gangrenare\"       \n",
       " \"potencializando\"  \n",
       " \"no entrevengan\"   \n",
       " \"pilló\"            \n",
       " \"no trinen\"        \n",
       " \"implorabais\"      \n",
       " \"revitalizabas\"    \n",
       " ⋮                  \n",
       " \"horizontalizarían\"\n",
       " \"viabilizaste\"     \n",
       " \"atendiera\"        \n",
       " \"realimentó\"       \n",
       " \"despedidos\"       \n",
       " \"humillaríamos\"    \n",
       " \"judicializarás\"   "
      ]
     },
     "execution_count": 32,
     "metadata": {},
     "output_type": "execute_result"
    }
   ],
   "source": [
    "samples[findall([s ∈ trainsfs for s in samples])]"
   ]
  },
  {
   "cell_type": "code",
   "execution_count": 33,
   "metadata": {},
   "outputs": [
    {
     "data": {
      "text/plain": [
       "13-element Array{String,1}:\n",
       " \"deshidratemos\"\n",
       " \"deshidratemos\"\n",
       " \"alegaran\"     \n",
       " \"vibrase\"      \n",
       " \"balbuciera\"   \n",
       " \"sistematizaba\"\n",
       " \"opinásemos\"   \n",
       " \"sanitizaba\"   \n",
       " \"convergía\"    \n",
       " \"reseñarías\"   \n",
       " \"apeáremos\"    \n",
       " \"balbuciera\"   \n",
       " \"encantarás\"   "
      ]
     },
     "execution_count": 33,
     "metadata": {},
     "output_type": "execute_result"
    }
   ],
   "source": [
    "samples[findall([s ∈ testsfs for s in samples])]"
   ]
  },
  {
   "cell_type": "code",
   "execution_count": 34,
   "metadata": {},
   "outputs": [
    {
     "data": {
      "text/plain": [
       "5935-element Array{String,1}:\n",
       " \"mantengamos\"    \n",
       " \"gangrenare\"     \n",
       " \"achuchare\"      \n",
       " \"gestionasen\"    \n",
       " \"potencializando\"\n",
       " \"estregarás\"     \n",
       " \"no entrevengan\" \n",
       " \"pilló\"          \n",
       " ⋮                \n",
       " \"embocarías\"     \n",
       " \"realimentó\"     \n",
       " \"arrobaras\"      \n",
       " \"despedidos\"     \n",
       " \"humillaríamos\"  \n",
       " \"relumbraríamos\" \n",
       " \"judicializarás\" "
      ]
     },
     "execution_count": 34,
     "metadata": {},
     "output_type": "execute_result"
    }
   ],
   "source": [
    "samples[findall([s ∈ dictsfs for s in samples])]"
   ]
  },
  {
   "cell_type": "code",
   "execution_count": 35,
   "metadata": {},
   "outputs": [
    {
     "data": {
      "text/plain": [
       "12-element Array{String,1}:\n",
       " \"mareará\" \n",
       " \"marrarán\"\n",
       " \"marrarán\"\n",
       " \"marrarán\"\n",
       " \"marrarán\"\n",
       " \"marrarán\"\n",
       " \"marrarán\"\n",
       " \"marrarán\"\n",
       " \"marrarán\"\n",
       " \"marrarán\"\n",
       " \"marrarán\"\n",
       " \"marrarán\""
      ]
     },
     "execution_count": 35,
     "metadata": {},
     "output_type": "execute_result"
    }
   ],
   "source": [
    "inters = sampleinter(morph3, vocab, data; N=10)"
   ]
  },
  {
   "cell_type": "code",
   "execution_count": 36,
   "metadata": {},
   "outputs": [
    {
     "data": {
      "text/plain": [
       "12-element Array{Int64,1}:\n",
       "  1\n",
       "  2\n",
       "  3\n",
       "  4\n",
       "  5\n",
       "  6\n",
       "  7\n",
       "  8\n",
       "  9\n",
       " 10\n",
       " 11\n",
       " 12"
      ]
     },
     "execution_count": 36,
     "metadata": {},
     "output_type": "execute_result"
    }
   ],
   "source": [
    "findall([s ∈ dictsfs for s in inters])"
   ]
  },
  {
   "cell_type": "code",
   "execution_count": 37,
   "metadata": {},
   "outputs": [
    {
     "data": {
      "text/plain": [
       "(16, Float32[0.37393492; 0.33955055; … ; 0.40281734; 0.41686338], K32(16,1)[0.008007906⋯])"
      ]
     },
     "execution_count": 37,
     "metadata": {},
     "output_type": "execute_result"
    }
   ],
   "source": [
    "au, sigma, mu = calc_au(morph3, tdata; delta=0.01)"
   ]
  },
  {
   "cell_type": "code",
   "execution_count": 38,
   "metadata": {},
   "outputs": [
    {
     "data": {
      "text/plain": [
       "4.445974746704103"
      ]
     },
     "execution_count": 38,
     "metadata": {},
     "output_type": "execute_result"
    }
   ],
   "source": [
    "mi =  calc_mi(morph3,tdata)"
   ]
  },
  {
   "cell_type": "code",
   "execution_count": 50,
   "metadata": {},
   "outputs": [
    {
     "data": {
      "text/plain": [
       "2.7505987928038524"
      ]
     },
     "execution_count": 50,
     "metadata": {},
     "output_type": "execute_result"
    }
   ],
   "source": [
    "calc_ppl(morph3,edata; nsample=500, B=16)"
   ]
  },
  {
   "cell_type": "code",
   "execution_count": 40,
   "metadata": {},
   "outputs": [
    {
     "data": {
      "text/plain": [
       "nsample_packed_sequence (generic function with 1 method)"
      ]
     },
     "execution_count": 40,
     "metadata": {},
     "output_type": "execute_result"
    }
   ],
   "source": [
    "include(\"models.jl\")\n",
    "include(\"parser.jl\")"
   ]
  },
  {
   "cell_type": "code",
   "execution_count": 41,
   "metadata": {},
   "outputs": [
    {
     "data": {
      "text/plain": [
       "(decoder = LSTM{Param{KnetArray{Float32,3}}, Multiply{Param{KnetArray{Float32,2}}}}(input=38,hidden=768,embed=16,dropout=0.4), output = Linear(Multiply{Param{KnetArray{Float32,2}}}(input=768 output=768), Bias{Param{KnetArray{Float32,1}}}(length=768)), hiddenSize = 768)"
      ]
     },
     "execution_count": 41,
     "metadata": {},
     "output_type": "execute_result"
    }
   ],
   "source": [
    "model = LSTM_LM(length(vocab.chars); H=768, E=16)"
   ]
  },
  {
   "cell_type": "code",
   "execution_count": 42,
   "metadata": {},
   "outputs": [
    {
     "name": "stdout",
     "output_type": "stream",
     "text": [
      "(loss = 2.565020043563843,)\n",
      "(loss = 2.031818983268738,)\n",
      "(loss = 1.91280202293396,)\n",
      "(loss = 1.8352395069122314,)\n",
      "(loss = 1.7840724544525146,)\n",
      "(loss = 1.7377097730636597,)\n",
      "(loss = 1.6949951625823974,)\n",
      "(loss = 1.6514041450500487,)\n",
      "(loss = 1.6078742918014526,)\n",
      "(loss = 1.5658175846099853,)\n",
      "(loss = 1.5220457862854004,)\n",
      "(loss = 1.4798032117843627,)\n",
      "(loss = 1.4404640241622926,)\n",
      "(loss = 1.404750998878479,)\n",
      "(loss = 1.371851237678528,)\n",
      "(loss = 1.3426123491287232,)\n",
      "(loss = 1.3129698717117309,)\n",
      "(loss = 1.2844683826446532,)\n",
      "(loss = 1.2616477149963379,)\n",
      "(loss = 1.2366774326324463,)\n",
      "(loss = 1.2134045652389527,)\n",
      "(loss = 1.1957246425628663,)\n",
      "(loss = 1.1736694137573243,)\n",
      "(loss = 1.1563226512908935,)\n",
      "(loss = 1.1420525296211244,)\n",
      "(loss = 1.1263144080162049,)\n",
      "(loss = 1.1144586671829224,)\n",
      "(loss = 1.1005128566741944,)\n",
      "(loss = 1.0922200533866881,)\n",
      "(loss = 1.0810391907691956,)\n",
      "(loss = 1.0751349632263183,)\n",
      "(loss = 1.0672179356575011,)\n",
      "(loss = 1.0587451880455017,)\n",
      "(loss = 1.0532062746047974,)\n",
      "(loss = 1.048141642189026,)\n",
      "(loss = 1.0407250003814696,)\n",
      "(loss = 1.035761471748352,)\n",
      "(loss = 1.0313487128257752,)\n",
      "(loss = 1.0262229183197022,)\n",
      "(loss = 1.0246382866859436,)\n"
     ]
    }
   ],
   "source": [
    "train_rnnlm!(model, data, vocab; epoch=40, optim=Adam(), B=16)"
   ]
  },
  {
   "cell_type": "code",
   "execution_count": 43,
   "metadata": {},
   "outputs": [
    {
     "data": {
      "text/plain": [
       "6.610169732382499"
      ]
     },
     "execution_count": 43,
     "metadata": {},
     "output_type": "execute_result"
    }
   ],
   "source": [
    " calc_ppllm(model, tdata)"
   ]
  },
  {
   "cell_type": "code",
   "execution_count": 44,
   "metadata": {},
   "outputs": [
    {
     "data": {
      "text/plain": [
       "10016-element Array{String,1}:\n",
       " \"banalizabas\"   \n",
       " \"inscribiese\"   \n",
       " \"aturarían\"     \n",
       " \"consejas\"      \n",
       " \"rainase\"       \n",
       " \"matorizamos\"   \n",
       " \"reconvinieses\" \n",
       " \"abejonea\"      \n",
       " ⋮               \n",
       " \"gilipeen\"      \n",
       " \"agarrotase\"    \n",
       " \"chaqueteaba\"   \n",
       " \"enmarañaréis\"  \n",
       " \"gravases\"      \n",
       " \"desvalorizaría\"\n",
       " \"uturasen\"      "
      ]
     },
     "execution_count": 44,
     "metadata": {},
     "output_type": "execute_result"
    }
   ],
   "source": [
    "samples = sample(model, vocab; N=10000)"
   ]
  },
  {
   "cell_type": "code",
   "execution_count": 45,
   "metadata": {},
   "outputs": [
    {
     "data": {
      "text/plain": [
       "5289-element Array{String,1}:\n",
       " \"banalizabas\"   \n",
       " \"inscribiese\"   \n",
       " \"aturarían\"     \n",
       " \"consejas\"      \n",
       " \"reconvinieses\" \n",
       " \"abejonea\"      \n",
       " \"injuriaría\"    \n",
       " \"reimpusisteis\" \n",
       " ⋮               \n",
       " \"mullíamos\"     \n",
       " \"no abrace\"     \n",
       " \"agarrotase\"    \n",
       " \"chaqueteaba\"   \n",
       " \"enmarañaréis\"  \n",
       " \"gravases\"      \n",
       " \"desvalorizaría\""
      ]
     },
     "execution_count": 45,
     "metadata": {},
     "output_type": "execute_result"
    }
   ],
   "source": [
    "samples[findall([s ∈ trainsfs for s in samples])]"
   ]
  },
  {
   "cell_type": "code",
   "execution_count": 46,
   "metadata": {},
   "outputs": [
    {
     "data": {
      "text/plain": [
       "11-element Array{String,1}:\n",
       " \"empedrare\"    \n",
       " \"mostremos\"    \n",
       " \"convergía\"    \n",
       " \"descreyésemos\"\n",
       " \"mordemos\"     \n",
       " \"sistematizaba\"\n",
       " \"enrole\"       \n",
       " \"cumplimentaba\"\n",
       " \"sistematizaba\"\n",
       " \"deshidratemos\"\n",
       " \"reunificarían\""
      ]
     },
     "execution_count": 46,
     "metadata": {},
     "output_type": "execute_result"
    }
   ],
   "source": [
    "samples[findall([s ∈ testsfs for s in samples])]"
   ]
  },
  {
   "cell_type": "code",
   "execution_count": 47,
   "metadata": {},
   "outputs": [
    {
     "data": {
      "text/plain": [
       "6684-element Array{String,1}:\n",
       " \"banalizabas\"   \n",
       " \"inscribiese\"   \n",
       " \"aturarían\"     \n",
       " \"consejas\"      \n",
       " \"reconvinieses\" \n",
       " \"abejonea\"      \n",
       " \"injuriaría\"    \n",
       " \"reimpusisteis\" \n",
       " ⋮               \n",
       " \"no abrace\"     \n",
       " \"avizorar\"      \n",
       " \"agarrotase\"    \n",
       " \"chaqueteaba\"   \n",
       " \"enmarañaréis\"  \n",
       " \"gravases\"      \n",
       " \"desvalorizaría\""
      ]
     },
     "execution_count": 47,
     "metadata": {},
     "output_type": "execute_result"
    }
   ],
   "source": [
    "samples[findall([s ∈ dictsfs for s in samples])]"
   ]
  },
  {
   "cell_type": "code",
   "execution_count": 48,
   "metadata": {},
   "outputs": [
    {
     "data": {
      "text/plain": [
       "2.695941727858836"
      ]
     },
     "execution_count": 48,
     "metadata": {},
     "output_type": "execute_result"
    }
   ],
   "source": [
    " calc_ppllm(model, edata)"
   ]
  },
  {
   "cell_type": "code",
   "execution_count": null,
   "metadata": {},
   "outputs": [],
   "source": []
  }
 ],
 "metadata": {
  "kernelspec": {
   "display_name": "Julia 1.2.0",
   "language": "julia",
   "name": "julia-1.2"
  },
  "language_info": {
   "file_extension": ".jl",
   "mimetype": "application/julia",
   "name": "julia",
   "version": "1.2.0"
  }
 },
 "nbformat": 4,
 "nbformat_minor": 4
}
