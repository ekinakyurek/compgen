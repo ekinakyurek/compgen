{
 "cells": [
  {
   "cell_type": "code",
   "execution_count": null,
   "metadata": {},
   "outputs": [],
   "source": [
    "using Plots\n",
    "import Plots: px\n",
    "theme(:default)\n",
    "ENV[\"LINES\"] = 20"
   ]
  },
  {
   "cell_type": "code",
   "execution_count": null,
   "metadata": {},
   "outputs": [],
   "source": [
    "include(\"parser.jl\")\n",
    "include(\"models.jl\")\n",
    "gpu()\n",
    "download(SIGDataSet)"
   ]
  },
  {
   "cell_type": "code",
   "execution_count": null,
   "metadata": {},
   "outputs": [],
   "source": [
    "data  = map(parseDataLine, eachline(\"./data/Sigmorphon/task1/all/spanish-train-high\"));\n",
    "vocab = Vocabulary(data)\n",
    "edata = encode(data,vocab);\n",
    "test  = map(parseDataLine, eachline(\"./data/Sigmorphon/task1/all/spanish-test\"));\n",
    "tdata = encode(test,vocab);\n",
    "dictionary = [parseDataLine(line) for line in  eachline(\"./data/unimorph/spa/spa\") if line != \"\"];"
   ]
  },
  {
   "cell_type": "code",
   "execution_count": null,
   "metadata": {},
   "outputs": [],
   "source": [
    "vocab.chars.toElement;"
   ]
  },
  {
   "cell_type": "code",
   "execution_count": null,
   "metadata": {},
   "outputs": [],
   "source": [
    "vocab.specialIndices"
   ]
  },
  {
   "cell_type": "code",
   "execution_count": 150,
   "metadata": {},
   "outputs": [
    {
     "data": {
      "text/plain": [
       "314523-element Array{String,1}:\n",
       " \"ababilladas\"  \n",
       " \"ababillada\"   \n",
       " \"ababillados\"  \n",
       " \"ababillado\"   \n",
       " \"ababillándose\"\n",
       " \"ababillaos\"   \n",
       " \"ababillarse\"  \n",
       " \"ababíllate\"   \n",
       " ⋮              \n",
       " \"zuzase\"       \n",
       " \"zuzasteis\"    \n",
       " \"zuzaste\"      \n",
       " \"zuzas\"        \n",
       " \"zuza\"         \n",
       " \"zuzo\"         \n",
       " \"zuzó\"         "
      ]
     },
     "execution_count": 150,
     "metadata": {},
     "output_type": "execute_result"
    }
   ],
   "source": [
    "trainsfs    = unique(map(x->join(x.surface),data));\n",
    "testsfs     = unique(map(x->join(x.surface),test)); \n",
    "dictsfs     = unique([map(x->join(x.surface),dictionary); trainsfs; testsfs]);\n",
    "unseensfs   = [x for x in dictsfs if x ∉ trainsfs]"
   ]
  },
  {
   "cell_type": "code",
   "execution_count": null,
   "metadata": {},
   "outputs": [],
   "source": [
    "morph = EncAttentiveVAE(length(vocab.chars); H=512, E=16, Z=16)\n",
    "train_ae!(morph, data, vocab; optim=Adam(), epoch=50)"
   ]
  },
  {
   "cell_type": "code",
   "execution_count": null,
   "metadata": {},
   "outputs": [],
   "source": [
    "morphv =  EncAttentiveVAE(length(vocab.chars); H=512, E=16, Z=16)\n",
    "copytoparams(morphv.encoder, morph.encoder)\n",
    "copytoparams(morphv.Wμ, morph.Wμ)\n",
    "copytoparams(morphv.Wσa, morph.Wσa)\n",
    "copytoparams(morphv.Wμa, morph.Wμa)\n",
    "copytoparams(morphv.Wσ, morph.Wσ)\n",
    "copytoparams(morphv.Weaμ, morph.Weaμ)\n",
    "copytoparams(morphv.Weaσ, morph.Weaσ)\n",
    "morphv.decoder.embedding = morphv.encoder.embedding\n",
    "train_vae!(morphv, data, vocab; optim=Adam(), epoch=45, kl_weight=0.0f0, kl_rate = 0.1f0, fb_rate=3)"
   ]
  },
  {
   "cell_type": "code",
   "execution_count": null,
   "metadata": {},
   "outputs": [],
   "source": [
    "samples = sample(morphv, vocab, edata; N=10000);"
   ]
  },
  {
   "cell_type": "code",
   "execution_count": null,
   "metadata": {},
   "outputs": [],
   "source": [
    "unique(samples[findall([s ∈ trainsfs for s in samples])])"
   ]
  },
  {
   "cell_type": "code",
   "execution_count": null,
   "metadata": {},
   "outputs": [],
   "source": [
    "length(samples[findall([s ∈ trainsfs for s in samples])])"
   ]
  },
  {
   "cell_type": "code",
   "execution_count": null,
   "metadata": {},
   "outputs": [],
   "source": [
    "unique(samples[findall([s ∈ testsfs for s in samples])])"
   ]
  },
  {
   "cell_type": "code",
   "execution_count": null,
   "metadata": {},
   "outputs": [],
   "source": [
    "length(samples[findall([s ∈ testsfs for s in samples])])"
   ]
  },
  {
   "cell_type": "code",
   "execution_count": null,
   "metadata": {},
   "outputs": [],
   "source": [
    "unique(length(samples[findall([s ∈ dictsfs for s in samples])]))"
   ]
  },
  {
   "cell_type": "code",
   "execution_count": null,
   "metadata": {},
   "outputs": [],
   "source": [
    "sampleinter(morphv, vocab, data; N=10)"
   ]
  },
  {
   "cell_type": "code",
   "execution_count": null,
   "metadata": {},
   "outputs": [],
   "source": [
    "au, sigma, mu = calc_au(morphv,tdata; delta=0.01)"
   ]
  },
  {
   "cell_type": "code",
   "execution_count": null,
   "metadata": {},
   "outputs": [],
   "source": [
    "mi = calc_mi(morphv,tdata)"
   ]
  },
  {
   "cell_type": "code",
   "execution_count": null,
   "metadata": {},
   "outputs": [],
   "source": [
    "calc_ppl(morphv,tdata)"
   ]
  },
  {
   "cell_type": "code",
   "execution_count": null,
   "metadata": {},
   "outputs": [],
   "source": [
    "atts = attentions(morph,edata, vocab);"
   ]
  },
  {
   "cell_type": "code",
   "execution_count": null,
   "metadata": {},
   "outputs": [],
   "source": [
    "function getsingle(sfs,exs,perms, αs,i) \n",
    "    join(vocab.chars[sfs[i]]), map(e->join(vocab.chars[e]),exs[i][perms[i]]), map(x->x[:,perms[i],i],αs)\n",
    "end"
   ]
  },
  {
   "cell_type": "code",
   "execution_count": null,
   "metadata": {},
   "outputs": [],
   "source": [
    "i = rand(1:length(atts))\n",
    "s1,e1,α1 =  getsingle(atts[i]...,rand(1:16))\n",
    "ys = 1:512\n",
    "h1 = heatmap(e1, ys, α1.αu; size=(1200,800), xtickfont = font(10, \"Halvetica\"), title= s1 * \", mu\", xrotation = 45, titlefontsize=10, left_margin=100px, bottom_margin=100px, right_margin=100px);\n",
    "h2 = heatmap(e1, ys, α1.ασ ;size=(1200,800), xtickfont = font(10, \"Halvetica\"), title=s1 * \", sigma\", xrotation = 45, titlefontsize=10, left_margin=100px, bottom_margin=100px, right_margin=100px);"
   ]
  },
  {
   "cell_type": "code",
   "execution_count": null,
   "metadata": {},
   "outputs": [],
   "source": [
    "println(s1);println(e1)"
   ]
  },
  {
   "cell_type": "code",
   "execution_count": null,
   "metadata": {
    "scrolled": true
   },
   "outputs": [],
   "source": [
    "h1"
   ]
  },
  {
   "cell_type": "markdown",
   "metadata": {},
   "source": [
    "# To-Dos\n",
    "1. Add unrelated surface forms to the examplars too see whether the attention mappings are meaningful\n",
    "2. Comparing with Normal Vae\n",
    "3. Different Sampling Function on LM ($top_k$, temperature)\n",
    "4. Attention in Decoder\n",
    "5. Attention to the hidden state sequence, not just to the final state.\n",
    "6. Metric for testing generation quality?"
   ]
  },
  {
   "cell_type": "code",
   "execution_count": 235,
   "metadata": {},
   "outputs": [
    {
     "data": {
      "text/plain": [
       "nsample_packed_sequence (generic function with 1 method)"
      ]
     },
     "execution_count": 235,
     "metadata": {},
     "output_type": "execute_result"
    }
   ],
   "source": [
    "include(\"models.jl\")\n",
    "include(\"parser.jl\")"
   ]
  },
  {
   "cell_type": "code",
   "execution_count": 236,
   "metadata": {},
   "outputs": [],
   "source": [
    "morph3=nothing; morphv=nothing; morph=nothing; morph2=nothing; KnetLayers.gc();"
   ]
  },
  {
   "cell_type": "code",
   "execution_count": 237,
   "metadata": {},
   "outputs": [
    {
     "name": "stdout",
     "output_type": "stream",
     "text": [
      "(loss = 24.226039373779297,)\n",
      "(loss = 17.94939325866699,)\n",
      "(loss = 14.63141618347168,)\n",
      "(loss = 11.688678450012207,)\n",
      "(loss = 9.555169277191162,)\n",
      "(loss = 7.757795697784424,)\n",
      "(loss = 6.42142120513916,)\n",
      "(loss = 5.461640008163452,)\n",
      "(loss = 4.630353671264649,)\n",
      "(loss = 3.879816455459595,)\n",
      "(loss = 3.2313405588150026,)\n",
      "(loss = 2.7009236671447754,)\n",
      "(loss = 2.2843154739379883,)\n",
      "(loss = 1.964221185016632,)\n",
      "(loss = 1.8177687578201294,)\n",
      "(loss = 1.5614021615982057,)\n",
      "(loss = 1.3386266157627105,)\n",
      "(loss = 1.3330284670352937,)\n",
      "(loss = 1.1747992154598237,)\n",
      "(loss = 1.0711584807395935,)\n"
     ]
    }
   ],
   "source": [
    "morph2 = VAE(length(vocab.chars); H=512, E=16, Z=16, concatz=true)\n",
    "train_ae!(morph2, data, vocab; optim=Adam(), B=16, epoch=20);"
   ]
  },
  {
   "cell_type": "code",
   "execution_count": 222,
   "metadata": {},
   "outputs": [
    {
     "data": {
      "text/plain": [
       "38"
      ]
     },
     "execution_count": 222,
     "metadata": {},
     "output_type": "execute_result"
    }
   ],
   "source": [
    "length(vocab.chars)"
   ]
  },
  {
   "cell_type": "code",
   "execution_count": 210,
   "metadata": {},
   "outputs": [
    {
     "name": "stdout",
     "output_type": "stream",
     "text": [
      "(kl_weight = 0.1f0, fbr = 4, loss = 21.441761749267577)\n",
      "(kl_weight = 0.2f0, fbr = 4, loss = 20.253545791625978)\n",
      "(kl_weight = 0.3f0, fbr = 4, loss = 19.015092526245116)\n"
     ]
    },
    {
     "ename": "InterruptException",
     "evalue": "InterruptException:",
     "output_type": "error",
     "traceback": [
      "InterruptException:",
      "",
      "Stacktrace:",
      " [1] _knetptrs(::Any, ::Array{Knet.KnetPtr,1}, ::IdDict{Any,Bool}) at /home/ec2-user/.julia/packages/Knet/icbiq/src/gcnode.jl:126 (repeats 3 times)",
      " [2] knetptrs(::Tuple{KnetArray{Float32,2},KnetArray{Float32,3},KnetArray{Float32,3},KnetArray{UInt8,1},KnetArray{UInt8,1}}) at /home/ec2-user/.julia/packages/Knet/icbiq/src/gcnode.jl:83",
      " [3] knetgcinit(::AutoGrad.Tape) at /home/ec2-user/.julia/packages/Knet/icbiq/src/gcnode.jl:0",
      " [4] knetgcnode(::AutoGrad.Node, ::AutoGrad.Tape) at /home/ec2-user/.julia/packages/Knet/icbiq/src/gcnode.jl:50",
      " [5] #differentiate#3(::Base.Iterators.Pairs{Union{},Union{},Tuple{},NamedTuple{(),Tuple{}}}, ::typeof(AutoGrad.differentiate), ::Function) at /home/ec2-user/.julia/packages/AutoGrad/pTNVv/src/core.jl:168",
      " [6] differentiate at /home/ec2-user/.julia/packages/AutoGrad/pTNVv/src/core.jl:135 [inlined]",
      " [7] #train_vae!#1615(::Int64, ::Adam, ::Int64, ::Nothing, ::Float32, ::Float32, ::Int64, ::typeof(train_vae!), ::NamedTuple{(:encoder, :Wμ, :Wσ, :output, :Wdec, :decoder, :dec_embed, :num, :latentSize, :hiddenSize),Tuple{LSTM{Param{KnetArray{Float32,3}},Multiply{Param{KnetArray{Float32,2}}}},Multiply{Param{KnetArray{Float32,2}}},Dense{ELU},Multiply{Param{KnetArray{Float32,2}}},Multiply{Param{KnetArray{Float32,2}}},LSTM{Param{KnetArray{Float32,3}},Nothing},Multiply{Param{KnetArray{Float32,2}}},Int64,Int64,Int64}}, ::Array{NamedTuple{(:surface, :lemma, :tags),Tuple{Array{Char,1},Array{Char,1},Array{SubString{String},1}}},1}, ::Vocabulary) at /home/ec2-user/compgen/models.jl:210",
      " [8] (::getfield(Main, Symbol(\"#kw##train_vae!\")))(::NamedTuple{(:B, :optim, :epoch, :kl_weight, :kl_rate, :fb_rate),Tuple{Int64,Adam,Int64,Float32,Float32,Int64}}, ::typeof(train_vae!), ::NamedTuple{(:encoder, :Wμ, :Wσ, :output, :Wdec, :decoder, :dec_embed, :num, :latentSize, :hiddenSize),Tuple{LSTM{Param{KnetArray{Float32,3}},Multiply{Param{KnetArray{Float32,2}}}},Multiply{Param{KnetArray{Float32,2}}},Dense{ELU},Multiply{Param{KnetArray{Float32,2}}},Multiply{Param{KnetArray{Float32,2}}},LSTM{Param{KnetArray{Float32,3}},Nothing},Multiply{Param{KnetArray{Float32,2}}},Int64,Int64,Int64}}, ::Array{NamedTuple{(:surface, :lemma, :tags),Tuple{Array{Char,1},Array{Char,1},Array{SubString{String},1}}},1}, ::Vocabulary) at ./none:0",
      " [9] top-level scope at In[210]:6"
     ]
    }
   ],
   "source": [
    "morph3 = VAE(length(vocab.chars); H=512, E=16, Z=16)\n",
    "copytoparams(morph3.encoder, morph2.encoder)\n",
    "copytoparams(morph3.Wμ, morph2.Wμ)\n",
    "copytoparams(morph3.Wσ, morph2.Wσ)\n",
    "copytoparams(morph3.dec_embed, morph3.encoder.embedding)\n",
    "train_vae!(morph3, data, vocab; B=16, optim=Adam(lr=0.002), epoch=40, kl_weight=0.0f0, kl_rate = 0.1f0, fb_rate=4)"
   ]
  },
  {
   "cell_type": "code",
   "execution_count": null,
   "metadata": {},
   "outputs": [],
   "source": [
    "samples = sample(morph3, vocab, edata; N=10000, useprior=true)"
   ]
  },
  {
   "cell_type": "code",
   "execution_count": 212,
   "metadata": {},
   "outputs": [
    {
     "ename": "InterruptException",
     "evalue": "InterruptException:",
     "output_type": "error",
     "traceback": [
      "InterruptException:",
      "",
      "Stacktrace:",
      " [1] Type at ./boot.jl:404 [inlined]",
      " [2] findall(::Array{Bool,1}) at ./array.jl:2028",
      " [3] top-level scope at In[212]:1"
     ]
    }
   ],
   "source": [
    "samples[findall([s ∈ trainsfs for s in samples])]"
   ]
  },
  {
   "cell_type": "code",
   "execution_count": 213,
   "metadata": {},
   "outputs": [
    {
     "data": {
      "text/plain": [
       "6-element Array{String,1}:\n",
       " \"okupara\"      \n",
       " \"no enamore\"   \n",
       " \"situarías\"    \n",
       " \"vibrase\"      \n",
       " \"no deleguemos\"\n",
       " \"refundamos\"   "
      ]
     },
     "execution_count": 213,
     "metadata": {},
     "output_type": "execute_result"
    }
   ],
   "source": [
    "samples[findall([s ∈ testsfs for s in samples])]"
   ]
  },
  {
   "cell_type": "code",
   "execution_count": 214,
   "metadata": {},
   "outputs": [
    {
     "name": "stderr",
     "output_type": "stream",
     "text": [
      "WARNING: Force throwing a SIGINT\n"
     ]
    },
    {
     "ename": "InterruptException",
     "evalue": "InterruptException:",
     "output_type": "error",
     "traceback": [
      "InterruptException:",
      "",
      "Stacktrace:",
      " [1] sizeof at ./strings/string.jl:85 [inlined]",
      " [2] ==(::String, ::String) at ./strings/string.jl:104",
      " [3] in(::String, ::Array{String,1}) at ./operators.jl:1056",
      " [4] (::getfield(Main, Symbol(\"##1683#1684\")))(::String) at ./none:0",
      " [5] iterate at ./generator.jl:47 [inlined]",
      " [6] collect_to!(::Array{Bool,1}, ::Base.Generator{Array{String,1},getfield(Main, Symbol(\"##1683#1684\"))}, ::Int64, ::Int64) at ./array.jl:651",
      " [7] collect_to_with_first!(::Array{Bool,1}, ::Bool, ::Base.Generator{Array{String,1},getfield(Main, Symbol(\"##1683#1684\"))}, ::Int64) at ./array.jl:630",
      " [8] collect(::Base.Generator{Array{String,1},getfield(Main, Symbol(\"##1683#1684\"))}) at ./array.jl:611",
      " [9] top-level scope at In[214]:1"
     ]
    }
   ],
   "source": [
    "samples[findall([s ∈ dictsfs for s in samples])]"
   ]
  },
  {
   "cell_type": "code",
   "execution_count": 215,
   "metadata": {},
   "outputs": [
    {
     "ename": "InterruptException",
     "evalue": "InterruptException:",
     "output_type": "error",
     "traceback": [
      "InterruptException:",
      "",
      "Stacktrace:",
      " [1] Type at ./boot.jl:404 [inlined]",
      " [2] findall(::Array{Bool,1}) at ./array.jl:2028",
      " [3] top-level scope at In[215]:1"
     ]
    }
   ],
   "source": [
    "samples[findall([s ∈ unseensfs for s in samples])] "
   ]
  },
  {
   "cell_type": "code",
   "execution_count": 216,
   "metadata": {},
   "outputs": [
    {
     "data": {
      "text/plain": [
       "12-element Array{String,1}:\n",
       " \"contrastemos\"\n",
       " \"contrastemos\"\n",
       " \"contrasteis\" \n",
       " \"contrasteis\" \n",
       " \"contrasteis\" \n",
       " \"contrasteis\" \n",
       " \"sobrecaríais\"\n",
       " \"respararíais\"\n",
       " \"recontaríais\"\n",
       " \"recontaríais\"\n",
       " \"recontaríais\"\n",
       " \"recontaríais\""
      ]
     },
     "execution_count": 216,
     "metadata": {},
     "output_type": "execute_result"
    }
   ],
   "source": [
    "inters = sampleinter(morph3, vocab, data; N=10)"
   ]
  },
  {
   "cell_type": "code",
   "execution_count": 217,
   "metadata": {},
   "outputs": [
    {
     "data": {
      "text/plain": [
       "6-element Array{Int64,1}:\n",
       "  1\n",
       "  2\n",
       "  9\n",
       " 10\n",
       " 11\n",
       " 12"
      ]
     },
     "execution_count": 217,
     "metadata": {},
     "output_type": "execute_result"
    }
   ],
   "source": [
    "findall([s ∈ dictsfs for s in inters])"
   ]
  },
  {
   "cell_type": "code",
   "execution_count": 218,
   "metadata": {},
   "outputs": [
    {
     "data": {
      "text/plain": [
       "(16, Float32[0.394202; 0.30743402; … ; 0.62694967; 0.25517163], K32(16,1)[0.03776209⋯])"
      ]
     },
     "execution_count": 218,
     "metadata": {},
     "output_type": "execute_result"
    }
   ],
   "source": [
    "au, sigma, mu = calc_au(morph3, tdata; delta=0.01)"
   ]
  },
  {
   "cell_type": "code",
   "execution_count": 219,
   "metadata": {},
   "outputs": [
    {
     "data": {
      "text/plain": [
       "3.1721899108886724"
      ]
     },
     "execution_count": 219,
     "metadata": {},
     "output_type": "execute_result"
    }
   ],
   "source": [
    "mi =  calc_mi(morph3,tdata)"
   ]
  },
  {
   "cell_type": "code",
   "execution_count": null,
   "metadata": {},
   "outputs": [],
   "source": [
    "calc_ppl(morph3, edata; nsample=500, B=16)"
   ]
  },
  {
   "cell_type": "code",
   "execution_count": 138,
   "metadata": {},
   "outputs": [
    {
     "data": {
      "text/plain": [
       "nsample_packed_sequence (generic function with 1 method)"
      ]
     },
     "execution_count": 138,
     "metadata": {},
     "output_type": "execute_result"
    }
   ],
   "source": [
    "include(\"models.jl\")\n",
    "include(\"parser.jl\")"
   ]
  },
  {
   "cell_type": "code",
   "execution_count": null,
   "metadata": {},
   "outputs": [],
   "source": [
    "model = LSTM_LM(length(vocab.chars); H=768, E=16)"
   ]
  },
  {
   "cell_type": "code",
   "execution_count": null,
   "metadata": {},
   "outputs": [],
   "source": [
    "train_rnnlm!(model, data, vocab; epoch=40, optim=Adam(), B=16)"
   ]
  },
  {
   "cell_type": "code",
   "execution_count": null,
   "metadata": {},
   "outputs": [],
   "source": [
    " calc_ppllm(model, tdata)"
   ]
  },
  {
   "cell_type": "code",
   "execution_count": null,
   "metadata": {},
   "outputs": [],
   "source": [
    "samples = sample(model, vocab; N=10000)"
   ]
  },
  {
   "cell_type": "code",
   "execution_count": null,
   "metadata": {},
   "outputs": [],
   "source": [
    "samples[findall([s ∈ trainsfs for s in samples])]"
   ]
  },
  {
   "cell_type": "code",
   "execution_count": null,
   "metadata": {},
   "outputs": [],
   "source": [
    "samples[findall([s ∈ testsfs for s in samples])]"
   ]
  },
  {
   "cell_type": "code",
   "execution_count": null,
   "metadata": {},
   "outputs": [],
   "source": [
    "samples[findall([s ∈ dictsfs for s in samples])]"
   ]
  },
  {
   "cell_type": "code",
   "execution_count": null,
   "metadata": {},
   "outputs": [],
   "source": [
    " calc_ppllm(model, edata)"
   ]
  },
  {
   "cell_type": "code",
   "execution_count": 202,
   "metadata": {},
   "outputs": [
    {
     "data": {
      "text/latex": [
       "\\begin{verbatim}\n",
       "@eval [mod,] ex\n",
       "\\end{verbatim}\n",
       "Evaluate an expression with values interpolated into it using \\texttt{eval}. If two arguments are provided, the first is the module to evaluate in.\n",
       "\n"
      ],
      "text/markdown": [
       "```\n",
       "@eval [mod,] ex\n",
       "```\n",
       "\n",
       "Evaluate an expression with values interpolated into it using `eval`. If two arguments are provided, the first is the module to evaluate in.\n"
      ],
      "text/plain": [
       "\u001b[36m  @eval [mod,] ex\u001b[39m\n",
       "\n",
       "  Evaluate an expression with values interpolated into it using \u001b[36meval\u001b[39m. If two\n",
       "  arguments are provided, the first is the module to evaluate in."
      ]
     },
     "execution_count": 202,
     "metadata": {},
     "output_type": "execute_result"
    }
   ],
   "source": [
    "?@eval"
   ]
  },
  {
   "cell_type": "code",
   "execution_count": 9,
   "metadata": {},
   "outputs": [
    {
     "data": {
      "text/plain": [
       "main (generic function with 17 methods)"
      ]
     },
     "execution_count": 9,
     "metadata": {},
     "output_type": "execute_result"
    }
   ],
   "source": [
    "include(\"main.jl\")"
   ]
  },
  {
   "cell_type": "code",
   "execution_count": null,
   "metadata": {},
   "outputs": [
    {
     "name": "stdout",
     "output_type": "stream",
     "text": [
      "(loss = 24.53541962890625,)\n",
      "(loss = 18.032949095153807,)\n",
      "(loss = 15.124377491760255,)\n",
      "(loss = 11.992093420410157,)\n",
      "(loss = 9.456983060455322,)\n",
      "(loss = 7.691069605255127,)\n",
      "(loss = 6.244724300384521,)\n",
      "(loss = 5.008035516357422,)\n",
      "(loss = 4.108970711135864,)\n",
      "(loss = 3.245434301185608,)\n",
      "(loss = 2.7649883628845213,)\n",
      "(loss = 2.3119849225997924,)\n",
      "(loss = 2.074958394432068,)\n",
      "(loss = 1.8084550073623658,)\n",
      "(loss = 1.5498729182720183,)\n",
      "("
     ]
    }
   ],
   "source": [
    "exresult = main()"
   ]
  },
  {
   "cell_type": "code",
   "execution_count": null,
   "metadata": {},
   "outputs": [],
   "source": []
  }
 ],
 "metadata": {
  "kernelspec": {
   "display_name": "Julia 1.2.0",
   "language": "julia",
   "name": "julia-1.2"
  },
  "language_info": {
   "file_extension": ".jl",
   "mimetype": "application/julia",
   "name": "julia",
   "version": "1.2.0"
  }
 },
 "nbformat": 4,
 "nbformat_minor": 4
}
