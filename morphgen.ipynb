{
 "cells": [
  {
   "cell_type": "code",
   "execution_count": null,
   "metadata": {},
   "outputs": [],
   "source": [
    "using Plots\n",
    "import Plots: px\n",
    "theme(:default)\n",
    "ENV[\"LINES\"] = 20"
   ]
  },
  {
   "cell_type": "code",
   "execution_count": null,
   "metadata": {},
   "outputs": [],
   "source": [
    "include(\"parser.jl\")\n",
    "include(\"models.jl\")\n",
    "gpu()\n",
    "download(SIGDataSet)"
   ]
  },
  {
   "cell_type": "code",
   "execution_count": null,
   "metadata": {},
   "outputs": [],
   "source": [
    "data  = map(parseDataLine, eachline(\"./data/Sigmorphon/task1/all/spanish-train-high\"));\n",
    "vocab = Vocabulary(data)\n",
    "edata = encode(data,vocab);\n",
    "test  = map(parseDataLine, eachline(\"./data/Sigmorphon/task1/all/spanish-test\"));\n",
    "tdata = encode(test,vocab);\n",
    "dictionary = [parseDataLine(line) for line in  eachline(\"./data/unimorph/spa/spa\") if line != \"\"];"
   ]
  },
  {
   "cell_type": "code",
   "execution_count": null,
   "metadata": {},
   "outputs": [],
   "source": [
    "vocab.chars.toElement;"
   ]
  },
  {
   "cell_type": "code",
   "execution_count": null,
   "metadata": {},
   "outputs": [],
   "source": [
    "vocab.specialIndices"
   ]
  },
  {
   "cell_type": "code",
   "execution_count": null,
   "metadata": {},
   "outputs": [],
   "source": [
    "trainsfs = unique(map(x->join(x.surface),data));\n",
    "testsfs  =  unique(map(x->join(x.surface),test)); \n",
    "dictsfs  = unique([map(x->join(x.surface),dictionary); trainsfs; testsfs]);"
   ]
  },
  {
   "cell_type": "code",
   "execution_count": null,
   "metadata": {},
   "outputs": [],
   "source": [
    "morph = EncAttentiveVAE(length(vocab.chars); H=512, E=16, Z=16)\n",
    "train_ae!(morph, data, vocab; optim=Adam(), epoch=50)"
   ]
  },
  {
   "cell_type": "code",
   "execution_count": null,
   "metadata": {},
   "outputs": [],
   "source": [
    "morphv =  EncAttentiveVAE(length(vocab.chars); H=512, E=16, Z=16)\n",
    "copytoparams(morphv.encoder, morph.encoder)\n",
    "copytoparams(morphv.Wμ, morph.Wμ)\n",
    "copytoparams(morphv.Wσa, morph.Wσa)\n",
    "copytoparams(morphv.Wμa, morph.Wμa)\n",
    "copytoparams(morphv.Wσ, morph.Wσ)\n",
    "copytoparams(morphv.Weaμ, morph.Weaμ)\n",
    "copytoparams(morphv.Weaσ, morph.Weaσ)\n",
    "morphv.decoder.embedding = morphv.encoder.embedding\n",
    "train_vae!(morphv, data, vocab; optim=Adam(), epoch=45, kl_weight=0.0f0, kl_rate = 0.1f0, fb_rate=3)"
   ]
  },
  {
   "cell_type": "code",
   "execution_count": null,
   "metadata": {},
   "outputs": [],
   "source": [
    "samples = sample(morphv, vocab, edata; N=10000);"
   ]
  },
  {
   "cell_type": "code",
   "execution_count": null,
   "metadata": {},
   "outputs": [],
   "source": [
    "unique(samples[findall([s ∈ trainsfs for s in samples])])"
   ]
  },
  {
   "cell_type": "code",
   "execution_count": null,
   "metadata": {},
   "outputs": [],
   "source": [
    "length(samples[findall([s ∈ trainsfs for s in samples])])"
   ]
  },
  {
   "cell_type": "code",
   "execution_count": null,
   "metadata": {},
   "outputs": [],
   "source": [
    "unique(samples[findall([s ∈ testsfs for s in samples])])"
   ]
  },
  {
   "cell_type": "code",
   "execution_count": null,
   "metadata": {},
   "outputs": [],
   "source": [
    "length(samples[findall([s ∈ testsfs for s in samples])])"
   ]
  },
  {
   "cell_type": "code",
   "execution_count": null,
   "metadata": {},
   "outputs": [],
   "source": [
    "unique(length(samples[findall([s ∈ dictsfs for s in samples])]))"
   ]
  },
  {
   "cell_type": "code",
   "execution_count": null,
   "metadata": {},
   "outputs": [],
   "source": [
    "sampleinter(morphv, vocab, data; N=10)"
   ]
  },
  {
   "cell_type": "code",
   "execution_count": null,
   "metadata": {},
   "outputs": [],
   "source": [
    "au, sigma, mu = calc_au(morphv,tdata; delta=0.01)"
   ]
  },
  {
   "cell_type": "code",
   "execution_count": null,
   "metadata": {},
   "outputs": [],
   "source": [
    "mi = calc_mi(morphv,tdata)"
   ]
  },
  {
   "cell_type": "code",
   "execution_count": null,
   "metadata": {},
   "outputs": [],
   "source": [
    "calc_ppl(morphv,tdata)"
   ]
  },
  {
   "cell_type": "code",
   "execution_count": null,
   "metadata": {},
   "outputs": [],
   "source": [
    "atts = attentions(morph,edata, vocab);"
   ]
  },
  {
   "cell_type": "code",
   "execution_count": null,
   "metadata": {},
   "outputs": [],
   "source": [
    "function getsingle(sfs,exs,perms, αs,i) \n",
    "    join(vocab.chars[sfs[i]]), map(e->join(vocab.chars[e]),exs[i][perms[i]]), map(x->x[:,perms[i],i],αs)\n",
    "end"
   ]
  },
  {
   "cell_type": "code",
   "execution_count": null,
   "metadata": {},
   "outputs": [],
   "source": [
    "i = rand(1:length(atts))\n",
    "s1,e1,α1 =  getsingle(atts[i]...,rand(1:16))\n",
    "ys = 1:512\n",
    "h1 = heatmap(e1, ys, α1.αu; size=(1200,800), xtickfont = font(10, \"Halvetica\"), title= s1 * \", mu\", xrotation = 45, titlefontsize=10, left_margin=100px, bottom_margin=100px, right_margin=100px);\n",
    "h2 = heatmap(e1, ys, α1.ασ ;size=(1200,800), xtickfont = font(10, \"Halvetica\"), title=s1 * \", sigma\", xrotation = 45, titlefontsize=10, left_margin=100px, bottom_margin=100px, right_margin=100px);"
   ]
  },
  {
   "cell_type": "code",
   "execution_count": null,
   "metadata": {},
   "outputs": [],
   "source": [
    "println(s1);println(e1)"
   ]
  },
  {
   "cell_type": "code",
   "execution_count": null,
   "metadata": {
    "scrolled": true
   },
   "outputs": [],
   "source": [
    "h1"
   ]
  },
  {
   "cell_type": "markdown",
   "metadata": {},
   "source": [
    "# To-Dos\n",
    "1. Add unrelated surface forms to the examplars too see whether the attention mappings are meaningful\n",
    "2. Comparing with Normal Vae\n",
    "3. Different Sampling Function on LM ($top_k$, temperature)\n",
    "4. Attention in Decoder\n",
    "5. Attention to the hidden state sequence, not just to the final state.\n",
    "6. Metric for testing generation quality?"
   ]
  },
  {
   "cell_type": "code",
   "execution_count": 56,
   "metadata": {},
   "outputs": [
    {
     "data": {
      "text/plain": [
       "nsample_packed_sequence (generic function with 1 method)"
      ]
     },
     "execution_count": 56,
     "metadata": {},
     "output_type": "execute_result"
    }
   ],
   "source": [
    "include(\"models.jl\")\n",
    "include(\"parser.jl\")"
   ]
  },
  {
   "cell_type": "code",
   "execution_count": 57,
   "metadata": {},
   "outputs": [],
   "source": [
    "morph3=nothing; morphv=nothing; morph=nothing; morph2=nothing; KnetLayers.gc();"
   ]
  },
  {
   "cell_type": "code",
   "execution_count": 58,
   "metadata": {},
   "outputs": [
    {
     "name": "stdout",
     "output_type": "stream",
     "text": [
      "(loss = 25.483113110351564,)\n",
      "(loss = 19.472908088684083,)\n",
      "(loss = 17.730347187805176,)\n",
      "(loss = 16.60444072570801,)\n",
      "(loss = 15.403253541564942,)\n",
      "(loss = 14.089014128112794,)\n",
      "(loss = 13.170593530273438,)\n",
      "(loss = 12.13779828338623,)\n",
      "(loss = 10.977761215209961,)\n",
      "(loss = 9.8521598487854,)\n",
      "(loss = 8.679309171295166,)\n",
      "(loss = 7.643301724243164,)\n",
      "(loss = 7.062928867340088,)\n",
      "(loss = 6.286370854187012,)\n",
      "(loss = 5.740640664291382,)\n",
      "(loss = 5.037542947387696,)\n",
      "(loss = 4.522800597000122,)\n",
      "(loss = 3.9606379707336425,)\n",
      "(loss = 3.556455333328247,)\n",
      "(loss = 3.234172971343994,)\n",
      "(loss = 2.839251784324646,)\n",
      "(loss = 2.6254156524658203,)\n",
      "(loss = 2.4203680517196657,)\n",
      "(loss = 2.1923937099456787,)\n",
      "(loss = 2.0407046070098875,)\n",
      "(loss = 1.8649052600860596,)\n",
      "(loss = 1.7781351954460145,)\n",
      "(loss = 1.6920295616149903,)\n",
      "(loss = 1.55064642868042,)\n",
      "(loss = 1.4903384167194367,)\n",
      "(loss = 1.3627260312557221,)\n",
      "(loss = 1.2180920554161072,)\n",
      "(loss = 1.2440031058311463,)\n",
      "(loss = 1.2316336155414582,)\n",
      "(loss = 1.1179177912712097,)\n",
      "(loss = 1.0781010423660278,)\n",
      "(loss = 0.9888762439250947,)\n",
      "(loss = 1.0086079552173615,)\n",
      "(loss = 0.9859042726993561,)\n",
      "(loss = 0.8805256847381592,)\n"
     ]
    }
   ],
   "source": [
    "morph2 = VAE(length(vocab.chars); H=512, E=16, Z=16)\n",
    "train_ae!(morph2, data, vocab; optim=Adam(), B=16, epoch=40);"
   ]
  },
  {
   "cell_type": "code",
   "execution_count": 59,
   "metadata": {},
   "outputs": [
    {
     "name": "stdout",
     "output_type": "stream",
     "text": [
      "(kl_weight = 0.1f0, fbr = 3, loss = 15.443869478607178)\n",
      "(kl_weight = 0.2f0, fbr = 3, loss = 14.923171812438964)\n",
      "(kl_weight = 0.3f0, fbr = 3, loss = 15.238884265136718)\n",
      "(kl_weight = 0.4f0, fbr = 3, loss = 15.980613064575195)\n",
      "(kl_weight = 0.5f0, fbr = 3, loss = 16.71773899230957)\n",
      "(kl_weight = 0.6f0, fbr = 3, loss = 17.226584687805175)\n",
      "(kl_weight = 0.70000005f0, fbr = 3, loss = 17.68540315093994)\n",
      "(kl_weight = 0.8000001f0, fbr = 3, loss = 18.103392684936523)\n",
      "(kl_weight = 0.9000001f0, fbr = 3, loss = 18.565587379455568)\n",
      "(kl_weight = 1.0f0, fbr = 3, loss = 18.74658327026367)\n",
      "(kl_weight = 1.0f0, fbr = 3, loss = 18.92175535583496)\n",
      "(kl_weight = 1.0f0, fbr = 3, loss = 18.48210305633545)\n",
      "(kl_weight = 1.0f0, fbr = 3, loss = 18.057821995544433)\n",
      "(kl_weight = 1.0f0, fbr = 3, loss = 17.72012526397705)\n",
      "(kl_weight = 1.0f0, fbr = 3, loss = 17.328961029052735)\n",
      "(kl_weight = 1.0f0, fbr = 3, loss = 17.057035917663573)\n",
      "(kl_weight = 1.0f0, fbr = 3, loss = 16.77470923461914)\n",
      "(kl_weight = 1.0f0, fbr = 3, loss = 16.504574060058594)\n",
      "(kl_weight = 1.0f0, fbr = 3, loss = 16.177242573547364)\n",
      "(kl_weight = 1.0f0, fbr = 3, loss = 15.908505694580079)\n",
      "(kl_weight = 1.0f0, fbr = 3, loss = 15.611685569763184)\n",
      "(kl_weight = 1.0f0, fbr = 3, loss = 15.448818928527832)\n",
      "(kl_weight = 1.0f0, fbr = 3, loss = 15.167715284729004)\n",
      "(kl_weight = 1.0f0, fbr = 3, loss = 14.971736116027833)\n",
      "(kl_weight = 1.0f0, fbr = 3, loss = 14.774850979614257)\n",
      "(kl_weight = 1.0f0, fbr = 3, loss = 14.659493260192871)\n",
      "(kl_weight = 1.0f0, fbr = 3, loss = 14.447410717773437)\n",
      "(kl_weight = 1.0f0, fbr = 3, loss = 14.260242665100098)\n",
      "(kl_weight = 1.0f0, fbr = 3, loss = 14.078165763854981)\n",
      "(kl_weight = 1.0f0, fbr = 3, loss = 13.958827908325196)\n",
      "(kl_weight = 1.0f0, fbr = 3, loss = 13.739065174865722)\n",
      "(kl_weight = 1.0f0, fbr = 3, loss = 13.620014596557617)\n",
      "(kl_weight = 1.0f0, fbr = 3, loss = 13.50943013458252)\n",
      "(kl_weight = 1.0f0, fbr = 3, loss = 13.366550215148926)\n",
      "(kl_weight = 1.0f0, fbr = 3, loss = 13.256889920043946)\n",
      "(kl_weight = 1.0f0, fbr = 3, loss = 13.130988354492187)\n",
      "(kl_weight = 1.0f0, fbr = 3, loss = 13.01498399963379)\n",
      "(kl_weight = 1.0f0, fbr = 3, loss = 12.997471405029296)\n",
      "(kl_weight = 1.0f0, fbr = 3, loss = 12.860596435546874)\n",
      "(kl_weight = 1.0f0, fbr = 3, loss = 12.7721927734375)\n",
      "(kl_weight = 1.0f0, fbr = 3, loss = 12.723277767944335)\n",
      "(kl_weight = 1.0f0, fbr = 3, loss = 12.66773250579834)\n",
      "(kl_weight = 1.0f0, fbr = 3, loss = 12.58436049194336)\n",
      "(kl_weight = 1.0f0, fbr = 3, loss = 12.48684440612793)\n",
      "(kl_weight = 1.0f0, fbr = 3, loss = 12.395729431152343)\n"
     ]
    }
   ],
   "source": [
    "morph3 = VAE(length(vocab.chars); H=512, E=16, Z=16)\n",
    "copytoparams(morph3.encoder, morph2.encoder)\n",
    "copytoparams(morph3.Wμ, morph2.Wμ)\n",
    "copytoparams(morph3.Wσ, morph2.Wσ)\n",
    "morph3.decoder.embedding = morph3.encoder.embedding\n",
    "train_vae!(morph3, data, vocab; B=16, optim=Adam(), epoch=45, kl_weight=0.0f0, kl_rate = 0.1f0, fb_rate=3)"
   ]
  },
  {
   "cell_type": "code",
   "execution_count": 60,
   "metadata": {},
   "outputs": [
    {
     "data": {
      "text/plain": [
       "10005-element Array{String,1}:\n",
       " \"incoludiéis\"  \n",
       " \"no repante\"   \n",
       " \"matizáramos\"  \n",
       " \"rebanecidos\"  \n",
       " \"enfastaremos\" \n",
       " \"colraban\"     \n",
       " \"ocapase\"      \n",
       " \"conoqueabais\" \n",
       " ⋮              \n",
       " \"foctamos\"     \n",
       " \"aludió\"       \n",
       " \"catamos\"      \n",
       " \"cirre\"        \n",
       " \"lacrimare\"    \n",
       " \"diluiremos\"   \n",
       " \"cronometraron\""
      ]
     },
     "execution_count": 60,
     "metadata": {},
     "output_type": "execute_result"
    }
   ],
   "source": [
    "samples = sample(morph3, vocab, edata; N=10000, useprior=true)"
   ]
  },
  {
   "cell_type": "code",
   "execution_count": 61,
   "metadata": {},
   "outputs": [
    {
     "data": {
      "text/plain": [
       "2996-element Array{String,1}:\n",
       " \"perseguiríais\" \n",
       " \"sobrevire\"     \n",
       " \"concursados\"   \n",
       " \"destensaran\"   \n",
       " \"pretiriera\"    \n",
       " \"traspapele\"    \n",
       " \"convocáramos\"  \n",
       " \"confeccionen\"  \n",
       " ⋮               \n",
       " \"desnivelara\"   \n",
       " \"garantizáramos\"\n",
       " \"mire\"          \n",
       " \"aludió\"        \n",
       " \"catamos\"       \n",
       " \"diluiremos\"    \n",
       " \"cronometraron\" "
      ]
     },
     "execution_count": 61,
     "metadata": {},
     "output_type": "execute_result"
    }
   ],
   "source": [
    "samples[findall([s ∈ trainsfs for s in samples])]"
   ]
  },
  {
   "cell_type": "code",
   "execution_count": 62,
   "metadata": {},
   "outputs": [
    {
     "data": {
      "text/plain": [
       "15-element Array{String,1}:\n",
       " \"enrole\"       \n",
       " \"convergía\"    \n",
       " \"desenfunda\"   \n",
       " \"okupara\"      \n",
       " \"deshidratemos\"\n",
       " \"asustemos\"    \n",
       " \"resupiese\"    \n",
       " \"custodiáis\"   \n",
       " \"atascamos\"    \n",
       " \"dormitaría\"   \n",
       " \"ofrendare\"    \n",
       " \"costaseis\"    \n",
       " \"pelaría\"      \n",
       " \"acuñara\"      \n",
       " \"aplomamos\"    "
      ]
     },
     "execution_count": 62,
     "metadata": {},
     "output_type": "execute_result"
    }
   ],
   "source": [
    "samples[findall([s ∈ testsfs for s in samples])]"
   ]
  },
  {
   "cell_type": "code",
   "execution_count": 63,
   "metadata": {},
   "outputs": [
    {
     "data": {
      "text/plain": [
       "4975-element Array{String,1}:\n",
       " \"matizáramos\"   \n",
       " \"perseguiríais\" \n",
       " \"redibujado\"    \n",
       " \"no arrastremos\"\n",
       " \"sobrevire\"     \n",
       " \"concursados\"   \n",
       " \"destensaran\"   \n",
       " \"entreve\"       \n",
       " ⋮               \n",
       " \"garantizáramos\"\n",
       " \"mire\"          \n",
       " \"aludió\"        \n",
       " \"catamos\"       \n",
       " \"lacrimare\"     \n",
       " \"diluiremos\"    \n",
       " \"cronometraron\" "
      ]
     },
     "execution_count": 63,
     "metadata": {},
     "output_type": "execute_result"
    }
   ],
   "source": [
    "samples[findall([s ∈ dictsfs for s in samples])]"
   ]
  },
  {
   "cell_type": "code",
   "execution_count": 64,
   "metadata": {},
   "outputs": [
    {
     "data": {
      "text/plain": [
       "12-element Array{String,1}:\n",
       " \"conservareis\"  \n",
       " \"conservaría\"   \n",
       " \"conservaría\"   \n",
       " \"convergiésemos\"\n",
       " \"convergiésemos\"\n",
       " \"enternecen\"    \n",
       " \"empeñases\"     \n",
       " \"empeñases\"     \n",
       " \"emparedamos\"   \n",
       " \"empatemos\"     \n",
       " \"empatemos\"     \n",
       " \"empatemos\"     "
      ]
     },
     "execution_count": 64,
     "metadata": {},
     "output_type": "execute_result"
    }
   ],
   "source": [
    "inters = sampleinter(morph3, vocab, data; N=10)"
   ]
  },
  {
   "cell_type": "code",
   "execution_count": 65,
   "metadata": {},
   "outputs": [
    {
     "data": {
      "text/plain": [
       "12-element Array{Int64,1}:\n",
       "  1\n",
       "  2\n",
       "  3\n",
       "  4\n",
       "  5\n",
       "  6\n",
       "  7\n",
       "  8\n",
       "  9\n",
       " 10\n",
       " 11\n",
       " 12"
      ]
     },
     "execution_count": 65,
     "metadata": {},
     "output_type": "execute_result"
    }
   ],
   "source": [
    "findall([s ∈ dictsfs for s in inters])"
   ]
  },
  {
   "cell_type": "code",
   "execution_count": 66,
   "metadata": {},
   "outputs": [
    {
     "data": {
      "text/plain": [
       "(16, Float32[0.3343065; 0.38925314; … ; 0.34903616; 0.33873308], K32(16,1)[-0.00467507⋯])"
      ]
     },
     "execution_count": 66,
     "metadata": {},
     "output_type": "execute_result"
    }
   ],
   "source": [
    "au, sigma, mu = calc_au(morph3, tdata; delta=0.01)"
   ]
  },
  {
   "cell_type": "code",
   "execution_count": 67,
   "metadata": {},
   "outputs": [
    {
     "data": {
      "text/plain": [
       "4.1258481597900385"
      ]
     },
     "execution_count": 67,
     "metadata": {},
     "output_type": "execute_result"
    }
   ],
   "source": [
    "mi =  calc_mi(morph3,tdata)"
   ]
  },
  {
   "cell_type": "code",
   "execution_count": 68,
   "metadata": {},
   "outputs": [
    {
     "data": {
      "text/plain": [
       "5.5472722464322715"
      ]
     },
     "execution_count": 68,
     "metadata": {},
     "output_type": "execute_result"
    }
   ],
   "source": [
    "calc_ppl(morph3,tdata; nsample=500, B=16)"
   ]
  },
  {
   "cell_type": "code",
   "execution_count": 21,
   "metadata": {},
   "outputs": [
    {
     "data": {
      "text/plain": [
       "nsample_packed_sequence (generic function with 1 method)"
      ]
     },
     "execution_count": 21,
     "metadata": {},
     "output_type": "execute_result"
    }
   ],
   "source": [
    "include(\"models.jl\")\n",
    "include(\"parser.jl\")"
   ]
  },
  {
   "cell_type": "code",
   "execution_count": null,
   "metadata": {},
   "outputs": [],
   "source": [
    "model = LSTM_LM(length(vocab.chars); H=768, E=16)"
   ]
  },
  {
   "cell_type": "code",
   "execution_count": null,
   "metadata": {},
   "outputs": [],
   "source": [
    "train_rnnlm!(model, data, vocab; epoch=40, optim=Adam(), B=16)"
   ]
  },
  {
   "cell_type": "code",
   "execution_count": null,
   "metadata": {},
   "outputs": [],
   "source": [
    " calc_ppllm(model, tdata)"
   ]
  },
  {
   "cell_type": "code",
   "execution_count": null,
   "metadata": {},
   "outputs": [],
   "source": [
    "samples = sample(model, vocab; N=10000)"
   ]
  },
  {
   "cell_type": "code",
   "execution_count": null,
   "metadata": {},
   "outputs": [],
   "source": [
    "samples[findall([s ∈ trainsfs for s in samples])]"
   ]
  },
  {
   "cell_type": "code",
   "execution_count": null,
   "metadata": {},
   "outputs": [],
   "source": [
    "samples[findall([s ∈ testsfs for s in samples])]"
   ]
  },
  {
   "cell_type": "code",
   "execution_count": null,
   "metadata": {},
   "outputs": [],
   "source": [
    "samples[findall([s ∈ dictsfs for s in samples])]"
   ]
  },
  {
   "cell_type": "code",
   "execution_count": null,
   "metadata": {},
   "outputs": [],
   "source": [
    " calc_ppllm(model, edata)"
   ]
  },
  {
   "cell_type": "code",
   "execution_count": null,
   "metadata": {},
   "outputs": [],
   "source": []
  }
 ],
 "metadata": {
  "kernelspec": {
   "display_name": "Julia 1.2.0",
   "language": "julia",
   "name": "julia-1.2"
  },
  "language_info": {
   "file_extension": ".jl",
   "mimetype": "application/julia",
   "name": "julia",
   "version": "1.2.0"
  }
 },
 "nbformat": 4,
 "nbformat_minor": 4
}
