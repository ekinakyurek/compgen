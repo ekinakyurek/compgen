{
 "cells": [
  {
   "cell_type": "code",
   "execution_count": 1,
   "metadata": {},
   "outputs": [
    {
     "data": {
      "text/plain": [
       "20"
      ]
     },
     "execution_count": 1,
     "metadata": {},
     "output_type": "execute_result"
    }
   ],
   "source": [
    "using Plots\n",
    "import Plots: px\n",
    "theme(:default)\n",
    "ENV[\"LINES\"] = 20"
   ]
  },
  {
   "cell_type": "code",
   "execution_count": 2,
   "metadata": {},
   "outputs": [
    {
     "data": {
      "text/plain": [
       "true"
      ]
     },
     "execution_count": 2,
     "metadata": {},
     "output_type": "execute_result"
    }
   ],
   "source": [
    "include(\"parser.jl\")\n",
    "include(\"models.jl\")\n",
    "gpu()\n",
    "download(SIGDataSet)"
   ]
  },
  {
   "cell_type": "code",
   "execution_count": 3,
   "metadata": {},
   "outputs": [],
   "source": [
    "data  = map(parseDataLine, eachline(\"./data/Sigmorphon/task1/all/spanish-train-high\"));\n",
    "vocab = Vocabulary(data)\n",
    "edata = encode(data,vocab);\n",
    "test  = map(parseDataLine, eachline(\"./data/Sigmorphon/task1/all/spanish-test\"));\n",
    "tdata = encode(test,vocab);\n",
    "dictionary = [parseDataLine(line) for line in  eachline(\"./data/unimorph/spa/spa\") if line != \"\"];"
   ]
  },
  {
   "cell_type": "code",
   "execution_count": 4,
   "metadata": {},
   "outputs": [],
   "source": [
    "vocab.chars.toElement;"
   ]
  },
  {
   "cell_type": "code",
   "execution_count": 5,
   "metadata": {},
   "outputs": [
    {
     "data": {
      "text/plain": [
       "(unk = 1, mask = 2, eow = 3, bow = 4)"
      ]
     },
     "execution_count": 5,
     "metadata": {},
     "output_type": "execute_result"
    }
   ],
   "source": [
    "vocab.specialIndices"
   ]
  },
  {
   "cell_type": "code",
   "execution_count": 6,
   "metadata": {},
   "outputs": [],
   "source": [
    "trainsfs = unique(map(x->join(x.surface),data));\n",
    "testsfs  =  unique(map(x->join(x.surface),test)); \n",
    "dictsfs  = unique([map(x->join(x.surface),dictionary); trainsfs; testsfs]);"
   ]
  },
  {
   "cell_type": "code",
   "execution_count": 9,
   "metadata": {},
   "outputs": [
    {
     "name": "stdout",
     "output_type": "stream",
     "text": [
      "(loss = 27.142887371826173,)\n",
      "(loss = 21.925279620361326,)\n"
     ]
    },
    {
     "ename": "InterruptException",
     "evalue": "InterruptException:",
     "output_type": "error",
     "traceback": [
      "InterruptException:",
      "",
      "Stacktrace:",
      " [1] pointer(::KnetArray{Float32,2}) at /home/gridsan/eakyurek/.julia/packages/Knet/FnyzM/src/karray.jl:125",
      " [2] unsafe_convert(::Type{Ptr{Float32}}, ::KnetArray{Float32,2}) at /home/gridsan/eakyurek/.julia/packages/Knet/FnyzM/src/karray.jl:124",
      " [3] #rnnback#662(::Ptr{Nothing}, ::Array{Int64,1}, ::Base.Iterators.Pairs{Symbol,Bool,Tuple{Symbol},NamedTuple{(:hy,),Tuple{Bool}}}, ::typeof(Knet.rnnback), ::RNN, ::KnetArray{Float32,3}, ::KnetArray{Float32,2}, ::KnetArray{Float32,2}, ::Nothing, ::Nothing, ::Nothing, ::KnetArray{Float32,3}, ::Nothing, ::KnetArray{UInt8,1}, ::KnetArray{UInt8,1}) at /home/gridsan/eakyurek/.julia/packages/Knet/FnyzM/src/rnn.jl:706",
      " [4] (::getfield(Knet, Symbol(\"#kw##rnnback\")))(::NamedTuple{(:batchSizes, :hy),Tuple{Array{Int64,1},Bool}}, ::typeof(Knet.rnnback), ::RNN, ::KnetArray{Float32,3}, ::KnetArray{Float32,2}, ::KnetArray{Float32,2}, ::Nothing, ::Nothing, ::Nothing, ::KnetArray{Float32,3}, ::Nothing, ::KnetArray{UInt8,1}, ::KnetArray{UInt8,1}) at ./none:0",
      " [5] #rnnback2#661(::Base.Iterators.Pairs{Symbol,Any,Tuple{Symbol,Symbol},NamedTuple{(:batchSizes, :hy),Tuple{Array{Int64,1},Bool}}}, ::typeof(Knet.rnnback2), ::Tuple{Nothing,KnetArray{Float32,3},Nothing,Nothing,Nothing}, ::AutoGrad.Result{Tuple{KnetArray{Float32,2},KnetArray{Float32,3},Nothing,KnetArray{UInt8,1},KnetArray{UInt8,1}}}, ::RNN, ::Param{KnetArray{Float32,3}}, ::AutoGrad.Result{KnetArray{Float32,2}}, ::Nothing, ::Nothing) at /home/gridsan/eakyurek/.julia/packages/Knet/FnyzM/src/rnn.jl:645",
      " [6] #rnnback2 at ./none:0 [inlined] (repeats 2 times)",
      " [7] #back#641 at ./none:0 [inlined]",
      " [8] (::getfield(AutoGrad, Symbol(\"#kw##back\")))(::NamedTuple{(:batchSizes, :hy),Tuple{Array{Int64,1},Bool}}, ::typeof(AutoGrad.back), ::typeof(Knet.rnnforw), ::Type{AutoGrad.Arg{2}}, ::Tuple{Nothing,KnetArray{Float32,3},Nothing,Nothing,Nothing}, ::AutoGrad.Result{Tuple{KnetArray{Float32,2},KnetArray{Float32,3},Nothing,KnetArray{UInt8,1},KnetArray{UInt8,1}}}, ::RNN, ::Param{KnetArray{Float32,3}}, ::AutoGrad.Result{KnetArray{Float32,2}}) at ./none:0",
      " [9] #differentiate#3(::Base.Iterators.Pairs{Union{},Union{},Tuple{},NamedTuple{(),Tuple{}}}, ::typeof(AutoGrad.differentiate), ::Function) at /home/gridsan/eakyurek/.julia/packages/AutoGrad/pTNVv/src/core.jl:165",
      " [10] differentiate at /home/gridsan/eakyurek/.julia/packages/AutoGrad/pTNVv/src/core.jl:135 [inlined]",
      " [11] #train_ae!#59(::Int64, ::Adam, ::Int64, ::typeof(train_ae!), ::NamedTuple{(:encoder, :Wμ, :Wσ, :Weaμ, :Weaσ, :Wμa, :Wσa, :output, :Wdec, :decoder, :num, :latentSize, :hiddenSize),Tuple{LSTM{Param{KnetArray{Float32,3}},Multiply{Param{KnetArray{Float32,2}}}},Multiply{Param{KnetArray{Float32,2}}},Dense{ELU},Linear,Linear,Linear,Linear,Linear,Multiply{Param{KnetArray{Float32,2}}},LSTM{Param{KnetArray{Float32,3}},Multiply{Param{KnetArray{Float32,2}}}},Int64,Int64,Int64}}, ::Array{NamedTuple{(:surface, :lemma, :tags),Tuple{Array{Char,1},Array{Char,1},Array{SubString{String},1}}},1}, ::Vocabulary) at /home/gridsan/eakyurek/git/datagen/models.jl:159",
      " [12] (::getfield(Main, Symbol(\"#kw##train_ae!\")))(::NamedTuple{(:optim, :epoch),Tuple{Adam,Int64}}, ::typeof(train_ae!), ::NamedTuple{(:encoder, :Wμ, :Wσ, :Weaμ, :Weaσ, :Wμa, :Wσa, :output, :Wdec, :decoder, :num, :latentSize, :hiddenSize),Tuple{LSTM{Param{KnetArray{Float32,3}},Multiply{Param{KnetArray{Float32,2}}}},Multiply{Param{KnetArray{Float32,2}}},Dense{ELU},Linear,Linear,Linear,Linear,Linear,Multiply{Param{KnetArray{Float32,2}}},LSTM{Param{KnetArray{Float32,3}},Multiply{Param{KnetArray{Float32,2}}}},Int64,Int64,Int64}}, ::Array{NamedTuple{(:surface, :lemma, :tags),Tuple{Array{Char,1},Array{Char,1},Array{SubString{String},1}}},1}, ::Vocabulary) at ./none:0",
      " [13] top-level scope at In[9]:2"
     ]
    }
   ],
   "source": [
    "morph = EncAttentiveVAE(length(vocab.chars); H=512, E=16, Z=16)\n",
    "train_ae!(morph, data, vocab; optim=Adam(), epoch=50)"
   ]
  },
  {
   "cell_type": "code",
   "execution_count": 8,
   "metadata": {},
   "outputs": [
    {
     "name": "stdout",
     "output_type": "stream",
     "text": [
      "(kl_weight = 0.1f0, fbr = 3, loss = 24.400968673706053)\n",
      "(kl_weight = 0.2f0, fbr = 3, loss = 20.668558029174804)\n"
     ]
    },
    {
     "ename": "InterruptException",
     "evalue": "InterruptException:",
     "output_type": "error",
     "traceback": [
      "InterruptException:",
      "",
      "Stacktrace:",
      " [1] macro expansion at /home/gridsan/eakyurek/.julia/packages/TimerOutputs/7Id5J/src/TimerOutput.jl:214 [inlined]",
      " [2] macro expansion at /home/gridsan/eakyurek/.julia/packages/CuArrays/7z7MV/src/memory.jl:121 [inlined]",
      " [3] macro expansion at ./util.jl:213 [inlined]",
      " [4] alloc at /home/gridsan/eakyurek/.julia/packages/CuArrays/7z7MV/src/memory.jl:120 [inlined]",
      " [5] CuArrays.CuArray{UInt8,1,P} where P(::UndefInitializer, ::Tuple{Int64}) at /home/gridsan/eakyurek/.julia/packages/CuArrays/7z7MV/src/array.jl:90",
      " [6] Type at /home/gridsan/eakyurek/.julia/packages/CuArrays/7z7MV/src/array.jl:98 [inlined]",
      " [7] Type at /home/gridsan/eakyurek/.julia/packages/CuArrays/7z7MV/src/array.jl:99 [inlined]",
      " [8] KnetPtrCu(::Int64) at /home/gridsan/eakyurek/.julia/packages/Knet/FnyzM/src/cuarray.jl:90",
      " [9] Type at /home/gridsan/eakyurek/.julia/packages/Knet/FnyzM/src/kptr.jl:102 [inlined]",
      " [10] Type at /home/gridsan/eakyurek/.julia/packages/Knet/FnyzM/src/karray.jl:82 [inlined]",
      " [11] Type at /home/gridsan/eakyurek/.julia/packages/Knet/FnyzM/src/karray.jl:89 [inlined]",
      " [12] Type at /home/gridsan/eakyurek/.julia/packages/Knet/FnyzM/src/karray.jl:88 [inlined]",
      " [13] addtoindex!(::KnetArray{Float32,2}, ::KnetArray{Float32,2}, ::Colon, ::Array{Int64,1}) at /home/gridsan/eakyurek/.julia/packages/Knet/FnyzM/src/karray.jl:1161",
      " [14] addto!(::KnetArray{Float32,2}, ::AutoGrad.Sparse{Float32,2}) at /home/gridsan/eakyurek/.julia/packages/Knet/FnyzM/src/karray.jl:1108",
      " [15] full(::AutoGrad.Sparse{Float32,2}) at /home/gridsan/eakyurek/.julia/packages/AutoGrad/pTNVv/src/sparse.jl:57",
      " [16] update!(::KnetArray{Float32,2}, ::AutoGrad.Sparse{Float32,2}, ::Adam) at /home/gridsan/eakyurek/.julia/packages/Knet/FnyzM/src/update.jl:534",
      " [17] #train_vae!#62(::Int64, ::Adam, ::Int64, ::Nothing, ::Float32, ::Float32, ::Int64, ::typeof(train_vae!), ::NamedTuple{(:encoder, :Wμ, :Wσ, :Weaμ, :Weaσ, :Wμa, :Wσa, :output, :Wdec, :decoder, :num, :latentSize, :hiddenSize),Tuple{LSTM{Param{KnetArray{Float32,3}},Multiply{Param{KnetArray{Float32,2}}}},Multiply{Param{KnetArray{Float32,2}}},Dense{ELU},Linear,Linear,Linear,Linear,Linear,Multiply{Param{KnetArray{Float32,2}}},LSTM{Param{KnetArray{Float32,3}},Multiply{Param{KnetArray{Float32,2}}}},Int64,Int64,Int64}}, ::Array{NamedTuple{(:surface, :lemma, :tags),Tuple{Array{Char,1},Array{Char,1},Array{SubString{String},1}}},1}, ::Vocabulary) at /home/gridsan/eakyurek/git/datagen/models.jl:192",
      " [18] (::getfield(Main, Symbol(\"#kw##train_vae!\")))(::NamedTuple{(:optim, :epoch, :kl_weight, :kl_rate, :fb_rate),Tuple{Adam,Int64,Float32,Float32,Int64}}, ::typeof(train_vae!), ::NamedTuple{(:encoder, :Wμ, :Wσ, :Weaμ, :Weaσ, :Wμa, :Wσa, :output, :Wdec, :decoder, :num, :latentSize, :hiddenSize),Tuple{LSTM{Param{KnetArray{Float32,3}},Multiply{Param{KnetArray{Float32,2}}}},Multiply{Param{KnetArray{Float32,2}}},Dense{ELU},Linear,Linear,Linear,Linear,Linear,Multiply{Param{KnetArray{Float32,2}}},LSTM{Param{KnetArray{Float32,3}},Multiply{Param{KnetArray{Float32,2}}}},Int64,Int64,Int64}}, ::Array{NamedTuple{(:surface, :lemma, :tags),Tuple{Array{Char,1},Array{Char,1},Array{SubString{String},1}}},1}, ::Vocabulary) at ./none:0",
      " [19] top-level scope at In[8]:10"
     ]
    }
   ],
   "source": [
    "morphv =  EncAttentiveVAE(length(vocab.chars); H=512, E=16, Z=16)\n",
    "copytoparams(morphv.encoder, morph.encoder)\n",
    "copytoparams(morphv.Wμ, morph.Wμ)\n",
    "copytoparams(morphv.Wσa, morph.Wσa)\n",
    "copytoparams(morphv.Wμa, morph.Wμa)\n",
    "copytoparams(morphv.Wσ, morph.Wσ)\n",
    "copytoparams(morphv.Weaμ, morph.Weaμ)\n",
    "copytoparams(morphv.Weaσ, morph.Weaσ)\n",
    "morphv.decoder.embedding = morphv.encoder.embedding\n",
    "train_vae!(morphv, data, vocab; optim=Adam(), epoch=45, kl_weight=0.0f0, kl_rate = 0.1f0, fb_rate=3)"
   ]
  },
  {
   "cell_type": "code",
   "execution_count": 21,
   "metadata": {},
   "outputs": [],
   "source": [
    "samples = sample(morphv, vocab, edata; N=10000);"
   ]
  },
  {
   "cell_type": "code",
   "execution_count": 22,
   "metadata": {},
   "outputs": [
    {
     "data": {
      "text/plain": [
       "3657-element Array{String,1}:\n",
       " \"espolvorease\" \n",
       " \"reteñiríais\"  \n",
       " \"reflexionáis\" \n",
       " \"aruñabais\"    \n",
       " \"amarillecía\"  \n",
       " \"empodrecéis\"  \n",
       " \"empollaran\"   \n",
       " \"te arrodilles\"\n",
       " ⋮              \n",
       " \"likeare\"      \n",
       " \"aguijonee\"    \n",
       " \"robusteciera\" \n",
       " \"opositaba\"    \n",
       " \"acaparad\"     \n",
       " \"vengarán\"     \n",
       " \"no infundas\"  "
      ]
     },
     "execution_count": 22,
     "metadata": {},
     "output_type": "execute_result"
    }
   ],
   "source": [
    "unique(samples[findall([s ∈ trainsfs for s in samples])])"
   ]
  },
  {
   "cell_type": "code",
   "execution_count": 23,
   "metadata": {},
   "outputs": [
    {
     "data": {
      "text/plain": [
       "5608"
      ]
     },
     "execution_count": 23,
     "metadata": {},
     "output_type": "execute_result"
    }
   ],
   "source": [
    "length(samples[findall([s ∈ trainsfs for s in samples])])"
   ]
  },
  {
   "cell_type": "code",
   "execution_count": 24,
   "metadata": {},
   "outputs": [
    {
     "data": {
      "text/plain": [
       "9-element Array{String,1}:\n",
       " \"sistematizaba\"\n",
       " \"decore\"       \n",
       " \"puntaren\"     \n",
       " \"taconearíamos\"\n",
       " \"no laven\"     \n",
       " \"enrole\"       \n",
       " \"loqueare\"     \n",
       " \"desobstruimos\"\n",
       " \"doblegare\"    "
      ]
     },
     "execution_count": 24,
     "metadata": {},
     "output_type": "execute_result"
    }
   ],
   "source": [
    "unique(samples[findall([s ∈ testsfs for s in samples])])"
   ]
  },
  {
   "cell_type": "code",
   "execution_count": 25,
   "metadata": {},
   "outputs": [
    {
     "data": {
      "text/plain": [
       "10"
      ]
     },
     "execution_count": 25,
     "metadata": {},
     "output_type": "execute_result"
    }
   ],
   "source": [
    "length(samples[findall([s ∈ testsfs for s in samples])])"
   ]
  },
  {
   "cell_type": "code",
   "execution_count": 26,
   "metadata": {},
   "outputs": [
    {
     "data": {
      "text/plain": [
       "1-element Array{Int64,1}:\n",
       " 6804"
      ]
     },
     "execution_count": 26,
     "metadata": {},
     "output_type": "execute_result"
    }
   ],
   "source": [
    "unique(length(samples[findall([s ∈ dictsfs for s in samples])]))"
   ]
  },
  {
   "cell_type": "code",
   "execution_count": 27,
   "metadata": {},
   "outputs": [
    {
     "data": {
      "text/plain": [
       "12-element Array{String,1}:\n",
       " \"encastillad\"  \n",
       " \"encastillad\"  \n",
       " \"encastillad\"  \n",
       " \"encastillad\"  \n",
       " \"encastillados\"\n",
       " \"acompañaran\"  \n",
       " \"acompañaran\"  \n",
       " \"acompañaran\"  \n",
       " \"acompañaran\"  \n",
       " \"acompañaran\"  \n",
       " \"acompañaran\"  \n",
       " \"acompañaran\"  "
      ]
     },
     "execution_count": 27,
     "metadata": {},
     "output_type": "execute_result"
    }
   ],
   "source": [
    "sampleinter(morphv, vocab, data; N=10)"
   ]
  },
  {
   "cell_type": "code",
   "execution_count": 28,
   "metadata": {},
   "outputs": [
    {
     "data": {
      "text/plain": [
       "(16, Float32[0.04300758; 0.04325096; … ; 0.045190305; 0.044187315], K32(16,1)[0.25393218⋯])"
      ]
     },
     "execution_count": 28,
     "metadata": {},
     "output_type": "execute_result"
    }
   ],
   "source": [
    "au, sigma, mu = calc_au(morphv,tdata; delta=0.01)"
   ]
  },
  {
   "cell_type": "code",
   "execution_count": 19,
   "metadata": {},
   "outputs": [
    {
     "data": {
      "text/plain": [
       "0.01842317199707111"
      ]
     },
     "execution_count": 19,
     "metadata": {},
     "output_type": "execute_result"
    }
   ],
   "source": [
    "mi = calc_mi(morphv,tdata)"
   ]
  },
  {
   "cell_type": "code",
   "execution_count": 20,
   "metadata": {},
   "outputs": [
    {
     "data": {
      "text/plain": [
       "6.255561420142625"
      ]
     },
     "execution_count": 20,
     "metadata": {},
     "output_type": "execute_result"
    }
   ],
   "source": [
    "calc_ppl(morphv,tdata)"
   ]
  },
  {
   "cell_type": "code",
   "execution_count": 29,
   "metadata": {},
   "outputs": [],
   "source": [
    "atts = attentions(morph,edata, vocab);"
   ]
  },
  {
   "cell_type": "code",
   "execution_count": 30,
   "metadata": {},
   "outputs": [
    {
     "data": {
      "text/plain": [
       "getsingle (generic function with 1 method)"
      ]
     },
     "execution_count": 30,
     "metadata": {},
     "output_type": "execute_result"
    }
   ],
   "source": [
    "function getsingle(sfs,exs,perms, αs,i) \n",
    "    join(vocab.chars[sfs[i]]), map(e->join(vocab.chars[e]),exs[i][perms[i]]), map(x->x[:,perms[i],i],αs)\n",
    "end"
   ]
  },
  {
   "cell_type": "code",
   "execution_count": 31,
   "metadata": {},
   "outputs": [],
   "source": [
    "i = rand(1:length(atts))\n",
    "s1,e1,α1 =  getsingle(atts[i]...,rand(1:16))\n",
    "ys = 1:512\n",
    "h1 = heatmap(e1, ys, α1.αu; size=(1200,800), xtickfont = font(10, \"Halvetica\"), title= s1 * \", mu\", xrotation = 45, titlefontsize=10, left_margin=100px, bottom_margin=100px, right_margin=100px);\n",
    "h2 = heatmap(e1, ys, α1.ασ ;size=(1200,800), xtickfont = font(10, \"Halvetica\"), title=s1 * \", sigma\", xrotation = 45, titlefontsize=10, left_margin=100px, bottom_margin=100px, right_margin=100px);"
   ]
  },
  {
   "cell_type": "code",
   "execution_count": 32,
   "metadata": {},
   "outputs": [
    {
     "name": "stdout",
     "output_type": "stream",
     "text": [
      "sensibilizasteis\n",
      "[\"sensibiliza\", \"sensibiliza\", \"capolasteis\", \"traicionasteis\", \"asumiría\", \"capacitaren\", \"aprovecharás\", \"urbanizásemos\"]\n"
     ]
    }
   ],
   "source": [
    "println(s1);println(e1)"
   ]
  },
  {
   "cell_type": "code",
   "execution_count": 33,
   "metadata": {
    "scrolled": true
   },
   "outputs": [
    {
     "data": {
      "image/svg+xml": [
       "<?xml version=\"1.0\" encoding=\"utf-8\"?>\n",
       "<svg xmlns=\"http://www.w3.org/2000/svg\" xmlns:xlink=\"http://www.w3.org/1999/xlink\" width=\"1200\" height=\"800\" viewBox=\"0 0 4800 3200\">\n",
       "<defs>\n",
       "  <clipPath id=\"clip7900\">\n",
       "    <rect x=\"0\" y=\"0\" width=\"4800\" height=\"3200\"/>\n",
       "  </clipPath>\n",
       "</defs>\n",
       "<path clip-path=\"url(#clip7900)\" d=\"\n",
       "M0 3200 L4800 3200 L4800 0 L0 0  Z\n",
       "  \" fill=\"#ffffff\" fill-rule=\"evenodd\" fill-opacity=\"1\"/>\n",
       "<defs>\n",
       "  <clipPath id=\"clip7901\">\n",
       "    <rect x=\"960\" y=\"0\" width=\"3361\" height=\"3200\"/>\n",
       "  </clipPath>\n",
       "</defs>\n",
       "<path clip-path=\"url(#clip7900)\" d=\"\n",
       "M551.531 2422.88 L3888.5 2422.88 L3888.5 104.909 L551.531 104.909  Z\n",
       "  \" fill=\"#ffffff\" fill-rule=\"evenodd\" fill-opacity=\"1\"/>\n",
       "<defs>\n",
       "  <clipPath id=\"clip7902\">\n",
       "    <rect x=\"551\" y=\"104\" width=\"3338\" height=\"2319\"/>\n",
       "  </clipPath>\n",
       "</defs>\n",
       "<polyline clip-path=\"url(#clip7902)\" style=\"stroke:#000000; stroke-width:2; stroke-opacity:0.1; fill:none\" points=\"\n",
       "  551.531,2422.88 551.531,104.909 \n",
       "  \"/>\n",
       "<polyline clip-path=\"url(#clip7902)\" style=\"stroke:#000000; stroke-width:2; stroke-opacity:0.1; fill:none\" points=\"\n",
       "  1064.91,2422.88 1064.91,104.909 \n",
       "  \"/>\n",
       "<polyline clip-path=\"url(#clip7902)\" style=\"stroke:#000000; stroke-width:2; stroke-opacity:0.1; fill:none\" points=\"\n",
       "  1578.29,2422.88 1578.29,104.909 \n",
       "  \"/>\n",
       "<polyline clip-path=\"url(#clip7902)\" style=\"stroke:#000000; stroke-width:2; stroke-opacity:0.1; fill:none\" points=\"\n",
       "  2091.67,2422.88 2091.67,104.909 \n",
       "  \"/>\n",
       "<polyline clip-path=\"url(#clip7902)\" style=\"stroke:#000000; stroke-width:2; stroke-opacity:0.1; fill:none\" points=\"\n",
       "  2605.05,2422.88 2605.05,104.909 \n",
       "  \"/>\n",
       "<polyline clip-path=\"url(#clip7902)\" style=\"stroke:#000000; stroke-width:2; stroke-opacity:0.1; fill:none\" points=\"\n",
       "  3118.43,2422.88 3118.43,104.909 \n",
       "  \"/>\n",
       "<polyline clip-path=\"url(#clip7902)\" style=\"stroke:#000000; stroke-width:2; stroke-opacity:0.1; fill:none\" points=\"\n",
       "  3631.81,2422.88 3631.81,104.909 \n",
       "  \"/>\n",
       "<polyline clip-path=\"url(#clip7902)\" style=\"stroke:#000000; stroke-width:2; stroke-opacity:0.1; fill:none\" points=\"\n",
       "  551.531,1972.42 3888.5,1972.42 \n",
       "  \"/>\n",
       "<polyline clip-path=\"url(#clip7902)\" style=\"stroke:#000000; stroke-width:2; stroke-opacity:0.1; fill:none\" points=\"\n",
       "  551.531,1519.69 3888.5,1519.69 \n",
       "  \"/>\n",
       "<polyline clip-path=\"url(#clip7902)\" style=\"stroke:#000000; stroke-width:2; stroke-opacity:0.1; fill:none\" points=\"\n",
       "  551.531,1066.96 3888.5,1066.96 \n",
       "  \"/>\n",
       "<polyline clip-path=\"url(#clip7902)\" style=\"stroke:#000000; stroke-width:2; stroke-opacity:0.1; fill:none\" points=\"\n",
       "  551.531,614.229 3888.5,614.229 \n",
       "  \"/>\n",
       "<polyline clip-path=\"url(#clip7902)\" style=\"stroke:#000000; stroke-width:2; stroke-opacity:0.1; fill:none\" points=\"\n",
       "  551.531,161.5 3888.5,161.5 \n",
       "  \"/>\n",
       "<polyline clip-path=\"url(#clip7900)\" style=\"stroke:#000000; stroke-width:4; stroke-opacity:1; fill:none\" points=\"\n",
       "  551.531,2422.88 3888.5,2422.88 \n",
       "  \"/>\n",
       "<polyline clip-path=\"url(#clip7900)\" style=\"stroke:#000000; stroke-width:4; stroke-opacity:1; fill:none\" points=\"\n",
       "  551.531,2422.88 551.531,104.909 \n",
       "  \"/>\n",
       "<polyline clip-path=\"url(#clip7900)\" style=\"stroke:#000000; stroke-width:4; stroke-opacity:1; fill:none\" points=\"\n",
       "  551.531,2422.88 551.531,2388.11 \n",
       "  \"/>\n",
       "<polyline clip-path=\"url(#clip7900)\" style=\"stroke:#000000; stroke-width:4; stroke-opacity:1; fill:none\" points=\"\n",
       "  1064.91,2422.88 1064.91,2388.11 \n",
       "  \"/>\n",
       "<polyline clip-path=\"url(#clip7900)\" style=\"stroke:#000000; stroke-width:4; stroke-opacity:1; fill:none\" points=\"\n",
       "  1578.29,2422.88 1578.29,2388.11 \n",
       "  \"/>\n",
       "<polyline clip-path=\"url(#clip7900)\" style=\"stroke:#000000; stroke-width:4; stroke-opacity:1; fill:none\" points=\"\n",
       "  2091.67,2422.88 2091.67,2388.11 \n",
       "  \"/>\n",
       "<polyline clip-path=\"url(#clip7900)\" style=\"stroke:#000000; stroke-width:4; stroke-opacity:1; fill:none\" points=\"\n",
       "  2605.05,2422.88 2605.05,2388.11 \n",
       "  \"/>\n",
       "<polyline clip-path=\"url(#clip7900)\" style=\"stroke:#000000; stroke-width:4; stroke-opacity:1; fill:none\" points=\"\n",
       "  3118.43,2422.88 3118.43,2388.11 \n",
       "  \"/>\n",
       "<polyline clip-path=\"url(#clip7900)\" style=\"stroke:#000000; stroke-width:4; stroke-opacity:1; fill:none\" points=\"\n",
       "  3631.81,2422.88 3631.81,2388.11 \n",
       "  \"/>\n",
       "<polyline clip-path=\"url(#clip7900)\" style=\"stroke:#000000; stroke-width:4; stroke-opacity:1; fill:none\" points=\"\n",
       "  551.531,1972.42 601.586,1972.42 \n",
       "  \"/>\n",
       "<polyline clip-path=\"url(#clip7900)\" style=\"stroke:#000000; stroke-width:4; stroke-opacity:1; fill:none\" points=\"\n",
       "  551.531,1519.69 601.586,1519.69 \n",
       "  \"/>\n",
       "<polyline clip-path=\"url(#clip7900)\" style=\"stroke:#000000; stroke-width:4; stroke-opacity:1; fill:none\" points=\"\n",
       "  551.531,1066.96 601.586,1066.96 \n",
       "  \"/>\n",
       "<polyline clip-path=\"url(#clip7900)\" style=\"stroke:#000000; stroke-width:4; stroke-opacity:1; fill:none\" points=\"\n",
       "  551.531,614.229 601.586,614.229 \n",
       "  \"/>\n",
       "<polyline clip-path=\"url(#clip7900)\" style=\"stroke:#000000; stroke-width:4; stroke-opacity:1; fill:none\" points=\"\n",
       "  551.531,161.5 601.586,161.5 \n",
       "  \"/>\n",
       "<g clip-path=\"url(#clip7900)\">\n",
       "<text style=\"fill:#000000; fill-opacity:1; font-family:Arial,Helvetica Neue,Helvetica,sans-serif; font-size:59px; text-anchor:end;\" transform=\"rotate(-45, 588.018, 2483.37)\" x=\"588.018\" y=\"2483.37\">sensibiliza</text>\n",
       "</g>\n",
       "<g clip-path=\"url(#clip7900)\">\n",
       "<text style=\"fill:#000000; fill-opacity:1; font-family:Arial,Helvetica Neue,Helvetica,sans-serif; font-size:59px; text-anchor:end;\" transform=\"rotate(-45, 1101.4, 2483.37)\" x=\"1101.4\" y=\"2483.37\">capolasteis</text>\n",
       "</g>\n",
       "<g clip-path=\"url(#clip7900)\">\n",
       "<text style=\"fill:#000000; fill-opacity:1; font-family:Arial,Helvetica Neue,Helvetica,sans-serif; font-size:59px; text-anchor:end;\" transform=\"rotate(-45, 1614.78, 2483.37)\" x=\"1614.78\" y=\"2483.37\">traicionasteis</text>\n",
       "</g>\n",
       "<g clip-path=\"url(#clip7900)\">\n",
       "<text style=\"fill:#000000; fill-opacity:1; font-family:Arial,Helvetica Neue,Helvetica,sans-serif; font-size:59px; text-anchor:end;\" transform=\"rotate(-45, 2128.16, 2483.37)\" x=\"2128.16\" y=\"2483.37\">asumiría</text>\n",
       "</g>\n",
       "<g clip-path=\"url(#clip7900)\">\n",
       "<text style=\"fill:#000000; fill-opacity:1; font-family:Arial,Helvetica Neue,Helvetica,sans-serif; font-size:59px; text-anchor:end;\" transform=\"rotate(-45, 2641.54, 2483.37)\" x=\"2641.54\" y=\"2483.37\">capacitaren</text>\n",
       "</g>\n",
       "<g clip-path=\"url(#clip7900)\">\n",
       "<text style=\"fill:#000000; fill-opacity:1; font-family:Arial,Helvetica Neue,Helvetica,sans-serif; font-size:59px; text-anchor:end;\" transform=\"rotate(-45, 3154.92, 2483.37)\" x=\"3154.92\" y=\"2483.37\">aprovecharás</text>\n",
       "</g>\n",
       "<g clip-path=\"url(#clip7900)\">\n",
       "<text style=\"fill:#000000; fill-opacity:1; font-family:Arial,Helvetica Neue,Helvetica,sans-serif; font-size:59px; text-anchor:end;\" transform=\"rotate(-45, 3668.3, 2483.37)\" x=\"3668.3\" y=\"2483.37\">urbanizásemos</text>\n",
       "</g>\n",
       "<g clip-path=\"url(#clip7900)\">\n",
       "<text style=\"fill:#000000; fill-opacity:1; font-family:Arial,Helvetica Neue,Helvetica,sans-serif; font-size:48px; text-anchor:end;\" transform=\"rotate(0, 503.531, 1989.92)\" x=\"503.531\" y=\"1989.92\">100</text>\n",
       "</g>\n",
       "<g clip-path=\"url(#clip7900)\">\n",
       "<text style=\"fill:#000000; fill-opacity:1; font-family:Arial,Helvetica Neue,Helvetica,sans-serif; font-size:48px; text-anchor:end;\" transform=\"rotate(0, 503.531, 1537.19)\" x=\"503.531\" y=\"1537.19\">200</text>\n",
       "</g>\n",
       "<g clip-path=\"url(#clip7900)\">\n",
       "<text style=\"fill:#000000; fill-opacity:1; font-family:Arial,Helvetica Neue,Helvetica,sans-serif; font-size:48px; text-anchor:end;\" transform=\"rotate(0, 503.531, 1084.46)\" x=\"503.531\" y=\"1084.46\">300</text>\n",
       "</g>\n",
       "<g clip-path=\"url(#clip7900)\">\n",
       "<text style=\"fill:#000000; fill-opacity:1; font-family:Arial,Helvetica Neue,Helvetica,sans-serif; font-size:48px; text-anchor:end;\" transform=\"rotate(0, 503.531, 631.729)\" x=\"503.531\" y=\"631.729\">400</text>\n",
       "</g>\n",
       "<g clip-path=\"url(#clip7900)\">\n",
       "<text style=\"fill:#000000; fill-opacity:1; font-family:Arial,Helvetica Neue,Helvetica,sans-serif; font-size:48px; text-anchor:end;\" transform=\"rotate(0, 503.531, 179)\" x=\"503.531\" y=\"179\">500</text>\n",
       "</g>\n",
       "<g clip-path=\"url(#clip7900)\">\n",
       "<text style=\"fill:#000000; fill-opacity:1; font-family:Arial,Helvetica Neue,Helvetica,sans-serif; font-size:59px; text-anchor:middle;\" transform=\"rotate(0, 2220.02, 51.6)\" x=\"2220.02\" y=\"51.6\">sensibilizasteis, mu</text>\n",
       "</g>\n",
       "<g clip-path=\"url(#clip7902)\">\n",
       "<image width=\"3337\" height=\"2318\" xlink:href=\"data:image/png;base64,\n",
       "iVBORw0KGgoAAAANSUhEUgAADQkAAAkOCAYAAACjmD58AAAgAElEQVR4nOzbQQ0AIRDAwOWCf8sg\n",
       "4h6kyYyCGuia2WcAAAAAAAAAAAAAAACArO91AAAAAAAAAAAAAAAAAPCPSQgAAAAAAAAAAAAAAADi\n",
       "TEIAAAAAAAAAAAAAAAAQZxICAAAAAAAAAAAAAACAOJMQAAAAAAAAAAAAAAAAxJmEAAAAAAAAAAAA\n",
       "AAAAIM4kBAAAAAAAAAAAAAAAAHEmIQAAAAAAAAAAAAAAAIgzCQEAAAAAAAAAAAAAAECcSQgAAAAA\n",
       "AAAAAAAAAADiTEIAAAAAAAAAAAAAAAAQZxICAAAAAAAAAAAAAACAOJMQAAAAAAAAAAAAAAAAxJmE\n",
       "AAAAAAAAAAAAAAAAIM4kBAAAAAAAAAAAAAAAAHEmIQAAAAAAAAAAAAAAAIgzCQEAAAAAAAAAAAAA\n",
       "AECcSQgAAAAAAAAAAAAAAADiTEIAAAAAAAAAAAAAAAAQZxICAAAAAAAAAAAAAACAOJMQAAAAAAAA\n",
       "AAAAAAAAxJmEAAAAAAAAAAAAAAAAIM4kBAAAAAAAAAAAAAAAAHEmIQAAAAAAAAAAAAAAAIgzCQEA\n",
       "AAAAAAAAAAAAAECcSQgAAAAAAAAAAAAAAADiTEIAAAAAAAAAAAAAAAAQZxICAAAAAAAAAAAAAACA\n",
       "OJMQAAAAAAAAAAAAAAAAxJmEAAAAAAAAAAAAAAAAIM4kBAAAAAAAAAAAAAAAAHEmIQAAAAAAAAAA\n",
       "AAAAAIgzCQEAAAAAAAAAAAAAAECcSQgAAAAAAAAAAAAAAADiTEIAAAAAAAAAAAAAAAAQZxICAAAA\n",
       "AAAAAAAAAACAOJMQAAAAAAAAAAAAAAAAxJmEAAAAAAAAAAAAAAAAIM4kBAAAAAAAAAAAAAAAAHEm\n",
       "IQAAAAAAAAAAAAAAAIgzCQEAAAAAAAAAAAAAAECcSQgAAAAAAAAAAAAAAADiTEIAAAAAAAAAAAAA\n",
       "AAAQZxICAAAAAAAAAAAAAACAOJMQAAAAAAAAAAAAAAAAxJmEAAAAAAAAAAAAAAAAIM4kBAAAAAAA\n",
       "AAAAAAAAAHEmIQAAAAAAAAAAAAAAAIgzCQEAAAAAAAAAAAAAAECcSQgAAAAAAAAAAAAAAADiTEIA\n",
       "AAAAAAAAAAAAAAAQZxICAAAAAAAAAAAAAACAOJMQAAAAAAAAAAAAAAAAxJmEAAAAAAAAAAAAAAAA\n",
       "IM4kBAAAAAAAAAAAAAAAAHEmIQAAAAAAAAAAAAAAAIgzCQEAAAAAAAAAAAAAAECcSQgAAAAAAAAA\n",
       "AAAAAADiTEIAAAAAAAAAAAAAAAAQZxICAAAAAAAAAAAAAACAOJMQAAAAAAAAAAAAAAAAxJmEAAAA\n",
       "AAAAAAAAAAAAIM4kBAAAAAAAAAAAAAAAAHEmIQAAAAAAAAAAAAAAAIgzCQEAAAAAAAAAAAAAAECc\n",
       "SQgAAAAAAAAAAAAAAADiTEIAAAAAAAAAAAAAAAAQZxICAAAAAAAAAAAAAACAOJMQAAAAAAAAAAAA\n",
       "AAAAxJmEAAAAAAAAAAAAAAAAIM4kBAAAAAAAAAAAAAAAAHEmIQAAAAAAAAAAAAAAAIgzCQEAAAAA\n",
       "AAAAAAAAAECcSQgAAAAAAAAAAAAAAADiTEIAAAAAAAAAAAAAAAAQZxICAAAAAAAAAAAAAACAOJMQ\n",
       "AAAAAAAAAAAAAAAAxJmEAAAAAAAAAAAAAAAAIM4kBAAAAAAAAAAAAAAAAHEmIQAAAAAAAAAAAAAA\n",
       "AIgzCQEAAAAAAAAAAAAAAECcSQgAAAAAAAAAAAAAAADiTEIAAAAAAAAAAAAAAAAQZxICAAAAAAAA\n",
       "AAAAAACAOJMQAAAAAAAAAAAAAAAAxJmEAAAAAAAAAAAAAAAAIM4kBAAAAAAAAAAAAAAAAHEmIQAA\n",
       "AAAAAAAAAAAAAIgzCQEAAAAAAAAAAAAAAECcSQgAAAAAAAAAAAAAAADiTEIAAAAAAAAAAAAAAAAQ\n",
       "ZxICAAAAAAAAAAAAAACAOJMQAAAAAAAAAAAAAAAAxJmEAAAAAAAAAAAAAAAAIM4kBAAAAAAAAAAA\n",
       "AAAAAHEmIQAAAAAAAAAAAAAAAIgzCQEAAAAAAAAAAAAAAECcSQgAAAAAAAAAAAAAAADiTEIAAAAA\n",
       "AAAAAAAAAAAQZxICAAAAAAAAAAAAAACAOJMQAAAAAAAAAAAAAAAAxJmEAAAAAAAAAAAAAAAAIM4k\n",
       "BAAAAAAAAAAAAAAAAHEmIQAAAAAAAAAAAAAAAIgzCQEAAAAAAAAAAAAAAECcSQgAAAAAAAAAAAAA\n",
       "AADiTEIAAAAAAAAAAAAAAAAQZxICAAAAAAAAAAAAAACAOJMQAAAAAAAAAAAAAAAAxJmEAAAAAAAA\n",
       "AAAAAAAAIM4kBAAAAAAAAAAAAAAAAHEmIQAAAAAAAAAAAAAAAIgzCQEAAAAAAAAAAAAAAECcSQgA\n",
       "AAAAAAAAAAAAAADiTEIAAAAAAAAAAAAAAAAQZxICAAAAAAAAAAAAAACAOJMQAAAAAAAAAAAAAAAA\n",
       "xJmEAAAAAAAAAAAAAAAAIM4kBAAAAAAAAAAAAAAAAHEmIQAAAAAAAAAAAAAAAIgzCQEAAAAAAAAA\n",
       "AAAAAECcSQgAAAAAAAAAAAAAAADiTEIAAAAAAAAAAAAAAAAQZxICAAAAAAAAAAAAAACAOJMQAAAA\n",
       "AAAAAAAAAAAAxJmEAAAAAAAAAAAAAAAAIM4kBAAAAAAAAAAAAAAAAHEmIQAAAAAAAAAAAAAAAIgz\n",
       "CQEAAAAAAAAAAAAAAECcSQgAAAAAAAAAAAAAAADiTEIAAAAAAAAAAAAAAAAQZxICAAAAAAAAAAAA\n",
       "AACAOJMQAAAAAAAAAAAAAAAAxJmEAAAAAAAAAAAAAAAAIM4kBAAAAAAAAAAAAAAAAHEmIQAAAAAA\n",
       "AAAAAAAAAIgzCQEAAAAAAAAAAAAAAECcSQgAAAAAAAAAAAAAAADiTEIAAAAAAAAAAAAAAAAQZxIC\n",
       "AAAAAAAAAAAAAACAOJMQAAAAAAAAAAAAAAAAxJmEAAAAAAAAAAAAAAAAIM4kBAAAAAAAAAAAAAAA\n",
       "AHEmIQAAAAAAAAAAAAAAAIgzCQEAAAAAAAAAAAAAAECcSQgAAAAAAAAAAAAAAADiTEIAAAAAAAAA\n",
       "AAAAAAAQZxICAAAAAAAAAAAAAACAOJMQAAAAAAAAAAAAAAAAxJmEAAAAAAAAAAAAAAAAIM4kBAAA\n",
       "AAAAAAAAAAAAAHEmIQAAAAAAAAAAAAAAAIgzCQEAAAAAAAAAAAAAAECcSQgAAAAAAAAAAAAAAADi\n",
       "TEIAAAAAAAAAAAAAAAAQZxICAAAAAAAAAAAAAACAOJMQAAAAAAAAAAAAAAAAxJmEAAAAAAAAAAAA\n",
       "AAAAIM4kBAAAAAAAAAAAAAAAAHEmIQAAAAAAAAAAAAAAAIgzCQEAAAAAAAAAAAAAAECcSQgAAAAA\n",
       "AAAAAAAAAADiTEIAAAAAAAAAAAAAAAAQZxICAAAAAAAAAAAAAACAOJMQAAAAAAAAAAAAAAAAxJmE\n",
       "AAAAAAAAAAAAAAAAIM4kBAAAAAAAAAAAAAAAAHEmIQAAAAAAAAAAAAAAAIgzCQEAAAAAAAAAAAAA\n",
       "AECcSQgAAAAAAAAAAAAAAADiTEIAAAAAAAAAAAAAAAAQZxICAAAAAAAAAAAAAACAOJMQAAAAAAAA\n",
       "AAAAAAAAxJmEAAAAAAAAAAAAAAAAIM4kBAAAAAAAAAAAAAAAAHEmIQAAAAAAAAAAAAAAAIgzCQEA\n",
       "AAAAAAAAAAAAAECcSQgAAAAAAAAAAAAAAADiTEIAAAAAAAAAAAAAAAAQZxICAAAAAAAAAAAAAACA\n",
       "OJMQAAAAAAAAAAAAAAAAxJmEAAAAAAAAAAAAAAAAIM4kBAAAAAAAAAAAAAAAAHEmIQAAAAAAAAAA\n",
       "AAAAAIgzCQEAAAAAAAAAAAAAAECcSQgAAAAAAAAAAAAAAADiTEIAAAAAAAAAAAAAAAAQZxICAAAA\n",
       "AAAAAAAAAACAOJMQAAAAAAAAAAAAAAAAxJmEAAAAAAAAAAAAAAAAIM4kBAAAAAAAAAAAAAAAAHEm\n",
       "IQAAAAAAAAAAAAAAAIgzCQEAAAAAAAAAAAAAAECcSQgAAAAAAAAAAAAAAADiTEIAAAAAAAAAAAAA\n",
       "AAAQZxICAAAAAAAAAAAAAACAOJMQAAAAAAAAAAAAAAAAxJmEAAAAAAAAAAAAAAAAIM4kBAAAAAAA\n",
       "AAAAAAAAAHEmIQAAAAAAAAAAAAAAAIgzCQEAAAAAAAAAAAAAAECcSQgAAAAAAAAAAAAAAADiTEIA\n",
       "AAAAAAAAAAAAAAAQZxICAAAAAAAAAAAAAACAOJMQAAAAAAAAAAAAAAAAxJmEAAAAAAAAAAAAAAAA\n",
       "IM4kBAAAAAAAAAAAAAAAAHEmIQAAAAAAAAAAAAAAAIgzCQEAAAAAAAAAAAAAAECcSQgAAAAAAAAA\n",
       "AAAAAADiTEIAAAAAAAAAAAAAAAAQZxICAAAAAAAAAAAAAACAOJMQAAAAAAAAAAAAAAAAxJmEAAAA\n",
       "AAAAAAAAAAAAIM4kBAAAAAAAAAAAAAAAAHEmIQAAAAAAAAAAAAAAAIgzCQEAAAAAAAAAAAAAAECc\n",
       "SQgAAAAAAAAAAAAAAADiTEIAAAAAAAAAAAAAAAAQZxICAAAAAAAAAAAAAACAOJMQAAAAAAAAAAAA\n",
       "AAAAxJmEAAAAAAAAAAAAAAAAIM4kBAAAAAAAAAAAAAAAAHEmIQAAAAAAAAAAAAAAAIgzCQEAAAAA\n",
       "AAAAAAAAAECcSQgAAAAAAAAAAAAAAADiTEIAAAAAAAAAAAAAAAAQZxICAAAAAAAAAAAAAACAOJMQ\n",
       "AAAAAAAAAAAAAAAAxJmEAAAAAAAAAAAAAAAAIM4kBAAAAAAAAAAAAAAAAHEmIQAAAAAAAAAAAAAA\n",
       "AIgzCQEAAAAAAAAAAAAAAECcSQgAAAAAAAAAAAAAAADiTEIAAAAAAAAAAAAAAAAQZxICAAAAAAAA\n",
       "AAAAAACAOJMQAAAAAAAAAAAAAAAAxJmEAAAAAAAAAAAAAAAAIM4kBAAAAAAAAAAAAAAAAHEmIQAA\n",
       "AAAAAAAAAAAAAIgzCQEAAAAAAAAAAAAAAECcSQgAAAAAAAAAAAAAAADiTEIAAAAAAAAAAAAAAAAQ\n",
       "ZxICAAAAAAAAAAAAAACAOJMQAAAAAAAAAAAAAAAAxJmEAAAAAAAAAAAAAAAAIM4kBAAAAAAAAAAA\n",
       "AAAAAHEmIQAAAAAAAAAAAAAAAIgzCQEAAAAAAAAAAAAAAECcSQgAAAAAAAAAAAAAAADiTEIAAAAA\n",
       "AAAAAAAAAAAQZxICAAAAAAAAAAAAAACAOJMQAAAAAAAAAAAAAAAAxJmEAAAAAAAAAAAAAAAAIM4k\n",
       "BAAAAAAAAAAAAAAAAHEmIQAAAAAAAAAAAAAAAIgzCQEAAAAAAAAAAAAAAECcSQgAAAAAAAAAAAAA\n",
       "AADiTEIAAAAAAAAAAAAAAAAQZxICAAAAAAAAAAAAAACAOJMQAAAAAAAAAAAAAAAAxJmEAAAAAAAA\n",
       "AAAAAAAAIM4kBAAAAAAAAAAAAAAAAHEmIQAAAAAAAAAAAAAAAIgzCQEAAAAAAAAAAAAAAECcSQgA\n",
       "AAAAAAAAAAAAAADiTEIAAAAAAAAAAAAAAAAQZxICAAAAAAAAAAAAAACAOJMQAAAAAAAAAAAAAAAA\n",
       "xJmEAAAAAAAAAAAAAAAAIM4kBAAAAAAAAAAAAAAAAHEmIQAAAAAAAAAAAAAAAIgzCQEAAAAAAAAA\n",
       "AAAAAECcSQgAAAAAAAAAAAAAAADiTEIAAAAAAAAAAAAAAAAQZxICAAAAAAAAAAAAAACAOJMQAAAA\n",
       "AAAAAAAAAAAAxJmEAAAAAAAAAAAAAAAAIM4kBAAAAAAAAAAAAAAAAHEmIQAAAAAAAAAAAAAAAIgz\n",
       "CQEAAAAAAAAAAAAAAECcSQgAAAAAAAAAAAAAAADiTEIAAAAAAAAAAAAAAAAQZxICAAAAAAAAAAAA\n",
       "AACAOJMQAAAAAAAAAAAAAAAAxJmEAAAAAAAAAAAAAAAAIM4kBAAAAAAAAAAAAAAAAHEmIQAAAAAA\n",
       "AAAAAAAAAIgzCQEAAAAAAAAAAAAAAECcSQgAAAAAAAAAAAAAAADiTEIAAAAAAAAAAAAAAAAQZxIC\n",
       "AAAAAAAAAAAAAACAOJMQAAAAAAAAAAAAAAAAxJmEAAAAAAAAAAAAAAAAIM4kBAAAAAAAAAAAAAAA\n",
       "AHEmIQAAAAAAAAAAAAAAAIgzCQEAAAAAAAAAAAAAAECcSQgAAAAAAAAAAAAAAADiTEIAAAAAAAAA\n",
       "AAAAAAAQZxICAAAAAAAAAAAAAACAOJMQAAAAAAAAAAAAAAAAxJmEAAAAAAAAAAAAAAAAIM4kBAAA\n",
       "AAAAAAAAAAAAAHEmIQAAAAAAAAAAAAAAAIgzCQEAAAAAAAAAAAAAAECcSQgAAAAAAAAAAAAAAADi\n",
       "TEIAAAAAAAAAAAAAAAAQZxICAAAAAAAAAAAAAACAOJMQAAAAAAAAAAAAAAAAxJmEAAAAAAAAAAAA\n",
       "AAAAIM4kBAAAAAAAAAAAAAAAAHEmIQAAAAAAAAAAAAAAAIgzCQEAAAAAAAAAAAAAAECcSQgAAAAA\n",
       "AAAAAAAAAC77dkACAAAAIOj/63YE+kOAOUkIAAAAAAAAAAAAAAAA5iQhAAAAAAAAAAAAAAAAmJOE\n",
       "AAAAAAAAAAAAAAAAYE4SAgAAAAAAAAAAAAAAgDlJCAAAAAAAAAAAAAAAAOYkIQAAAAAAAAAAAAAA\n",
       "AJiThAAAAAAAAAAAAAAAAGBOEgIAAAAAAAAAAAAAAIA5SQgAAAAAAAAAAAAAAADmJCEAAAAAAAAA\n",
       "AAAAAACYk4QAAAAAAAAAAAAAAABgThICAAAAAAAAAAAAAACAOUkIAAAAAAAAAAAAAAAA5iQhAAAA\n",
       "AAAAAAAAAAAAmJOEAAAAAAAAAAAAAAAAYE4SAgAAAAAAAAAAAAAAgDlJCAAAAAAAAAAAAAAAAOYk\n",
       "IQAAAAAAAAAAAAAAAJiThAAAAAAAAAAAAAAAAGBOEgIAAAAAAAAAAAAAAIA5SQgAAAAAAAAAAAAA\n",
       "AADmJCEAAAAAAAAAAAAAAACYk4QAAAAAAAAAAAAAAABgThICAAAAAAAAAAAAAACAOUkIAAAAAAAA\n",
       "AAAAAAAA5iQhAAAAAAAAAAAAAAAAmJOEAAAAAAAAAAAAAAAAYE4SAgAAAAAAAAAAAAAAgDlJCAAA\n",
       "AAAAAAAAAAAAAOYkIQAAAAAAAAAAAAAAAJiThAAAAAAAAAAAAAAAAGBOEgIAAAAAAAAAAAAAAIA5\n",
       "SQgAAAAAAAAAAAAAAADmJCEAAAAAAAAAAAAAAACYk4QAAAAAAAAAAAAAAABgThICAAAAAAAAAAAA\n",
       "AACAOUkIAAAAAAAAAAAAAAAA5iQhAAAAAAAAAAAAAAAAmJOEAAAAAAAAAAAAAAAAYE4SAgAAAAAA\n",
       "AAAAAAAAgDlJCAAAAAAAAAAAAAAAAOYkIQAAAAAAAAAAAAAAAJiThAAAAAAAAAAAAAAAAGBOEgIA\n",
       "AAAAAAAAAAAAAIA5SQgAAAAAAAAAAAAAAADmJCEAAAAAAAAAAAAAAACYk4QAAAAAAAAAAAAAAABg\n",
       "ThICAAAAAAAAAAAAAACAOUkIAAAAAAAAAAAAAAAA5iQhAAAAAAAAAAAAAAAAmJOEAAAAAAAAAAAA\n",
       "AAAAYE4SAgAAAAAAAAAAAAAAgDlJCAAAAAAAAAAAAAAAAOYkIQAAAAAAAAAAAAAAAJiThAAAAAAA\n",
       "AAAAAAAAAGBOEgIAAAAAAAAAAAAAAIA5SQgAAAAAAAAAAAAAAADmJCEAAAAAAAAAAAAAAACYk4QA\n",
       "AAAAAAAAAAAAAABgThICAAAAAAAAAAAAAACAOUkIAAAAAAAAAAAAAAAA5iQhAAAAAAAAAAAAAAAA\n",
       "mJOEAAAAAAAAAAAAAAAAYE4SAgAAAAAAAAAAAAAAgDlJCAAAAAAAAAAAAAAAAOYkIQAAAAAAAAAA\n",
       "AAAAAJiThAAAAAAAAAAAAAAAAGBOEgIAAAAAAAAAAAAAAIA5SQgAAAAAAAAAAAAAAADmJCEAAAAA\n",
       "AAAAAAAAAACYk4QAAAAAAAAAAAAAAABgThICAAAAAAAAAAAAAACAOUkIAAAAAAAAAAAAAAAA5iQh\n",
       "AAAAAAAAAAAAAAAAmJOEAAAAAAAAAAAAAAAAYE4SAgAAAAAAAAAAAAAAgDlJCAAAAAAAAAAAAAAA\n",
       "AOYkIQAAAAAAAAAAAAAAAJiThAAAAAAAAAAAAAAAAGBOEgIAAAAAAAAAAAAAAIA5SQgAAAAAAAAA\n",
       "AAAAAADmJCEAAAAAAAAAAAAAAACYk4QAAAAAAAAAAAAAAABgThICAAAAAAAAAAAAAACAOUkIAAAA\n",
       "AAAAAAAAAAAA5iQhAAAAAAAAAAAAAAAAmJOEAAAAAAAAAAAAAAAAYE4SAgAAAAAAAAAAAAAAgDlJ\n",
       "CAAAAAAAAAAAAAAAAOYkIQAAAAAAAAAAAAAAAJiThAAAAAAAAAAAAAAAAGBOEgIAAAAAAAAAAAAA\n",
       "AIA5SQgAAAAAAAAAAAAAAADmJCEAAAAAAAAAAAAAAACYk4QAAAAAAAAAAAAAAABgThICAAAAAAAA\n",
       "AAAAAACAOUkIAAAAAAAAAAAAAAAA5iQhAAAAAAAAAAAAAAAAmJOEAAAAAAAAAAAAAAAAYE4SAgAA\n",
       "AAAAAAAAAAAAgDlJCAAAAAAAAAAAAAAAAOYkIQAAAAAAAAAAAAAAAJiThAAAAAAAAAAAAAAAAGBO\n",
       "EgIAAAAAAAAAAAAAAIA5SQgAAAAAAAAAAAAAAADmJCEAAAAAAAAAAAAAAACYk4QAAAAAAAAAAAAA\n",
       "AABgThICAAAAAAAAAAAAAACAOUkIAAAAAAAAAAAAAAAA5iQhAAAAAAAAAAAAAAAAmJOEAAAAAAAA\n",
       "AAAAAAAAYE4SAgAAAAAAAAAAAAAAgDlJCAAAAAAAAAAAAAAAAOYkIQAAAAAAAAAAAAAAAJiThAAA\n",
       "AAAAAAAAAAAAAGBOEgIAAAAAAAAAAAAAAIA5SQgAAAAAAAAAAAAAAADmJCEAAAAAAAAAAAAAAACY\n",
       "k4QAAAAAAAAAAAAAAABgThICAAAAAAAAAAAAAACAOUkIAAAAAAAAAAAAAAAA5iQhAAAAAAAAAAAA\n",
       "AAAAmJOEAAAAAAAAAAAAAAAAYE4SAgAAAAAAAAAAAAAAgDlJCAAAAAAAAAAAAAAAAOYkIQAAAAAA\n",
       "AAAAAAAAAJiThAAAAAAAAAAAAAAAAGBOEgIAAAAAAAAAAAAAAIA5SQgAAAAAAAAAAAAAAADmJCEA\n",
       "AAAAAAAAAAAAAACYk4QAAAAAAAAAAAAAAABgThICAAAAAAAAAAAAAACAOUkIAAAAAAAAAAAAAAAA\n",
       "5iQhAAAAAAAAAAAAAAAAmJOEAAAAAAAAAAAAAAAAYE4SAgAAAAAAAAAAAAAAgDlJCAAAAAAAAAAA\n",
       "AAAAAOYkIQAAAAAAAAAAAAAAAJiThAAAAAAAAAAAAAAAAGBOEgIAAAAAAAAAAAAAAIA5SQgAAAAA\n",
       "AAAAAAAAAADmJCEAAAAAAAAAAAAAAACYk4QAAAAAAAAAAAAAAABgThICAAAAAAAAAAAAAACAOUkI\n",
       "AAAAAAAAAAAAAAAA5iQhAAAAAAAAAAAAAAAAmJOEAAAAAAAAAAAAAAAAYE4SAgAAAAAAAAAAAAAA\n",
       "gDlJCAAAAAAAAAAAAAAAAOYkIQAAAAAAAAAAAAAAAJiThAAAAAAAAAAAAAAAAGBOEgIAAAAAAAAA\n",
       "AAAAAIA5SQgAAAAAAAAAAAAAAADmJCEAAAAAAAAAAAAAAACYk4QAAAAAAAAAAAAAAABgThICAAAA\n",
       "AAAAAAAAAACAOUkIAAAAAAAAAAAAAAAA5iQhAAAAAAAAAAAAAAAAmJOEAAAAAAAAAAAAAAAAYE4S\n",
       "AgAAAAAAAAAAAAAAgDlJCAAAAAAAAAAAAAAAAOYkIQAAAAAAAAAAAAAAAJiThAAAAAAAAAAAAAAA\n",
       "AGBOEgIAAAAAAAAAAAAAAIA5SQgAAAAAAAAAAAAAAADmJCEAAAAAAAAAAAAAAACYk4QAAAAAAAAA\n",
       "AAAAAABgThICAAAAAAAAAAAAAACAOUkIAAAAAAAAAAAAAAAA5iQhAAAAAAAAAAAAAAAAmJOEAAAA\n",
       "AAAAAAAAAAAAYE4SAgAAAAAAAAAAAAAAgDlJCAAAAAAAAAAAAAAAAOYkIQAAAAAAAAAAAAAAAJiT\n",
       "hAAAAAAAAAAAAAAAAGBOEgIAAAAAAAAAAAAAAIA5SQgAAAAAAAAAAAAAAADmJCEAAAAAAAAAAAAA\n",
       "AACYk4QAAAAAAAAAAAAAAABgThICAAAAAAAAAAAAAACAOUkIAAAAAAAAAAAAAAAA5iQhAAAAAAAA\n",
       "AAAAAAAAmJOEAAAAAAAAAAAAAAAAYE4SAgAAAAAAAAAAAAAAgDlJCAAAAAAAAAAAAAAAAOYkIQAA\n",
       "AAAAAAAAAAAAAJiThAAAAAAAAAAAAAAAAGBOEgIAAAAAAAAAAAAAAIA5SQgAAAAAAAAAAAAAAADm\n",
       "JCEAAAAAAAAAAAAAAACYk4QAAAAAAAAAAAAAAABgThICAAAAAAAAAAAAAACAOUkIAAAAAAAAAAAA\n",
       "AAAA5iQhAAAAAAAAAAAAAAAAmJOEAAAAAAAAAAAAAAAAYE4SAgAAAAAAAAAAAAAAgDlJCAAAAAAA\n",
       "AAAAAAAAAOYkIQAAAAAAAAAAAAAAAJiThAAAAAAAAAAAAAAAAGBOEgIAAAAAAAAAAAAAAIA5SQgA\n",
       "AAAAAAAAAAAAAADmJCEAAAAAAAAAAAAAAACYk4QAAAAAAAAAAAAAAABgThICAAAAAAAAAAAAAACA\n",
       "OUkIAAAAAAAAAAAAAAAA5iQhAAAAAAAAAAAAAAAAmJOEAAAAAAAAAAAAAAAAYE4SAgAAAAAAAAAA\n",
       "AAAAgDlJCAAAAAAAAAAAAAAAAOYkIQAAAAAAAAAAAAAAAJiThAAAAAAAAAAAAAAAAGBOEgIAAAAA\n",
       "AAAAAAAAAIA5SQgAAAAAAAAAAAAAAADmJCEAAAAAAAAAAAAAAACYk4QAAAAAAAAAAAAAAABgThIC\n",
       "AAAAAAAAAAAAAACAOUkIAAAAAAAAAAAAAFkMIXMAACAASURBVAAA5iQhAAAAAAAAAAAAAAAAmJOE\n",
       "AAAAAAAAAAAAAAAAYE4SAgAAAAAAAAAAAAAAgDlJCAAAAAAAAAAAAAAAAOYkIQAAAAAAAAAAAAAA\n",
       "AJiThAAAAAAAAAAAAAAAAGBOEgIAAAAAAAAAAAAAAIA5SQgAAAAAAAAAAAAAAADmJCEAAAAAAAAA\n",
       "AAAAAACYk4QAAAAAAAAAAAAAAABgThICAAAAAAAAAAAAAACAOUkIAAAAAAAAAAAAAAAA5iQhAAAA\n",
       "AAAAAAAAAAAAmJOEAAAAAAAAAAAAAAAAYE4SAgAAAAAAAAAAAAAAgDlJCAAAAAAAAAAAAAAAAOYk\n",
       "IQAAAAAAAAAAAAAAAJiThAAAAAAAAAAAAAAAAGBOEgIAAAAAAAAAAAAAAIA5SQgAAAAAAAAAAAAA\n",
       "AADmJCEAAAAAAAAAAAAAAACYk4QAAAAAAAAAAAAAAABgThICAAAAAAAAAAAAAACAOUkIAAAAAAAA\n",
       "AAAAAAAA5iQhAAAAAAAAAAAAAAAAmJOEAAAAAAAAAAAAAAAAYE4SAgAAAAAAAAAAAAAAgDlJCAAA\n",
       "AAAAAAAAAAAAAOYkIQAAAAAAAAAAAAAAAJiThAAAAAAAAAAAAAAAAGBOEgIAAAAAAAAAAAAAAIA5\n",
       "SQgAAAAAAAAAAAAAAADmJCEAAAAAAAAAAAAAAACYk4QAAAAAAAAAAAAAAABgThICAAAAAAAAAAAA\n",
       "AACAOUkIAAAAAAAAAAAAAAAA5iQhAAAAAAAAAAAAAAAAmJOEAAAAAAAAAAAAAAAAYE4SAgAAAAAA\n",
       "AAAAAAAAgDlJCAAAAAAAAAAAAAAAAOYkIQAAAAAAAAAAAAAAAJiThAAAAAAAAAAAAAAAAGBOEgIA\n",
       "AAAAAAAAAAAAAIA5SQgAAAAAAAAAAAAAAADmJCEAAAAAAAAAAAAAAACYk4QAAAAAAAAAAAAAAABg\n",
       "ThICAAAAAAAAAAAAAACAOUkIAAAAAAAAAAAAAAAA5iQhAAAAAAAAAAAAAAAAmJOEAAAAAAAAAAAA\n",
       "AAAAYE4SAgAAAAAAAAAAAAAAgDlJCAAAAAAAAAAAAAAAAOYkIQAAAAAAAAAAAAAAAJiThAAAAAAA\n",
       "AAAAAAAAAGBOEgIAAAAAAAAAAAAAAIA5SQgAAAAAAAAAAAAAAADmJCEAAAAAAAAAAAAAAACYk4QA\n",
       "AAAAAAAAAAAAAABgThICAAAAAAAAAAAAAACAOUkIAAAAAAAAAAAAAAAA5iQhAAAAAAAAAAAAAAAA\n",
       "mJOEAAAAAAAAAAAAAAAAYE4SAgAAAAAAAAAAAAAAgDlJCAAAAAAAAAAAAAAAAOYkIQAAAAAAAAAA\n",
       "AAAAAJiThAAAAAAAAAAAAAAAAGBOEgIAAAAAAAAAAAAAAIA5SQgAAAAAAAAAAAAAAADmJCEAAAAA\n",
       "AAAAAAAAAACYk4QAAAAAAAAAAAAAAABgThICAAAAAAAAAAAAAACAOUkIAAAAAAAAAAAAAAAA5iQh\n",
       "AAAAAAAAAAAAAAAAmJOEAAAAAAAAAAAAAAAAYE4SAgAAAAAAAAAAAAAAgDlJCAAAAAAAAAAAAAAA\n",
       "AOYkIQAAAAAAAAAAAAAAAJiThAAAAAAAAAAAAAAAAGBOEgIAAAAAAAAAAAAAAIA5SQgAAAAAAAAA\n",
       "AAAAAADmJCEAAAAAAAAAAAAAAACYk4QAAAAAAAAAAAAAAABgThICAAAAAAAAAAAAAACAOUkIAAAA\n",
       "AAAAAAAAAAAA5iQhAAAAAAAAAAAAAAAAmJOEAAAAAAAAAAAAAAAAYE4SAgAAAAAAAAAAAAAAgDlJ\n",
       "CAAAAAAAAAAAAAAAAOYkIQAAAAAAAAAAAAAAAJiThAAAAAAAAAAAAAAAAGBOEgIAAAAAAAAAAAAA\n",
       "AIA5SQgAAAAAAAAAAAAAAADmJCEAAAAAAAAAAAAAAACYk4QAAAAAAAAAAAAAAABgThICAAAAAAAA\n",
       "AAAAAACAOUkIAAAAAAAAAAAAAAAA5iQhAAAAAAAAAAAAAAAAmJOEAAAAAAAAAAAAAAAAiH07IAEA\n",
       "AAAQ9P91OwL9IXOSEAAAAAAAAAAAAAAAAMxJQgAAAAAAAAAAAAAAADAnCQEAAAAAAAAAAAAAAMCc\n",
       "JAQAAAAAAAAAAAAAAABzkhAAAAAAAAAAAAAAAADMSUIAAAAAAAAAAAAAAAAwJwkBAAAAAAAAAAAA\n",
       "AADAnCQEAAAAAAAAAAAAAAAAc5IQAAAAAAAAAAAAAAAAzElCAAAAAAAAAAAAAAAAMCcJAQAAAAAA\n",
       "AAAAAAAAwJwkBAAAAAAAAAAAAAAAAHOSEAAAAAAAAAAAAAAAAMxJQgAAAAAAAAAAAAAAADAnCQEA\n",
       "AAAAAAAAAAAAAMCcJAQAAAAAAAAAAAAAAABzkhAAAAAAAAAAAAAAAADMSUIAAAAAAAAAAAAAAAAw\n",
       "JwkBAAAAAAAAAAAAAADAnCQEAAAAAAAAAAAAAAAAc5IQAAAAAAAAAAAAAAAAzElCAAAAAAAAAAAA\n",
       "AAAAMCcJAQAAAAAAAAAAAAAAwJwkBAAAAAAAAAAAAAAAAHOSEAAAAAAAAAAAAAAAAMxJQgAAAAAA\n",
       "AAAAAAAAADAnCQEAAAAAAAAAAAAAAMCcJAQAAAAAAAAAAAAAAABzkhAAAAAAAAAAAAAAAADMSUIA\n",
       "AAAAAAAAAAAAAAAwJwkBAAAAAAAAAAAAAADAnCQEAAAAAAAAAAAAAAAAc5IQAAAAAAAAAAAAAAAA\n",
       "zElCAAAAAAAAAAAAAAAAMCcJAQAAAAAAAAAAAAAAwJwkBAAAAAAAAAAAAAAAAHOSEAAAAAAAAAAA\n",
       "AAAAAMxJQgAAAAAAAAAAAAAAADAnCQEAAAAAAAAAAAAAAMCcJAQAAAAAAAAAAAAAAABzkhAAAAAA\n",
       "AAAAAAAAAADMSUIAAAAAAAAAAAAAAAAwJwkBAAAAAAAAAAAAAADAnCQEAAAAAAAAAAAAAAAAc5IQ\n",
       "AAAAAAAAAAAAAAAAzElCAAAAAAAAAAAAAAAAMCcJAQAAAAAAAAAAAAAAwJwkBAAAAAAAAAAAAAAA\n",
       "AHOSEAAAAAAAAAAAAAAAAMxJQgAAAAAAAAAAAAAAADAnCQEAAAAAAAAAAAAAAMCcJAQAAAAAAAAA\n",
       "AAAAAABzkhAAAAAAAAAAAAAAAADMSUIAAAAAAAAAAAAAAAAwJwkBAAAAAAAAAAAAAADAnCQEAAAA\n",
       "AAAAAAAAAAAAc5IQAAAAAAAAAAAAAAAAzElCAAAAAAAAAAAAAAAAMCcJAQAAAAAAAAAAAAAAwJwk\n",
       "BAAAAAAAAAAAAAAAAHOSEAAAAAAAAAAAAAAAAMxJQgAAAAAAAAAAAAAAADAnCQEAAAAAAAAAAAAA\n",
       "AMCcJAQAAAAAAAAAAAAAAABzkhAAAAAAAAAAAAAAAADMSUIAAAAAAAAAAAAAAAAwJwkBAAAAAAAA\n",
       "AAAAAADAnCQEAAAAAAAAAAAAAAAAc5IQAAAAAAAAAAAAAAAAzElCAAAAAAAAAAAAAAAAMCcJAQAA\n",
       "AAAAAAAAAAAAwJwkBAAAAAAAAAAAAAAAAHOSEAAAAAAAAAAAAAAAAMxJQgAAAAAAAAAAAAAAADAn\n",
       "CQEAAAAAAAAAAAAAAMCcJAQAAAAAAAAAAAAAAABzkhAAAAAAAAAAAAAAAADMSUIAAAAAAAAAAAAA\n",
       "AAAwJwkBAAAAAAAAAAAAAADAnCQEAAAAAAAAAAAAAAAAc5IQAAAAAAAAAAAAAAAAzElCAAAAAAAA\n",
       "AAAAAAAAMCcJAQAAAAAAAAAAAAAAwJwkBAAAAAAAAAAAAAAAAHOSEAAAAAAAAAAAAAAAAMxJQgAA\n",
       "AAAAAAAAAAAAADAnCQEAAAAAAAAAAAAAAMCcJAQAAAAAAAAAAAAAAABzkhAAAAAAAAAAAAAAAADM\n",
       "SUIAAAAAAAAAAAAAAAAwJwkBAAAAAAAAAAAAAADAnCQEAAAAAAAAAAAAAAAAc5IQAAAAAAAAAAAA\n",
       "AAAAzElCAAAAAAAAAAAAAAAAMCcJAQAAAAAAAAAAAAAAwJwkBAAAAAAAAAAAAAAAAHOSEAAAAAAA\n",
       "AAAAAAAAAMxJQgAAAAAAAAAAAAAAADAnCQEAAAAAAAAAAAAAAMCcJAQAAAAAAAAAAAAAAABzkhAA\n",
       "AAAAAAAAAAAAAADMSUIAAAAAAAAAAAAAAAAwJwkBAAAAAAAAAAAAAADAnCQEAAAAAAAAAAAAAAAA\n",
       "c5IQAAAAAAAAAAAAAAAAzElCAAAAAAAAAAAAAAAAMCcJAQAAAAAAAAAAAAAAwJwkBAAAAAAAAAAA\n",
       "AAAAAHOSEAAAAAAAAAAAAAAAAMxJQgAAAAAAAAAAAAAAADAnCQEAAAAAAAAAAAAAAMCcJAQAAAAA\n",
       "AAAAAAAAAABzkhAAAAAAAAAAAAAAAADMSUIAAAAAAAAAAAAAAAAwJwkBAAAAAAAAAAAAAADAnCQE\n",
       "AAAAAAAAAAAAAAAAc5IQAAAAAAAAAAAAAAAAzElCAAAAAAAAAAAAAAAAMCcJAQAAAAAAAAAAAAAA\n",
       "wJwkBAAAAAAAAAAAAAAAAHOSEAAAAAAAAAAAAAAAAMxJQgAAAAAAAAAAAAAAADAnCQEAAAAAAAAA\n",
       "AAAAAMCcJAQAAAAAAAAAAAAAAABzkhAAAAAAAAAAAAAAAADMSUIAAAAAAAAAAAAAAAAwJwkBAAAA\n",
       "AAAAAAAAAADAnCQEAAAAAAAAAAAAAAAAc5IQAAAAAAAAAAAAAAAAzElCAAAAAAAAAAAAAAAAMCcJ\n",
       "AQAAAAAAAAAAAAAAwJwkBAAAAAAAAAAAAAAAAHOSEAAAAAAAAAAAAAAAAMxJQgAAAAAAAAAAAAAA\n",
       "ADAnCQEAAAAAAAAAAAAAAMCcJAQAAAAAAAAAAAAAAABzkhAAAAAAAAAAAAAAAADMSUIAAAAAAAAA\n",
       "AAAAAAAwJwkBAAAAAAAAAAAAAADAnCQEAAAAAAAAAAAAAAAAc5IQAAAAAAAAAAAAAAAAzElCAAAA\n",
       "AAAAAAAAAAAAMCcJAQAAAAAAAAAAAAAAwJwkBAAAAAAAAAAAAAAAAHOSEAAAAAAAAAAAAAAAAMxJ\n",
       "QgAAAAAAAAAAAAAAADAnCQEAAAAAAAAAAAAAAMCcJAQAAAAAAAAAAAAAAABzkhAAAAAAAAAAAAAA\n",
       "AADMSUIAAAAAAAAAAAAAAAAwJwkBAAAAAAAAAAAAAADAnCQEAAAAAAAAAAAAAAAAc5IQAAAAAAAA\n",
       "AAAAAAAAzElCAAAAAAAAAAAAAAAAMCcJAQAAAAAAAAAAAAAAwJwkBAAAAAAAAAAAAAAAAHOSEAAA\n",
       "AAAAAAAAAAAAAMxJQgAAAAAAAAAAAAAAADAnCQEAAAAAAAAAAAAAAMCcJAQAAAAAAAAAAAAAAABz\n",
       "khAAAAAAAAAAAAAAAADMSUIAAAAAAAAAAAAAAAAwJwkBAAAAAAAAAAAAAADAnCQEAAAAAAAAAAAA\n",
       "AAAAc5IQAAAAAAAAAAAAAAAAzElCAAAAAAAAAAAAAAAAMCcJAQAAAAAAAAAAAAAAwJwkBAAAAAAA\n",
       "AAAAAAAAAHOSEAAAAAAAAAAAAAAAAMxJQgAAAAAAAAAAAAAAADAnCQEAAAAAAAAAAAAAAMCcJAQA\n",
       "AAAAAAAAAAAAAABzkhAAAAAAAAAAAAAAAADMSUIAAAAAAAAAAAAAAAAwJwkBAAAAAAAAAAAAAADA\n",
       "nCQEAAAAAAAAAAAAAAAAc5IQAAAAAAAAAAAAAAAAzElCAAAAAAAAAAAAAAAAMCcJAQAAAAAAAAAA\n",
       "AAAAwJwkBAAAAAAAAAAAAAAAAHOSEAAAAAAAAAAAAAAAAMxJQgAAAAAAAAAAAAAAADAnCQEAAAAA\n",
       "AAAAAAAAAMCcJAQAAAAAAAAAAAAAAABzkhAAAAAAAAAAAAAAAADMSUIAAAAAAAAAAAAAAAAwJwkB\n",
       "AAAAAAAAAAAAAADAnCQEAAAAAAAAAAAAAAAAc5IQAAAAAAAAAAAAAAAAzElCAAAAAAAAAAAAAAAA\n",
       "MCcJAQAAAAAAAAAAAAAAwJwkBAAAAAAAAAAAAAAAAHOSEAAAAAAAAAAAAAAAAMxJQgAAAAAAAAAA\n",
       "AAAAADAnCQEAAAAAAAAAAAAAAMCcJAQAAAAAAAAAAAAAAABzkhAAAAAAAAAAAAAAAADMSUIAAAAA\n",
       "AAAAAAAAAAAwJwkBAAAAAAAAAAAAAADAnCQEAAAAAAAAAAAAAAAAc5IQAAAAAAAAAAAAAAAAzElC\n",
       "AAAAAAAAAAAAAAAAMCcJAQAAAAAAAAAAAAAAwJwkBAAAAAAAAAAAAAAAAHOSEAAAAAAAAAAAAAAA\n",
       "AMxJQgAAAAAAAAAAAAAAADAnCQEAAAAAAAAAAAAAAMCcJAQAAAAAAAAAAAAAAABzkhAAAAAAAAAA\n",
       "AAAAAADMSUIAAAAAAAAAAAAAAAAwJwkBAAAAAAAAAAAAAADAnCQEAAAAAAAAAAAAAAAAc5IQAAAA\n",
       "AAAAAAAAAAAAzElCAAAAAAAAAAAAAAAAMCcJAQAAAAAAAAAAAAAAwJwkBAAAAAAAAAAAAAAAAHOS\n",
       "EAAAAAAAAAAAAAAAAMxJQgAAAAAAAAAAAAAAADAnCQEAAAAAAAAAAAAAAMCcJAQAAAAAAAAAAAAA\n",
       "AABzkhAAAAAAAAAAAAAAAADMSUIAAAAAAAAAAAAAAAAwJwkBAAAAAAAAAAAAAADAnCQEAAAAAAAA\n",
       "AAAAAAAAc5IQAAAAAAAAAAAAAAAAzElCAAAAAAAAAAAAAAAAMCcJAQAAAAAAAAAAAAAAwJwkBAAA\n",
       "AAAAAAAAAAAAAHOSEAAAAAAAAAAAAAAAAMxJQgAAAAAAAAAAAAAAADAnCQEAAAAAAAAAAAAAAMCc\n",
       "JAQAAAAAAAAAAAAAAABzkhAAAAAAAAAAAAAAAADMSUIAAAAAAAAAAAAAAAAwJwkBAAAAAAAAAAAA\n",
       "AADAnCQEAAAAAAAAAAAAAAAAc5IQAAAAAAAAAAAAAAAAzElCAAAAAAAAAAAAAAAAMCcJAQAAAAAA\n",
       "AAAAAAAAwJwkBAAAAAAAAAAAAAAAAHOSEAAAAAAAAAAAAAAAAMxJQgAAAAAAAAAAAAAAADAnCQEA\n",
       "AAAAAAAAAAAAAMCcJAQAAAAAAAAAAAAAAABzkhAAAAAAAAAAAAAAAADMSUIAAAAAAAAAAAAAAAAw\n",
       "JwkBAAAAAAAAAAAAAADAnCQEAAAAAAAAAAAAAAAAc5IQAAAAAAAAAAAAAAAAzElCAAAAAAAAAAAA\n",
       "AAAAMCcJAQAAAAAAAAAAAAAAwJwkBAAAAAAAAAAAAAAAAHOSEAAAAAAAAAAAAAAAAMxJQgAAAAAA\n",
       "AAAAAAAAADAnCQEAAAAAAAAAAAAAAMCcJAQAAAAAAAAAAAAAAABzkhAAAAAAAAAAAAAAAADMSUIA\n",
       "AAAAAAAAAAAAAAAwJwkBAAAAAAAAAAAAAADAnCQEAAAAAAAAAAAAAAAAc5IQAAAAAAAAAAAAAAAA\n",
       "zElCAAAAAAAAAAAAAAAAMCcJAQAAAAAAAAAAAAAAwJwkBAAAAAAAAAAAAAAAAHOSEAAAAAAAAAAA\n",
       "AAAAAMxJQgAAAAAAAAAAAAAAADAnCQEAAAAAAAAAAAAAAMCcJAQAAAAAAAAAAAAAAABzkhAAAAAA\n",
       "AAAAAAAAAADMSUIAAAAAAAAAAAAAAAAwJwkBAAAAAAAAAAAAAADAnCQEAAAAAAAAAAAAAAAAc5IQ\n",
       "AAAAAAAAAAAAAAAAzElCAAAAAAAAAAAAAAAAMCcJAQAAAAAAAAAAAAAAwJwkBAAAAAAAAAAAAAAA\n",
       "AHOSEAAAAAAAAAAAAAAAAMxJQgAAAAAAAAAAAAAAADAnCQEAAAAAAAAAAAAAAMCcJAQAAAAAAAAA\n",
       "AAAAAABzkhAAAAAAAAAAAAAAAADMSUIAAAAAAAAAAAAAAAAwJwkBAAAAAAAAAAAAAADAnCQEAAAA\n",
       "AAAAAAAAAAAAc5IQAAAAAAAAAAAAAAAAzElCAAAAAAAAAAAAAAAAMCcJAQAAAAAAAAAAAAAAwJwk\n",
       "BAAAAAAAAAAAAAAAAHOSEAAAAAAAAAAAAAAAAMxJQgAAAAAAAAAAAAAAADAnCQEAAAAAAAAAAAAA\n",
       "AMCcJAQAAAAAAAAAAAAAAABzkhAAAAAAAAAAAAAAAADMSUIAAAAAAAAAAAAAAAAwJwkBAAAAAAAA\n",
       "AAAAAADAnCQEAAAAAAAAAAAAAAAAc5IQAAAAAAAAAAAAAAAAzElCAAAAAAAAAAAAAAAAMCcJAQAA\n",
       "AAAAAAAAAAAAwJwkBAAAAAAAAAAAAAAAAHOSEAAAAAAAAAAAAAAAAMxJQgAAAAAAAAAAAAAAADAn\n",
       "CQEAAAAAAAAAAAAAAMCcJAQAAAAAAAAAAAAAAABzkhAAAAAAAAAAAAAAAADMSUIAAAAAAAAAAAAA\n",
       "AAAwJwkBAAAAAAAAAAAAAADAnCQEAAAAAAAAAAAAAAAAc5IQAAAAAAAAAAAAAAAAzElCAAAAAAAA\n",
       "AAAAAAAAMCcJAQAAAAAAAAAAAAAAwJwkBAAAAAAAAAAAAAAAAHOSEAAAAAAAAAAAAAAAAMxJQgAA\n",
       "AAAAAAAAAAAAADAnCQEAAAAAAAAAAAAAAMCcJBT7dkACAAAAIOj/63YE+kMAAAAAAAAAAAAAAACY\n",
       "k4QAAAAAAAAAAAAAAABgThICAAAAAAAAAAAAAACAOUkIAAAAAAAAAAAAAAAA5iQhAAAAAAAAAAAA\n",
       "AAAAmJOEAAAAAAAAAAAAAAAAYE4SAgAAAAAAAAAAAAAAgDlJCAAAAAAAAAAAAAAAAOYkIQAAAAAA\n",
       "AAAAAAAAAJiThAAAAAAAAAAAAAAAAGBOEgIAAAAAAAAAAAAAAIA5SQgAAAAAAAAAAAAAAADmJCEA\n",
       "AAAAAAAAAAAAAACYk4QAAAAAAAAAAAAAAABgThICAAAAAAAAAAAAAACAOUkIAAAAAAAAAAAAAAAA\n",
       "5iQhAAAAAAAAAAAAAAAAmJOEAAAAAAAAAAAAAAAAYE4SAgAAAAAAAAAAAAAAgDlJCAAAAAAAAAAA\n",
       "AAAAAOYkIQAAAAAAAAAAAAAAAJiThAAAAAAAAAAAAAAAAGBOEgIAAAAAAAAAAAAAAIA5SQgAAAAA\n",
       "AAAAAAAAAADmJCEAAAAAAAAAAAAAAACYk4QAAAAAAAAAAAAAAABgThICAAAAAAAAAAAAAACAOUkI\n",
       "AAAAAAAAAAAAAAAA5iQhAAAAAAAAAAAAAAAAmJOEAAAAAAAAAAAAAAAAYE4SAgAAAAAAAAAAAAAA\n",
       "gDlJCAAAAAAAAAAAAAAAAOYkIQAAAAAAAAAAAAAAAJiThAAAAAAAAAAAAAAAAGBOEgIAAAAAAAAA\n",
       "AAAAAIA5SQgAAAAAAAAAAAAAAADmJCEAAAAAAAAAAAAAAACYk4QAAAAAAAAAAAAAAABgThICAAAA\n",
       "AAAAAAAAAACAOUkIAAAAAAAAAAAAAAAA5iQhAAAAAAAAAAAAAAAAmJOEAAAAAAAAAAAAAAAAYE4S\n",
       "AgAAAAAAAAAAAAAAgDlJCAAAAAAAAAAAAAAAAOYkIQAAAAAAAAAAAAAAAJiThAAAAAAAAAAAAAAA\n",
       "AGBOEgIAAAAAAAAAAAAAAIA5SQgAAAAAAAAAAAAAAADmJCEAAAAAAAAAAAAAAACYk4QAAAAAAAAA\n",
       "AAAAAABgThICAAAAAAAAAAAAAACAOUkIAAAAAAAAAAAAAAAA5iQhAAAAAAAAAAAAAAAAmJOEAAAA\n",
       "AAAAAAAAAAAAYE4SAgAAAAAAAAAAAAAAgDlJCAAAAAAAAAAAAAAAAOYkIQAAAAAAAAAAAAAAAJiT\n",
       "hAAAAAAAAAAAAAAAAGBOEgIAAAAAAAAAAAAAAIA5SQgAAAAAAAAAAAAAAADmJCEAAAAAAAAAAAAA\n",
       "AACYk4QAAAAAAAAAAAAAAABgThICAAAAAAAAAAAAAACAOUkIAAAAAAAAAAAAAAAA5iQhAAAAAAAA\n",
       "AAAAAAAAmJOEAAAAAAAAAAAAAAAAYE4SAgAAAAAAAAAAAAAAgDlJCAAAAAAAAAAAAAAAAOYkIQAA\n",
       "AAAAAAAAAAAAAJiThAAAAAAAAAAAAAAAAGBOEgIAAAAAAAAAAAAAAIA5SQgAAAAAAAAAAAAAAADm\n",
       "JCEAAAAAAAAAAAAAAACYk4QAAAAAAAAAAAAAAABgThICAAAAAAAAAAAAAACAOUkIAAAAAAAAAAAA\n",
       "AAAA5iQhAAAAAAAAAAAAAAAAmJOEAAAAAAAAAAAAAAAAYE4SAgAAAAAAAAAAAAAAgDlJCAAAAAAA\n",
       "AAAAAAAAAOYkIQAAAAAAAAAAAAAAAJiThAAAAAAAAAAAAAAAAGBOEgIAAAAAAAAAAAAAAIA5SQgA\n",
       "AAAAAAAAAAAAAADmJCEAAAAAAAAAAAAAAACYk4QAAAAAAAAAAAAAAABgThICAAAAAAAAAAAAAACA\n",
       "OUkIAAAAAAAAAAAAAAAA5iQhAAAAAAAAAAAAAAAAmJOEAAAAAAAAAAAAAAAAYE4SAgAAAAAAAAAA\n",
       "AAAAgDlJCAAAAAAAAAAAAAAAAOYkIQAAAAAAAAAAAAAAAJiThAAAAAAAAAAAAAAAAGBOEgIAAAAA\n",
       "AAAAAAAAAIA5SQgAAAAAAAAAAAAAAADmJCEAAAAAAAAAAAAAAACYk4QAAAAAAAAAAAAAAABgThIC\n",
       "AAAAAAAAAAAAAACAOUkIAAAAAAAAAAAAAAAA5iQhAAAAAAAAAAAAAAAAmJOEAAAAAAAAAAAAAAAA\n",
       "YE4SAgAAAAAAAAAAAAAAgDlJCAAAAAAAAAAAAAAAAOYkIQAAAAAAAAAAAAAAAJiThAAAAAAAAAAA\n",
       "AAAAAGBOEgIAAAAAAAAAAAAAAIA5SQgAAAAAAAAAAAAAAADmJCEAAAAAAAAAAAAAAACYk4QAAAAA\n",
       "AAAAAAAAAABgThICAAAAAAAAAAAAAACAOUkIAAAAAAAAAAAAAAAA5iQhAAAAAAAAAAAAAAAAmJOE\n",
       "AAAAAAAAAAAAAAAAYE4SAgAAAAAAAAAAAAAAgDlJCAAAAAAAAAAAAAAAAOYkIQAAAAAAAAAAAAAA\n",
       "AJiThAAAAAAAAAAAAAAAAGBOEgIAAAAAAAAAAAAAAIA5SQgAAAAAAAAAAAAAAADmJCEAAAAAAAAA\n",
       "AAAAAACYk4QAAAAAAAAAAAAAAABgcta9ZgAAIABJREFUThICAAAAAAAAAAAAAACAOUkIAAAAAAAA\n",
       "AAAAAAAA5iQhAAAAAAAAAAAAAAAAmJOEAAAAAAAAAAAAAAAAYE4SAgAAAAAAAAAAAAAAgDlJCAAA\n",
       "AAAAAAAAAAAAAOYkIQAAAAAAAAAAAAAAAJiThAAAAAAAAAAAAAAAAGBOEgIAAAAAAAAAAAAAAIA5\n",
       "SQgAAAAAAAAAAAAAAADmJCEAAAAAAAAAAAAAAACYk4QAAAAAAAAAAAAAAABgThICAAAAAAAAAAAA\n",
       "AACAOUkIAAAAAAAAAAAAAAAA5iQhAAAAAAAAAAAAAAAAmJOEAAAAAAAAAAAAAAAAYE4SAgAAAAAA\n",
       "AAAAAAAAgDlJCAAAAAAAAAAAAAAAAOYkIQAAAAAAAAAAAAAAAJiThAAAAAAAAAAAAAAAAGBOEgIA\n",
       "AAAAAAAAAAAAAIA5SQgAAAAAAAAAAAAAAADmJCEAAAAAAAAAAAAAAACYk4QAAAAAAAAAAAAAAABg\n",
       "ThICAAAAAAAAAAAAAACAOUkIAAAAAAAAAAAAAAAA5iQhAAAAAAAAAAAAAAAAmJOEAAAAAAAAAAAA\n",
       "AAAAYE4SAgAAAAAAAAAAAAAAgDlJCAAAAAAAAAAAAAAAAOYkIQAAAAAAAAAAAAAAAJiThAAAAAAA\n",
       "AAAAAAAAAGBOEgIAAAAAAAAAAAAAAIA5SQgAAAAAAAAAAAAAAADmJCEAAAAAAAAAAAAAAACYk4QA\n",
       "AAAAAAAAAAAAAABgThICAAAAAAAAAAAAAACAOUkIAAAAAAAAAAAAAAAA5iQhAAAAAAAAAAAAAAAA\n",
       "mJOEAAAAAAAAAAAAAAAAYE4SAgAAAAAAAAAAAAAAgDlJCAAAAAAAAAAAAAAAAOYkIQAAAAAAAAAA\n",
       "AAAAAJiThAAAAAAAAAAAAAAAAGBOEgIAAAAAAAAAAAAAAIA5SQgAAAAAAAAAAAAAAADmJCEAAAAA\n",
       "AAAAAAAAAACYk4QAAAAAAAAAAAAAAABgThICAAAAAAAAAAAAAACAOUkIAAAAAAAAAAAAAAAA5iQh\n",
       "AAAAAAAAAAAAAAAAmJOEAAAAAAAAAAAAAAAAYE4SAgAAAAAAAAAAAAAAgDlJCAAAAAAAAAAAAAAA\n",
       "AOYkIQAAAAAAAAAAAAAAAJiThAAAAAAAAAAAAAAAAGBOEgIAAAAAAAAAAAAAAIA5SQgAAAAAAAAA\n",
       "AAAAAADmJCEAAAAAAAAAAAAAAACYk4QAAAAAAAAAAAAAAABgThICAAAAAAAAAAAAAACAOUkIAAAA\n",
       "AAAAAAAAAAAA5iQhAAAAAAAAAAAAAAAAmJOEAAAAAAAAAAAAAAAAYE4SAgAAAAAAAAAAAAAAgDlJ\n",
       "CAAAAAAAAAAAAAAAAOYkIQAAAAAAAAAAAAAAAJiThAAAAAAAAAAAAAAAAGBOEgIAAAAAAAAAAAAA\n",
       "AIA5SQgAAAAAAAAAAAAAAADmJCEAAAAAAAAAAAAAAACYk4QAAAAAAAAAAAAAAABgThICAAAAAAAA\n",
       "AAAAAACAOUkIAAAAAAAAAAAAAAAA5iQhAAAAAAAAAAAAAAAAmJOEAAAAAAAAAAAAAAAAYE4SAgAA\n",
       "AAAAAAAAAAAAgDlJCAAAAAAAAAAAAAAAAOYkIQAAAAAAAAAAAAAAAJiThAAAAAAAAAAAAAAAAGBO\n",
       "EgIAAAAAAAAAAAAAAIA5SQgAAAAAAAAAAAAAAADmJCEAAAAAAAAAAAAAAACYk4QAAAAAAAAAAAAA\n",
       "AABgThICAAAAAAAAAAAAAACAOUkIAAAAAAAAAAAAAAAA5iQhAAAAAAAAAAAAAAAAmJOEAAAAAAAA\n",
       "AAAAAAAAYE4SAgAAAAAAAAAAAAAAgDlJCAAAAAAAAAAAAAAAAOYkIQAAAAAAAAAAAAAAAJiThAAA\n",
       "AAAAAAAAAAAAAGBOEgIAAAAAAAAAAAAAAIA5SQgAAAAAAAAAAAAAAADmJCEAAAAAAAAAAAAAAACY\n",
       "k4QAAAAAAAAAAAAAAABgThICAAAAAAAAAAAAAACAOUkIAAAAAAAAAAAAAAAA5iQhAAAAAAAAAAAA\n",
       "AAAAmJOEAAAAAAAAAAAAAAAAYE4SAgAAAAAAAAAAAAAAgDlJCAAAAAAAAAAAAAAAAOYkIQAAAAAA\n",
       "AAAAAAAAAJiThAAAAAAAAAAAAAAAAGBOEgIAAAAAAAAAAAAAAIA5SQgAAAAAAAAAAAAAAADmJCEA\n",
       "AAAAAAAAAAAAAACYk4QAAAAAAAAAAAAAAABgThICAAAAAAAAAAAAAACAOUkIAAAAAAAAAAAAAAAA\n",
       "5iQhAAAAAAAAAAAAAAAAmJOEAAAAAAAAAAAAAAAAYE4SAgAAAAAAAAAAAAAAgDlJCAAAAAAAAAAA\n",
       "AAAAAOYkIQAAAAAAAAAAAAAAAJiThAAAAAAAAAAAAAAAAGBOEgIAAAAAAAAAAAAAAIA5SQgAAAAA\n",
       "AAAAAAAAAADmJCEAAAAAAAAAAAAAAACYk4QAAAAAAAAAAAAAAABgThICAAAAAAAAAAAAAACAOUkI\n",
       "AAAAAAAAAAAAAAAA5iQhAAAAAAAAAAAAAAAAmJOEAAAAAAAAAAAAAAAAYE4SAgAAAAAAAAAAAAAA\n",
       "gDlJCAAAAAAAAAAAAAAAAOYkIQAAAAAAAAAAAAAAAJiThAAAAAAAAAAAAAAAAGBOEgIAAAAAAAAA\n",
       "AAAAAIA5SQgAAAAAAAAAAAAAAADmJCEAAAAAAAAAAAAAAACYk4QAAAAAAAAAAAAAAABgThICAAAA\n",
       "AAAAAAAAAACAOUkIAAAAAAAAAAAAAAAA5iQhAAAAAAAAAAAAAAAAmJOEAAAAAAAAAAAAAAAAYE4S\n",
       "AgAAAAAAAAAAAAAAgDlJCAAAAAAAAAAAAAAAAOYkIQAAAAAAAAAAAAAAAJiThAAAAAAAAAAAAAAA\n",
       "AGBOEgIAAAAAAAAAAAAAAIA5SQgAAAAAAAAAAAAAAADmJCEAAAAAAAAAAAAAAACYk4QAAAAAAAAA\n",
       "AAAAAABgThICAAAAAAAAAAAAAACAOUkIAAAAAAAAAAAAAAAA5iQhAAAAAAAAAAAAAAAAmJOEAAAA\n",
       "AAAAAAAAAAAAYE4SAgAAAAAAAAAAAAAAgDlJCAAAAAAAAAAAAAAAAOYkIQAAAAAAAAAAAAAAAJiT\n",
       "hAAAAAAAAAAAAAAAAGBOEgIAAAAAAAAAAAAAAIA5SQgAAAAAAAAAAAAAAADmJCEAAAAAAAAAAAAA\n",
       "AACYk4QAAAAAAAAAAAAAAABgThICAAAAAAAAAAAAAACAOUkIAAAAAAAAAAAAAAAA5iQhAAAAAAAA\n",
       "AAAAAAAAmJOEAAAAAAAAAAAAAAAAYE4SAgAAAAAAAAAAAAAAgDlJCAAAAAAAAAAAAAAAAOYkIQAA\n",
       "AAAAAAAAAAAAAJiThAAAAAAAAAAAAAAAAGBOEgIAAAAAAAAAAAAAAIA5SQgAAAAAAAAAAAAAAADm\n",
       "JCEAAAAAAAAAAAAAAACYk4QAAAAAAAAAAAAAAABgThICAAAAAAAAAAAAAACAOUkIAAAAAAAAAAAA\n",
       "AAAA5iQhAAAAAAAAAAAAAAAAmJOEAAAAAAAAAAAAAAAAYE4SAgAAAAAAAAAAAAAAgDlJCAAAAAAA\n",
       "AAAAAAAAAOYkIQAAAAAAAAAAAAAAAJiThAAAAAAAAAAAAAAAAGBOEgIAAAAAAAAAAAAAAIA5SQgA\n",
       "AAAAAAAAAAAAAADmJCEAAAAAAAAAAAAAAACYk4QAAAAAAAAAAAAAAABgThICAAAAAAAAAAAAAACA\n",
       "OUkIAAAAAAAAAAAAAAAA5iQhAAAAAAAAAAAAAAAAmJOEAAAAAAAAAAAAAAAAYE4SAgAAAAAAAAAA\n",
       "AAAAgDlJCAAAAAAAAAAAAAAAAOYkIQAAAAAAAAAAAAAAAJiThAAAAAAAAAAAAAAAAGBOEgIAAAAA\n",
       "AAAAAAAAAIA5SQgAAAAAAAAAAAAAAADmJCEAAAAAAAAAAAAAAACYk4QAAAAAAAAAAAAAAABgThIC\n",
       "AAAAAAAAAAAAAACAOUkIiH07IAEAAAAQ9P91OwL9IQAAAAAAAAAAAAAAMCcJAQAAAAAAAAAAAAAA\n",
       "wJwkBAAAAAAAAAAAAAAAAHOSEAAAAAAAAAAAAAAAAMxJQgAAAAAAAAAAAAAAADAnCQEAAAAAAAAA\n",
       "AAAAAMCcJAQAAAAAAAAAAAAAAABzkhAAAAAAAAAAAAAAAADMSUIAAAAAAAAAAAAAAAAwJwkBAAAA\n",
       "AAAAAAAAAADAnCQEAAAAAAAAAAAAAAAAc5IQAAAAAAAAAAAAAAAAzElCAAAAAAAAAAAAAAAAMCcJ\n",
       "AQAAAAAAAAAAAAAAwJwkBAAAAAAAAAAAAAAAAHOSEAAAAAAAAAAAAAAAAMxJQgAAAAAAAAAAAAAA\n",
       "ADAnCQEAAAAAAAAAAAAAAMCcJAQAAAAAAAAAAAAAAABzkhAAAAAAAAAAAAAAAADMSUIAAAAAAAAA\n",
       "AAAAAAAwJwkBAAAAAAAAAAAAAADAnCQEAAAAAAAAAAAAAAAAc5IQAAAAAAAAAAAAAAAAzElCAAAA\n",
       "AAAAAAAAAAAAMCcJAQAAAAAAAAAAAAAAwJwkBAAAAAAAAAAAAAAAAHOSEAAAAAAAAAAAAAAAAMxJ\n",
       "QgAAAAAAAAAAAAAAADAnCQEAAAAAAAAAAAAAAMCcJAQAAAAAAAAAAAAAAABzkhAAAAAAAAAAAAAA\n",
       "AADMSUIAAAAAAAAAAAAAAAAwJwkBAAAAAAAAAAAAAADAnCQEAAAAAAAAAAAAAAAAc5IQAAAAAAAA\n",
       "AAAAAAAAzElCAAAAAAAAAAAAAAAAMCcJAQAAAAAAAAAAAAAAwJwkBAAAAAAAAAAAAAAAAHOSEAAA\n",
       "AAAAAAAAAAAAAMxJQgAAAAAAAAAAAAAAADAnCQEAAAAAAAAAAAAAAMCcJAQAAAAAAAAAAAAAAABz\n",
       "khAAAAAAAAAAAAAAAADMSUIAAAAAAAAAAAAAAAAwJwkBAAAAAAAAAAAAAADAnCQEAAAAAAAAAAAA\n",
       "AAAAc5IQAAAAAAAAAAAAAAAAzElCAAAAAAAAAAAAAAAAMCcJAQAAAAAAAAAAAAAAwJwkBAAAAAAA\n",
       "AAAAAAAAAHOSEAAAAAAAAAAAAAAAAMxJQgAAAAAAAAAAAAAAADAnCQEAAAAAAAAAAAAAAMCcJAQA\n",
       "AAAAAAAAAAAAAABzkhAAAAAAAAAAAAAAAADMSUIAAAAAAAAAAAAAAAAwJwkBAAAAAAAAAAAAAADA\n",
       "nCQEAAAAAAAAAAAAAAAAc5IQAAAAAAAAAAAAAAAAzElCAAAAAAAAAAAAAAAAMCcJAQAAAAAAAAAA\n",
       "AAAAwJwkBAAAAAAAAAAAAAAAAHOSEAAAAAAAAAAAAAAAAMxJQgAAAAAAAAAAAAAAADAnCQEAAAAA\n",
       "AAAAAAAAAMCcJAQAAAAAAAAAAAAAAABzkhAAAAAAAAAAAAAAAADMSUIAAAAAAAAAAAAAAAAwJwkB\n",
       "AAAAAAAAAAAAAADAnCQEAAAAAAAAAAAAAAAAc5IQAAAAAAAAAAAAAAAAzElCAAAAAAAAAAAAAAAA\n",
       "MCcJAQAAAAAAAAAAAAAAwJwkBAAAAAAAAAAAAAAAAHOSEAAAAAAAAAAAAAAAAMxJQgAAAAAAAAAA\n",
       "AAAAADAnCQEAAAAAAAAAAAAAAMCcJAQAAAAAAAAAAAAAAABzkhAAAAAAAAAAAAAAAADMSUIAAAAA\n",
       "AAAAAAAAAAAwJwkBAAAAAAAAAAAAAADAnCQEAAAAAAAAAAAAAAAAc5IQAAAAAAAAAAAAAAAAzElC\n",
       "AAAAAAAAAAAAAAAAMCcJAQAAAAAAAAAAAAAAwJwkBAAAAAAAAAAAAAAAAHOSEAAAAAAAAAAAAAAA\n",
       "AMxJQgAAAAAAAAAAAAAAADAnCQEAAAAAAAAAAAAAAMCcJAQAAAAAAAAAAAAAAABzkhAAAAAAAAAA\n",
       "AAAAAADMSUIAAAAAAAAAAAAAAAAwJwkBAAAAAAAAAAAAAADAnCQEAAAAAAAAAAAAAAAAc5IQAAAA\n",
       "AAAAAAAAAAAAzElCAAAAAAAAAAAAAAAAMCcJAQAAAAAAAAAAAAAAwJwkBAAAAAAAAAAAAAAAAHOS\n",
       "EAAAAAAAAAAAAAAAAMxJQgAAAAAAAAAAAAAAADAnCQEAAAAAAAAAAAAAAMCcJAQAAAAAAAAAAAAA\n",
       "AABzkhAAAAAAAAAAAAAAAADMSUIAAAAAAAAAAAAAAAAwJwkBAAAAAAAAAAAAAADAnCQEAAAAAAAA\n",
       "AAAAAAAAc5IQAAAAAAAAAAAAAAAAzElCAAAAAAAAAAAAAAAAMCcJAQAAAAAAAAAAAAAAwJwkBAAA\n",
       "AAAAAAAAAAAAAHOSEAAAAAAAAAAAAAAAAMxJQgAAAAAAAAAAAAAAADAnCQEAAAAAAAAAAAAAAMCc\n",
       "JAQAAAAAAAAAAAAAAABzkhAAAAAAAAAAAAAAAADMSUIAAAAAAAAAAAAAAAAwJwkBAAAAAAAAAAAA\n",
       "AADAnCQEAAAAAAAAAAAAAAAAc5IQAAAAAAAAAAAAAAAAzElCAAAAAAAAAAAAAAAAMCcJAQAAAAAA\n",
       "AAAAAAAAwJwkBAAAAAAAAAAAAAAAAHOSEAAAAAAAAAAAAAAAAMxJQgAAAAAAAAAAAAAAADAnCQEA\n",
       "AAAAAAAAAAAAAMCcJAQAAAAAAAAAAAAAAABzkhAAAAAAAAAAAAAAAADMSUIAAAAAAAAAAAAAAAAw\n",
       "JwkBAAAAAAAAAAAAAADAnCQEAAAAAAAAAAAAAAAAc5IQAAAAAAAAAAAAAAAAzElCAAAAAAAAAAAA\n",
       "AAAAMCcJAQAAAAAAAAAAAAAAwJwkBAAAAAAAAAAAAAAAAHOSEAAAAAAAAAAAAAAAAMxJQgAAAAAA\n",
       "AAAAAAAAADAnCQEAAAAAAAAAAAAAAMCcJAQAAAAAAAAAAAAAAABzkhAAAAAAAAAAAAAAAADMSUIA\n",
       "AAAAAAAAAAAAAAAwJwkBAAAAAAAAAAAAAADAnCQEAAAAAAAAAAAAAAAAc5IQAAAAAAAAAAAAAAAA\n",
       "zElCAAAAAAAAAAAAAAAAMCcJAQAAAAAAAAAAAAAAwJwkBAAAAAAAAAAAAAAAAHOSEAAAAAAAAAAA\n",
       "AAAAAMxJQgAAAAAAAAAAAAAAADAnCQEAAAAAAAAAAAAAAMCcJAQAAAAAAAAAAAAAAABzkhAAAAAA\n",
       "AAAAAAAAAADMSUIAAAAAAAAAAAAAAAAwJwkBAAAAAAAAAAAAAADAnCQEAAAAAAAAAAAAAAAAc5IQ\n",
       "AAAAAAAAAAAAAAAAzElCAAAAAAAAAAAAAAAAMCcJAQAAAAAAAAAAAAAAwJwkBAAAAAAAAAAAAAAA\n",
       "AHOSEAAAAAAAAAAAAAAAAMxJQgAAAAAAAAAAAAAAADAnCQEAAAAAAAAAAAAAAMCcJAQAAAAAAAAA\n",
       "AAAAAABzkhAAAAAAAAAAAAAAAADMSUIAAAAAAAAAAAAAAAAwJwkBAAAAAAAAAAAAAADAnCQEAAAA\n",
       "AAAAAAAAAAAAc5IQAAAAAAAAAAAAAAAAzElCAAAAAAAAAAAAAAAAMCcJAQAAAAAAAAAAAAAAwJwk\n",
       "BAAAAAAAAAAAAAAAAHOSEAAAAAAAAAAAAAAAAMxJQgAAAAAAAAAAAAAAADAnCQEAAAAAAAAAAAAA\n",
       "AMCcJAQAAAAAAAAAAAAAAABzkhAAAAAAAAAAAAAAAADMSUIAAAAAAAAAAAAAAAAwJwkBAAAAAAAA\n",
       "AAAAAADAnCQEAAAAAAAAAAAAAAAAc5IQAAAAAAAAAAAAAAAAzElCAAAAAAAAAAAAAAAAMCcJAQAA\n",
       "AAAAAAAAAAAAwJwkBAAAAAAAAAAAAAAAAHOSEAAAAAAAAAAAAAAAAMxJQgAAAAAAAAAAAAAAADAn\n",
       "CQEAAAAAAAAAAAAAAMCcJAQAAAAAAAAAAAAAAABzkhAAAAAAAAAAAAAAAADMSUIAAAAAAAAAAAAA\n",
       "AAAwJwkBAAAAAAAAAAAAAADAnCQEAAAAAAAAAAAAAAAAc5IQAAAAAAAAAAAAAAAAzElCAAAAAAAA\n",
       "AAAAAAAAMCcJAQAAAAAAAAAAAAAAwJwkBAAAAAAAAAAAAAAAAHOSEAAAAAAAAAAAAAAAAMxJQgAA\n",
       "AAAAAAAAAAAAADAnCQEAAAAAAAAAAAAAAMCcJAQAAAAAAAAAAAAAAABzkhAAAAAAAAAAAAAAAADM\n",
       "SUIAAAAAAAAAAAAAAAAwJwkBAAAAAAAAAAAAAADAnCQEAAAAAAAAAAAAAAAAc5IQAAAAAAAAAAAA\n",
       "AAAAzElCAAAAAAAAAAAAAAAAMCcJAQAAAAAAAAAAAAAAwJwkBAAAAAAAAAAAAAAAAHOSEAAAAAAA\n",
       "AAAAAAAAAMxJQgAAAAAAAAAAAAAAADAnCQEAAAAAAAAAAAAAAMCcJAQAAAAAAAAAAAAAAABzkhAA\n",
       "AAAAAAAAAAAAAADMSUIAAAAAAAAAAAAAAAAwJwkBAAAAAAAAAAAAAADAnCQEAAAAAAAAAAAAAAAA\n",
       "c5IQAAAAAAAAAAAAAAAAzElCAAAAAAAAAAAAAAAAMCcJAQAAAAAAAAAAAAAAwJwkBAAAAAAAAAAA\n",
       "AAAAAHOSEAAAAAAAAAAAAAAAAMxJQgAAAAAAAAAAAAAAADAnCQEAAAAAAAAAAAAAAMCcJAQAAAAA\n",
       "AAAAAAAAAABzkhAAAAAAAAAAAAAAAADMSUIAAAAAAAAAAAAAAAAwJwkBAAAAAAAAAAAAAADAnCQE\n",
       "AAAAAAAAAAAAAAAAc5IQAAAAAAAAAAAAAAAAzElCAAAAAAAAAAAAAAAAMCcJAQAAAAAAAAAAAAAA\n",
       "wJwkBAAAAAAAAAAAAAAAAHOSEAAAAAAAAAAAAAAAAMxJQgAAAAAAAAAAAAAAADAnCQEAAAAAAAAA\n",
       "AAAAAMCcJAQAAAAAAAAAAAAAAABzkhAAAAAAAAAAAAAAAADMSUIAAAAAAAAAAAAAAAAwJwkBAAAA\n",
       "AAAAAAAAAADAnCQEAAAAAAAAAAAAAAAAc5IQAAAAAAAAAAAAAAAAzElCAAAAAAAAAAAAAAAAMCcJ\n",
       "AQAAAAAAAAAAAAAAwJwkBAAAAAAAAAAAAAAAAHOSEAAAAAAAAAAAAAAAAMxJQgAAAAAAAAAAAAAA\n",
       "ADAnCQEAAAAAAAAAAAAAAMCcJAQAAAAAAAAAAAAAAABzkhAAAAAAAAAAAAAAAADMSUIAAAAAAAAA\n",
       "AAAAAAAwJwkBAAAAAAAAAAAAAADAnCQEAAAAAAAAAAAAAAAAc5IQAAAAAAAAAAAAAAAAzElCAAAA\n",
       "AAAAAAAAAAAAMCcJAQAAAAAAAAAAAAAAwJwkBAAAAAAAAAAAAAAAAHOSEAAAAAAAAAAAAAAAAMxJ\n",
       "QgAAAAAAAAAAAAAAADAnCQEAAAAAAAAAAAAAAMCcJAQAAAAAAAAAAAAAAABzkhAAAAAAAAAAAAAA\n",
       "AADMSUIAAAAAAAAAAAAAAAAwJwkBAAAAAAAAAAAAAADAnCQEAAAAAAAAAAAAAAAAc5IQAAAAAAAA\n",
       "AAAAAAAAzElCAAAAAAAAAAAAAAAAMCcJAQAAAAAAAAAAAAAAwJwkBAAAAAAAAAAAAAAAAHOSEAAA\n",
       "AAAAAAAAAAAAAMxJQgAAAAAAAAAAAAAAADAnCQEAAAAAAAAAAAAAAMCcJAQAAAAAAAAAAAAAAABz\n",
       "khAAAAAAAAAAAAAAAADMSUIAAAAAAAAAAAAAAAAwJwkBAAAAAAAAAAAAAADAnCQEAAAAAAAAAAAA\n",
       "AAAAc5IQAAAAAAAAAAAAAAAAzElCAAAAAAAAAAAAAAAAMCcJAQAAAAAAAAAAAAAAwJwkBAAAAAAA\n",
       "AAAAAAAAAHOSEAAAAAAAAAAAAAAAAMxJQgAAAAAAAAAAAAAAADAnCQEAAAAAAAAAAAAAAMCcJAQA\n",
       "AAAAAAAAAAAAAABzkhAAAAAAAAAAAAAAAADMSUIAAAAAAAAAAAAAAAAwJwkBAAAAAAAAAAAAAADA\n",
       "nCQEAAAAAAAAAAAAAAAAc5IQAAAAAAAAAAAAAAAAzElCAAAAAAAAAAAAAAAAMCcJAQAAAAAAAAAA\n",
       "AAAAwJwkBAAAAAAAAAAAAAAAAHOSEAAAAAAAAAAAAAAAAMxJQgAAAAAAAAAAAAAAADAnCQEAAAAA\n",
       "AAAAAAAAAMCcJAQAAAAAAAAAAAAAAABzkhAAAAAAAAAAAAAAAADMSUIAAAAAAAAAAAAAAAAwJwkB\n",
       "AAAAAAAAAAAAAADAnCQEAAAAAAAAAAAAAAAAc5IQAAAAAAAAAAAAAAAAzElCAAAAAAAAAAAAAAAA\n",
       "MCcJAQAAAAAAAAAAAAAAwJwkBAAAAAAAAAAAAAAAAHOSEAAAAAAAAAAAAAAAAMxJQgAAAAAAAAAA\n",
       "AAAAADAnCQEAAAAAAAAAAAAAAMCcJAQAAAAAAAAAAAAAAABzkhAAAAAAAAAAAAAAAADMSUIAAAAA\n",
       "AAAAAAAAAAAwJwkBAAAAAAAAAAAAAADAnCQEAAAAAAAAAAAAAAAAc5IQAAAAAAAAAAAAAAAAzElC\n",
       "AAAAAAAAAAAAAAAAMCcJAQAAAAAAAAAAAAAAwJwkBAAAAAAAAAAAAAAAAHOSEADEvh2QAAAAAAj6\n",
       "/7odgf4QAAAAAAAAAAAAAGBOEgIAAAAAAAAAAAAAAIA5SQgAAAAAAAAAAAAAAADmJCEAAAAAAAAA\n",
       "AAAAAACYk4QAAAAAAAAAAAAAAABgThICAAAAAAAAAAAAAACAOUkIAAAAAAAAAAAAAAAA5iQhAAAA\n",
       "AAAAAAAAAAAAmJOEAAAAAAAAAAAAAAAAYE4SAgAAAAAAAAAAAAAAgDlJCAAAAAAAAAAAAAAAAOYk\n",
       "IQAAAAAAAAAAAAAAAJiThAAAAAAAAAAAAAAAAGBOEgIAAAAAAAAAAAAAAIA5SQgAAAAAAAAAAAAA\n",
       "AADmJCEAAAAAAAAAAAAAAACYk4QAAAAAAAAAAAAAAABgThICAAAAAAAAAAAAAACAOUkIAAAAAAAA\n",
       "AAAAAAAA5iQhAAAAAAAAAAAAAAAAmJOEAAAAAAAAAAAAAAAAYE4SAgAAAAAAAAAAAAAAgDlJCAAA\n",
       "AAAAAAAAAAAAAOYkIQAAAAAAAAAAAAAAAJiThAAAAAAAAAAAAAAAAGBOEgIAAAAAAAAAAAAAAIA5\n",
       "SQgAAAAAAAAAAAAAAADmJCFNVldwAAAgAElEQVQAAAAAAAAAAAAAAACYk4QAAAAAAAAAAAAAAABg\n",
       "ThICAAAAAAAAAAAAAACAOUkIAAAAAAAAAAAAAAAA5iQhAAAAAAAAAAAAAAAAmJOEAAAAAAAAAAAA\n",
       "AAAAYE4SAgAAAAAAAAAAAAAAgDlJCAAAAAAAAAAAAAAAAOYkIQAAAAAAAAAAAAAAAJiThAAAAAAA\n",
       "AAAAAAAAAGBOEgIAAAAAAAAAAAAAAIA5SQgAAAAAAAAAAAAAAADmJCEAAAAAAAAAAAAAAACYk4QA\n",
       "AAAAAAAAAAAAAABgThICAAAAAAAAAAAAAACAOUkIAAAAAAAAAAAAAAAA5iQhAAAAAAAAAAAAAAAA\n",
       "mJOEAAAAAAAAAAAAAAAAYE4SAgAAAAAAAAAAAAAAgDlJCAAAAAAAAAAAAAAAAOYkIQAAAAAAAAAA\n",
       "AAAAAJiThAAAAAAAAAAAAAAAAGBOEgIAAAAAAAAAAAAAAIA5SQgAAAAAAAAAAAAAAADmJCEAAAAA\n",
       "AAAAAAAAAACYk4QAAAAAAAAAAAAAAABgThICAAAAAAAAAAAAAACAOUkIAAAAAAAAAAAAAAAA5iQh\n",
       "AAAAAAAAAAAAAAAAmJOEAAAAAAAAAAAAAAAAYE4SAgAAAAAAAAAAAAAAgDlJCAAAAAAAAAAAAAAA\n",
       "AOYkIQAAAAAAAAAAAAAAAJiThAAAAAAAAAAAAAAAAGBOEgIAAAAAAAAAAAAAAIA5SQgAAAAAAAAA\n",
       "AAAAAADmJCEAAAAAAAAAAAAAAACYk4QAAAAAAAAAAAAAAABgThICAAAAAAAAAAAAAACAOUkIAAAA\n",
       "AAAAAAAAAAAA5iQhAAAAAAAAAAAAAAAAmJOEAAAAAAAAAAAAAAAAYE4SAgAAAAAAAAAAAAAAgDlJ\n",
       "CAAAAAAAAAAAAAAAAOYkIQAAAAAAAAAAAAAAAJiThAAAAAAAAAAAAAAAAGBOEgIAAAAAAAAAAAAA\n",
       "AIA5SQgAAAAAAAAAAAAAAADmJCEAAAAAAAAAAAAAAACYk4QAAAAAAAAAAAAAAABgThICAAAAAAAA\n",
       "AAAAAACAOUkIAAAAAAAAAAAAAAAA5iQhAAAAAAAAAAAAAAAAmJOEAAAAAAAAAAAAAAAAYE4SAgAA\n",
       "AAAAAAAAAAAAgDlJCAAAAAAAAAAAAAAAAOYkIQAAAAAAAAAAAAAAAJiThAAAAAAAAAAAAAAAAGBO\n",
       "EgIAAAAAAAAAAAAAAIA5SQgAAAAAAAAAAAAAAADmJCEAAAAAAAAAAAAAAACYk4QAAAAAAAAAAAAA\n",
       "AABgThICAAAAAAAAAAAAAACAOUkIAAAAAAAAAAAAAAAA5iQhAAAAAAAAAAAAAAAAmJOEAAAAAAAA\n",
       "AAAAAAAAYE4SAgAAAAAAAAAAAAAAgDlJCAAAAAAAAAAAAAAAAOYkIQAAAAAAAAAAAAAAAJiThAAA\n",
       "AAAAAAAAAAAAAGBOEgIAAAAAAAAAAAAAAIA5SQgAAAAAAAAAAAAAAADmJCEAAAAAAAAAAAAAAACY\n",
       "k4QAAAAAAAAAAAAAAABgThICAAAAAAAAAAAAAACAOUkIAAAAAAAAAAAAAAAA5iQhAAAAAAAAAAAA\n",
       "AAAAmJOEAAAAAAAAAAAAAAAAYE4SAgAAAAAAAAAAAAAAgDlJCAAAAAAAAAAAAAAAAOYkIQAAAAAA\n",
       "AAAAAAAAAJiThAAAAAAAAAAAAAAAAGBOEgIAAAAAAAAAAAAAAIA5SQgAAAAAAAAAAAAAAADmJCEA\n",
       "AAAAAAAAAAAAAACYk4QAAAAAAAAAAAAAAABgThICAAAAAAAAAAAAAACAOUkIAAAAAAAAAAAAAAAA\n",
       "5iQhAAAAAAAAAAAAAAAAmJOEAAAAAAAAAAAAAAAAYE4SAgAAAAAAAAAAAAAAgDlJCAAAAAAAAAAA\n",
       "AAAAAOYkIQAAAAAAAAAAAAAAAJiThAAAAAAAAAAAAAAAAGBOEgIAAAAAAAAAAAAAAIA5SQgAAAAA\n",
       "AAAAAAAAAADmJCEAAAAAAAAAAAAAAACYk4QAAAAAAAAAAAAAAABgThICAAAAAAAAAAAAAACAOUkI\n",
       "AAAAAAAAAAAAAAAA5iQhAAAAAAAAAAAAAAAAmJOEAAAAAAAAAAAAAAAAYE4SAgAAAAAAAAAAAAAA\n",
       "gDlJCAAAAAAAAAAAAAAAAOYkIQAAAAAAAAAAAAAAAJiThAAAAAAAAAAAAAAAAGBOEgIAAAAAAAAA\n",
       "AAAAAIA5SQgAAAAAAAAAAAAAAADmJCEAAAAAAAAAAAAAAACYk4QAAAAAAAAAAAAAAABgThICAAAA\n",
       "AAAAAAAAAACAOUkIAAAAAAAAAAAAAAAA5iQhAAAAAAAAAAAAAAAAmJOEAAAAAAAAAAAAAAAAYE4S\n",
       "AgAAAAAAAAAAAAAAgDlJCAAAAAAAAAAAAAAAAOYkIQAAAAAAAAAAAAAAAJiThAAAAAAAAAAAAAAA\n",
       "AGBOEgIAAAAAAAAAAAAAAIA5SQgAAAAAAAAAAAAAAADmJCEAAAAAAAAAAAAAAACYk4QAAAAAAAAA\n",
       "AAAAAABgThICAAAAAAAAAAAAAACAOUkIAAAAAAAAAAAAAAAA5iQhAAAAAAAAAAAAAAAAmJOEAAAA\n",
       "AAAAAAAAAAAAYE4SAgAAAAAAAAAAAAAAgDlJCAAAAAAAAAAAAAAAAOYkIQAAAAAAAAAAAAAAAJiT\n",
       "hAAAAAAAAAAAAAAAAGBOEgIAAAAAAAAAAAAAAIA5SQgAAAAAAAAAAAAAAADmJCEAAAAAAAAAAAAA\n",
       "AACYk4QAAAAAAAAAAAAAAABgThICAAAAAAAAAAAAAACAOUkIAAAAAAAAAAAAAAAA5iQhAAAAAAAA\n",
       "AAAAAAAAmJOEAAAAAAAAAAAAAAAAYE4SAgAAAAAAAAAAAAAAgDlJCAAAAAAAAAAAAAAAAOYkIQAA\n",
       "AAAAAAAAAAAAAJiThAAAAAAAAAAAAAAAAGBOEgIAAAAAAAAAAAAAAIA5SQgAAAAAAAAAAAAAAADm\n",
       "JCEAAAAAAAAAAAAAAACYk4QAAAAAAAAAAAAAAABgThICAAAAAAAAAAAAAACAOUkIAAAAAAAAAAAA\n",
       "AAAA5iQhAAAAAAAAAAAAAAAAmJOEAAAAAAAAAAAAAAAAYE4SAgAAAAAAAAAAAAAAgDlJCAAAAAAA\n",
       "AAAAAAAAAOYkIQAAAAAAAAAAAAAAAJiThAAAAAAAAAAAAAAAAGBOEgIAAAAAAAAAAAAAAIA5SQgA\n",
       "AAAAAAAAAAAAAADmJCEAAAAAAAAAAAAAAACYk4QAAAAAAAAAAAAAAABgThICAAAAAAAAAAAAAACA\n",
       "OUkIAAAAAAAAAAAAAAAA5iQhAAAAAAAAAAAAAAAAmJOEAAAAAAAAAAAAAAAAYE4SAgAAAAAAAAAA\n",
       "AAAAgDlJCAAAAAAAAAAAAAAAAOYkIQAAAAAAAAAAAAAAAJiThAAAAAAAAAAAAAAAAGBOEgIAAAAA\n",
       "AAAAAAAAAIA5SQgAAAAAAAAAAAAAAADmJCEAAAAAAAAAAAAAAACYk4QAAAAAAAAAAAAAAABgThIC\n",
       "AAAAAAAAAAAAAACAOUkIAAAAAAAAAAAAAAAA5iQhAAAAAAAAAAAAAAAAmJOEAAAAAAAAAAAAAAAA\n",
       "YE4SAgAAAAAAAAAAAAAAgDlJCAAAAAAAAAAAAAAAAOYkIQAAAAAAAAAAAAAAAJiThAAAAAAAAAAA\n",
       "AAAAAGBOEgIAAAAAAAAAAAAAAIA5SQgAAAAAAAAAAAAAAADmJCEAAAAAAAAAAAAAAACYk4QAAAAA\n",
       "AAAAAAAAAABgThICAAAAAAAAAAAAAACAOUkIAAAAAAAAAAAAAAAA5iQhAAAAAAAAAAAAAAAAmJOE\n",
       "AAAAAAAAAAAAAAAAYE4SAgAAAAAAAAAAAAAAgDlJCAAAAAAAAAAAAAAAAOYkIQAAAAAAAAAAAAAA\n",
       "AJiThAAAAAAAAAAAAAAAAGBOEgIAAAAAAAAAAAAAAIA5SQgAAAAAAAAAAAAAAADmJCEAAAAAAAAA\n",
       "AAAAAACYk4QAAAAAAAAAAAAAAABgThICAAAAAAAAAAAAAACAOUkIAAAAAAAAAAAAAAAA5iQhAAAA\n",
       "AAAAAAAAAAAAmJOEAAAAAAAAAAAAAAAAYE4SAgAAAAAAAAAAAAAAgDlJCAAAAAAAAAAAAAAAAOYk\n",
       "IQAAAAAAAAAAAAAAAJiThAAAAAAAAAAAAAAAAGBOEgIAAAAAAAAAAAAAAIA5SQgAAAAAAAAAAAAA\n",
       "AADmJCEAAAAAAAAAAAAAAACYk4QAAAAAAAAAAAAAAABgThICAAAAAAAAAAAAAACAOUkIAAAAAAAA\n",
       "AAAAAAAA5iQhAAAAAAAAAAAAAAAAmJOEAAAAAAAAAAAAAAAAYE4SAgAAAAAAAAAAAAAAgDlJCAAA\n",
       "AAAAAAAAAAAAAOYkIQAAAAAAAAAAAAAAAJiThAAAAAAAAAAAAAAAAGBOEgIAAAAAAAAAAAAAAIA5\n",
       "SQgAAAAAAAAAAAAAAADmJCEAAAAAAAAAAAAAAACYk4QAAAAAAAAAAAAAAABgThICAAAAAAAAAAAA\n",
       "AACAOUkIAAAAAAAAAAAAAAAA5iQhAAAAAAAAAAAAAAAAmJOEAAAAAAAAAAAAAAAAYE4SAgAAAAAA\n",
       "AAAAAAAAgDlJCAAAAAAAAAAAAAAAAOYkIQAAAAAAAAAAAAAAAJiThAAAAAAAAAAAAAAAAGBOEgIA\n",
       "AAAAAAAAAAAAAIA5SQgAAAAAAAAAAAAAAADmJCEAAAAAAAAAAAAAAACYk4QAAAAAAAAAAAAAAABg\n",
       "ThICAAAAAAAAAAAAAACAOUkIAAAAAAAAAAAAAAAA5iQhAAAAAAAAAAAAAAAAmJOEAAAAAAAAAAAA\n",
       "AAAAYE4SAgAAAAAAAAAAAAAAgDlJCAAAAAAAAAAAAAAAAOYkIQAAAAAAAAAAAAAAAJiThAAAAAAA\n",
       "AAAAAAAAAGBOEgIAAAAAAAAAAAAAAIA5SQgAAAAAAAAAAAAAAADmJCEAAAAAAAAAAAAAAACYk4QA\n",
       "AAAAAAAAAAAAAABgThICAAAAAAAAAAAAAACAOUkIAAAAAAAAAAAAAAAA5iQhAAAAAAAAAAAAAAAA\n",
       "mJOEAAAAAAAAAAAAAAAAYE4SAgAAAAAAAAAAAAAAgDlJCAAAAAAAAAAAAAAAAOYkIQAAAAAAAAAA\n",
       "AAAAAJiThAAAAAAAAAAAAAAAAGBOEgIAAAAAAAAAAAAAAIA5SQgAAAAAAAAAAAAAAADmJCEAAAAA\n",
       "AAAAAAAAAACYk4QAAAAAAAAAAAAAAABgThICAAAAAAAAAAAAAACAOUkIAAAAAAAAAAAAAAAA5iQh\n",
       "AAAAAAAAAAAAAAAAmJOEAAAAAAAAAAAAAAAAYE4SAgAAAAAAAAAAAAAAgDlJCAAAAAAAAAAAAAAA\n",
       "AOYkIQAAAAAAAAAAAAAAAJiThAAAAAAAAAAAAAAAAGBOEgIAAAAAAAAAAAAAAIA5SQgAAAAAAAAA\n",
       "AAAAAADmJCEAAAAAAAAAAAAAAACYk4QAAAAAAAAAAAAAAABgThICAAAAAAAAAAAAAACAOUkIAAAA\n",
       "AAAAAAAAAAAA5iQhAAAAAAAAAAAAAAAAmJOEAAAAAAAAAAAAAAAAYE4SAgAAAAAAAAAAAAAAgDlJ\n",
       "CAAAAAAAAAAAAAAAAOYkIQAAAAAAAAAAAAAAAJiThAAAAAAAAAAAAAAAAGBOEgIAAAAAAAAAAAAA\n",
       "AIA5SQgAAAAAAAAAAAAAAADmJCEAAAAAAAAAAAAAAACYk4QAAAAAAAAAAAAAAABgThICAAAAAAAA\n",
       "AAAAAACAOUkIAAAAAAAAAAAAAAAA5iQhAAAAAAAAAAAAAAAAmJOEAAAAAAAAAAAAAAAAYE4SAgAA\n",
       "AAAAAAAAAAAAgDlJCAAAAAAAAAAAAAAAAOYkIQAAAAAAAAAAAAAAAJiThAAAAAAAAAAAAAAAAGBO\n",
       "EgIAAAAAAAAAAAAAAIA5SQgAAAAAAAAAAAAAAADmJCEAAGLvjk0TjAIojCo4gkMIAbXKVlYpMk52\n",
       "sP63UHQKmxS2ukOKPD7eORPcBT4uAAAAAAAAAAAAAHEiIQAAAAAAAAAAAAAAAIgTCQEAAAAAAAAA\n",
       "AAAAAECcSAgAAAAAAAAAAAAAAADiREIAAAAAAAAAAAAAAAAQJxICAAAAAAAAAAAAAACAOJEQAAAA\n",
       "AAAAAAAAAAAAxImEAAAAAAAAAAAAAAAAIE4kBAAAAAAAAAAAAAAAAHEiIQAAAAAAAAAAAAAAAIgT\n",
       "CQEAAAAAAAAAAAAAAECcSAgAAAAAAAAAAAAAAADiREIAAAAAAAAAAAAAAAAQJxICAAAAAAAAAAAA\n",
       "AACAOJEQAAAAAAAAAAAAAAAAxImEAAAAAAAAAAAAAAAAIE4kBAAAAAAAAAAAAAAAAHEiIQAAAAAA\n",
       "AAAAAAAAAIgTCQEAAAAAAAAAAAAAAECcSAgAAAAAAAAAAAAAAADiREIAAAAAAAAAAAAAAAAQJxIC\n",
       "AAAAAAAAAAAAAACAOJEQAAAAAAAAAAAAAAAAxImEAAAAAAAAAAAAAAAAIE4kBAAAAAAAAAAAAAAA\n",
       "AHEiIQAAAAAAAAAAAAAAAIgTCQEAAAAAAAAAAAAAAECcSAgAAAAAAAAAAAAAAADiREIAAAAAAAAA\n",
       "AAAAAAAQJxICAAAAAAAAAAAAAACAOJEQAAAAAAAAAAAAAAAAxImEAAAAAAAAAAAAAAAAIE4kBAAA\n",
       "AAAAAAAAAAAAAHEiIQAAAAAAAAAAAAAAAIgTCQEAAAAAAAAAAAAAAECcSAgAAAAAAAAAAAAAAADi\n",
       "REIAAAAAAAAAAAAAAAAQJxICAAAAAAAAAAAAAACAOJEQAAAAAAAAAAAAAAAAxImEAAAAAAAAAAAA\n",
       "AAAAIE4kBAAAAAAAAAAAAAAAAHEiIQAAAAAAAAAAAAAAAIgTCQEAAAAAAAAAAAAAAECcSAgAAAAA\n",
       "AAAAAAAAAADiREIAAAAAAAAAAAAAAAAQJxICAAAAAAAAAAAAAACAOJEQAAAAAAAAAAAAAAAAxImE\n",
       "AAAAAAAAAAAAAAAAIE4kBAAAAAAAAAAAAAAAAHEiIQAAAAAAAAAAAAAAAIgTCQEAAAAAAAAAAAAA\n",
       "AECcSAgAAAAAAAAAAAAAAADiREIAAAAAAAAAAAAAAAAQJxICAAAAAAAAAAAAAACAOJEQAAAAAAAA\n",
       "AAAAAAAAxImEAAAAAAAAAAAAAAAAIE4kBAAAAAAAAAAAAAAAAHEiIQAAAAAAAAAAAAAAAIgTCQEA\n",
       "AAAAAAAAAAAAAECcSAgAAAAAAAAAAAAAAADiREIAAAAAAAAAAAAAAAAQJxICAAAAAAAAAAAAAACA\n",
       "OJEQAAAAAAAAAAAAAAAAxImEAAAAAAAAAAAAAAAAIE4kBAAAAAAAAAAAAAAAAHEiIQAAAAAAAAAA\n",
       "AAAAAIgTCQEAAAAAAAAAAAAAAECcSAgAAAAAAAAAAAAAAADiREIAAAAAAAAAAAAAAAAQJxICAAAA\n",
       "AAAAAAAAAACAOJEQAAAAAAAAAAAAAAAAxG1+H6fRGwAAAP7d82sZPQGASW1/vkdPAGBSy+d59AQA\n",
       "JnX4uI+eAMCkLrfd6AkATOq4v46eAMCkPAkBAAAAAAAAAAAAAABAnEgIAAAAAAAAAAAAAAAA4kRC\n",
       "AAAAAAAAAAAAAAAAELderTav0SMAAAAAAAAAAAAAAACAv/MkBAAAAAAAAAAAAAAAAHEiIQAAAAAA\n",
       "AAAAAAAAAIgTCQEAAAAAAAAAAAAAAECcSAgAAAAAAAAAAAAAAADiREIAAAAAAAAAAAAAAAAQJxIC\n",
       "AAAAAAAAAAAAAACAOJEQAAAAAAAAAAAAAAAAxImEAAAAAAAAAAAAAAAAIE4kBAAAAAAAAAAAAAAA\n",
       "AHEiIQAAAAAAAAAAAAAAAIgTCQEAAAAAAAAAAAAAAECcSAgAAAAAAAAAAAAAAADiREIAAAAAAAAA\n",
       "AAAAAAAQJxICAAAAAAAAAAAAAACAOJEQAAAAAAAAAAAAAAAAxImEAAAAAAAAAAAAAAAAIE4kBAAA\n",
       "AAAAAAAAAAAAAHEiIQAAAAAAAAAAAAAAAIgTCQEAAAAAAAAAAAAAAECcSAgAAAAAAAAAAAAAAADi\n",
       "REIAAAAAAAAAAAAAAAAQJxICAAAAAAAAAAAAAACAOJEQAAAAAAAAAAAAAAAAxImEAAAAAAAAAAAA\n",
       "AAAAIE4kBAAAAAAAAAAAAAAAAHEiIQAAAAAAAAAAAAAAAIgTCQEAAAAAAAAAAAAAAECcSAgAAAAA\n",
       "AAAAAAAAAADiREIAAAAAAAAAAAAAAAAQJxICAAAAAAAAAAAAAACAOJEQAAAAAAAAAAAAAAAAxImE\n",
       "AAAAAAAAAAAAAAAAIE4kBAAAAAAAAAAAAAAAAHEiIQAAAAAAAAAAAAAAAIgTCQEAAAAAAAAAAAAA\n",
       "AECcSAgAAAAAAAAAAAAAAADiREIAAAAAAAAAAAAAAAAQJxICAAAAAAAAAAAAAACAOJEQAAAAAAAA\n",
       "AAAAAAAAxImEAAAAAAAAAAAAAAAAIE4kBAAAAAAAAAAAAAAAAHEiIQAAAAAAAAAAAAAAAIgTCQEA\n",
       "AAAAAAAAAAAAAECcSAgAAAAAAAAAAAAAAADiREIAAAAAAAAAAAAAAAAQJxICAAAAAAAAAAAAAACA\n",
       "OJEQAAAAAAAAAAAAAAAAxImEAAAAAAAAAAAAAAAAIE4kBAAAAAAAAAAAAAAAAHEiIQAAAAAAAAAA\n",
       "AAAAAIgTCQEAAAAAAAAAAAAAAECcSAgAAAAAAAAAAAAAAADiREIAAAAAAAAAAAAAAAAQJxICAAAA\n",
       "AAAAAAAAAACAOJEQAAAAAAAAAAAAAAAAxImEAAAAAAAAAAAAAAAAIE4kBAAAAAAAAAAAAAAAAHEi\n",
       "IQAAAAAAAAAAAAAAAIgTCQEAAAAAAAAAAAAAAECcSAgAAAAAAAAAAAAAAADiREIAAAAAAAAAAAAA\n",
       "AAAQJxICAAAAAAAAAAAAAACAOJEQAAAAAAAAAAAAAAAAxImEAAAAAAAAAAAAAAAAIE4kBAAAAAAA\n",
       "AAAAAAAAAHEiIQAAAAAAAAAAAAAAAIgTCQEAAAAAAAAAAAAAAECcSAgAAAAAAAAAAAAAAADiREIA\n",
       "AAAAAAAAAAAAAAAQJxICAAAAAAAAAAAAAACAOJEQAAAAAAAAAAAAAAAAxImEAAAAAAAAAAAAAAAA\n",
       "IE4kBAAAAAAAAAAAAAAAAHEiIQAAAAAAAAAAAAAAAIgTCQEAAAAAAAAAAAAAAECcSAgAAAAAAAAA\n",
       "AAAAAADiREIAAAAAAAAAAAAAAAAQJxICAAAAAAAAAAAAAACAOJEQAAAAAAAAAAAAAAAAxImEAAAA\n",
       "AAAAAAAAAAAAIE4kBAAAAAAAAAAAAAAAAHEiIQAAAAAAAAAAAAAAAIgTCQEAAAAAAAAAAAAAAECc\n",
       "SAgAAAAAAAAAAAAAAADiREIAAAAAAAAAAAAAAAAQJxICAAAAAAAAAAAAAACAOJEQAAAAAAAAAAAA\n",
       "AAAAxImEAAAAAAAAAAAAAAAAIE4kBAAAAAAAAAAAAAAAAHEiIQAAAAAAAAAAAAAAAIgTCQEAAAAA\n",
       "AAAAAAAAAECcSAgAAAAAAAAAAAAAAADiREIAAAAAAAAAAAAAAAAQJxICAAAAAAAAAAAAAACAOJEQ\n",
       "AAAAAAAAAAAAAAAAxImEAAAAAAAAAAAAAAAAIE4kBAAAAAAAAAAAAAAAAHEiIQAAAAAAAAAAAAAA\n",
       "AIgTCQEAAAAAAAAAAAAAAECcSAgAAAAAAAAAAAAAAADiREIAAAAAAAAAAAAAAAAQJxICAAAAAAAA\n",
       "AAAAAACAOJEQAAAAAAAAAAAAAAAAxImEAAAAAAAAAAAAAAAAIE4kBAAAAAAAAAAAAAAAAHEiIQAA\n",
       "AAAAAAAAAAAAAIgTCQEAAAAAAAAAAAAAAECcSAgAAAAAAAAAAAAAAADiREIAAAAAAAAAAAAAAAAQ\n",
       "JxICAAAAAAAAAAAAAACAOJEQAAAAAAAAAAAAAAAAxImEAAAAAAAAAAAAAAAAIE4kBAAAAAAAAAAA\n",
       "AAAAAHEiIQAAAAAAAAAAAAAAAIgTCQEAAAAAAAAAAAAAAECcSAgAAAAAAAAAAAAAAADiREIAAAAA\n",
       "AAAAAAAAAAAQJxICAAAAAAAAAAAAAACAOJEQAAAAAAAAAAAAAAAAxImEAAAAAAAAAAAAAAAAIE4k\n",
       "BAAAAAAAAAAAAAAAAHEiIQAAAAAAAAAAAAAAAIgTCQEAAAAAAAAAAAAAAECcSAgAAAAAAAAAAAAA\n",
       "AADiREIAAAAAAAAAAAAAAAAQJxICAAAAAAAAAAAAAACAOJEQAAAAAAAAAAAAAAAAxImEAAAAAAAA\n",
       "AAAAAAAAIE4kBAAAAAAAAAAAAAAAAHEiIQAAAAAAAAAAAAAAAIgTCQEAAAAAAAAAAAAAAECcSAgA\n",
       "AAAAAAAAAAAAAADiREIAAAAAAAAAAAAAAAAQJxICAAAAAAAAAAAAAACAOJEQAAAAAAAAAAAAAAAA\n",
       "xImEAAAAAAAAAAAAAAAAIE4kBAAAAAAAAAAAAAAAAHEiIQAAAAAAAAAAAAAAAIgTCQEAAAAAAAAA\n",
       "AAAAAECcSAgAAAAAAAAAAAAAAADiREIAAAAAAAAAAAAAAAAQJxICAAAAAAAAAAAAAACAOJEQAAAA\n",
       "AAAAAAAAAAAAxImEAAAAAAAAAAAAAAAAIE4kBAAAAAAAAAAAAAAAAHEiIQAAAAAAAAAAAAAAAIgT\n",
       "CQEAAAAAAAAAAAAAAECcSAgAAAAAAAAAAAAAAADiREIAAAAAAAAAAAAAAAAQJxICAAAAAAAAAAAA\n",
       "AACAOJEQAAAAAAAAAAAAAAAAxImEAAAAAAAAAAAAAAAAIE4kBAAAAAAAAAAAAAAAAHEiIQAAAAAA\n",
       "AAAAAAAAAIgTCQEAAAAAAAAAAAAAAECcSAgAAAAAAAAAAAAAAADiREIAAAAAAAAAAAAAAAAQJxIC\n",
       "AAAAAAAAAAAAAACAOJEQAAAAAAAAAAAAAAAAxImEAAAAAAAAAAAAAAAAIE4kBAAAAAAAAAAAAAAA\n",
       "AHEiIQAAAAAAAAAAAAAAAIgTCQEAAAAAAAAAAAAAAECcSAgAAAAAAAAAAAAAAADiREIAAAAAAAAA\n",
       "AAAAAAAQJxICAAAAALIMvo0AAAs7SURBVAAAAAAAAACAOJEQAAAAAAAAAAAAAAAAxImEAAAAAAAA\n",
       "AAAAAAAAIE4kBAAAAAAAAAAAAAAAAHEiIQAAAAAAAAAAAAAAAIgTCQEAAAAAAAAAAAAAAECcSAgA\n",
       "AAAAAAAAAAAAAADiREIAAAAAAAAAAAAAAAAQJxICAAAAAAAAAAAAAACAOJEQAAAAAAAAAAAAAAAA\n",
       "xImEAAAAAAAAAAAAAAAAIE4kBAAAAAAAAAAAAAAAAHEiIQAAAAAAAAAAAAAAAIgTCQEAAAAAAAAA\n",
       "AAAAAECcSAgAAAAAAAAAAAAAAADiREIAAAAAAAAAAAAAAAAQJxICAAAAAAAAAAAAAACAOJEQAAAA\n",
       "AAAAAAAAAAAAxImEAAAAAAAAAAAAAAAAIE4kBAAAAAAAAAAAAAAAAHEiIQAAAAAAAAAAAAAAAIgT\n",
       "CQEAAAAAAAAAAAAAAECcSAgAAAAAAAAAAAAAAADiREIAAAAAAAAAAAAAAAAQJxICAAAAAAAAAAAA\n",
       "AACAOJEQAAAAAAAAAAAAAAAAxImEAAAAAAAAAAAAAAAAIE4kBAAAAAAAAAAAAAAAAHEiIQAAAAAA\n",
       "AAAAAAAAAIgTCQEAAAAAAAAAAAAAAECcSAgAAAAAAAAAAAAAAADiREIAAAAAAAAAAAAAAAAQJxIC\n",
       "AAAAAAAAAAAAAACAOJEQAAAAAAAAAAAAAAAAxImEAAAAAAAAAAAAAAAAIE4kBAAAAAAAAAAAAAAA\n",
       "AHEiIQAAAAAAAAAAAAAAAIgTCQEAAAAAAAAAAAAAAECcSAgAAAAAAAAAAAAAAADiREIAAAAAAAAA\n",
       "AAAAAAAQJxICAAAAAAAAAAAAAACAOJEQAAAAAAAAAAAAAAAAxImEAAAAAAAAAAAAAAAAIE4kBAAA\n",
       "AAAAAAAAAAAAAHEiIQAAAAAAAAAAAAAAAIgTCQEAAAAAAAAAAAAAAECcSAgAAAAAAAAAAAAAAADi\n",
       "REIAAAAAAAAAAAAAAAAQJxICAAAAAAAAAAAAAACAOJEQAAAAAAAAAAAAAAAAxImEAAAAAAAAAAAA\n",
       "AAAAIE4kBAAAAAAAAAAAAAAAAHEiIQAAAAAAAAAAAAAAAIgTCQEAAAAAAAAAAAAAAECcSAgAAAAA\n",
       "AAAAAAAAAADiREIAAAAAAAAAAAAAAAAQJxICAAAAAAAAAAAAAACAOJEQAAAAAAAAAAAAAAAAxImE\n",
       "AAAAAAAAAAAAAAAAIE4kBAAAAAAAAAAAAAAAAHEiIQAAAAAAAAAAAAAAAIgTCQEAAAAAAAAAAAAA\n",
       "AECcSAgAAAAAAAAAAAAAAADiREIAAAAAAAAAAAAAAAAQJxICAAAAAAAAAAAAAACAOJEQAAAAAAAA\n",
       "AAAAAAAAxImEAAAAAAAAAAAAAAAAIE4kBAAAAAAAAAAAAAAAAHEiIQAAAAAAAAAAAAAAAIgTCQEA\n",
       "AAAAAAAAAAAAAECcSAgAAAAAAAAAAAAAAADiREIAAAAAAAAAAAAAAAAQJxICAAAAAAAAAAAAAACA\n",
       "OJEQAAAAAAAAAMC7fTsgAQAAABD0/3U7Av0hAAAAAMxJQgAAAAAAAAAAAAAAADAnCQEAAAAAAAAA\n",
       "AAAAAMCcJAQAAAAAAAAAAAAAAABzkhAAAAAAAAAAAAAAAADMSUIAAAAAAAAAAAAAAAAwJwkBAAAA\n",
       "AAAAAAAAAADAnCQEAAAAAAAAAAAAAAAAc5IQAAAAAAAAAAAAAAAAzElCAAAAAAAAAAAAAAAAMCcJ\n",
       "AQAAAAAAAAAAAAAAwJwkBAAAAAAAAAAAAAAAAHOSEAAAAAAAAAAAAAAAAMxJQgAAAAAAAAAAAAAA\n",
       "ADAnCQEAAAAAAAAAAAAAAMCcJAQAAAAAAAAAAAAAAABzkhAAAAAAAAAAAAAAAADMSUIAAAAAAAAA\n",
       "AAAAAAAwJwkBAAAAAAAAAAAAAADAnCQEAAAAAAAAAAAAAAAAc5IQAAAAAAAAAAAAAAAAzElCAAAA\n",
       "AAAAAAAAAAAAMCcJAQAAAAAAAAAAAAAAwJwkBAAAAAAAAAAAAAAAAHOSEAAAAAAAAAAAAAAAAMxJ\n",
       "QgAAAAAAAAAAAAAAADAnCQEAAAAAAAAAAAAAAMCcJAQAAAAAAAAAAAAAAABzkhAAAAAAAAAAAAAA\n",
       "AADMSUIAAAAAAAAAAAAAAAAwJwkBAAAAAAAAAAAAAADAnCQEAAAAAAAAAAAAAAAAc5IQAAAAAAAA\n",
       "AAAAAAAAzElCAAAAAAAAAAAAAAAAMCcJAQAAAAAAAAAAAAAAwJwkBAAAAAAAAAAAAAAAAHOSEAAA\n",
       "AAAAAAAAAAAAAMxJQgAAAAAAAAAAAAAAADAnCQEAAAAAAAAAAAAAAMCcJAQAAAAAAAAAAAAAAABz\n",
       "khAAAAAAAAAAAAAAAADMSUIAAAAAAAAAAAAAAAAwJwkBAAAAAAAAAAAAAADAnCQEAAAAAAAAAAAA\n",
       "AAAAc5IQAAAAAAAAAAAAAAAAzElCAAAAAAAAAAAAAAAAMCcJAQAAAAAAAAAAAAAAwJwkBAAAAAAA\n",
       "AAAAAAAAAHOSEAAAAAAAAAAAAAAAAMxJQgAAAAAAAAAAAAAAADAnCQEAAAAAAAAAAAAAAMCcJAQA\n",
       "AAAAAAAAAAAAAABzkhAAAAAAAAAAAAAAAADMSUIAAAAAAAAAAAAAAAAwJwkBAAAAAAAAAAAAAADA\n",
       "nCQEAAAAAAAAAAAAAAAAc5IQAAAAAAAAAAAAAAAAzElCAAAAAAAAAAAAAAAAMCcJAQAAAAAAAAAA\n",
       "AAAAwJwkBAAAAAAAAAAAAAAAAHOSEAAAAAAAAAAAAAAAAMxJQgAAAAAAAAAAAAAAADAnCQEAAAAA\n",
       "AAAAAAAAAMCcJAQAAAAAAAAAAAAAAABzkhAAAAAAAAAAAAAAAADMSUIAAAAAAAAAAAAAAAAwJwkB\n",
       "AAAAAAAAAAAAAADAnCQEAAAAAAAAAAAAAAAAc5IQAAAAAAAAAAAAAAAAzElCAAAAAAAAAAAAAAAA\n",
       "MCcJAQAAAAAAAAAAAAAAwJwkBAAAAAAAAAAAAAAAAHOSEAAAAAAAAAAAAAAAAMxJQgAAAAAAAAAA\n",
       "AAAAADAnCQEAAAAAAAAAAAAAAMCcJAQAAAAAAAAAAAAAAABzkhAAAAAAAAAAAAAAAADMSUIAAAAA\n",
       "AAAAAAAAAAAwJwkBAAAAAAAAAAAAAADAnCQEAAAAAAAAAAAAAAAAc5IQAAAAAAAAAAAAAAAAzElC\n",
       "AAAAAAAAAAAAAAAAMCcJAQAAAAAAAAAAAAAAwJwkBAAAAAAAAAAAAAAAAHOSEAAAAAAAAAAAAAAA\n",
       "AMxJQgAAAAAAAAAAAAAAADAnCQEAAAAAAAAAAAAAAMCcJAQAAAAAAAAAAAAAAABzkhAAAAAAAAAA\n",
       "AAAAAADMSUIAAAAAAAAAAAAAAAAwJwkBAAAAAAAAAAAAAADAnCQEAAAAAAAAAAAAAAAAc5IQAAAA\n",
       "AAAAAAAAAAAAzElCAAAAAAAAAAAAAAAAMCcJAQAAAAAAAAAAAAAAwJwkBAAAAAAAAAAAAAAAAHOS\n",
       "EAAAAAAAAAAAAAAAAMxJQgAAAAAAAAAAAAAAADAnCQEAAAAAAAAAAAAAAMCcJAQAAAAAAAAAAAAA\n",
       "AABzkhAAAAAAAAAAAAAAAADMSUIAAAAAAAAAAAAAAAAwJwkBAAAAAAAAAAAAAADAnCQEAAAAAAAA\n",
       "AAAAAAAAc5IQAAAAAAAAAAAAAAAAzElCAAAAAAAAAAAAAAAAMCcJAQAAAAAAAAAAAAAAwJwkBAAA\n",
       "AAAAAAAAAAAAAHOSEAAAAAAAAAAAAAAAAMxJQgAAAAAAAAAAAAAAADAnCQEAAAAAAAAAAAAAAMCc\n",
       "JAQAAAAAAAAAAAAAAABzkhAAAAAAAAAAAAAAAADMSUIAAAAAAAAAAAAAAAAwF+W6H5bsDHAUAAAA\n",
       "AElFTkSuQmCC\n",
       "\" transform=\"translate(552, 105)\"/>\n",
       "</g>\n",
       "<defs>\n",
       "  <clipPath id=\"clip7903\">\n",
       "    <rect x=\"3984\" y=\"104\" width=\"145\" height=\"2319\"/>\n",
       "  </clipPath>\n",
       "</defs>\n",
       "<g clip-path=\"url(#clip7903)\">\n",
       "<image width=\"144\" height=\"2318\" xlink:href=\"data:image/png;base64,\n",
       "iVBORw0KGgoAAAANSUhEUgAAAJAAAAkOCAYAAABVstBYAAAXYUlEQVR4nO3dwQ3lNhAFQX5j8o/C\n",
       "WXqX4xzUB0FAVQQ6NN6BoKTfn/vvHnjon7cfgG8TEImASAREIiASAZEIiERAJAIimbt/3n4GPswC\n",
       "kQiIREAkAiIREImASAREIiCSWQeJBBaIREAkAiIREImASAREIiASAZHMXgeJPGeBSAREIiASAZEI\n",
       "iERAJAIiERCJG4kkFohEQCQCIhEQiYBIBEQiIBIBkThIJLFAJAIiERCJgEgERCIgEgGRCIjEQSKJ\n",
       "BSIREImASAREIiASAZEIiERAJL6RSGKBSAREIiASAZEIiERAJAIiERCJG4kkFohEQCQCIhEQiYBI\n",
       "BEQiIBIBkThIJLFAJAIiERCJgEgERCIgEgGRCIhkjlebCSwQiYBIBEQiIBIBkQiIREAkAiJxkEhi\n",
       "gUgERCIgEgGRCIhEQCQCIhEQyRyvNhNYIBIBkQiIREAkAiIREImASARE4kYiiQUiERCJgEgERCIg\n",
       "EgGRCIhEQCQOEkksEImASAREIiASAZEIiERAJAIimXP/e/sZ+DALRCIgEgGRCIhEQCQCIhEQiYBI\n",
       "fCORxAKRCIhEQCQCIhEQiYBIBEQiIBKvNpNYIBIBkQiIREAkAiIREImASARE4iCRxAKRCIhEQCQC\n",
       "IhEQiYBIBEQiIBIBkcxv/779DHyYBSIREImASAREIiASAZEIiERAJHOug0Ses0AkAiIREImASARE\n",
       "IiASAZEIiGR+DhIJLBCJgEgERCIgEgGRCIhEQCQCInEjkcQCkQiIREAkAiIREImASAREIiCSOb6R\n",
       "SGCBSAREIiASAZEIiERAJAIiERCJV5tJLBCJgEgERCIgEgGRCIhEQCQCIvFqM4kFIhEQiYBIBEQi\n",
       "IBIBkQiIREAkbiSSWCASAZEIiERAJAIiERCJgEgEROJGIokFIhEQiYBIBEQiIBIBkQiIREAk87v3\n",
       "7WfgwywQiYBIBEQiIBIBkQiIREAkAiJxI5HEApEIiERAJAIiERCJgEgERCIgEgeJJBaIREAkAiIR\n",
       "EImASAREIiASAZH42QqJBSIREImASAREIiASAZEIiERAJHN8I5HAApEIiERAJAIiERCJgEgERCIg\n",
       "EjcSSSwQiYBIBEQiIBIBkQiIREAkAiLxjUQSC0QiIBIBkQiIREAkAiIREImASBwkklggEgGRCIhE\n",
       "QCQCIhEQiYBIBEQyP99IJLBAJAIiERCJgEgERCIgEgGRCIhEQCT+1kNigUgERCIgEgGRCIhEQCQC\n",
       "IhEQiXfjSSwQiYBIBEQiIBIBkQiIREAkAiJxI5HEApEIiERAJAIiERCJgEgERCIgEgeJJBaIREAk\n",
       "AiIREImASAREIiASAZH4Ww+JBSIREImASAREIiASAZEIiERAJL6RSGKBSAREIiASAZEIiERAJAIi\n",
       "ERCJV5tJLBCJgEgERCIgEgGRCIhEQCQCInGQSGKBSAREIiASAZEIiERAJAIiERCJg0QSC0QiIBIB\n",
       "kQiIREAkAiIREImASObcffsZ+DALRCIgEgGRCIhEQCQCIhEQiYBI5qwbiTxngUgERCIgEgGRCIhE\n",
       "QCQCIhEQiVebSSwQiYBIBEQiIBIBkQiIREAkAiLxajOJBSIREImASAREIiASAZEIiERAJG4kklgg\n",
       "EgGRCIhEQCQCIhEQiYBIBETiIJHEApEIiERAJAIiERCJgEgERCIgEq82k1ggEgGRCIhEQCQCIhEQ\n",
       "iYBIBETiRiKJBSIREImASAREIiASAZEIiERAJHOcIxJYIBIBkQiIREAkAiIREImASAREIiASJ9Ek\n",
       "FohEQCQCIhEQiYBIBEQiIBIBkcw6SCSwQCQCIhEQiYBIBEQiIBIBkQiIxI1EEgtEIiASAZEIiERA\n",
       "JAIiERCJgEgcJJJYIBIBkQiIREAkAiIREImASARE4iCRxAKRCIhEQCQCIhEQiYBIBEQiIJI5+/Yj\n",
       "8GUWiERAJAIiERCJgEgERCIgEgGRzN7f28/Ah1kgEgGRCIhEQCQCIhEQiYBIBETi1WYSC0QiIBIB\n",
       "kQiIREAkAiIREImASOa4kUhggUgERCIgEgGRCIhEQCQCIhEQyew6SOQ5C0QiIBIBkQiIREAkAiIR\n",
       "EImASNxIJLFAJAIiERCJgEgERCIgEgGRCIjEQSKJBSIREImASAREIiASAZEIiERAJF5tJrFAJAIi\n",
       "ERCJgEgERCIgEgGRCIjEjUQSC0QiIBIBkQiIREAkAiIREImASOZcDfGcekgERCIgEgGRCIhEQCQC\n",
       "IhEQiVebSSwQiYBIBEQiIBIBkQiIREAkAiLxajOJBSIREImASAREIiASAZEIiERAJLMOEgksEImA\n",
       "SAREIiASAZEIiERAJAIimbMa4jn1kAiIREAkAiIREImASAREIiASAZG40kpigUgERCIgEgGRCIhE\n",
       "QCQCIhEQiYNEEgtEIiASAZEIiERAJAIiERCJgEjmXA3xnHpIBEQiIBIBkQiIREAkAiIREMnsupHI\n",
       "cxaIREAkAiIREImASAREIiASAZHM8WozgQUiERCJgEgERCIgEgGRCIhEQCSzXm0mUA+JgEgERCIg\n",
       "EgGRCIhEQCQCIvFqM4kFIhEQiYBIBEQiIBIBkQiIREAkXm0msUAkAiIREImASAREIiASAZEIiMSr\n",
       "zSTqIREQiYBIBEQiIBIBkQiIREAkXm0msUAkAiIREImASAREIiASAZEIiGTWq80EFohEQCQCIhEQ\n",
       "iYBIBEQiIBIBkcyuhnhOPSQCIhEQiYBIBEQiIBIBkQiIxM9WSCwQiYBIBEQiIBIBkQiIREAkAiLx\n",
       "ajOJBSIREImASAREIiASAZEIiERAJH62QmKBSAREIiASAZEIiERAJAIiERDJ7NUQz6mHREAkAiIR\n",
       "EImASAREIiASAZG4kUhigUgERCIgEgGRCIhEQCQCIhEQiW8kklggEgGRCIhEQCQCIhEQiYBIBEQi\n",
       "IBJXWkksEImASAREIiASAZEIiERAJAIi8ZFNEvWQCIhEQCQCIhEQiYBIBEQiIBI3EkksEImASARE\n",
       "IiASAZEIiERAJAIi8ZFNEgtEIiASAZEIiERAJAIiERCJgEjcSCSxQCQCIhEQiYBIBEQiIBIBkQiI\n",
       "xDcSSdRDIiASAZEIiERAJAIiERCJgEjcSCSxQCQCIhEQiYBIBEQiIBIBkQiIxEEiiQUiERCJgEgE\n",
       "RCIgEgGRCIhEQCQOEkksEImASAREIiASAZEIiERAJAIi8ddmEgtEIiASAZEIiERAJAIiERCJgEjm\n",
       "roZ4Tj0kAiIREImASAREIiASAZEIiMSrzSQWiERAJAIiERCJgEgERCIgEgGReLWZxAKRCIhEQCQC\n",
       "IhEQiYBIBEQiIBI3EkksEImASAREIiASAZEIiERAJAIicZBIYoFIBEQiIBIBkQiIREAkAiIREImD\n",
       "RBILRCIgEgGRCIhEQCQCIhEQiYBIHCSSWCASAZEIiERAJAIiERCJgEgERDLXQSKBBSIREImASARE\n",
       "IiASAZEIiERAJAIicaWVxAKRCIhEQCQCIhEQiYBIBEQiIBIHiSQWiERAJAIiERCJgEgERCIgEgGR\n",
       "OEgksUAkAiIREImASAREIiASAZEIiMRBIokFIhEQiYBIBEQiIBIBkQiIREAkDhJJLBCJgEgERCIg\n",
       "EgGRCIhEQCQCIvHbbxILRCIgEgGRCIhEQCQCIhEQiYBI3EgksUAkAiIREImASAREIiASAZEIiMRB\n",
       "IokFIhEQiYBIBEQiIBIBkQiIREAkc1dDPKceEgGRCIhEQCQCIhEQiYBIBETiRiKJBSIREImASARE\n",
       "IiASAZEIiERAJH62QmKBSAREIiASAZEIiERAJAIiERCJG4kkFohEQCQCIhEQiYBIBEQiIBIBkbiR\n",
       "SGKBSAREIiASAZEIiERAJAIiERCJG4kkFohEQCQCIhEQiYBIBEQiIBIBkThIJLFAJAIiERCJgEgE\n",
       "RCIgEgGRCIjEq80kFohEQCQCIhEQiYBIBEQiIBIBkcweB4k8Z4FIBEQiIBIBkQiIREAkAiIREIkb\n",
       "iSQWiERAJAIiERCJgEgERCIgEgGR+EYiiQUiERCJgEgERCIgEgGRCIhEQCQCIpm7bz8CX2aBSARE\n",
       "IiASAZEIiERAJAIiERCJK60kFohEQCQCIhEQiYBIBEQiIBIBkfjIJokFIhEQiYBIBEQiIBIBkQiI\n",
       "REAkc/32m8ACkQiIREAkAiIREImASAREIiASrzaTWCASAZEIiERAJAIiERCJgEgEROLVZhILRCIg\n",
       "EgGRCIhEQCQCIhEQiYBI3EgksUAkAiIREImASAREIiASAZEIiGTu20/Ap1kgEgGRCIhEQCQCIhEQ\n",
       "iYBIBETiRiKJBSIREImASAREIiASAZEIiERAJL6RSGKBSAREIiASAZEIiERAJAIiERDJ7HGQyHMW\n",
       "iERAJAIiERCJgEgERCIgEgGRuJFIYoFIBEQiIBIBkQiIREAkAiIREMncffsR+DILRCIgEgGRCIhE\n",
       "QCQCIhEQiYBIvNpMYoFIBEQiIBIBkQiIREAkAiIREIm/NpNYIBIBkQiIREAkAiIREImASAREMvft\n",
       "J+DTLBCJgEgERCIgEgGRCIhEQCQCInEjkcQCkQiIREAkAiIREImASAREIiASNxJJLBCJgEgERCIg\n",
       "EgGRCIhEQCQCIhEQiSutJBaIREAkAiIREImASAREIiASAZHMdZBIYIFIBEQiIBIBkQiIREAkAiIR\n",
       "EMns20/Ap1kgEgGRCIhEQCQCIhEQiYBIBETiRiKJBSIREImASAREIiASAZEIiERAJG4kklggEgGR\n",
       "CIhEQCQCIhEQiYBIBETiRiKJBSIREImASAREIiASAZEIiERAJG4kklggEgGRCIhEQCQCIhEQiYBI\n",
       "BETiRiKJBSIREImASAREIiASAZEIiERAJHNdSSSwQCQCIhEQiYBIBEQiIBIBkQiIZPa4kchzFohE\n",
       "QCQCIhEQiYBIBEQiIBIBkbiRSGKBSAREIiASAZEIiERAJAIiERDJXDcSCSwQiYBIBEQiIBIBkQiI\n",
       "REAkAiKZdSORwAKRCIhEQCQCIhEQiYBIBEQiIBJ/bSaxQCQCIhEQiYBIBEQiIBIBkQiIZFxIpLBA\n",
       "JAIiERCJgEgERCIgEgGRCIjEz1ZILBCJgEgERCIgEgGRCIhEQCQCIvGzFRILRCIgEgGRCIhEQCQC\n",
       "IhEQiYBI/GyFxAKRCIhEQCQCIhEQiYBIBEQiIBIBkcx9+wn4NAtEIiASAZEIiERAJAIiERCJgEj8\n",
       "9pvEApEIiERAJAIiERCJgEgERCIgEu/Gk1ggEgGRCIhEQCQCIhEQiYBIBETi1WYSC0QiIBIBkQiI\n",
       "REAkAiIREImASNxIJLFAJAIiERCJgEgERCIgEgGRCIhk7vGNRJ6zQCQCIhEQiYBIBEQiIBIBkQiI\n",
       "ZK4biQQWiERAJAIiERCJgEgERCIgEgGRjHNECgtEIiASAZEIiERAJAIiERCJgEjcSCSxQCQCIhEQ\n",
       "iYBIBEQiIBIBkQiIxEEiiQUiERCJgEgERCIgEgGRCIhEQCSzfrZCYIFIBEQiIBIBkQiIREAkAiIR\n",
       "EIkbiSQWiERAJAIiERCJgEgERCIgEgGR+NkKiQUiERCJgEgERCIgEgGRCIhEQCRuJJJYIBIBkQiI\n",
       "REAkAiIREImASARE4iCRxAKRCIhEQCQCIhEQiYBIBEQiIBKvNpNYIBIBkQiIREAkAiIREImASARE\n",
       "4kYiiQUiERCJgEgERCIgEgGRCIhEQCRz334CPs0CkQiIREAkAiIREImASAREIiASAZHMutJKYIFI\n",
       "BEQiIBIBkQiIREAkAiIREIl340ksEImASAREIiASAZEIiERAJAIi8bceEgtEIiASAZEIiERAJAIi\n",
       "ERCJgEjcSCSxQCQCIhEQiYBIBEQiIBIBkQiIZPY4SeQ5C0QiIBIBkQiIREAkAiIREImASNxIJLFA\n",
       "JAIiERCJgEgERCIgEgGRCIjENxJJLBCJgEgERCIgEgGRCIhEQCQCInEjkcQCkQiIREAkAiIREImA\n",
       "SAREIiASNxJJLBCJgEgERCIgEgGRCIhEQCQCInEjkcQCkQiIREAkAiIREImASAREIiCSWQeJBBaI\n",
       "REAkAiIREImASAREIiASAZHMPU4Sec4CkQiIREAkAiIREImASAREIiASNxJJLBCJgEgERCIgEgGR\n",
       "CIhEQCQCInEjkcQCkQiIREAkAiIREImASAREIiCSuW8/AZ9mgUgERCIgEgGRCIhEQCQCIhEQyax3\n",
       "mwksEImASAREIiASAZEIiERAJAIicSORxAKRCIhEQCQCIhEQiYBIBEQiIJK5LiQSWCASAZEIiERA\n",
       "JAIiERCJgEgERDLrZysEFohEQCQCIhEQiYBIBEQiIBIBkQiIxJVWEgtEIiASAZEIiERAJAIiERCJ\n",
       "gEjmutJKYIFIBEQiIBIBkQiIREAkAiIREIl340ksEImASAREIiASAZEIiERAJAIicSORxAKRCIhE\n",
       "QCQCIhEQiYBIBEQiIBIHiSQWiERAJAIiERCJgEgERCIgEgGRzF0HiTxngUgERCIgEgGRCIhEQCQC\n",
       "IhEQiW8kklggEgGRCIhEQCQCIhEQiYBIBETi1WYSC0QiIBIBkQiIREAkAiIREImASBwkklggEgGR\n",
       "CIhEQCQCIhEQiYBIBETiIJHEApEIiERAJAIiERCJgEgERCIgktlz334GPswCkQiIREAkAiIREImA\n",
       "SAREIiASNxJJLBCJgEgERCIgEgGRCIhEQCQCIpn7cyOR5ywQiYBIBEQiIBIBkQiIREAkAiKZ69Vm\n",
       "AgtEIiASAZEIiERAJAIiERCJgEgcJJJYIBIBkQiIREAkAiIREImASARE4mcrJBaIREAkAiIREImA\n",
       "SAREIiASAZHM/fnZCs9ZIBIBkQiIREAkAiIREImASARE4tVmEgtEIiASAZEIiERAJAIiERCJgEgE\n",
       "ROIkmsQCkQiIREAkAiIREImASAREIiASH9kksUAkAiIREImASAREIiASAZEIiGTu+fv2M/BhFohE\n",
       "QCQCIhEQiYBIBEQiIBIBkXi1mcQCkQiIREAkAiIREImASAREIiCSWTcSCSwQiYBIBEQiIBIBkQiI\n",
       "REAkAiJxI5HEApEIiERAJAIiERCJgEgERCIgEgeJJBaIREAkAiIREImASAREIiASAZF4tZnEApEI\n",
       "iERAJAIiERCJgEgERCIgEjcSSSwQiYBIBEQiIBIBkQiIREAkAiJxI5HEApEIiERAJAIiERCJgEgE\n",
       "RCIgklk3EgksEImASAREIiASAZEIiERAJAIimbsOEnnOApEIiERAJAIiERCJgEgERCIgEjcSSSwQ\n",
       "iYBIBEQiIBIBkQiIREAkAiKZdSORwAKRCIhEQCQCIhEQiYBIBEQiIBI3EkksEImASAREIiASAZEI\n",
       "iERAJAIi8ddmEgtEIiASAZEIiERAJAIiERCJgEj8bIXEApEIiERAJAIiERCJgEgERCIgEq82k1gg\n",
       "EgGRCIhEQCQCIhEQiYBIBEQiIBJ/6yGxQCQCIhEQiYBIBEQiIBIBkQiIxEc2SSwQiYBIBEQiIBIB\n",
       "kQiIREAkAiJxI5HEApEIiERAJAIiERCJgEgERCIgEh/ZJLFAJAIiERCJgEgERCIgEgGRCIjEjUQS\n",
       "C0QiIBIBkQiIREAkAiIREImASHwjkcQCkQiIREAkAiIREImASAREIiASNxJJLBCJgEgERCIgEgGR\n",
       "CIhEQCQCIvGNRBILRCIgEgGRCIhEQCQCIhEQiYBIZterzTxngUgERCIgEgGRCIhEQCQCIhEQiRuJ\n",
       "JBaIREAkAiIREImASAREIiASAZHM2X37GfgwC0QiIBIBkQiIREAkAiIREImASOa4kUhggUgERCIg\n",
       "EgGRCIhEQCQCIhEQib82k1ggEgGRCIhEQCQCIhEQiYBIBETiRiKJBSIREImASAREIiASAZEIiERA\n",
       "JH62QmKBSAREIiASAZEIiERAJAIiERDJHK82E1ggEgGRCIhEQCQCIhEQiYBIBETiRiKJBSIREImA\n",
       "SAREIiASAZEIiERAJL6RSGKBSAREIiASAZEIiERAJAIiERDJ/wBe9yuc2GwNAAAAAElFTkSuQmCC\n",
       "\" transform=\"translate(3985, 105)\"/>\n",
       "</g>\n",
       "<g clip-path=\"url(#clip7900)\">\n",
       "<text style=\"fill:#000000; fill-opacity:1; font-family:Arial,Helvetica Neue,Helvetica,sans-serif; font-size:59px; text-anchor:start;\" transform=\"rotate(0, 4200.5, 2439.95)\" x=\"4200.5\" y=\"2439.95\">0</text>\n",
       "</g>\n",
       "<g clip-path=\"url(#clip7900)\">\n",
       "<text style=\"fill:#000000; fill-opacity:1; font-family:Arial,Helvetica Neue,Helvetica,sans-serif; font-size:59px; text-anchor:start;\" transform=\"rotate(0, 4200.5, 2102.18)\" x=\"4200.5\" y=\"2102.18\">0.025</text>\n",
       "</g>\n",
       "<g clip-path=\"url(#clip7900)\">\n",
       "<text style=\"fill:#000000; fill-opacity:1; font-family:Arial,Helvetica Neue,Helvetica,sans-serif; font-size:59px; text-anchor:start;\" transform=\"rotate(0, 4200.5, 1764.42)\" x=\"4200.5\" y=\"1764.42\">0.050</text>\n",
       "</g>\n",
       "<g clip-path=\"url(#clip7900)\">\n",
       "<text style=\"fill:#000000; fill-opacity:1; font-family:Arial,Helvetica Neue,Helvetica,sans-serif; font-size:59px; text-anchor:start;\" transform=\"rotate(0, 4200.5, 1426.66)\" x=\"4200.5\" y=\"1426.66\">0.075</text>\n",
       "</g>\n",
       "<g clip-path=\"url(#clip7900)\">\n",
       "<text style=\"fill:#000000; fill-opacity:1; font-family:Arial,Helvetica Neue,Helvetica,sans-serif; font-size:59px; text-anchor:start;\" transform=\"rotate(0, 4200.5, 1088.9)\" x=\"4200.5\" y=\"1088.9\">0.100</text>\n",
       "</g>\n",
       "<g clip-path=\"url(#clip7900)\">\n",
       "<text style=\"fill:#000000; fill-opacity:1; font-family:Arial,Helvetica Neue,Helvetica,sans-serif; font-size:59px; text-anchor:start;\" transform=\"rotate(0, 4200.5, 751.132)\" x=\"4200.5\" y=\"751.132\">0.125</text>\n",
       "</g>\n",
       "<g clip-path=\"url(#clip7900)\">\n",
       "<text style=\"fill:#000000; fill-opacity:1; font-family:Arial,Helvetica Neue,Helvetica,sans-serif; font-size:59px; text-anchor:start;\" transform=\"rotate(0, 4200.5, 413.369)\" x=\"4200.5\" y=\"413.369\">0.150</text>\n",
       "</g>\n",
       "<polyline clip-path=\"url(#clip7900)\" style=\"stroke:#000000; stroke-width:4; stroke-opacity:1; fill:none\" points=\"\n",
       "  4128.5,2422.88 4128.5,2422.88 4176.5,2422.88 4128.5,2422.88 4128.5,2085.12 4176.5,2085.12 4128.5,2085.12 4128.5,1747.36 4176.5,1747.36 4128.5,1747.36 \n",
       "  4128.5,1409.59 4176.5,1409.59 4128.5,1409.59 4128.5,1071.83 4176.5,1071.83 4128.5,1071.83 4128.5,734.068 4176.5,734.068 4128.5,734.068 4128.5,396.305 \n",
       "  4176.5,396.305 4128.5,396.305 4128.5,104.909 \n",
       "  \"/>\n",
       "</svg>\n"
      ]
     },
     "execution_count": 33,
     "metadata": {},
     "output_type": "execute_result"
    },
    {
     "name": "stderr",
     "output_type": "stream",
     "text": [
      "┌ Warning: GR: heatmap only supported with equally spaced data.\n",
      "└ @ Plots /home/gridsan/eakyurek/.julia/packages/Plots/Iuc9S/src/backends/gr.jl:945\n"
     ]
    }
   ],
   "source": [
    "h1"
   ]
  },
  {
   "cell_type": "markdown",
   "metadata": {},
   "source": [
    "# To-Dos\n",
    "1. Add unrelated surface forms to the examplars too see whether the attention mappings are meaningful\n",
    "2. Comparing with Normal Vae\n",
    "3. Different Sampling Function on LM ($top_k$, temperature)\n",
    "4. Attention in Decoder\n",
    "5. Attention to the hidden state sequence, not just to the final state.\n",
    "6. Metric for testing generation quality?"
   ]
  },
  {
   "cell_type": "code",
   "execution_count": 10,
   "metadata": {},
   "outputs": [],
   "source": [
    "include(\"models.jl\")\n",
    "include(\"parser.jl\")\n",
    "KnetLayers.gc()"
   ]
  },
  {
   "cell_type": "code",
   "execution_count": 11,
   "metadata": {},
   "outputs": [
    {
     "name": "stdout",
     "output_type": "stream",
     "text": [
      "(loss = 25.598727786254884,)\n",
      "(loss = 20.936397186279297,)\n",
      "(loss = 19.16912999267578,)\n",
      "(loss = 17.31045026397705,)\n",
      "(loss = 16.165051869201662,)\n",
      "(loss = 15.361431550598144,)\n",
      "(loss = 14.005281030273437,)\n",
      "(loss = 12.630505657958985,)\n",
      "(loss = 11.814711602783204,)\n",
      "(loss = 11.128713945007323,)\n",
      "(loss = 10.296028044128418,)\n"
     ]
    },
    {
     "ename": "InterruptException",
     "evalue": "InterruptException:",
     "output_type": "error",
     "traceback": [
      "InterruptException:",
      "",
      "Stacktrace:",
      " [1] #differentiate#3(::Base.Iterators.Pairs{Union{},Union{},Tuple{},NamedTuple{(),Tuple{}}}, ::typeof(AutoGrad.differentiate), ::Function) at /home/gridsan/eakyurek/.julia/packages/AutoGrad/pTNVv/src/core.jl:165",
      " [2] differentiate at /home/gridsan/eakyurek/.julia/packages/AutoGrad/pTNVv/src/core.jl:135 [inlined]",
      " [3] #train_ae!#118(::Int64, ::Adam, ::Int64, ::typeof(train_ae!), ::NamedTuple{(:encoder, :Wμ, :Wσ, :output, :Wdec, :decoder, :num, :latentSize, :hiddenSize),Tuple{LSTM{Param{KnetArray{Float32,3}},Multiply{Param{KnetArray{Float32,2}}}},Multiply{Param{KnetArray{Float32,2}}},Dense{ELU},Multiply{Param{KnetArray{Float32,2}}},Multiply{Param{KnetArray{Float32,2}}},LSTM{Param{KnetArray{Float32,3}},Multiply{Param{KnetArray{Float32,2}}}},Int64,Int64,Int64}}, ::Array{NamedTuple{(:surface, :lemma, :tags),Tuple{Array{Char,1},Array{Char,1},Array{SubString{String},1}}},1}, ::Vocabulary) at /home/gridsan/eakyurek/git/datagen/models.jl:159",
      " [4] (::getfield(Main, Symbol(\"#kw##train_ae!\")))(::NamedTuple{(:optim, :epoch),Tuple{Adam,Int64}}, ::typeof(train_ae!), ::NamedTuple{(:encoder, :Wμ, :Wσ, :output, :Wdec, :decoder, :num, :latentSize, :hiddenSize),Tuple{LSTM{Param{KnetArray{Float32,3}},Multiply{Param{KnetArray{Float32,2}}}},Multiply{Param{KnetArray{Float32,2}}},Dense{ELU},Multiply{Param{KnetArray{Float32,2}}},Multiply{Param{KnetArray{Float32,2}}},LSTM{Param{KnetArray{Float32,3}},Multiply{Param{KnetArray{Float32,2}}}},Int64,Int64,Int64}}, ::Array{NamedTuple{(:surface, :lemma, :tags),Tuple{Array{Char,1},Array{Char,1},Array{SubString{String},1}}},1}, ::Vocabulary) at ./none:0",
      " [5] top-level scope at In[11]:2"
     ]
    }
   ],
   "source": [
    "morph2 = VAE(length(vocab.chars); H=512, E=16, Z=16)\n",
    "train_ae!(morph2, data, vocab; optim=Adam(), epoch=40);"
   ]
  },
  {
   "cell_type": "code",
   "execution_count": 12,
   "metadata": {},
   "outputs": [
    {
     "name": "stdout",
     "output_type": "stream",
     "text": [
      "(kl_weight = 0.1f0, fbr = 4, loss = 19.375531831359865)\n",
      "(kl_weight = 0.2f0, fbr = 4, loss = 18.9359036819458)\n",
      "(kl_weight = 0.3f0, fbr = 4, loss = 18.36936686553955)\n",
      "(kl_weight = 0.4f0, fbr = 4, loss = 18.296794905090334)\n",
      "(kl_weight = 0.5f0, fbr = 4, loss = 18.267677139282227)\n",
      "(kl_weight = 0.6f0, fbr = 4, loss = 18.297471125793457)\n"
     ]
    },
    {
     "ename": "InterruptException",
     "evalue": "InterruptException:",
     "output_type": "error",
     "traceback": [
      "InterruptException:",
      "",
      "Stacktrace:",
      " [1] _knetptrs(::Any, ::Array{Knet.KnetPtr,1}, ::IdDict{Any,Bool}) at /home/gridsan/eakyurek/.julia/packages/Knet/FnyzM/src/gcnode.jl:126",
      " [2] knetptrs at /home/gridsan/eakyurek/.julia/packages/Knet/FnyzM/src/gcnode.jl:80 [inlined] (repeats 2 times)",
      " [3] knetgcinit(::AutoGrad.Tape) at /home/gridsan/eakyurek/.julia/packages/Knet/FnyzM/src/gcnode.jl:0",
      " [4] knetgcnode(::AutoGrad.Node, ::AutoGrad.Tape) at /home/gridsan/eakyurek/.julia/packages/Knet/FnyzM/src/gcnode.jl:50",
      " [5] #differentiate#3(::Base.Iterators.Pairs{Union{},Union{},Tuple{},NamedTuple{(),Tuple{}}}, ::typeof(AutoGrad.differentiate), ::Function) at /home/gridsan/eakyurek/.julia/packages/AutoGrad/pTNVv/src/core.jl:168",
      " [6] differentiate at /home/gridsan/eakyurek/.julia/packages/AutoGrad/pTNVv/src/core.jl:135 [inlined]",
      " [7] #train_vae!#121(::Int64, ::Adam, ::Int64, ::Nothing, ::Float32, ::Float32, ::Int64, ::typeof(train_vae!), ::NamedTuple{(:encoder, :Wμ, :Wσ, :output, :Wdec, :decoder, :num, :latentSize, :hiddenSize),Tuple{LSTM{Param{KnetArray{Float32,3}},Multiply{Param{KnetArray{Float32,2}}}},Multiply{Param{KnetArray{Float32,2}}},Dense{ELU},Multiply{Param{KnetArray{Float32,2}}},Multiply{Param{KnetArray{Float32,2}}},LSTM{Param{KnetArray{Float32,3}},Multiply{Param{KnetArray{Float32,2}}}},Int64,Int64,Int64}}, ::Array{NamedTuple{(:surface, :lemma, :tags),Tuple{Array{Char,1},Array{Char,1},Array{SubString{String},1}}},1}, ::Vocabulary) at /home/gridsan/eakyurek/git/datagen/models.jl:188",
      " [8] (::getfield(Main, Symbol(\"#kw##train_vae!\")))(::NamedTuple{(:optim, :epoch, :kl_weight, :kl_rate, :fb_rate),Tuple{Adam,Int64,Float32,Float32,Int64}}, ::typeof(train_vae!), ::NamedTuple{(:encoder, :Wμ, :Wσ, :output, :Wdec, :decoder, :num, :latentSize, :hiddenSize),Tuple{LSTM{Param{KnetArray{Float32,3}},Multiply{Param{KnetArray{Float32,2}}}},Multiply{Param{KnetArray{Float32,2}}},Dense{ELU},Multiply{Param{KnetArray{Float32,2}}},Multiply{Param{KnetArray{Float32,2}}},LSTM{Param{KnetArray{Float32,3}},Multiply{Param{KnetArray{Float32,2}}}},Int64,Int64,Int64}}, ::Array{NamedTuple{(:surface, :lemma, :tags),Tuple{Array{Char,1},Array{Char,1},Array{SubString{String},1}}},1}, ::Vocabulary) at ./none:0",
      " [9] top-level scope at In[12]:6"
     ]
    }
   ],
   "source": [
    "morph3 = VAE(length(vocab.chars); H=512, E=16, Z=16)\n",
    "copytoparams(morph3.encoder, morph2.encoder)\n",
    "copytoparams(morph3.Wμ, morph2.Wμ)\n",
    "copytoparams(morph3.Wσ, morph2.Wσ)\n",
    "morph3.decoder.embedding = morph3.encoder.embedding\n",
    "train_vae!(morph3, data, vocab; optim=Adam(), epoch=45, kl_weight=0.0f0, kl_rate = 0.1f0, fb_rate=4)"
   ]
  },
  {
   "cell_type": "code",
   "execution_count": 56,
   "metadata": {},
   "outputs": [
    {
     "ename": "MethodError",
     "evalue": "MethodError: no method matching mapslices(::typeof(sample), ::AutoGrad.Result{Array{Float32,2}}; dims=1)\nClosest candidates are:\n  mapslices(::Any, !Matched::AbstractArray; dims) at abstractarray.jl:1973",
     "output_type": "error",
     "traceback": [
      "MethodError: no method matching mapslices(::typeof(sample), ::AutoGrad.Result{Array{Float32,2}}; dims=1)\nClosest candidates are:\n  mapslices(::Any, !Matched::AbstractArray; dims) at abstractarray.jl:1973",
      "",
      "Stacktrace:",
      " [1] #decode#391(::Int64, ::Int64, ::Function, ::typeof(decode), ::NamedTuple{(:encoder, :Wμ, :Wσ, :output, :Wdec, :decoder, :num, :latentSize, :hiddenSize),Tuple{LSTM{Param{KnetArray{Float32,3}},Multiply{Param{KnetArray{Float32,2}}}},Multiply{Param{KnetArray{Float32,2}}},Dense{ELU},Multiply{Param{KnetArray{Float32,2}}},Multiply{Param{KnetArray{Float32,2}}},LSTM{Param{KnetArray{Float32,3}},Multiply{Param{KnetArray{Float32,2}}}},Int64,Int64,Int64}}, ::KnetArray{Float32,2}, ::Nothing) at /home/gridsan/eakyurek/git/datagen/models.jl:59",
      " [2] decode at /home/gridsan/eakyurek/git/datagen/models.jl:50 [inlined] (repeats 2 times)",
      " [3] #sample#418(::Int64, ::Bool, ::typeof(sample), ::NamedTuple{(:encoder, :Wμ, :Wσ, :output, :Wdec, :decoder, :num, :latentSize, :hiddenSize),Tuple{LSTM{Param{KnetArray{Float32,3}},Multiply{Param{KnetArray{Float32,2}}}},Multiply{Param{KnetArray{Float32,2}}},Dense{ELU},Multiply{Param{KnetArray{Float32,2}}},Multiply{Param{KnetArray{Float32,2}}},LSTM{Param{KnetArray{Float32,3}},Multiply{Param{KnetArray{Float32,2}}}},Int64,Int64,Int64}}, ::Vocabulary, ::MorphData{Array{EncodedFormat,1}}) at /home/gridsan/eakyurek/git/datagen/models.jl:298",
      " [4] (::getfield(Main, Symbol(\"#kw##sample\")))(::NamedTuple{(:N, :useprior),Tuple{Int64,Bool}}, ::typeof(sample), ::NamedTuple{(:encoder, :Wμ, :Wσ, :output, :Wdec, :decoder, :num, :latentSize, :hiddenSize),Tuple{LSTM{Param{KnetArray{Float32,3}},Multiply{Param{KnetArray{Float32,2}}}},Multiply{Param{KnetArray{Float32,2}}},Dense{ELU},Multiply{Param{KnetArray{Float32,2}}},Multiply{Param{KnetArray{Float32,2}}},LSTM{Param{KnetArray{Float32,3}},Multiply{Param{KnetArray{Float32,2}}}},Int64,Int64,Int64}}, ::Vocabulary, ::MorphData{Array{EncodedFormat,1}}) at ./none:0",
      " [5] top-level scope at In[56]:1"
     ]
    }
   ],
   "source": [
    "samples = sample(morph3, vocab, edata; N=10000, useprior=true)"
   ]
  },
  {
   "cell_type": "code",
   "execution_count": 57,
   "metadata": {},
   "outputs": [
    {
     "data": {
      "text/plain": [
       "5608-element Array{String,1}:\n",
       " \"espolvorease\" \n",
       " \"reteñiríais\"  \n",
       " \"reflexionáis\" \n",
       " \"aruñabais\"    \n",
       " \"amarillecía\"  \n",
       " \"empodrecéis\"  \n",
       " \"empollaran\"   \n",
       " \"te arrodilles\"\n",
       " ⋮              \n",
       " \"embolsamos\"   \n",
       " \"acaparad\"     \n",
       " \"cabildeamos\"  \n",
       " \"no adames\"    \n",
       " \"vengarán\"     \n",
       " \"no infundas\"  \n",
       " \"sopasteis\"    "
      ]
     },
     "execution_count": 57,
     "metadata": {},
     "output_type": "execute_result"
    }
   ],
   "source": [
    "samples[findall([s ∈ trainsfs for s in samples])]"
   ]
  },
  {
   "cell_type": "code",
   "execution_count": 58,
   "metadata": {},
   "outputs": [
    {
     "data": {
      "text/plain": [
       "10-element Array{String,1}:\n",
       " \"sistematizaba\"\n",
       " \"decore\"       \n",
       " \"puntaren\"     \n",
       " \"taconearíamos\"\n",
       " \"taconearíamos\"\n",
       " \"no laven\"     \n",
       " \"enrole\"       \n",
       " \"loqueare\"     \n",
       " \"desobstruimos\"\n",
       " \"doblegare\"    "
      ]
     },
     "execution_count": 58,
     "metadata": {},
     "output_type": "execute_result"
    }
   ],
   "source": [
    "samples[findall([s ∈ testsfs for s in samples])]"
   ]
  },
  {
   "cell_type": "code",
   "execution_count": 59,
   "metadata": {},
   "outputs": [
    {
     "data": {
      "text/plain": [
       "6804-element Array{String,1}:\n",
       " \"espolvorease\"  \n",
       " \"reteñiríais\"   \n",
       " \"reflexionáis\"  \n",
       " \"aruñabais\"     \n",
       " \"amarillecía\"   \n",
       " \"empodrecéis\"   \n",
       " \"temblequeaseis\"\n",
       " \"empollaran\"    \n",
       " ⋮               \n",
       " \"cabildeamos\"   \n",
       " \"no adames\"     \n",
       " \"vengarán\"      \n",
       " \"indicen\"       \n",
       " \"no infundas\"   \n",
       " \"grademos\"      \n",
       " \"sopasteis\"     "
      ]
     },
     "execution_count": 59,
     "metadata": {},
     "output_type": "execute_result"
    }
   ],
   "source": [
    "samples[findall([s ∈ dictsfs for s in samples])]"
   ]
  },
  {
   "cell_type": "code",
   "execution_count": 60,
   "metadata": {},
   "outputs": [
    {
     "ename": "MethodError",
     "evalue": "MethodError: no method matching mapslices(::typeof(argmax), ::AutoGrad.Result{Array{Float32,2}}; dims=1)\nClosest candidates are:\n  mapslices(::Any, !Matched::AbstractArray; dims) at abstractarray.jl:1973",
     "output_type": "error",
     "traceback": [
      "MethodError: no method matching mapslices(::typeof(argmax), ::AutoGrad.Result{Array{Float32,2}}; dims=1)\nClosest candidates are:\n  mapslices(::Any, !Matched::AbstractArray; dims) at abstractarray.jl:1973",
      "",
      "Stacktrace:",
      " [1] #decode#391(::Int64, ::Int64, ::Function, ::typeof(decode), ::NamedTuple{(:encoder, :Wμ, :Wσ, :output, :Wdec, :decoder, :num, :latentSize, :hiddenSize),Tuple{LSTM{Param{KnetArray{Float32,3}},Multiply{Param{KnetArray{Float32,2}}}},Multiply{Param{KnetArray{Float32,2}}},Dense{ELU},Multiply{Param{KnetArray{Float32,2}}},Multiply{Param{KnetArray{Float32,2}}},LSTM{Param{KnetArray{Float32,3}},Multiply{Param{KnetArray{Float32,2}}}},Int64,Int64,Int64}}, ::AutoGrad.Result{KnetArray{Float32,2}}, ::Nothing) at /home/gridsan/eakyurek/git/datagen/models.jl:59",
      " [2] #decode at ./none:0 [inlined] (repeats 2 times)",
      " [3] #sampleinter#421(::Int64, ::Bool, ::typeof(sampleinter), ::NamedTuple{(:encoder, :Wμ, :Wσ, :output, :Wdec, :decoder, :num, :latentSize, :hiddenSize),Tuple{LSTM{Param{KnetArray{Float32,3}},Multiply{Param{KnetArray{Float32,2}}}},Multiply{Param{KnetArray{Float32,2}}},Dense{ELU},Multiply{Param{KnetArray{Float32,2}}},Multiply{Param{KnetArray{Float32,2}}},LSTM{Param{KnetArray{Float32,3}},Multiply{Param{KnetArray{Float32,2}}}},Int64,Int64,Int64}}, ::Vocabulary, ::Array{NamedTuple{(:surface, :lemma, :tags),Tuple{Array{Char,1},Array{Char,1},Array{SubString{String},1}}},1}) at /home/gridsan/eakyurek/git/datagen/models.jl:312",
      " [4] (::getfield(Main, Symbol(\"#kw##sampleinter\")))(::NamedTuple{(:N,),Tuple{Int64}}, ::typeof(sampleinter), ::NamedTuple{(:encoder, :Wμ, :Wσ, :output, :Wdec, :decoder, :num, :latentSize, :hiddenSize),Tuple{LSTM{Param{KnetArray{Float32,3}},Multiply{Param{KnetArray{Float32,2}}}},Multiply{Param{KnetArray{Float32,2}}},Dense{ELU},Multiply{Param{KnetArray{Float32,2}}},Multiply{Param{KnetArray{Float32,2}}},LSTM{Param{KnetArray{Float32,3}},Multiply{Param{KnetArray{Float32,2}}}},Int64,Int64,Int64}}, ::Vocabulary, ::Array{NamedTuple{(:surface, :lemma, :tags),Tuple{Array{Char,1},Array{Char,1},Array{SubString{String},1}}},1}) at ./none:0",
      " [5] top-level scope at In[60]:1"
     ]
    }
   ],
   "source": [
    "inters = sampleinter(morph3, vocab, data; N=10)"
   ]
  },
  {
   "cell_type": "code",
   "execution_count": 61,
   "metadata": {},
   "outputs": [
    {
     "ename": "UndefVarError",
     "evalue": "UndefVarError: inters not defined",
     "output_type": "error",
     "traceback": [
      "UndefVarError: inters not defined",
      "",
      "Stacktrace:",
      " [1] top-level scope at In[61]:1"
     ]
    }
   ],
   "source": [
    "findall([s ∈ dictsfs for s in inters])"
   ]
  },
  {
   "cell_type": "code",
   "execution_count": 62,
   "metadata": {},
   "outputs": [
    {
     "ename": "MethodError",
     "evalue": "MethodError: no method matching copyto!(::KnetArray{Float32,2}, ::Base.Broadcast.Broadcasted{Base.Broadcast.Style{AutoGrad.Value},Tuple{Base.OneTo{Int64},Base.OneTo{Int64}},typeof(identity),Tuple{AutoGrad.Result{KnetArray{Float32,2}}}})\nClosest candidates are:\n  copyto!(::Union{Array{T,N} where N, KnetArray{T,N} where N}, !Matched::Integer, !Matched::Union{Array{T,N} where N, KnetArray{T,N} where N}, !Matched::Integer, !Matched::Integer) where T at /home/gridsan/eakyurek/.julia/packages/Knet/FnyzM/src/karray.jl:323\n  copyto!(::Union{Array{T,N} where N, KnetArray{T,N} where N}, !Matched::Union{Array{T,N} where N, KnetArray{T,N} where N}) where T at /home/gridsan/eakyurek/.julia/packages/Knet/FnyzM/src/karray.jl:332\n  copyto!(!Matched::SubArray{A,B,C<:KnetArray,D,E}, ::Base.Broadcast.Broadcasted{S,X,F<:typeof(identity),T<:(Tuple{#s192} where #s192)}) where {A, B, C<:KnetArray, D, E, S, X, F<:typeof(identity), T<:(Tuple{#s192} where #s192)} at /home/gridsan/eakyurek/.julia/packages/Knet/FnyzM/src/karray.jl:1354\n  ...",
     "output_type": "error",
     "traceback": [
      "MethodError: no method matching copyto!(::KnetArray{Float32,2}, ::Base.Broadcast.Broadcasted{Base.Broadcast.Style{AutoGrad.Value},Tuple{Base.OneTo{Int64},Base.OneTo{Int64}},typeof(identity),Tuple{AutoGrad.Result{KnetArray{Float32,2}}}})\nClosest candidates are:\n  copyto!(::Union{Array{T,N} where N, KnetArray{T,N} where N}, !Matched::Integer, !Matched::Union{Array{T,N} where N, KnetArray{T,N} where N}, !Matched::Integer, !Matched::Integer) where T at /home/gridsan/eakyurek/.julia/packages/Knet/FnyzM/src/karray.jl:323\n  copyto!(::Union{Array{T,N} where N, KnetArray{T,N} where N}, !Matched::Union{Array{T,N} where N, KnetArray{T,N} where N}) where T at /home/gridsan/eakyurek/.julia/packages/Knet/FnyzM/src/karray.jl:332\n  copyto!(!Matched::SubArray{A,B,C<:KnetArray,D,E}, ::Base.Broadcast.Broadcasted{S,X,F<:typeof(identity),T<:(Tuple{#s192} where #s192)}) where {A, B, C<:KnetArray, D, E, S, X, F<:typeof(identity), T<:(Tuple{#s192} where #s192)} at /home/gridsan/eakyurek/.julia/packages/Knet/FnyzM/src/karray.jl:1354\n  ...",
      "",
      "Stacktrace:",
      " [1] materialize!(::KnetArray{Float32,2}, ::AutoGrad.Result{KnetArray{Float32,2}}) at ./broadcast.jl:804",
      " [2] #calc_au#412(::Float64, ::Int64, ::typeof(calc_au), ::NamedTuple{(:encoder, :Wμ, :Wσ, :output, :Wdec, :decoder, :num, :latentSize, :hiddenSize),Tuple{LSTM{Param{KnetArray{Float32,3}},Multiply{Param{KnetArray{Float32,2}}}},Multiply{Param{KnetArray{Float32,2}}},Dense{ELU},Multiply{Param{KnetArray{Float32,2}}},Multiply{Param{KnetArray{Float32,2}}},LSTM{Param{KnetArray{Float32,3}},Multiply{Param{KnetArray{Float32,2}}}},Int64,Int64,Int64}}, ::MorphData{Array{EncodedFormat,1}}) at /home/gridsan/eakyurek/git/datagen/models.jl:225",
      " [3] (::getfield(Main, Symbol(\"#kw##calc_au\")))(::NamedTuple{(:delta,),Tuple{Float64}}, ::typeof(calc_au), ::NamedTuple{(:encoder, :Wμ, :Wσ, :output, :Wdec, :decoder, :num, :latentSize, :hiddenSize),Tuple{LSTM{Param{KnetArray{Float32,3}},Multiply{Param{KnetArray{Float32,2}}}},Multiply{Param{KnetArray{Float32,2}}},Dense{ELU},Multiply{Param{KnetArray{Float32,2}}},Multiply{Param{KnetArray{Float32,2}}},LSTM{Param{KnetArray{Float32,3}},Multiply{Param{KnetArray{Float32,2}}}},Int64,Int64,Int64}}, ::MorphData{Array{EncodedFormat,1}}) at ./none:0",
      " [4] top-level scope at In[62]:1"
     ]
    }
   ],
   "source": [
    "au, sigma, mu = calc_au(morph3, tdata; delta=0.01)"
   ]
  },
  {
   "cell_type": "code",
   "execution_count": 63,
   "metadata": {},
   "outputs": [
    {
     "ename": "MethodError",
     "evalue": "MethodError: no method matching KnetArray{Float32,N} where N(::AutoGrad.Result{Array{Float32,3}})\nClosest candidates are:\n  KnetArray{Float32,N} where N(!Matched::UndefInitializer, !Matched::Int64...) where {T, N} at /home/gridsan/eakyurek/.julia/packages/Knet/FnyzM/src/karray.jl:81\n  KnetArray{Float32,N} where N(!Matched::UndefInitializer, !Matched::Tuple{Vararg{Int64,N}}) where {T, N} at /home/gridsan/eakyurek/.julia/packages/Knet/FnyzM/src/karray.jl:82\n  KnetArray{Float32,N} where N(!Matched::UndefInitializer, !Matched::Integer...) where {T, N} at /home/gridsan/eakyurek/.julia/packages/Knet/FnyzM/src/karray.jl:83\n  ...",
     "output_type": "error",
     "traceback": [
      "MethodError: no method matching KnetArray{Float32,N} where N(::AutoGrad.Result{Array{Float32,3}})\nClosest candidates are:\n  KnetArray{Float32,N} where N(!Matched::UndefInitializer, !Matched::Int64...) where {T, N} at /home/gridsan/eakyurek/.julia/packages/Knet/FnyzM/src/karray.jl:81\n  KnetArray{Float32,N} where N(!Matched::UndefInitializer, !Matched::Tuple{Vararg{Int64,N}}) where {T, N} at /home/gridsan/eakyurek/.julia/packages/Knet/FnyzM/src/karray.jl:82\n  KnetArray{Float32,N} where N(!Matched::UndefInitializer, !Matched::Integer...) where {T, N} at /home/gridsan/eakyurek/.julia/packages/Knet/FnyzM/src/karray.jl:83\n  ...",
      "",
      "Stacktrace:",
      " [1] #calc_mi#413(::Int64, ::typeof(calc_mi), ::NamedTuple{(:encoder, :Wμ, :Wσ, :output, :Wdec, :decoder, :num, :latentSize, :hiddenSize),Tuple{LSTM{Param{KnetArray{Float32,3}},Multiply{Param{KnetArray{Float32,2}}}},Multiply{Param{KnetArray{Float32,2}}},Dense{ELU},Multiply{Param{KnetArray{Float32,2}}},Multiply{Param{KnetArray{Float32,2}}},LSTM{Param{KnetArray{Float32,3}},Multiply{Param{KnetArray{Float32,2}}}},Int64,Int64,Int64}}, ::MorphData{Array{EncodedFormat,1}}) at /home/gridsan/eakyurek/git/datagen/models.jl:259",
      " [2] calc_mi(::NamedTuple{(:encoder, :Wμ, :Wσ, :output, :Wdec, :decoder, :num, :latentSize, :hiddenSize),Tuple{LSTM{Param{KnetArray{Float32,3}},Multiply{Param{KnetArray{Float32,2}}}},Multiply{Param{KnetArray{Float32,2}}},Dense{ELU},Multiply{Param{KnetArray{Float32,2}}},Multiply{Param{KnetArray{Float32,2}}},LSTM{Param{KnetArray{Float32,3}},Multiply{Param{KnetArray{Float32,2}}}},Int64,Int64,Int64}}, ::MorphData{Array{EncodedFormat,1}}) at /home/gridsan/eakyurek/git/datagen/models.jl:243",
      " [3] top-level scope at In[63]:1"
     ]
    }
   ],
   "source": [
    "mi =  calc_mi(morph3,tdata)"
   ]
  },
  {
   "cell_type": "code",
   "execution_count": 64,
   "metadata": {},
   "outputs": [
    {
     "ename": "MethodError",
     "evalue": "MethodError: Cannot `convert` an object of type AutoGrad.Result{Float32} to an object of type Float32\nClosest candidates are:\n  convert(::Type{T<:Number}, !Matched::T<:Number) where T<:Number at number.jl:6\n  convert(::Type{T<:Number}, !Matched::Number) where T<:Number at number.jl:7\n  convert(::Type{T<:Number}, !Matched::Base.TwicePrecision) where T<:Number at twiceprecision.jl:250\n  ...",
     "output_type": "error",
     "traceback": [
      "MethodError: Cannot `convert` an object of type AutoGrad.Result{Float32} to an object of type Float32\nClosest candidates are:\n  convert(::Type{T<:Number}, !Matched::T<:Number) where T<:Number at number.jl:6\n  convert(::Type{T<:Number}, !Matched::Number) where T<:Number at number.jl:7\n  convert(::Type{T<:Number}, !Matched::Base.TwicePrecision) where T<:Number at twiceprecision.jl:250\n  ...",
      "",
      "Stacktrace:",
      " [1] setindex!(::Array{Float32,2}, ::AutoGrad.Result{Float32}, ::Int64) at ./array.jl:766",
      " [2] copyto! at ./abstractarray.jl:807 [inlined]",
      " [3] copyto! at ./abstractarray.jl:799 [inlined]",
      " [4] Array{Float32,2}(::Array{AutoGrad.Result{Float32},2}) at ./array.jl:482",
      " [5] Type at ./array.jl:474 [inlined]",
      " [6] KnetArray{Float32,N} where N(::Array{AutoGrad.Result{Float32},2}) at /home/gridsan/eakyurek/.julia/packages/Knet/FnyzM/src/karray.jl:94",
      " [7] |>(::Array{AutoGrad.Result{Float32},2}, ::Type) at ./operators.jl:854",
      " [8] #ppl_iw#393(::Int64, ::typeof(ppl_iw), ::NamedTuple{(:encoder, :Wμ, :Wσ, :output, :Wdec, :decoder, :num, :latentSize, :hiddenSize),Tuple{LSTM{Param{KnetArray{Float32,3}},Multiply{Param{KnetArray{Float32,2}}}},Multiply{Param{KnetArray{Float32,2}}},Dense{ELU},Multiply{Param{KnetArray{Float32,2}}},Multiply{Param{KnetArray{Float32,2}}},LSTM{Param{KnetArray{Float32,3}},Multiply{Param{KnetArray{Float32,2}}}},Int64,Int64,Int64}}, ::Vocabulary, ::NamedTuple{(:tokens, :batchSizes),Tuple{Array{Int64,1},Array{Int64,1}}}, ::Array{NamedTuple{(:tokens, :batchSizes),Tuple{Array{Int64,1},Array{Int64,1}}},1}) at /home/gridsan/eakyurek/git/datagen/models.jl:97",
      " [9] (::getfield(Main, Symbol(\"#kw##ppl_iw\")))(::NamedTuple{(:nsample,),Tuple{Int64}}, ::typeof(ppl_iw), ::NamedTuple{(:encoder, :Wμ, :Wσ, :output, :Wdec, :decoder, :num, :latentSize, :hiddenSize),Tuple{LSTM{Param{KnetArray{Float32,3}},Multiply{Param{KnetArray{Float32,2}}}},Multiply{Param{KnetArray{Float32,2}}},Dense{ELU},Multiply{Param{KnetArray{Float32,2}}},Multiply{Param{KnetArray{Float32,2}}},LSTM{Param{KnetArray{Float32,3}},Multiply{Param{KnetArray{Float32,2}}}},Int64,Int64,Int64}}, ::Vocabulary, ::NamedTuple{(:tokens, :batchSizes),Tuple{Array{Int64,1},Array{Int64,1}}}, ::Array{NamedTuple{(:tokens, :batchSizes),Tuple{Array{Int64,1},Array{Int64,1}}},1}) at ./none:0",
      " [10] #calc_ppl#396(::Int64, ::Int64, ::typeof(calc_ppl), ::NamedTuple{(:encoder, :Wμ, :Wσ, :output, :Wdec, :decoder, :num, :latentSize, :hiddenSize),Tuple{LSTM{Param{KnetArray{Float32,3}},Multiply{Param{KnetArray{Float32,2}}}},Multiply{Param{KnetArray{Float32,2}}},Dense{ELU},Multiply{Param{KnetArray{Float32,2}}},Multiply{Param{KnetArray{Float32,2}}},LSTM{Param{KnetArray{Float32,3}},Multiply{Param{KnetArray{Float32,2}}}},Int64,Int64,Int64}}, ::MorphData{Array{EncodedFormat,1}}) at /home/gridsan/eakyurek/git/datagen/models.jl:116",
      " [11] (::getfield(Main, Symbol(\"#kw##calc_ppl\")))(::NamedTuple{(:nsample, :B),Tuple{Int64,Int64}}, ::typeof(calc_ppl), ::NamedTuple{(:encoder, :Wμ, :Wσ, :output, :Wdec, :decoder, :num, :latentSize, :hiddenSize),Tuple{LSTM{Param{KnetArray{Float32,3}},Multiply{Param{KnetArray{Float32,2}}}},Multiply{Param{KnetArray{Float32,2}}},Dense{ELU},Multiply{Param{KnetArray{Float32,2}}},Multiply{Param{KnetArray{Float32,2}}},LSTM{Param{KnetArray{Float32,3}},Multiply{Param{KnetArray{Float32,2}}}},Int64,Int64,Int64}}, ::MorphData{Array{EncodedFormat,1}}) at ./none:0",
      " [12] top-level scope at In[64]:1"
     ]
    }
   ],
   "source": [
    "calc_ppl(morph3,edata; nsample=500, B=16)"
   ]
  },
  {
   "cell_type": "code",
   "execution_count": 65,
   "metadata": {},
   "outputs": [
    {
     "data": {
      "text/plain": [
       "nsample_packed_sequence (generic function with 1 method)"
      ]
     },
     "execution_count": 65,
     "metadata": {},
     "output_type": "execute_result"
    }
   ],
   "source": [
    "include(\"models.jl\")\n",
    "include(\"parser.jl\")"
   ]
  },
  {
   "cell_type": "code",
   "execution_count": 66,
   "metadata": {},
   "outputs": [
    {
     "data": {
      "text/plain": [
       "(decoder = LSTM{Param{KnetArray{Float32,3}}, Multiply{Param{KnetArray{Float32,2}}}}(input=38,hidden=768,embed=16,dropout=0.4), output = Linear(Multiply{Param{KnetArray{Float32,2}}}(input=768 output=768), Bias{Param{KnetArray{Float32,1}}}(length=768)), hiddenSize = 768)"
      ]
     },
     "execution_count": 66,
     "metadata": {},
     "output_type": "execute_result"
    }
   ],
   "source": [
    "model = LSTM_LM(length(vocab.chars); H=768, E=16)"
   ]
  },
  {
   "cell_type": "code",
   "execution_count": 42,
   "metadata": {},
   "outputs": [
    {
     "name": "stdout",
     "output_type": "stream",
     "text": [
      "(loss = 2.565020043563843,)\n",
      "(loss = 2.031818983268738,)\n",
      "(loss = 1.91280202293396,)\n",
      "(loss = 1.8352395069122314,)\n",
      "(loss = 1.7840724544525146,)\n",
      "(loss = 1.7377097730636597,)\n",
      "(loss = 1.6949951625823974,)\n",
      "(loss = 1.6514041450500487,)\n",
      "(loss = 1.6078742918014526,)\n",
      "(loss = 1.5658175846099853,)\n",
      "(loss = 1.5220457862854004,)\n",
      "(loss = 1.4798032117843627,)\n",
      "(loss = 1.4404640241622926,)\n",
      "(loss = 1.404750998878479,)\n",
      "(loss = 1.371851237678528,)\n",
      "(loss = 1.3426123491287232,)\n",
      "(loss = 1.3129698717117309,)\n",
      "(loss = 1.2844683826446532,)\n",
      "(loss = 1.2616477149963379,)\n",
      "(loss = 1.2366774326324463,)\n",
      "(loss = 1.2134045652389527,)\n",
      "(loss = 1.1957246425628663,)\n",
      "(loss = 1.1736694137573243,)\n",
      "(loss = 1.1563226512908935,)\n",
      "(loss = 1.1420525296211244,)\n",
      "(loss = 1.1263144080162049,)\n",
      "(loss = 1.1144586671829224,)\n",
      "(loss = 1.1005128566741944,)\n",
      "(loss = 1.0922200533866881,)\n",
      "(loss = 1.0810391907691956,)\n",
      "(loss = 1.0751349632263183,)\n",
      "(loss = 1.0672179356575011,)\n",
      "(loss = 1.0587451880455017,)\n",
      "(loss = 1.0532062746047974,)\n",
      "(loss = 1.048141642189026,)\n",
      "(loss = 1.0407250003814696,)\n",
      "(loss = 1.035761471748352,)\n",
      "(loss = 1.0313487128257752,)\n",
      "(loss = 1.0262229183197022,)\n",
      "(loss = 1.0246382866859436,)\n"
     ]
    }
   ],
   "source": [
    "train_rnnlm!(model, data, vocab; epoch=40, optim=Adam(), B=16)"
   ]
  },
  {
   "cell_type": "code",
   "execution_count": 43,
   "metadata": {},
   "outputs": [
    {
     "data": {
      "text/plain": [
       "6.610169732382499"
      ]
     },
     "execution_count": 43,
     "metadata": {},
     "output_type": "execute_result"
    }
   ],
   "source": [
    " calc_ppllm(model, tdata)"
   ]
  },
  {
   "cell_type": "code",
   "execution_count": 44,
   "metadata": {},
   "outputs": [
    {
     "data": {
      "text/plain": [
       "10016-element Array{String,1}:\n",
       " \"banalizabas\"   \n",
       " \"inscribiese\"   \n",
       " \"aturarían\"     \n",
       " \"consejas\"      \n",
       " \"rainase\"       \n",
       " \"matorizamos\"   \n",
       " \"reconvinieses\" \n",
       " \"abejonea\"      \n",
       " ⋮               \n",
       " \"gilipeen\"      \n",
       " \"agarrotase\"    \n",
       " \"chaqueteaba\"   \n",
       " \"enmarañaréis\"  \n",
       " \"gravases\"      \n",
       " \"desvalorizaría\"\n",
       " \"uturasen\"      "
      ]
     },
     "execution_count": 44,
     "metadata": {},
     "output_type": "execute_result"
    }
   ],
   "source": [
    "samples = sample(model, vocab; N=10000)"
   ]
  },
  {
   "cell_type": "code",
   "execution_count": 45,
   "metadata": {},
   "outputs": [
    {
     "data": {
      "text/plain": [
       "5289-element Array{String,1}:\n",
       " \"banalizabas\"   \n",
       " \"inscribiese\"   \n",
       " \"aturarían\"     \n",
       " \"consejas\"      \n",
       " \"reconvinieses\" \n",
       " \"abejonea\"      \n",
       " \"injuriaría\"    \n",
       " \"reimpusisteis\" \n",
       " ⋮               \n",
       " \"mullíamos\"     \n",
       " \"no abrace\"     \n",
       " \"agarrotase\"    \n",
       " \"chaqueteaba\"   \n",
       " \"enmarañaréis\"  \n",
       " \"gravases\"      \n",
       " \"desvalorizaría\""
      ]
     },
     "execution_count": 45,
     "metadata": {},
     "output_type": "execute_result"
    }
   ],
   "source": [
    "samples[findall([s ∈ trainsfs for s in samples])]"
   ]
  },
  {
   "cell_type": "code",
   "execution_count": 46,
   "metadata": {},
   "outputs": [
    {
     "data": {
      "text/plain": [
       "11-element Array{String,1}:\n",
       " \"empedrare\"    \n",
       " \"mostremos\"    \n",
       " \"convergía\"    \n",
       " \"descreyésemos\"\n",
       " \"mordemos\"     \n",
       " \"sistematizaba\"\n",
       " \"enrole\"       \n",
       " \"cumplimentaba\"\n",
       " \"sistematizaba\"\n",
       " \"deshidratemos\"\n",
       " \"reunificarían\""
      ]
     },
     "execution_count": 46,
     "metadata": {},
     "output_type": "execute_result"
    }
   ],
   "source": [
    "samples[findall([s ∈ testsfs for s in samples])]"
   ]
  },
  {
   "cell_type": "code",
   "execution_count": 47,
   "metadata": {},
   "outputs": [
    {
     "data": {
      "text/plain": [
       "6684-element Array{String,1}:\n",
       " \"banalizabas\"   \n",
       " \"inscribiese\"   \n",
       " \"aturarían\"     \n",
       " \"consejas\"      \n",
       " \"reconvinieses\" \n",
       " \"abejonea\"      \n",
       " \"injuriaría\"    \n",
       " \"reimpusisteis\" \n",
       " ⋮               \n",
       " \"no abrace\"     \n",
       " \"avizorar\"      \n",
       " \"agarrotase\"    \n",
       " \"chaqueteaba\"   \n",
       " \"enmarañaréis\"  \n",
       " \"gravases\"      \n",
       " \"desvalorizaría\""
      ]
     },
     "execution_count": 47,
     "metadata": {},
     "output_type": "execute_result"
    }
   ],
   "source": [
    "samples[findall([s ∈ dictsfs for s in samples])]"
   ]
  },
  {
   "cell_type": "code",
   "execution_count": 48,
   "metadata": {},
   "outputs": [
    {
     "data": {
      "text/plain": [
       "2.695941727858836"
      ]
     },
     "execution_count": 48,
     "metadata": {},
     "output_type": "execute_result"
    }
   ],
   "source": [
    " calc_ppllm(model, edata)"
   ]
  },
  {
   "cell_type": "code",
   "execution_count": null,
   "metadata": {},
   "outputs": [],
   "source": []
  }
 ],
 "metadata": {
  "kernelspec": {
   "display_name": "Julia 1.2.0",
   "language": "julia",
   "name": "julia-1.2"
  },
  "language_info": {
   "file_extension": ".jl",
   "mimetype": "application/julia",
   "name": "julia",
   "version": "1.2.0"
  }
 },
 "nbformat": 4,
 "nbformat_minor": 4
}
