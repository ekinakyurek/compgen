{
 "cells": [
  {
   "cell_type": "code",
   "execution_count": null,
   "metadata": {},
   "outputs": [],
   "source": [
    "using Plots\n",
    "import Plots: px\n",
    "theme(:default)\n",
    "ENV[\"LINES\"] = 20"
   ]
  },
  {
   "cell_type": "code",
   "execution_count": null,
   "metadata": {},
   "outputs": [],
   "source": [
    "include(\"parser.jl\")\n",
    "include(\"models.jl\")\n",
    "gpu()\n",
    "download(SIGDataSet)"
   ]
  },
  {
   "cell_type": "code",
   "execution_count": null,
   "metadata": {},
   "outputs": [],
   "source": [
    "data  = map(parseDataLine, eachline(\"./data/Sigmorphon/task1/all/spanish-train-high\"));\n",
    "vocab = Vocabulary(data)\n",
    "edata = encode(data,vocab);\n",
    "test  = map(parseDataLine, eachline(\"./data/Sigmorphon/task1/all/spanish-test\"));\n",
    "tdata = encode(test,vocab);\n",
    "dictionary = [parseDataLine(line) for line in  eachline(\"./data/unimorph/spa/spa\") if line != \"\"];"
   ]
  },
  {
   "cell_type": "code",
   "execution_count": null,
   "metadata": {},
   "outputs": [],
   "source": [
    "vocab.chars.toElement;"
   ]
  },
  {
   "cell_type": "code",
   "execution_count": null,
   "metadata": {},
   "outputs": [],
   "source": [
    "vocab.specialIndices"
   ]
  },
  {
   "cell_type": "code",
   "execution_count": 150,
   "metadata": {},
   "outputs": [
    {
     "data": {
      "text/plain": [
       "314523-element Array{String,1}:\n",
       " \"ababilladas\"  \n",
       " \"ababillada\"   \n",
       " \"ababillados\"  \n",
       " \"ababillado\"   \n",
       " \"ababillándose\"\n",
       " \"ababillaos\"   \n",
       " \"ababillarse\"  \n",
       " \"ababíllate\"   \n",
       " ⋮              \n",
       " \"zuzase\"       \n",
       " \"zuzasteis\"    \n",
       " \"zuzaste\"      \n",
       " \"zuzas\"        \n",
       " \"zuza\"         \n",
       " \"zuzo\"         \n",
       " \"zuzó\"         "
      ]
     },
     "execution_count": 150,
     "metadata": {},
     "output_type": "execute_result"
    }
   ],
   "source": [
    "trainsfs    = unique(map(x->join(x.surface),data));\n",
    "testsfs     = unique(map(x->join(x.surface),test)); \n",
    "dictsfs     = unique([map(x->join(x.surface),dictionary); trainsfs; testsfs]);\n",
    "unseensfs   = [x for x in dictsfs if x ∉ trainsfs]"
   ]
  },
  {
   "cell_type": "code",
   "execution_count": null,
   "metadata": {},
   "outputs": [],
   "source": [
    "morph = EncAttentiveVAE(length(vocab.chars); H=512, E=16, Z=16)\n",
    "train_ae!(morph, data, vocab; optim=Adam(), epoch=50)"
   ]
  },
  {
   "cell_type": "code",
   "execution_count": null,
   "metadata": {},
   "outputs": [],
   "source": [
    "morphv =  EncAttentiveVAE(length(vocab.chars); H=512, E=16, Z=16)\n",
    "copytoparams(morphv.encoder, morph.encoder)\n",
    "copytoparams(morphv.Wμ, morph.Wμ)\n",
    "copytoparams(morphv.Wσa, morph.Wσa)\n",
    "copytoparams(morphv.Wμa, morph.Wμa)\n",
    "copytoparams(morphv.Wσ, morph.Wσ)\n",
    "copytoparams(morphv.Weaμ, morph.Weaμ)\n",
    "copytoparams(morphv.Weaσ, morph.Weaσ)\n",
    "morphv.decoder.embedding = morphv.encoder.embedding\n",
    "train_vae!(morphv, data, vocab; optim=Adam(), epoch=45, kl_weight=0.0f0, kl_rate = 0.1f0, fb_rate=3)"
   ]
  },
  {
   "cell_type": "code",
   "execution_count": null,
   "metadata": {},
   "outputs": [],
   "source": [
    "samples = sample(morphv, vocab, edata; N=10000);"
   ]
  },
  {
   "cell_type": "code",
   "execution_count": null,
   "metadata": {},
   "outputs": [],
   "source": [
    "unique(samples[findall([s ∈ trainsfs for s in samples])])"
   ]
  },
  {
   "cell_type": "code",
   "execution_count": null,
   "metadata": {},
   "outputs": [],
   "source": [
    "length(samples[findall([s ∈ trainsfs for s in samples])])"
   ]
  },
  {
   "cell_type": "code",
   "execution_count": null,
   "metadata": {},
   "outputs": [],
   "source": [
    "unique(samples[findall([s ∈ testsfs for s in samples])])"
   ]
  },
  {
   "cell_type": "code",
   "execution_count": null,
   "metadata": {},
   "outputs": [],
   "source": [
    "length(samples[findall([s ∈ testsfs for s in samples])])"
   ]
  },
  {
   "cell_type": "code",
   "execution_count": null,
   "metadata": {},
   "outputs": [],
   "source": [
    "unique(length(samples[findall([s ∈ dictsfs for s in samples])]))"
   ]
  },
  {
   "cell_type": "code",
   "execution_count": null,
   "metadata": {},
   "outputs": [],
   "source": [
    "sampleinter(morphv, vocab, data; N=10)"
   ]
  },
  {
   "cell_type": "code",
   "execution_count": null,
   "metadata": {},
   "outputs": [],
   "source": [
    "au, sigma, mu = calc_au(morphv,tdata; delta=0.01)"
   ]
  },
  {
   "cell_type": "code",
   "execution_count": null,
   "metadata": {},
   "outputs": [],
   "source": [
    "mi = calc_mi(morphv,tdata)"
   ]
  },
  {
   "cell_type": "code",
   "execution_count": null,
   "metadata": {},
   "outputs": [],
   "source": [
    "calc_ppl(morphv,tdata)"
   ]
  },
  {
   "cell_type": "code",
   "execution_count": null,
   "metadata": {},
   "outputs": [],
   "source": [
    "atts = attentions(morph,edata, vocab);"
   ]
  },
  {
   "cell_type": "code",
   "execution_count": null,
   "metadata": {},
   "outputs": [],
   "source": [
    "function getsingle(sfs,exs,perms, αs,i) \n",
    "    join(vocab.chars[sfs[i]]), map(e->join(vocab.chars[e]),exs[i][perms[i]]), map(x->x[:,perms[i],i],αs)\n",
    "end"
   ]
  },
  {
   "cell_type": "code",
   "execution_count": null,
   "metadata": {},
   "outputs": [],
   "source": [
    "i = rand(1:length(atts))\n",
    "s1,e1,α1 =  getsingle(atts[i]...,rand(1:16))\n",
    "ys = 1:512\n",
    "h1 = heatmap(e1, ys, α1.αu; size=(1200,800), xtickfont = font(10, \"Halvetica\"), title= s1 * \", mu\", xrotation = 45, titlefontsize=10, left_margin=100px, bottom_margin=100px, right_margin=100px);\n",
    "h2 = heatmap(e1, ys, α1.ασ ;size=(1200,800), xtickfont = font(10, \"Halvetica\"), title=s1 * \", sigma\", xrotation = 45, titlefontsize=10, left_margin=100px, bottom_margin=100px, right_margin=100px);"
   ]
  },
  {
   "cell_type": "code",
   "execution_count": null,
   "metadata": {},
   "outputs": [],
   "source": [
    "println(s1);println(e1)"
   ]
  },
  {
   "cell_type": "code",
   "execution_count": null,
   "metadata": {
    "scrolled": true
   },
   "outputs": [],
   "source": [
    "h1"
   ]
  },
  {
   "cell_type": "markdown",
   "metadata": {},
   "source": [
    "# To-Dos\n",
    "1. Add unrelated surface forms to the examplars too see whether the attention mappings are meaningful\n",
    "2. Comparing with Normal Vae\n",
    "3. Different Sampling Function on LM ($top_k$, temperature)\n",
    "4. Attention in Decoder\n",
    "5. Attention to the hidden state sequence, not just to the final state.\n",
    "6. Metric for testing generation quality?"
   ]
  },
  {
   "cell_type": "code",
   "execution_count": 89,
   "metadata": {},
   "outputs": [
    {
     "data": {
      "text/plain": [
       "nsample_packed_sequence (generic function with 1 method)"
      ]
     },
     "execution_count": 89,
     "metadata": {},
     "output_type": "execute_result"
    }
   ],
   "source": [
    "include(\"models.jl\")\n",
    "include(\"parser.jl\")"
   ]
  },
  {
   "cell_type": "code",
   "execution_count": 187,
   "metadata": {},
   "outputs": [],
   "source": [
    "morph3=nothing; morphv=nothing; morph=nothing; morph2=nothing; KnetLayers.gc();"
   ]
  },
  {
   "cell_type": "code",
   "execution_count": 188,
   "metadata": {},
   "outputs": [
    {
     "name": "stdout",
     "output_type": "stream",
     "text": [
      "(loss = 23.89124849700928,)\n",
      "(loss = 17.421337057495116,)\n",
      "(loss = 13.838453059387207,)\n",
      "(loss = 10.603875322723388,)\n",
      "(loss = 8.237073970031739,)\n",
      "(loss = 6.580452914047242,)\n",
      "(loss = 5.3860104988098145,)\n",
      "(loss = 4.392002590942383,)\n",
      "(loss = 3.683862651062012,)\n",
      "(loss = 3.033609958076477,)\n",
      "(loss = 2.5571276865005492,)\n",
      "(loss = 2.208719219493866,)\n",
      "(loss = 1.9281249282836914,)\n",
      "(loss = 1.6575271893501282,)\n",
      "(loss = 1.5428996180057526,)\n",
      "(loss = 1.3619286948204041,)\n",
      "(loss = 1.2220081511497498,)\n",
      "(loss = 1.0673871292114259,)\n",
      "(loss = 0.9783469723701477,)\n",
      "(loss = 0.9391327674388885,)\n"
     ]
    }
   ],
   "source": [
    "morph2 = VAE(length(vocab.chars); H=512, E=16, Z=16)\n",
    "train_ae!(morph2, data, vocab; optim=Adam(), B=16, epoch=20);"
   ]
  },
  {
   "cell_type": "code",
   "execution_count": 189,
   "metadata": {},
   "outputs": [
    {
     "name": "stdout",
     "output_type": "stream",
     "text": [
      "(kl_weight = 0.1f0, fbr = 4, loss = 14.659807389831544)\n",
      "(kl_weight = 0.2f0, fbr = 4, loss = 13.541754844665528)\n",
      "(kl_weight = 0.3f0, fbr = 4, loss = 14.147867942810059)\n",
      "(kl_weight = 0.4f0, fbr = 4, loss = 15.002387745666503)\n",
      "(kl_weight = 0.5f0, fbr = 4, loss = 15.724966891479491)\n",
      "(kl_weight = 0.6f0, fbr = 4, loss = 16.409736642456053)\n",
      "(kl_weight = 0.70000005f0, fbr = 4, loss = 16.94357787628174)\n",
      "(kl_weight = 0.8000001f0, fbr = 4, loss = 17.363033013916017)\n",
      "(kl_weight = 0.9000001f0, fbr = 4, loss = 17.690947436523437)\n",
      "(kl_weight = 1.0f0, fbr = 4, loss = 17.880223318481445)\n",
      "(kl_weight = 1.0f0, fbr = 4, loss = 18.165674900817873)\n",
      "(kl_weight = 1.0f0, fbr = 4, loss = 17.82644891204834)\n",
      "(kl_weight = 1.0f0, fbr = 4, loss = 17.57117961425781)\n",
      "(kl_weight = 1.0f0, fbr = 4, loss = 17.255397506713866)\n",
      "(kl_weight = 1.0f0, fbr = 4, loss = 17.02019940032959)\n",
      "(kl_weight = 1.0f0, fbr = 4, loss = 16.723417462158203)\n",
      "(kl_weight = 1.0f0, fbr = 4, loss = 16.504892237854005)\n",
      "(kl_weight = 1.0f0, fbr = 4, loss = 16.273189270019532)\n",
      "(kl_weight = 1.0f0, fbr = 4, loss = 16.029417163085938)\n",
      "(kl_weight = 1.0f0, fbr = 4, loss = 15.85313458404541)\n",
      "(kl_weight = 1.0f0, fbr = 4, loss = 15.65877158355713)\n",
      "(kl_weight = 1.0f0, fbr = 4, loss = 15.525773799133301)\n",
      "(kl_weight = 1.0f0, fbr = 4, loss = 15.380727717590332)\n",
      "(kl_weight = 1.0f0, fbr = 4, loss = 15.230970324707032)\n",
      "(kl_weight = 1.0f0, fbr = 4, loss = 15.058538633728027)\n",
      "(kl_weight = 1.0f0, fbr = 4, loss = 14.936834471130371)\n",
      "(kl_weight = 1.0f0, fbr = 4, loss = 14.75794365386963)\n",
      "(kl_weight = 1.0f0, fbr = 4, loss = 14.736562281799316)\n",
      "(kl_weight = 1.0f0, fbr = 4, loss = 14.619707824707032)\n",
      "(kl_weight = 1.0f0, fbr = 4, loss = 14.481577713012696)\n",
      "(kl_weight = 1.0f0, fbr = 4, loss = 14.36731601409912)\n",
      "(kl_weight = 1.0f0, fbr = 4, loss = 14.329483409118652)\n",
      "(kl_weight = 1.0f0, fbr = 4, loss = 14.163199992370606)\n",
      "(kl_weight = 1.0f0, fbr = 4, loss = 14.166684965515136)\n",
      "(kl_weight = 1.0f0, fbr = 4, loss = 14.045557926940917)\n",
      "(kl_weight = 1.0f0, fbr = 4, loss = 13.935693663024903)\n",
      "(kl_weight = 1.0f0, fbr = 4, loss = 13.933641618347169)\n",
      "(kl_weight = 1.0f0, fbr = 4, loss = 13.85880052947998)\n",
      "(kl_weight = 1.0f0, fbr = 4, loss = 13.733900123596191)\n",
      "(kl_weight = 1.0f0, fbr = 4, loss = 13.712798825073243)\n"
     ]
    }
   ],
   "source": [
    "morph3 = VAE(length(vocab.chars); H=512, E=16, Z=16)\n",
    "copytoparams(morph3.encoder, morph2.encoder)\n",
    "copytoparams(morph3.Wμ, morph2.Wμ)\n",
    "copytoparams(morph3.Wσ, morph2.Wσ)\n",
    "copytoparams(morph3.dec_embed, morph3.encoder.embedding)\n",
    "train_vae!(morph3, data, vocab; B=16, optim=Adam(lr=0.002), epoch=40, kl_weight=0.0f0, kl_rate = 0.1f0, fb_rate=4)"
   ]
  },
  {
   "cell_type": "code",
   "execution_count": 190,
   "metadata": {},
   "outputs": [
    {
     "data": {
      "text/plain": [
       "10005-element Array{String,1}:\n",
       " \"pespuntarais\"   \n",
       " \"os acartonarais\"\n",
       " \"enterneceré\"    \n",
       " \"aplacan\"        \n",
       " \"relajabais\"     \n",
       " \"contundiré\"     \n",
       " \"reinvirtierais\" \n",
       " \"rehuisteis\"     \n",
       " ⋮                \n",
       " \"despeinaste\"    \n",
       " \"tensionabas\"    \n",
       " \"recularen\"      \n",
       " \"se ciaría\"      \n",
       " \"camelados\"      \n",
       " \"devoínes\"       \n",
       " \"no intuseis\"    "
      ]
     },
     "execution_count": 190,
     "metadata": {},
     "output_type": "execute_result"
    }
   ],
   "source": [
    "samples = sample(morph3, vocab, edata; N=10000, useprior=true)"
   ]
  },
  {
   "cell_type": "code",
   "execution_count": 191,
   "metadata": {},
   "outputs": [
    {
     "data": {
      "text/plain": [
       "1161-element Array{String,1}:\n",
       " \"enterneceré\"   \n",
       " \"contundiré\"    \n",
       " \"reinvirtierais\"\n",
       " \"rehuisteis\"    \n",
       " \"apila\"         \n",
       " \"amasije\"       \n",
       " \"desligarían\"   \n",
       " \"descocería\"    \n",
       " ⋮               \n",
       " \"reinstaurare\"  \n",
       " \"regrabáremos\"  \n",
       " \"dividía\"       \n",
       " \"distorsione\"   \n",
       " \"despeinaste\"   \n",
       " \"recularen\"     \n",
       " \"camelados\"     "
      ]
     },
     "execution_count": 191,
     "metadata": {},
     "output_type": "execute_result"
    }
   ],
   "source": [
    "samples[findall([s ∈ trainsfs for s in samples])]"
   ]
  },
  {
   "cell_type": "code",
   "execution_count": 192,
   "metadata": {},
   "outputs": [
    {
     "data": {
      "text/plain": [
       "6-element Array{String,1}:\n",
       " \"okupara\"      \n",
       " \"no enamore\"   \n",
       " \"situarías\"    \n",
       " \"vibrase\"      \n",
       " \"no deleguemos\"\n",
       " \"refundamos\"   "
      ]
     },
     "execution_count": 192,
     "metadata": {},
     "output_type": "execute_result"
    }
   ],
   "source": [
    "samples[findall([s ∈ testsfs for s in samples])]"
   ]
  },
  {
   "cell_type": "code",
   "execution_count": 193,
   "metadata": {},
   "outputs": [
    {
     "data": {
      "text/plain": [
       "3932-element Array{String,1}:\n",
       " \"pespuntarais\"   \n",
       " \"os acartonarais\"\n",
       " \"enterneceré\"    \n",
       " \"aplacan\"        \n",
       " \"relajabais\"     \n",
       " \"contundiré\"     \n",
       " \"reinvirtierais\" \n",
       " \"rehuisteis\"     \n",
       " ⋮                \n",
       " \"alambicaban\"    \n",
       " \"recluir\"        \n",
       " \"distorsione\"    \n",
       " \"despeinaste\"    \n",
       " \"tensionabas\"    \n",
       " \"recularen\"      \n",
       " \"camelados\"      "
      ]
     },
     "execution_count": 193,
     "metadata": {},
     "output_type": "execute_result"
    }
   ],
   "source": [
    "samples[findall([s ∈ dictsfs for s in samples])]"
   ]
  },
  {
   "cell_type": "code",
   "execution_count": 194,
   "metadata": {},
   "outputs": [
    {
     "data": {
      "text/plain": [
       "2771-element Array{String,1}:\n",
       " \"pespuntarais\"   \n",
       " \"os acartonarais\"\n",
       " \"aplacan\"        \n",
       " \"relajabais\"     \n",
       " \"repensado\"      \n",
       " \"aludieren\"      \n",
       " \"adujarías\"      \n",
       " \"recelaren\"      \n",
       " ⋮                \n",
       " \"romanceásemos\"  \n",
       " \"encajares\"      \n",
       " \"mentalizaras\"   \n",
       " \"conjurarais\"    \n",
       " \"alambicaban\"    \n",
       " \"recluir\"        \n",
       " \"tensionabas\"    "
      ]
     },
     "execution_count": 194,
     "metadata": {},
     "output_type": "execute_result"
    }
   ],
   "source": [
    "samples[findall([s ∈ unseensfs for s in samples])] "
   ]
  },
  {
   "cell_type": "code",
   "execution_count": 195,
   "metadata": {},
   "outputs": [
    {
     "data": {
      "text/plain": [
       "12-element Array{String,1}:\n",
       " \"no desencajen\"  \n",
       " \"no desencajen\"  \n",
       " \"no desencajen\"  \n",
       " \"no desencajen\"  \n",
       " \"no desenchufe\"  \n",
       " \"no descontrolen\"\n",
       " \"constreñís\"     \n",
       " \"constelare\"     \n",
       " \"chismearon\"     \n",
       " \"chismearon\"     \n",
       " \"chismear\"       \n",
       " \"chismear\"       "
      ]
     },
     "execution_count": 195,
     "metadata": {},
     "output_type": "execute_result"
    }
   ],
   "source": [
    "inters = sampleinter(morph3, vocab, data; N=10)"
   ]
  },
  {
   "cell_type": "code",
   "execution_count": 196,
   "metadata": {},
   "outputs": [
    {
     "data": {
      "text/plain": [
       "12-element Array{Int64,1}:\n",
       "  1\n",
       "  2\n",
       "  3\n",
       "  4\n",
       "  5\n",
       "  6\n",
       "  7\n",
       "  8\n",
       "  9\n",
       " 10\n",
       " 11\n",
       " 12"
      ]
     },
     "execution_count": 196,
     "metadata": {},
     "output_type": "execute_result"
    }
   ],
   "source": [
    "findall([s ∈ dictsfs for s in inters])"
   ]
  },
  {
   "cell_type": "code",
   "execution_count": 197,
   "metadata": {},
   "outputs": [
    {
     "data": {
      "text/plain": [
       "(16, Float32[0.39809954; 0.4430144; … ; 0.32374555; 0.38953856], K32(16,1)[0.05120561⋯])"
      ]
     },
     "execution_count": 197,
     "metadata": {},
     "output_type": "execute_result"
    }
   ],
   "source": [
    "au, sigma, mu = calc_au(morph3, tdata; delta=0.01)"
   ]
  },
  {
   "cell_type": "code",
   "execution_count": 198,
   "metadata": {},
   "outputs": [
    {
     "data": {
      "text/plain": [
       "4.94630160522461"
      ]
     },
     "execution_count": 198,
     "metadata": {},
     "output_type": "execute_result"
    }
   ],
   "source": [
    "mi =  calc_mi(morph3,tdata)"
   ]
  },
  {
   "cell_type": "code",
   "execution_count": null,
   "metadata": {},
   "outputs": [],
   "source": [
    "calc_ppl(morph3, edata; nsample=500, B=16)"
   ]
  },
  {
   "cell_type": "code",
   "execution_count": 138,
   "metadata": {},
   "outputs": [
    {
     "data": {
      "text/plain": [
       "nsample_packed_sequence (generic function with 1 method)"
      ]
     },
     "execution_count": 138,
     "metadata": {},
     "output_type": "execute_result"
    }
   ],
   "source": [
    "include(\"models.jl\")\n",
    "include(\"parser.jl\")"
   ]
  },
  {
   "cell_type": "code",
   "execution_count": null,
   "metadata": {},
   "outputs": [],
   "source": [
    "model = LSTM_LM(length(vocab.chars); H=768, E=16)"
   ]
  },
  {
   "cell_type": "code",
   "execution_count": null,
   "metadata": {},
   "outputs": [],
   "source": [
    "train_rnnlm!(model, data, vocab; epoch=40, optim=Adam(), B=16)"
   ]
  },
  {
   "cell_type": "code",
   "execution_count": null,
   "metadata": {},
   "outputs": [],
   "source": [
    " calc_ppllm(model, tdata)"
   ]
  },
  {
   "cell_type": "code",
   "execution_count": null,
   "metadata": {},
   "outputs": [],
   "source": [
    "samples = sample(model, vocab; N=10000)"
   ]
  },
  {
   "cell_type": "code",
   "execution_count": null,
   "metadata": {},
   "outputs": [],
   "source": [
    "samples[findall([s ∈ trainsfs for s in samples])]"
   ]
  },
  {
   "cell_type": "code",
   "execution_count": null,
   "metadata": {},
   "outputs": [],
   "source": [
    "samples[findall([s ∈ testsfs for s in samples])]"
   ]
  },
  {
   "cell_type": "code",
   "execution_count": null,
   "metadata": {},
   "outputs": [],
   "source": [
    "samples[findall([s ∈ dictsfs for s in samples])]"
   ]
  },
  {
   "cell_type": "code",
   "execution_count": null,
   "metadata": {},
   "outputs": [],
   "source": [
    " calc_ppllm(model, edata)"
   ]
  },
  {
   "cell_type": "code",
   "execution_count": 202,
   "metadata": {},
   "outputs": [
    {
     "data": {
      "text/latex": [
       "\\begin{verbatim}\n",
       "@eval [mod,] ex\n",
       "\\end{verbatim}\n",
       "Evaluate an expression with values interpolated into it using \\texttt{eval}. If two arguments are provided, the first is the module to evaluate in.\n",
       "\n"
      ],
      "text/markdown": [
       "```\n",
       "@eval [mod,] ex\n",
       "```\n",
       "\n",
       "Evaluate an expression with values interpolated into it using `eval`. If two arguments are provided, the first is the module to evaluate in.\n"
      ],
      "text/plain": [
       "\u001b[36m  @eval [mod,] ex\u001b[39m\n",
       "\n",
       "  Evaluate an expression with values interpolated into it using \u001b[36meval\u001b[39m. If two\n",
       "  arguments are provided, the first is the module to evaluate in."
      ]
     },
     "execution_count": 202,
     "metadata": {},
     "output_type": "execute_result"
    }
   ],
   "source": [
    "?@eval"
   ]
  },
  {
   "cell_type": "code",
   "execution_count": null,
   "metadata": {},
   "outputs": [],
   "source": []
  }
 ],
 "metadata": {
  "kernelspec": {
   "display_name": "Julia 1.2.0",
   "language": "julia",
   "name": "julia-1.2"
  },
  "language_info": {
   "file_extension": ".jl",
   "mimetype": "application/julia",
   "name": "julia",
   "version": "1.2.0"
  }
 },
 "nbformat": 4,
 "nbformat_minor": 4
}
