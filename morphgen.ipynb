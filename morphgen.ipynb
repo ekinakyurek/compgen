{
 "cells": [
  {
   "cell_type": "code",
   "execution_count": null,
   "metadata": {},
   "outputs": [],
   "source": [
    "using Plots\n",
    "import Plots: px\n",
    "theme(:default)\n",
    "ENV[\"LINES\"] = 20"
   ]
  },
  {
   "cell_type": "code",
   "execution_count": null,
   "metadata": {},
   "outputs": [],
   "source": [
    "include(\"parser.jl\")\n",
    "include(\"models.jl\")\n",
    "gpu()\n",
    "download(SIGDataSet)"
   ]
  },
  {
   "cell_type": "code",
   "execution_count": null,
   "metadata": {},
   "outputs": [],
   "source": [
    "data  = map(parseDataLine, eachline(\"./data/Sigmorphon/task1/all/spanish-train-high\"));\n",
    "vocab = Vocabulary(data)\n",
    "edata = encode(data,vocab);\n",
    "test  = map(parseDataLine, eachline(\"./data/Sigmorphon/task1/all/spanish-test\"));\n",
    "tdata = encode(test,vocab);\n",
    "dictionary = [parseDataLine(line) for line in  eachline(\"./data/unimorph/spa/spa\") if line != \"\"];"
   ]
  },
  {
   "cell_type": "code",
   "execution_count": null,
   "metadata": {},
   "outputs": [],
   "source": [
    "vocab.chars.toElement;"
   ]
  },
  {
   "cell_type": "code",
   "execution_count": null,
   "metadata": {},
   "outputs": [],
   "source": [
    "vocab.specialIndices"
   ]
  },
  {
   "cell_type": "code",
   "execution_count": null,
   "metadata": {},
   "outputs": [],
   "source": [
    "trainsfs = unique(map(x->join(x.surface),data));\n",
    "testsfs  =  unique(map(x->join(x.surface),test)); \n",
    "dictsfs  = unique([map(x->join(x.surface),dictionary); trainsfs; testsfs]);"
   ]
  },
  {
   "cell_type": "code",
   "execution_count": null,
   "metadata": {},
   "outputs": [],
   "source": [
    "morph = EncAttentiveVAE(length(vocab.chars); H=512, E=16, Z=16)\n",
    "train_ae!(morph, data, vocab; optim=Adam(), epoch=50)"
   ]
  },
  {
   "cell_type": "code",
   "execution_count": null,
   "metadata": {},
   "outputs": [],
   "source": [
    "morphv =  EncAttentiveVAE(length(vocab.chars); H=512, E=16, Z=16)\n",
    "copytoparams(morphv.encoder, morph.encoder)\n",
    "copytoparams(morphv.Wμ, morph.Wμ)\n",
    "copytoparams(morphv.Wσa, morph.Wσa)\n",
    "copytoparams(morphv.Wμa, morph.Wμa)\n",
    "copytoparams(morphv.Wσ, morph.Wσ)\n",
    "copytoparams(morphv.Weaμ, morph.Weaμ)\n",
    "copytoparams(morphv.Weaσ, morph.Weaσ)\n",
    "morphv.decoder.embedding = morphv.encoder.embedding\n",
    "train_vae!(morphv, data, vocab; optim=Adam(), epoch=45, kl_weight=0.0f0, kl_rate = 0.1f0, fb_rate=3)"
   ]
  },
  {
   "cell_type": "code",
   "execution_count": null,
   "metadata": {},
   "outputs": [],
   "source": [
    "samples = sample(morphv, vocab, edata; N=10000);"
   ]
  },
  {
   "cell_type": "code",
   "execution_count": null,
   "metadata": {},
   "outputs": [],
   "source": [
    "unique(samples[findall([s ∈ trainsfs for s in samples])])"
   ]
  },
  {
   "cell_type": "code",
   "execution_count": null,
   "metadata": {},
   "outputs": [],
   "source": [
    "length(samples[findall([s ∈ trainsfs for s in samples])])"
   ]
  },
  {
   "cell_type": "code",
   "execution_count": null,
   "metadata": {},
   "outputs": [],
   "source": [
    "unique(samples[findall([s ∈ testsfs for s in samples])])"
   ]
  },
  {
   "cell_type": "code",
   "execution_count": null,
   "metadata": {},
   "outputs": [],
   "source": [
    "length(samples[findall([s ∈ testsfs for s in samples])])"
   ]
  },
  {
   "cell_type": "code",
   "execution_count": null,
   "metadata": {},
   "outputs": [],
   "source": [
    "unique(length(samples[findall([s ∈ dictsfs for s in samples])]))"
   ]
  },
  {
   "cell_type": "code",
   "execution_count": null,
   "metadata": {},
   "outputs": [],
   "source": [
    "sampleinter(morphv, vocab, data; N=10)"
   ]
  },
  {
   "cell_type": "code",
   "execution_count": null,
   "metadata": {},
   "outputs": [],
   "source": [
    "au, sigma, mu = calc_au(morphv,tdata; delta=0.01)"
   ]
  },
  {
   "cell_type": "code",
   "execution_count": null,
   "metadata": {},
   "outputs": [],
   "source": [
    "mi = calc_mi(morphv,tdata)"
   ]
  },
  {
   "cell_type": "code",
   "execution_count": null,
   "metadata": {},
   "outputs": [],
   "source": [
    "calc_ppl(morphv,tdata)"
   ]
  },
  {
   "cell_type": "code",
   "execution_count": null,
   "metadata": {},
   "outputs": [],
   "source": [
    "atts = attentions(morph,edata, vocab);"
   ]
  },
  {
   "cell_type": "code",
   "execution_count": null,
   "metadata": {},
   "outputs": [],
   "source": [
    "function getsingle(sfs,exs,perms, αs,i) \n",
    "    join(vocab.chars[sfs[i]]), map(e->join(vocab.chars[e]),exs[i][perms[i]]), map(x->x[:,perms[i],i],αs)\n",
    "end"
   ]
  },
  {
   "cell_type": "code",
   "execution_count": null,
   "metadata": {},
   "outputs": [],
   "source": [
    "i = rand(1:length(atts))\n",
    "s1,e1,α1 =  getsingle(atts[i]...,rand(1:16))\n",
    "ys = 1:512\n",
    "h1 = heatmap(e1, ys, α1.αu; size=(1200,800), xtickfont = font(10, \"Halvetica\"), title= s1 * \", mu\", xrotation = 45, titlefontsize=10, left_margin=100px, bottom_margin=100px, right_margin=100px);\n",
    "h2 = heatmap(e1, ys, α1.ασ ;size=(1200,800), xtickfont = font(10, \"Halvetica\"), title=s1 * \", sigma\", xrotation = 45, titlefontsize=10, left_margin=100px, bottom_margin=100px, right_margin=100px);"
   ]
  },
  {
   "cell_type": "code",
   "execution_count": null,
   "metadata": {},
   "outputs": [],
   "source": [
    "println(s1);println(e1)"
   ]
  },
  {
   "cell_type": "code",
   "execution_count": null,
   "metadata": {
    "scrolled": true
   },
   "outputs": [],
   "source": [
    "h1"
   ]
  },
  {
   "cell_type": "markdown",
   "metadata": {},
   "source": [
    "# To-Dos\n",
    "1. Add unrelated surface forms to the examplars too see whether the attention mappings are meaningful\n",
    "2. Comparing with Normal Vae\n",
    "3. Different Sampling Function on LM ($top_k$, temperature)\n",
    "4. Attention in Decoder\n",
    "5. Attention to the hidden state sequence, not just to the final state.\n",
    "6. Metric for testing generation quality?"
   ]
  },
  {
   "cell_type": "code",
   "execution_count": 89,
   "metadata": {},
   "outputs": [
    {
     "data": {
      "text/plain": [
       "nsample_packed_sequence (generic function with 1 method)"
      ]
     },
     "execution_count": 89,
     "metadata": {},
     "output_type": "execute_result"
    }
   ],
   "source": [
    "include(\"models.jl\")\n",
    "include(\"parser.jl\")"
   ]
  },
  {
   "cell_type": "code",
   "execution_count": 92,
   "metadata": {},
   "outputs": [],
   "source": [
    "morph3=nothing; morphv=nothing; morph=nothing; morph2=nothing; KnetLayers.gc();"
   ]
  },
  {
   "cell_type": "code",
   "execution_count": 112,
   "metadata": {},
   "outputs": [
    {
     "name": "stdout",
     "output_type": "stream",
     "text": [
      "(loss = 24.55620150756836,)\n",
      "(loss = 19.02036479034424,)\n",
      "(loss = 16.35387802734375,)\n",
      "(loss = 14.170919728088379,)\n",
      "(loss = 12.180779341125488,)\n",
      "(loss = 10.665629011535644,)\n",
      "(loss = 9.464852150726319,)\n",
      "(loss = 8.461235062408447,)\n",
      "(loss = 7.617784868621826,)\n",
      "(loss = 6.800411344146728,)\n",
      "(loss = 6.107074007034302,)\n",
      "(loss = 5.441792821121216,)\n",
      "(loss = 5.044499470901489,)\n",
      "(loss = 4.559214506912231,)\n",
      "(loss = 4.207478071212768,)\n",
      "(loss = 3.8297413303375243,)\n",
      "(loss = 3.556478614616394,)\n",
      "(loss = 3.3634676050186156,)\n",
      "(loss = 3.093875938606262,)\n",
      "(loss = 2.9913766212463377,)\n",
      "(loss = 2.711427449607849,)\n",
      "(loss = 2.519268382644653,)\n",
      "(loss = 2.5123119176864623,)\n",
      "(loss = 2.281764015197754,)\n",
      "(loss = 2.2385372722625734,)\n",
      "(loss = 2.1195120547294617,)\n",
      "(loss = 1.9896105458259583,)\n",
      "(loss = 1.9000165726661682,)\n",
      "(loss = 1.827603787136078,)\n",
      "(loss = 1.766822146320343,)\n",
      "(loss = 1.6349496092796325,)\n",
      "(loss = 1.720503440093994,)\n",
      "(loss = 1.5374233186721802,)\n",
      "(loss = 1.5526917066574097,)\n",
      "(loss = 1.4123271984100343,)\n",
      "(loss = 1.4232775096416472,)\n",
      "(loss = 1.4312446453094483,)\n",
      "(loss = 1.32110062789917,)\n",
      "(loss = 1.2951722806453705,)\n",
      "(loss = 1.3014481767177581,)\n"
     ]
    }
   ],
   "source": [
    "morph2 = VAE(length(vocab.chars); H=512, E=16, Z=8)\n",
    "train_ae!(morph2, data, vocab; optim=Adam(), B=16, epoch=40);"
   ]
  },
  {
   "cell_type": "code",
   "execution_count": null,
   "metadata": {},
   "outputs": [
    {
     "name": "stdout",
     "output_type": "stream",
     "text": [
      "(kl_weight = 0.1f0, fbr = 4, loss = 16.840670321655274)\n",
      "(kl_weight = 0.2f0, fbr = 4, loss = 15.982103681945802)\n",
      "(kl_weight = 0.3f0, fbr = 4, loss = 16.14379832611084)\n",
      "(kl_weight = 0.4f0, fbr = 4, loss = 16.412051783752442)\n",
      "(kl_weight = 0.5f0, fbr = 4, loss = 16.642443635559083)\n",
      "(kl_weight = 0.6f0, fbr = 4, loss = 16.818348011779786)\n",
      "(kl_weight = 0.70000005f0, fbr = 4, loss = 16.80897166290283)\n",
      "(kl_weight = 0.8000001f0, fbr = 4, loss = 16.771909648132326)\n",
      "(kl_weight = 0.9000001f0, fbr = 4, loss = 16.667205836486815)\n",
      "(kl_weight = 1.0f0, fbr = 4, loss = 16.551623442077638)\n",
      "(kl_weight = 1.0f0, fbr = 4, loss = 16.398298126220702)\n",
      "(kl_weight = 1.0f0, fbr = 4, loss = 15.90764072265625)\n",
      "(kl_weight = 1.0f0, fbr = 4, loss = 15.640142103576661)\n",
      "(kl_weight = 1.0f0, fbr = 4, loss = 15.331370698547364)\n",
      "(kl_weight = 1.0f0, fbr = 4, loss = 15.064206332397461)\n",
      "(kl_weight = 1.0f0, fbr = 4, loss = 14.772065257263183)\n",
      "(kl_weight = 1.0f0, fbr = 4, loss = 14.541408805847167)\n"
     ]
    }
   ],
   "source": [
    "morph3 = VAE(length(vocab.chars); H=512, E=16, Z=8)\n",
    "copytoparams(morph3.encoder, morph2.encoder)\n",
    "copytoparams(morph3.Wμ, morph2.Wμ)\n",
    "copytoparams(morph3.Wσ, morph2.Wσ)\n",
    "copytoparams(morph3.dec_embed, morph3.encoder.embedding)\n",
    "train_vae!(morph3, data, vocab; B=16, optim=Adam(lr=0.002), epoch=40, kl_weight=0.0f0, kl_rate = 0.1f0, fb_rate=4)"
   ]
  },
  {
   "cell_type": "code",
   "execution_count": null,
   "metadata": {},
   "outputs": [],
   "source": [
    "samples = sample(morph3, vocab, edata; N=10000, useprior=true)"
   ]
  },
  {
   "cell_type": "code",
   "execution_count": null,
   "metadata": {},
   "outputs": [],
   "source": [
    "samples[findall([s ∈ trainsfs for s in samples])]"
   ]
  },
  {
   "cell_type": "code",
   "execution_count": null,
   "metadata": {},
   "outputs": [],
   "source": [
    "samples[findall([s ∈ testsfs for s in samples])]"
   ]
  },
  {
   "cell_type": "code",
   "execution_count": null,
   "metadata": {},
   "outputs": [],
   "source": [
    "samples[findall([s ∈ dictsfs for s in samples])]"
   ]
  },
  {
   "cell_type": "code",
   "execution_count": null,
   "metadata": {},
   "outputs": [],
   "source": [
    "inters = sampleinter(morph3, vocab, data; N=10)"
   ]
  },
  {
   "cell_type": "code",
   "execution_count": null,
   "metadata": {},
   "outputs": [],
   "source": [
    "findall([s ∈ dictsfs for s in inters])"
   ]
  },
  {
   "cell_type": "code",
   "execution_count": null,
   "metadata": {},
   "outputs": [],
   "source": [
    "au, sigma, mu = calc_au(morph3, tdata; delta=0.01)"
   ]
  },
  {
   "cell_type": "code",
   "execution_count": null,
   "metadata": {},
   "outputs": [],
   "source": [
    "mi =  calc_mi(morph3,tdata)"
   ]
  },
  {
   "cell_type": "code",
   "execution_count": null,
   "metadata": {},
   "outputs": [],
   "source": [
    "calc_ppl(morph3,tdata; nsample=500, B=16)"
   ]
  },
  {
   "cell_type": "code",
   "execution_count": 138,
   "metadata": {},
   "outputs": [
    {
     "data": {
      "text/plain": [
       "nsample_packed_sequence (generic function with 1 method)"
      ]
     },
     "execution_count": 138,
     "metadata": {},
     "output_type": "execute_result"
    }
   ],
   "source": [
    "include(\"models.jl\")\n",
    "include(\"parser.jl\")"
   ]
  },
  {
   "cell_type": "code",
   "execution_count": null,
   "metadata": {},
   "outputs": [],
   "source": [
    "model = LSTM_LM(length(vocab.chars); H=768, E=16)"
   ]
  },
  {
   "cell_type": "code",
   "execution_count": null,
   "metadata": {},
   "outputs": [],
   "source": [
    "train_rnnlm!(model, data, vocab; epoch=40, optim=Adam(), B=16)"
   ]
  },
  {
   "cell_type": "code",
   "execution_count": null,
   "metadata": {},
   "outputs": [],
   "source": [
    " calc_ppllm(model, tdata)"
   ]
  },
  {
   "cell_type": "code",
   "execution_count": null,
   "metadata": {},
   "outputs": [],
   "source": [
    "samples = sample(model, vocab; N=10000)"
   ]
  },
  {
   "cell_type": "code",
   "execution_count": null,
   "metadata": {},
   "outputs": [],
   "source": [
    "samples[findall([s ∈ trainsfs for s in samples])]"
   ]
  },
  {
   "cell_type": "code",
   "execution_count": null,
   "metadata": {},
   "outputs": [],
   "source": [
    "samples[findall([s ∈ testsfs for s in samples])]"
   ]
  },
  {
   "cell_type": "code",
   "execution_count": null,
   "metadata": {},
   "outputs": [],
   "source": [
    "samples[findall([s ∈ dictsfs for s in samples])]"
   ]
  },
  {
   "cell_type": "code",
   "execution_count": null,
   "metadata": {},
   "outputs": [],
   "source": [
    " calc_ppllm(model, edata)"
   ]
  },
  {
   "cell_type": "code",
   "execution_count": null,
   "metadata": {},
   "outputs": [],
   "source": []
  }
 ],
 "metadata": {
  "kernelspec": {
   "display_name": "Julia 1.2.0",
   "language": "julia",
   "name": "julia-1.2"
  },
  "language_info": {
   "file_extension": ".jl",
   "mimetype": "application/julia",
   "name": "julia",
   "version": "1.2.0"
  }
 },
 "nbformat": 4,
 "nbformat_minor": 4
}
