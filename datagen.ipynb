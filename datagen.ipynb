{
 "cells": [
  {
   "cell_type": "code",
   "execution_count": null,
   "metadata": {},
   "outputs": [],
   "source": [
    "using KnetLayers, Random, Plots, DataFrames, StatsPlots, Query, PlotThemes, CSV\n",
    "import KnetLayers: IndexedDict, arrtype, nllmask\n",
    "setoptim!(M, optimizer) = for p in params(M); p.opt = deepcopy(optimizer); end\n",
    "gpu(0)\n",
    "KnetLayers.gc()"
   ]
  },
  {
   "cell_type": "code",
   "execution_count": null,
   "metadata": {},
   "outputs": [],
   "source": [
    "pyplot()\n",
    "theme(:ggplot2)\n",
    "ENV[\"COLUMNS\"] = 500\n",
    "ENV[\"LINES\"]   = 100"
   ]
  },
  {
   "cell_type": "code",
   "execution_count": null,
   "metadata": {},
   "outputs": [],
   "source": [
    "vocab    = IndexedDict([collect('0':'9'); collect('a':'z')])\n",
    "digits   = '0':2:'8'\n",
    "chars    = 'a':'h'\n",
    "holdout  = ['0' .* ('a':'b'); '2'.*('c':'d'); '4'.*('e':'f'); '8'.*('g':'h'); \"6h\"]\n",
    "data     = [d*c for d in digits, c in chars if d*c ∉ holdout ]"
   ]
  },
  {
   "cell_type": "code",
   "execution_count": null,
   "metadata": {},
   "outputs": [],
   "source": [
    "𝑿 = [vocab[collect(d)] for d in data]\n",
    "V = length(vocab)"
   ]
  },
  {
   "cell_type": "code",
   "execution_count": null,
   "metadata": {},
   "outputs": [],
   "source": [
    "# interact(e,h,W)     = softmax(sum(e .* (W * h), dims=1))\n",
    "interact(e,h,W)     = softmax(e .* (W * h))\n",
    "drop(x)             = dropout(x, 0.5)\n",
    "function attend(e,h,W,layer) \n",
    "    α = interact(e,h,W)\n",
    "    layer(sum(drop(α .* h), dims=2)), α \n",
    "end\n",
    "function encode(model, xi, 𝑿╲i=nothing)\n",
    "    e   = drop(vec(model.encoder(xi))) # 2H\n",
    "    if isnothing(𝑿╲i)\n",
    "        model.Wμ(e), model.Wσ(e), nothing\n",
    "    else          \n",
    "        h          = drop(mat(model.encoder(𝑿╲i))) # H x 2 x (T-1)\n",
    "        μ, αμ      = attend(e,h,model.Wμa.weight,model.Wμ)\n",
    "        logσ², ασ  = attend(e,h,model.Wσa.weight,model.Wσ)\n",
    "        μ, logσ², (αμ=αμ,ασ=ασ)\n",
    "    end \n",
    "end\n",
    "\n",
    "function decode(model, zi, 𝑿╲i=nothing)\n",
    "    if !isnothing(𝑿╲i)\n",
    "        h      = mat(drop(model.encoder(𝑿╲i)))  # H x 2 x (T-1)\n",
    "        zi, αz = attend(zi,h,model.Wza.weight,model.Wz)\n",
    "        model.decoder(reshape(zi,size(zi,1) ÷ 2,2)), αz\n",
    "    else\n",
    "        model.decoder(reshape(zi,size(zi,1) ÷ 2,2)), nothing\n",
    "    end\n",
    "end\n",
    "    \n",
    "\n",
    "isencatt(model)    = haskey(model, :Wμa) &&  haskey(model, :Wσa) \n",
    "isdecatt(model)    = haskey(model, :Wza) \n",
    "hiddensize(model)  = size(model.encoder.weight,1)\n",
    "elementtype(model) = eltype(model.encoder.weight)"
   ]
  },
  {
   "cell_type": "code",
   "execution_count": null,
   "metadata": {},
   "outputs": [],
   "source": [
    "function loss(model, xi, 𝑿╲i; encatt=false, decatt=false, results=false)\n",
    "    μ, logσ², αe =  encode(model, xi, (encatt ? 𝑿╲i : nothing))\n",
    "    σ² = exp.(logσ²)\n",
    "    σ  = sqrt.(σ²)\n",
    "    z  = μ .+ randn!(similar(μ)) .* σ\n",
    "    xp, αd = decode(model, z, (decatt ? 𝑿╲i : nothing))\n",
    "    KL = -sum(1 .+ logσ² .- μ.^2 .- σ²)/ 2length(μ)\n",
    "    L  = nll(xp,xi) + KL\n",
    "    if results\n",
    "        L, greedy(xp), (αe=αe, αd=αd)\n",
    "    else\n",
    "        L\n",
    "    end\n",
    "end\n",
    "\n",
    "function eval(model, vocab, 𝑿)\n",
    "    results  = Dict()\n",
    "    for i=1:length(𝑿)\n",
    "        xi  = 𝑿[i]\n",
    "        𝑿╲i = hcat([𝑿[1:i-1]; 𝑿[i+1:end]]...)\n",
    "        L, y, att = loss(model, xi,  𝑿╲i; encatt=isencatt(model), decatt=isdecatt(model), results=true)\n",
    "        results[xi] = (L=L,y=y,att=att)\n",
    "    end\n",
    "    decres = empty(results)\n",
    "    for (k,v) in results\n",
    "        decres[join(vocab[k])] = (L=v.L,y=join(vocab[v.y]), att = v.att)\n",
    "    end\n",
    "    return decres\n",
    "end\n",
    "\n",
    "function train!(model, 𝑿; epoch=20, optim=Adam())\n",
    "    setoptim!(model,optim)\n",
    "    for i=1:epoch\n",
    "        lss, cnt= 0.,0.\n",
    "        for (i,xi) in enumerate(shuffle(𝑿))\n",
    "            xi   = 𝑿[i]\n",
    "            𝑿╲i = hcat([𝑿[1:i-1]; 𝑿[i+1:end] ]...)\n",
    "            J = @diff loss(model, xi, 𝑿╲i, encatt=isencatt(model), decatt=isdecatt(model))\n",
    "            for w in params(J)\n",
    "                KnetLayers.update!(value(w), grad(J,w), w.opt)\n",
    "            end            \n",
    "            lss += value(J)\n",
    "            cnt += 1\n",
    "        end\n",
    "    end\n",
    "end"
   ]
  },
  {
   "cell_type": "code",
   "execution_count": null,
   "metadata": {},
   "outputs": [],
   "source": [
    "function samplingparams(model, 𝑿; useprior=false)\n",
    "    H,T   = hiddensize(model), elementtype(model)\n",
    "    if useprior\n",
    "        arrtype(zeros(T,2H,1)), arrtype(ones(T,2H,1))\n",
    "    else\n",
    "        μ, σ² = arrtype(zeros(T,2H,1)), arrtype(zeros(T,2H,1))\n",
    "        for i=1:length(𝑿)\n",
    "            xi  = 𝑿[i]\n",
    "            𝑿╲i = hcat([𝑿[1:i-1];𝑿[i+1:end]]...)\n",
    "            μi, logσ²,_ =  encode(model, xi,  isencatt(model) ? 𝑿╲i : nothing)\n",
    "            μ  .+= μi\n",
    "            σ² .+= exp.(logσ²)\n",
    "        end\n",
    "        μ/length(𝑿),  σ²/length(𝑿)\n",
    "    end\n",
    "end\n",
    "\n",
    "function sample(model, vocab, 𝑿; N=100, useprior=false)\n",
    "    μ, σ² =  samplingparams(model,𝑿; useprior=useprior) \n",
    "    σ  = sqrt.(σ²)\n",
    "    𝑿 =  hcat(𝑿...)\n",
    "    samples = []\n",
    "    for i=1:N\n",
    "        z     = μ .+ randn!(similar(μ)) .* σ\n",
    "        xp, _ = decode(model, z, (isdecatt(model) ? 𝑿 : nothing))\n",
    "        push!(samples,join(vocab[greedy(xp)]))\n",
    "    end\n",
    "    return samples\n",
    "end"
   ]
  },
  {
   "cell_type": "code",
   "execution_count": null,
   "metadata": {},
   "outputs": [],
   "source": [
    "# interact(e,h,W)     = softmax(sum(e .* (W * h), dims=1))\n",
    "# interact_b(e,h,mask::Nothing) = softmax(e .* h, dims=(1,2))\n",
    "# drop(x) = dropout(x, 0.5)\n",
    "function interact(e, h; mask=nothing, sumout=false)\n",
    "    y = isnothing(mask) ?  (e .* h) : ( e .* h .+ mask)\n",
    "    if sumout\n",
    "        α = softmax(mat(sum(y,dims=1)),dims=1)\n",
    "        reshape(α,1,size(α)...)\n",
    "    else\n",
    "        softmax(y, dims=(1,2))\n",
    "    end\n",
    "end\n",
    "\n",
    "function attend(e, h, W, layer, mask=nothing; sumout=false) \n",
    "    h3d = reshape(W*h, size(h,1),size(h,2),1)\n",
    "    h   = reshape(h, size(h,1),size(h,2),1)\n",
    "    α   = interact(e,h3d; mask=mask, sumout=sumout)  \n",
    "    layer(mat(sum(drop(α .* h), dims=2))), α \n",
    "end\n",
    "\n",
    "function encode(model, xi, 𝑿=nothing, mask=nothing)\n",
    "    e = drop(model.encoder(xi))\n",
    "    H,N,B = size(e)\n",
    "    if isnothing(𝑿)\n",
    "        e = reshape(e,H*N,B)\n",
    "        model.Wμ(e), model.Wσ(e), nothing\n",
    "    else   \n",
    "        e = reshape(e,H*N,1,B)\n",
    "        h  = drop(mat(model.encoder(𝑿))) # 2H x  L\n",
    "        μ, αμ    = attend(e,h,model.Wμa.weight,model.Wμ, mask)\n",
    "        logσ², ασ = attend(e,h,model.Wσa.weight,model.Wσ, mask)\n",
    "        μ, logσ², (αμ=αμ,ασ=ασ)\n",
    "    end \n",
    "end\n",
    "\n",
    "function decode(model, zi, 𝑿=nothing, mask=nothing)\n",
    "    if !isnothing(𝑿)\n",
    "        h      = mat(drop(model.encoder(𝑿)))  # 2H x B\n",
    "        zi     = reshape(zi,size(zi,1),1,size(zi,2))\n",
    "        zi, αz = attend(zi,h,model.Wza.weight,model.Wz, mask)\n",
    "        model.decoder(reshape(zi,size(zi,1) ÷ 2,2,size(zi,2))), αz\n",
    "    else\n",
    "        model.decoder(reshape(zi,size(zi,1) ÷ 2,2,size(zi,2))), nothing\n",
    "    end\n",
    "end\n",
    "\n",
    "\n",
    "function loss(model, xi, 𝑿; mask=nothing, encatt=false, decatt=false, results=false)\n",
    "    μ, logσ², αe =  encode(model, xi, (encatt ? 𝑿 : nothing), mask)\n",
    "    σ² = exp.(logσ²)\n",
    "    σ  = sqrt.(σ²)\n",
    "    z  = μ .+ randn!(similar(μ)) .* σ\n",
    "    xp, αd = decode(model, z, (decatt ? 𝑿 : nothing), mask)\n",
    "    KL = -sum(1.0f0 .+ logσ² .- μ.^2 .- σ²) / 2length(μ)\n",
    "    L  = nllmask(xp,xi) + KL\n",
    "    if results\n",
    "        L, greedy(xp), (αe=αe, αd=αd)\n",
    "    else\n",
    "        L\n",
    "    end\n",
    "end\n",
    "\n",
    "\n",
    "function get_mask(indices,L)\n",
    "    B = length(indices)\n",
    "    mask = zeros(Float32,1,L,B)\n",
    "    for (i,ind) in enumerate(indices)\n",
    "        mask[1,ind,i] = -1.0f30\n",
    "    end\n",
    "    return arrtype(mask)\n",
    "end\n",
    "    \n",
    "\n",
    "batches(X,B) = [collect(i:i+B-1) for i=1:B:length(X)-B+1]\n",
    "\n",
    "    \n",
    "function train!(model, 𝑿; epoch=20, optim=Adam(), B=2)\n",
    "    setoptim!(model,optim)\n",
    "    for i=1:epoch\n",
    "        lss, cnt= 0.,0.\n",
    "        X = shuffle(𝑿)\n",
    "        for (i,indices) in enumerate(batches(X,B))\n",
    "            xi   = hcat(X[indices]...)\n",
    "            xt   = hcat(X...)\n",
    "            mask = get_mask(indices,length(X))\n",
    "            J = @diff loss(model, xi, xt, mask=mask, encatt=isencatt(model), decatt=isdecatt(model))\n",
    "            for w in params(J)\n",
    "                KnetLayers.update!(value(w), grad(J,w), w.opt)\n",
    "            end            \n",
    "            lss += value(J)\n",
    "            cnt += 1\n",
    "        end\n",
    "    end\n",
    "end"
   ]
  },
  {
   "cell_type": "code",
   "execution_count": null,
   "metadata": {},
   "outputs": [],
   "source": [
    "function samplingparams(model, 𝑿; useprior=false, B=2)\n",
    "    H,T   = hiddensize(model), elementtype(model)\n",
    "    if useprior\n",
    "        arrtype(zeros(T,2H,1)), arrtype(ones(T,2H,1))\n",
    "    else\n",
    "        μ, σ² = arrtype(zeros(T,2H,1)), arrtype(zeros(T,2H,1))\n",
    "        for (i,indices) in enumerate(batches(𝑿,B))\n",
    "            xi   = hcat(𝑿[indices]...)\n",
    "            xt   = hcat(𝑿...)\n",
    "            mask = get_mask(indices,length(𝑿))\n",
    "            μi, logσ²,_ =  encode(model, xi,  isencatt(model) ? xt : nothing, mask)\n",
    "            μ  .+= sum(μi,dims=2)\n",
    "            σ² .+= sum(exp.(logσ²),dims=2)\n",
    "        end\n",
    "        μ/length(𝑿),  σ²/length(𝑿)\n",
    "    end\n",
    "end\n",
    "\n",
    "greedy(y) = mapslices(argmax, y, dims=1)\n",
    "function sample(model, vocab, 𝑿; N=100, useprior=false)\n",
    "    μ, σ² =  samplingparams(model,𝑿; useprior=useprior) \n",
    "    xt    =  hcat(𝑿...)\n",
    "    r     =  similar(μ,size(μ,1),N)\n",
    "    z     =  μ .+ randn!(r) .* sqrt.(σ²)\n",
    "    xp, _ =  decode(model, z, (isdecatt(model) ? xt : nothing),  nothing)\n",
    "    vec(mapslices(x->join(vocab[greedy(x)]), convert(Array, xp), dims=(1,2)))\n",
    "end"
   ]
  },
  {
   "cell_type": "code",
   "execution_count": null,
   "metadata": {},
   "outputs": [],
   "source": [
    "cmodel = get_vae_models(256)[3]\n",
    "train!(cmodel, 𝑿; epoch=30, optim=Adam(),B=2)\n",
    "sampled = sample(cmodel, vocab, 𝑿; N=100)\n",
    "unseen = [s for s in sampled if s ∈ holdout]\n",
    "wrong  = [s for s in sampled if s ∉ [data;holdout]]   \n",
    "unique(unseen)\n",
    "# push!(df2, (isencatt(cmodel), isdecatt(cmodel), H, opt.lr, \"$opt\", epoch,  length(unseen), length(holdout)-length(unique(unseen)), length(wrong),length(unique(unseen)) ))\n",
    "# print((row+=1), \" \")"
   ]
  },
  {
   "cell_type": "code",
   "execution_count": null,
   "metadata": {},
   "outputs": [],
   "source": [
    "function probmap(y)\n",
    "    u=unique(y)\n",
    "    Dict([(i,count(x->x==i,y) / length(y)) for i in u])\n",
    "end"
   ]
  },
  {
   "cell_type": "code",
   "execution_count": null,
   "metadata": {},
   "outputs": [],
   "source": [
    "function get_vae_models(H=256)\n",
    "    encoder    = Embed(input=V,output=H)\n",
    "    decoder    = Embed(input=H,output=V)\n",
    "    Wμa        = Multiply(input=2H,output=2H)\n",
    "    Wμ         = Dense(input=2H,output=2H, activation=ELU())\n",
    "    Wza        = Multiply(input=2H,output=2H)\n",
    "    Wz         = Dense(input=2H,output=2H, activation=ELU())\n",
    "    Wσa        = Multiply(input=2H,output=2H)\n",
    "    Wσ         = Dense(input=2H,output=2H, activation=ELU())\n",
    "    model_atte = (encoder=encoder, Wμa=Wμa, Wμ=Wμ, Wσa=Wσa, Wσ=Wσ, decoder=decoder)\n",
    "    model_vae  = (encoder=encoder, Wμa=Wμa, Wμ=Wμ, Wσ=Wσ, decoder=decoder)\n",
    "    model_attd = (encoder=encoder, Wμ=Wμ, Wσ=Wσ, Wza=Wza, Wz=Wz, decoder=decoder)\n",
    "    model_attde = (encoder=encoder, Wμa=Wμa, Wμ=Wμ, Wσa=Wσa, Wσ=Wσ, Wza=Wza, Wz=Wz, decoder=decoder)\n",
    "    (model_vae, model_atte, model_attd, model_attde);\n",
    "end"
   ]
  },
  {
   "cell_type": "code",
   "execution_count": 153,
   "metadata": {},
   "outputs": [
    {
     "data": {
      "text/html": [
       "<table class=\"data-frame\"><thead><tr><th></th><th>EncoderAtt</th><th>DecoderAtt</th><th>B</th><th>H</th><th>lr</th><th>Optimizer</th><th>Epoch</th><th>UnseenCnt</th><th>MissedClass</th><th>WrongCount</th></tr><tr><th></th><th>Bool</th><th>Bool</th><th>Int64</th><th>Int64</th><th>Float64</th><th>String</th><th>Int64</th><th>Int64</th><th>Int64</th><th>Int64</th></tr></thead><tbody><p>0 rows × 10 columns</p></tbody></table>"
      ],
      "text/latex": [
       "\\begin{tabular}{r|cccccccccc}\n",
       "\t& EncoderAtt & DecoderAtt & B & H & lr & Optimizer & Epoch & UnseenCnt & MissedClass & WrongCount\\\\\n",
       "\t\\hline\n",
       "\t& Bool & Bool & Int64 & Int64 & Float64 & String & Int64 & Int64 & Int64 & Int64\\\\\n",
       "\t\\hline\n",
       "\\end{tabular}\n"
      ],
      "text/plain": [
       "0×10 DataFrame\n"
      ]
     },
     "execution_count": 153,
     "metadata": {},
     "output_type": "execute_result"
    }
   ],
   "source": [
    "df2 = DataFrame(EncoderAtt = Bool[], DecoderAtt = Bool[], B=Int[], H = Int[], lr=Float64[], Optimizer = String[], Epoch = Int[], UnseenCnt=Int[], MissedClass=Int[], WrongCount=Int[])"
   ]
  },
  {
   "cell_type": "code",
   "execution_count": null,
   "metadata": {},
   "outputs": [
    {
     "name": "stdout",
     "output_type": "stream",
     "text": [
      "1 2 3 4 5 6 7 8 9 10 11 12 13 14 15 16 17 18 19 20 21 22 23 24 25 26 27 28 29 30 31 32 33 34 35 36 37 38 39 40 41 42 43 44 45 46 47 48 49 50 51 52 53 54 55 56 57 58 59 60 61 62 63 64 65 66 67 68 69 70 71 72 73 74 75 76 77 78 79 80 81 82 83 84 85 86 87 88 89 90 91 92 93 94 95 96 97 98 99 100 101 102 103 104 105 106 107 108 109 110 111 112 113 114 115 116 117 118 "
     ]
    }
   ],
   "source": [
    "row = 0\n",
    "for H in (256,128)\n",
    "    for opt in (Adam, Rmsprop, SGD)\n",
    "        for lr in (0.001, 0.01, 0.1, 1.0)\n",
    "            for B in (1,2,4,8,16)\n",
    "                for epoch in (10,20,30)\n",
    "                    for model in get_vae_models(H)\n",
    "                        cmodel = deepcopy(model)\n",
    "                        train!(cmodel, 𝑿; epoch=epoch, optim=opt(lr=lr))\n",
    "                        sampled = sample(cmodel, vocab, 𝑿; N=100)\n",
    "                        unseen = [s for s in sampled if s ∈ holdout]\n",
    "                        wrong  = [s for s in sampled if s ∉ [data;holdout]]              \n",
    "                        push!(df2, (isencatt(cmodel), isdecatt(cmodel), B, H, lr, \"$opt\", epoch,  length(unseen), length(holdout)-length(unique(unseen)), length(wrong)))\n",
    "                        print((row+=1), \" \")\n",
    "                    end\n",
    "                end\n",
    "           end\n",
    "        end\n",
    "    end\n",
    "end\n",
    "df2[!,:UnseenClass] = length(holdout) .- df2.MissedClass;"
   ]
  },
  {
   "cell_type": "code",
   "execution_count": 17,
   "metadata": {},
   "outputs": [],
   "source": [
    "df2[!,:UnseenClass] = length(holdout) .- df2.MissedClass;"
   ]
  },
  {
   "cell_type": "code",
   "execution_count": 157,
   "metadata": {},
   "outputs": [
    {
     "data": {
      "text/html": [
       "<table class=\"data-frame\"><thead><tr><th></th><th>EncoderAtt</th><th>DecoderAtt</th><th>B</th><th>H</th><th>lr</th><th>Optimizer</th><th>Epoch</th><th>UnseenCnt</th><th>MissedClass</th><th>WrongCount</th><th>UnseenClass</th></tr><tr><th></th><th>Bool</th><th>Bool</th><th>Int64</th><th>Int64</th><th>Float64</th><th>String</th><th>Int64</th><th>Int64</th><th>Int64</th><th>Int64</th><th>Int64</th></tr></thead><tbody><p>1,440 rows × 11 columns</p><tr><th>1</th><td>0</td><td>0</td><td>4</td><td>256</td><td>0.001</td><td>Rmsprop</td><td>20</td><td>23</td><td>0</td><td>0</td><td>9</td></tr><tr><th>2</th><td>1</td><td>0</td><td>1</td><td>256</td><td>0.01</td><td>Rmsprop</td><td>20</td><td>21</td><td>0</td><td>0</td><td>9</td></tr><tr><th>3</th><td>1</td><td>0</td><td>4</td><td>256</td><td>0.01</td><td>Rmsprop</td><td>10</td><td>27</td><td>0</td><td>0</td><td>9</td></tr><tr><th>4</th><td>1</td><td>0</td><td>2</td><td>128</td><td>0.01</td><td>Rmsprop</td><td>10</td><td>20</td><td>0</td><td>0</td><td>9</td></tr><tr><th>5</th><td>1</td><td>0</td><td>16</td><td>128</td><td>0.01</td><td>Rmsprop</td><td>30</td><td>26</td><td>0</td><td>0</td><td>9</td></tr><tr><th>6</th><td>1</td><td>0</td><td>2</td><td>128</td><td>0.1</td><td>SGD</td><td>20</td><td>18</td><td>0</td><td>0</td><td>9</td></tr><tr><th>7</th><td>0</td><td>0</td><td>8</td><td>256</td><td>0.001</td><td>Adam</td><td>10</td><td>23</td><td>0</td><td>1</td><td>9</td></tr><tr><th>8</th><td>1</td><td>0</td><td>2</td><td>256</td><td>0.01</td><td>Adam</td><td>30</td><td>20</td><td>0</td><td>1</td><td>9</td></tr><tr><th>9</th><td>1</td><td>0</td><td>4</td><td>256</td><td>0.01</td><td>Adam</td><td>20</td><td>23</td><td>0</td><td>1</td><td>9</td></tr><tr><th>10</th><td>1</td><td>0</td><td>4</td><td>256</td><td>0.01</td><td>Rmsprop</td><td>20</td><td>26</td><td>0</td><td>1</td><td>9</td></tr><tr><th>11</th><td>1</td><td>0</td><td>8</td><td>256</td><td>0.01</td><td>Rmsprop</td><td>20</td><td>20</td><td>0</td><td>1</td><td>9</td></tr><tr><th>12</th><td>1</td><td>0</td><td>16</td><td>256</td><td>0.01</td><td>Rmsprop</td><td>10</td><td>18</td><td>0</td><td>1</td><td>9</td></tr><tr><th>13</th><td>1</td><td>0</td><td>8</td><td>128</td><td>0.01</td><td>Adam</td><td>20</td><td>21</td><td>0</td><td>1</td><td>9</td></tr><tr><th>14</th><td>1</td><td>0</td><td>1</td><td>256</td><td>0.01</td><td>Rmsprop</td><td>10</td><td>17</td><td>0</td><td>2</td><td>9</td></tr><tr><th>15</th><td>1</td><td>0</td><td>2</td><td>256</td><td>0.1</td><td>SGD</td><td>20</td><td>25</td><td>0</td><td>2</td><td>9</td></tr><tr><th>16</th><td>1</td><td>0</td><td>4</td><td>256</td><td>0.1</td><td>SGD</td><td>30</td><td>24</td><td>0</td><td>2</td><td>9</td></tr><tr><th>17</th><td>1</td><td>0</td><td>16</td><td>256</td><td>0.1</td><td>SGD</td><td>20</td><td>17</td><td>0</td><td>2</td><td>9</td></tr><tr><th>18</th><td>1</td><td>0</td><td>16</td><td>256</td><td>0.1</td><td>SGD</td><td>30</td><td>26</td><td>0</td><td>2</td><td>9</td></tr><tr><th>19</th><td>1</td><td>0</td><td>8</td><td>128</td><td>0.01</td><td>Rmsprop</td><td>20</td><td>23</td><td>0</td><td>2</td><td>9</td></tr><tr><th>20</th><td>1</td><td>0</td><td>8</td><td>128</td><td>0.1</td><td>SGD</td><td>20</td><td>15</td><td>0</td><td>2</td><td>9</td></tr><tr><th>21</th><td>1</td><td>0</td><td>2</td><td>256</td><td>0.1</td><td>SGD</td><td>30</td><td>24</td><td>0</td><td>3</td><td>9</td></tr><tr><th>22</th><td>1</td><td>0</td><td>4</td><td>128</td><td>0.01</td><td>Rmsprop</td><td>10</td><td>22</td><td>0</td><td>3</td><td>9</td></tr><tr><th>23</th><td>0</td><td>0</td><td>1</td><td>256</td><td>0.001</td><td>Adam</td><td>20</td><td>23</td><td>0</td><td>4</td><td>9</td></tr><tr><th>24</th><td>0</td><td>0</td><td>2</td><td>256</td><td>0.001</td><td>Rmsprop</td><td>20</td><td>22</td><td>0</td><td>4</td><td>9</td></tr><tr><th>25</th><td>0</td><td>0</td><td>2</td><td>128</td><td>0.001</td><td>Rmsprop</td><td>30</td><td>22</td><td>0</td><td>4</td><td>9</td></tr><tr><th>26</th><td>0</td><td>0</td><td>4</td><td>128</td><td>0.001</td><td>Adam</td><td>30</td><td>19</td><td>0</td><td>5</td><td>9</td></tr><tr><th>27</th><td>1</td><td>0</td><td>2</td><td>256</td><td>0.001</td><td>Rmsprop</td><td>30</td><td>23</td><td>0</td><td>6</td><td>9</td></tr><tr><th>28</th><td>0</td><td>0</td><td>16</td><td>128</td><td>0.001</td><td>Adam</td><td>30</td><td>19</td><td>0</td><td>6</td><td>9</td></tr><tr><th>29</th><td>0</td><td>0</td><td>2</td><td>128</td><td>0.1</td><td>SGD</td><td>20</td><td>24</td><td>0</td><td>8</td><td>9</td></tr><tr><th>30</th><td>0</td><td>0</td><td>2</td><td>256</td><td>0.1</td><td>SGD</td><td>30</td><td>23</td><td>0</td><td>9</td><td>9</td></tr><tr><th>31</th><td>1</td><td>0</td><td>16</td><td>128</td><td>0.1</td><td>SGD</td><td>10</td><td>19</td><td>0</td><td>9</td><td>9</td></tr><tr><th>32</th><td>0</td><td>0</td><td>4</td><td>256</td><td>0.1</td><td>SGD</td><td>20</td><td>20</td><td>0</td><td>13</td><td>9</td></tr><tr><th>33</th><td>1</td><td>0</td><td>4</td><td>256</td><td>0.1</td><td>SGD</td><td>10</td><td>23</td><td>0</td><td>14</td><td>9</td></tr><tr><th>34</th><td>1</td><td>0</td><td>16</td><td>256</td><td>0.1</td><td>SGD</td><td>10</td><td>22</td><td>0</td><td>14</td><td>9</td></tr><tr><th>35</th><td>0</td><td>0</td><td>16</td><td>256</td><td>0.001</td><td>Rmsprop</td><td>30</td><td>17</td><td>0</td><td>17</td><td>9</td></tr><tr><th>36</th><td>1</td><td>0</td><td>8</td><td>256</td><td>0.001</td><td>Rmsprop</td><td>20</td><td>21</td><td>0</td><td>27</td><td>9</td></tr><tr><th>37</th><td>1</td><td>0</td><td>1</td><td>256</td><td>0.01</td><td>Adam</td><td>10</td><td>23</td><td>1</td><td>0</td><td>8</td></tr><tr><th>38</th><td>1</td><td>0</td><td>4</td><td>256</td><td>0.01</td><td>Adam</td><td>30</td><td>22</td><td>1</td><td>0</td><td>8</td></tr><tr><th>39</th><td>1</td><td>0</td><td>16</td><td>256</td><td>0.01</td><td>Adam</td><td>20</td><td>21</td><td>1</td><td>0</td><td>8</td></tr><tr><th>40</th><td>1</td><td>0</td><td>16</td><td>256</td><td>0.01</td><td>Adam</td><td>30</td><td>20</td><td>1</td><td>0</td><td>8</td></tr><tr><th>41</th><td>1</td><td>0</td><td>1</td><td>128</td><td>0.01</td><td>Adam</td><td>20</td><td>18</td><td>1</td><td>0</td><td>8</td></tr><tr><th>42</th><td>1</td><td>0</td><td>2</td><td>128</td><td>0.01</td><td>Adam</td><td>20</td><td>17</td><td>1</td><td>0</td><td>8</td></tr><tr><th>43</th><td>1</td><td>0</td><td>4</td><td>128</td><td>0.01</td><td>Adam</td><td>20</td><td>20</td><td>1</td><td>0</td><td>8</td></tr><tr><th>44</th><td>1</td><td>0</td><td>4</td><td>128</td><td>0.01</td><td>Rmsprop</td><td>30</td><td>21</td><td>1</td><td>0</td><td>8</td></tr><tr><th>45</th><td>1</td><td>0</td><td>2</td><td>128</td><td>0.1</td><td>SGD</td><td>30</td><td>21</td><td>1</td><td>0</td><td>8</td></tr><tr><th>46</th><td>1</td><td>0</td><td>1</td><td>256</td><td>0.01</td><td>Rmsprop</td><td>30</td><td>24</td><td>1</td><td>1</td><td>8</td></tr><tr><th>47</th><td>1</td><td>0</td><td>16</td><td>256</td><td>0.01</td><td>Rmsprop</td><td>30</td><td>20</td><td>1</td><td>1</td><td>8</td></tr><tr><th>48</th><td>0</td><td>0</td><td>8</td><td>128</td><td>0.001</td><td>Adam</td><td>20</td><td>22</td><td>1</td><td>1</td><td>8</td></tr><tr><th>49</th><td>1</td><td>0</td><td>8</td><td>128</td><td>0.01</td><td>Adam</td><td>10</td><td>23</td><td>1</td><td>1</td><td>8</td></tr><tr><th>50</th><td>1</td><td>0</td><td>16</td><td>128</td><td>0.01</td><td>Adam</td><td>10</td><td>17</td><td>1</td><td>1</td><td>8</td></tr><tr><th>51</th><td>1</td><td>0</td><td>16</td><td>128</td><td>0.01</td><td>Adam</td><td>30</td><td>20</td><td>1</td><td>1</td><td>8</td></tr><tr><th>52</th><td>1</td><td>0</td><td>8</td><td>128</td><td>0.01</td><td>Rmsprop</td><td>30</td><td>26</td><td>1</td><td>1</td><td>8</td></tr><tr><th>53</th><td>1</td><td>0</td><td>1</td><td>128</td><td>0.1</td><td>SGD</td><td>20</td><td>19</td><td>1</td><td>1</td><td>8</td></tr><tr><th>54</th><td>1</td><td>0</td><td>16</td><td>256</td><td>0.001</td><td>Adam</td><td>30</td><td>21</td><td>1</td><td>2</td><td>8</td></tr><tr><th>55</th><td>1</td><td>0</td><td>8</td><td>256</td><td>0.01</td><td>Adam</td><td>20</td><td>26</td><td>1</td><td>2</td><td>8</td></tr><tr><th>56</th><td>0</td><td>0</td><td>8</td><td>256</td><td>0.001</td><td>Rmsprop</td><td>20</td><td>18</td><td>1</td><td>2</td><td>8</td></tr><tr><th>57</th><td>1</td><td>0</td><td>8</td><td>256</td><td>0.1</td><td>SGD</td><td>30</td><td>21</td><td>1</td><td>2</td><td>8</td></tr><tr><th>58</th><td>0</td><td>0</td><td>1</td><td>128</td><td>0.001</td><td>Rmsprop</td><td>20</td><td>21</td><td>1</td><td>2</td><td>8</td></tr><tr><th>59</th><td>1</td><td>0</td><td>1</td><td>128</td><td>0.01</td><td>Rmsprop</td><td>30</td><td>21</td><td>1</td><td>2</td><td>8</td></tr><tr><th>60</th><td>1</td><td>0</td><td>16</td><td>128</td><td>0.01</td><td>Rmsprop</td><td>10</td><td>21</td><td>1</td><td>2</td><td>8</td></tr><tr><th>61</th><td>1</td><td>0</td><td>4</td><td>128</td><td>0.1</td><td>SGD</td><td>20</td><td>20</td><td>1</td><td>2</td><td>8</td></tr><tr><th>62</th><td>1</td><td>0</td><td>8</td><td>128</td><td>0.1</td><td>SGD</td><td>30</td><td>21</td><td>1</td><td>2</td><td>8</td></tr><tr><th>63</th><td>1</td><td>0</td><td>4</td><td>256</td><td>0.001</td><td>Adam</td><td>30</td><td>20</td><td>1</td><td>3</td><td>8</td></tr><tr><th>64</th><td>0</td><td>0</td><td>16</td><td>256</td><td>0.001</td><td>Rmsprop</td><td>10</td><td>26</td><td>1</td><td>3</td><td>8</td></tr><tr><th>65</th><td>1</td><td>0</td><td>8</td><td>256</td><td>0.1</td><td>SGD</td><td>20</td><td>22</td><td>1</td><td>3</td><td>8</td></tr><tr><th>66</th><td>1</td><td>0</td><td>1</td><td>128</td><td>0.1</td><td>Adam</td><td>30</td><td>11</td><td>1</td><td>3</td><td>8</td></tr><tr><th>67</th><td>1</td><td>0</td><td>1</td><td>128</td><td>0.1</td><td>SGD</td><td>30</td><td>17</td><td>1</td><td>3</td><td>8</td></tr><tr><th>68</th><td>1</td><td>0</td><td>1</td><td>256</td><td>0.001</td><td>Adam</td><td>30</td><td>19</td><td>1</td><td>4</td><td>8</td></tr><tr><th>69</th><td>1</td><td>0</td><td>2</td><td>256</td><td>0.001</td><td>Adam</td><td>30</td><td>23</td><td>1</td><td>4</td><td>8</td></tr><tr><th>70</th><td>0</td><td>0</td><td>4</td><td>256</td><td>0.001</td><td>Adam</td><td>20</td><td>17</td><td>1</td><td>4</td><td>8</td></tr><tr><th>71</th><td>1</td><td>0</td><td>8</td><td>256</td><td>0.001</td><td>Adam</td><td>30</td><td>20</td><td>1</td><td>4</td><td>8</td></tr><tr><th>72</th><td>1</td><td>0</td><td>16</td><td>256</td><td>0.01</td><td>Rmsprop</td><td>20</td><td>28</td><td>1</td><td>4</td><td>8</td></tr><tr><th>73</th><td>1</td><td>0</td><td>8</td><td>128</td><td>0.01</td><td>Rmsprop</td><td>10</td><td>28</td><td>1</td><td>4</td><td>8</td></tr><tr><th>74</th><td>1</td><td>0</td><td>8</td><td>256</td><td>0.01</td><td>Rmsprop</td><td>30</td><td>26</td><td>1</td><td>5</td><td>8</td></tr><tr><th>75</th><td>1</td><td>0</td><td>4</td><td>256</td><td>0.1</td><td>SGD</td><td>20</td><td>22</td><td>1</td><td>5</td><td>8</td></tr><tr><th>76</th><td>0</td><td>0</td><td>2</td><td>128</td><td>0.001</td><td>Adam</td><td>30</td><td>19</td><td>1</td><td>5</td><td>8</td></tr><tr><th>77</th><td>0</td><td>0</td><td>4</td><td>128</td><td>0.001</td><td>Rmsprop</td><td>20</td><td>18</td><td>1</td><td>5</td><td>8</td></tr><tr><th>78</th><td>0</td><td>0</td><td>16</td><td>128</td><td>0.1</td><td>SGD</td><td>30</td><td>22</td><td>1</td><td>5</td><td>8</td></tr><tr><th>79</th><td>0</td><td>0</td><td>16</td><td>256</td><td>0.001</td><td>Adam</td><td>30</td><td>12</td><td>1</td><td>6</td><td>8</td></tr><tr><th>80</th><td>1</td><td>0</td><td>8</td><td>256</td><td>0.001</td><td>Rmsprop</td><td>30</td><td>18</td><td>1</td><td>6</td><td>8</td></tr><tr><th>81</th><td>0</td><td>0</td><td>4</td><td>128</td><td>0.1</td><td>SGD</td><td>20</td><td>28</td><td>1</td><td>6</td><td>8</td></tr><tr><th>82</th><td>1</td><td>0</td><td>4</td><td>256</td><td>0.001</td><td>Rmsprop</td><td>30</td><td>12</td><td>1</td><td>7</td><td>8</td></tr><tr><th>83</th><td>1</td><td>0</td><td>1</td><td>256</td><td>0.1</td><td>SGD</td><td>10</td><td>24</td><td>1</td><td>7</td><td>8</td></tr><tr><th>84</th><td>0</td><td>0</td><td>16</td><td>256</td><td>0.1</td><td>SGD</td><td>10</td><td>20</td><td>1</td><td>7</td><td>8</td></tr><tr><th>85</th><td>1</td><td>0</td><td>4</td><td>128</td><td>0.001</td><td>Adam</td><td>30</td><td>25</td><td>1</td><td>7</td><td>8</td></tr><tr><th>86</th><td>1</td><td>0</td><td>16</td><td>256</td><td>0.001</td><td>Adam</td><td>20</td><td>19</td><td>1</td><td>8</td><td>8</td></tr><tr><th>87</th><td>0</td><td>0</td><td>8</td><td>256</td><td>0.1</td><td>SGD</td><td>20</td><td>18</td><td>1</td><td>8</td><td>8</td></tr><tr><th>88</th><td>1</td><td>0</td><td>8</td><td>128</td><td>0.1</td><td>SGD</td><td>10</td><td>23</td><td>1</td><td>8</td><td>8</td></tr><tr><th>89</th><td>1</td><td>0</td><td>16</td><td>256</td><td>0.001</td><td>Rmsprop</td><td>30</td><td>19</td><td>1</td><td>9</td><td>8</td></tr><tr><th>90</th><td>0</td><td>0</td><td>4</td><td>128</td><td>0.001</td><td>Adam</td><td>10</td><td>15</td><td>1</td><td>9</td><td>8</td></tr><tr><th>91</th><td>0</td><td>0</td><td>1</td><td>256</td><td>0.1</td><td>SGD</td><td>20</td><td>23</td><td>1</td><td>10</td><td>8</td></tr><tr><th>92</th><td>1</td><td>0</td><td>2</td><td>128</td><td>0.001</td><td>Adam</td><td>30</td><td>14</td><td>1</td><td>10</td><td>8</td></tr><tr><th>93</th><td>0</td><td>0</td><td>1</td><td>256</td><td>0.1</td><td>SGD</td><td>30</td><td>22</td><td>1</td><td>11</td><td>8</td></tr><tr><th>94</th><td>0</td><td>0</td><td>4</td><td>256</td><td>0.1</td><td>SGD</td><td>30</td><td>15</td><td>1</td><td>11</td><td>8</td></tr><tr><th>95</th><td>0</td><td>0</td><td>4</td><td>128</td><td>0.001</td><td>Rmsprop</td><td>30</td><td>25</td><td>1</td><td>12</td><td>8</td></tr><tr><th>96</th><td>0</td><td>0</td><td>1</td><td>128</td><td>0.1</td><td>SGD</td><td>10</td><td>18</td><td>1</td><td>12</td><td>8</td></tr><tr><th>97</th><td>1</td><td>0</td><td>4</td><td>256</td><td>0.001</td><td>Adam</td><td>20</td><td>13</td><td>1</td><td>13</td><td>8</td></tr><tr><th>98</th><td>0</td><td>0</td><td>8</td><td>256</td><td>0.001</td><td>Rmsprop</td><td>30</td><td>18</td><td>1</td><td>13</td><td>8</td></tr><tr><th>99</th><td>0</td><td>0</td><td>16</td><td>256</td><td>0.1</td><td>SGD</td><td>30</td><td>17</td><td>1</td><td>13</td><td>8</td></tr><tr><th>100</th><td>1</td><td>0</td><td>1</td><td>256</td><td>0.001</td><td>Adam</td><td>20</td><td>14</td><td>1</td><td>14</td><td>8</td></tr><tr><th>&vellip;</th><td>&vellip;</td><td>&vellip;</td><td>&vellip;</td><td>&vellip;</td><td>&vellip;</td><td>&vellip;</td><td>&vellip;</td><td>&vellip;</td><td>&vellip;</td><td>&vellip;</td><td>&vellip;</td></tr></tbody></table>"
      ],
      "text/latex": [
       "\\begin{tabular}{r|ccccccccccc}\n",
       "\t& EncoderAtt & DecoderAtt & B & H & lr & Optimizer & Epoch & UnseenCnt & MissedClass & WrongCount & UnseenClass\\\\\n",
       "\t\\hline\n",
       "\t& Bool & Bool & Int64 & Int64 & Float64 & String & Int64 & Int64 & Int64 & Int64 & Int64\\\\\n",
       "\t\\hline\n",
       "\t1 & 0 & 0 & 4 & 256 & 0.001 & Rmsprop & 20 & 23 & 0 & 0 & 9 \\\\\n",
       "\t2 & 1 & 0 & 1 & 256 & 0.01 & Rmsprop & 20 & 21 & 0 & 0 & 9 \\\\\n",
       "\t3 & 1 & 0 & 4 & 256 & 0.01 & Rmsprop & 10 & 27 & 0 & 0 & 9 \\\\\n",
       "\t4 & 1 & 0 & 2 & 128 & 0.01 & Rmsprop & 10 & 20 & 0 & 0 & 9 \\\\\n",
       "\t5 & 1 & 0 & 16 & 128 & 0.01 & Rmsprop & 30 & 26 & 0 & 0 & 9 \\\\\n",
       "\t6 & 1 & 0 & 2 & 128 & 0.1 & SGD & 20 & 18 & 0 & 0 & 9 \\\\\n",
       "\t7 & 0 & 0 & 8 & 256 & 0.001 & Adam & 10 & 23 & 0 & 1 & 9 \\\\\n",
       "\t8 & 1 & 0 & 2 & 256 & 0.01 & Adam & 30 & 20 & 0 & 1 & 9 \\\\\n",
       "\t9 & 1 & 0 & 4 & 256 & 0.01 & Adam & 20 & 23 & 0 & 1 & 9 \\\\\n",
       "\t10 & 1 & 0 & 4 & 256 & 0.01 & Rmsprop & 20 & 26 & 0 & 1 & 9 \\\\\n",
       "\t11 & 1 & 0 & 8 & 256 & 0.01 & Rmsprop & 20 & 20 & 0 & 1 & 9 \\\\\n",
       "\t12 & 1 & 0 & 16 & 256 & 0.01 & Rmsprop & 10 & 18 & 0 & 1 & 9 \\\\\n",
       "\t13 & 1 & 0 & 8 & 128 & 0.01 & Adam & 20 & 21 & 0 & 1 & 9 \\\\\n",
       "\t14 & 1 & 0 & 1 & 256 & 0.01 & Rmsprop & 10 & 17 & 0 & 2 & 9 \\\\\n",
       "\t15 & 1 & 0 & 2 & 256 & 0.1 & SGD & 20 & 25 & 0 & 2 & 9 \\\\\n",
       "\t16 & 1 & 0 & 4 & 256 & 0.1 & SGD & 30 & 24 & 0 & 2 & 9 \\\\\n",
       "\t17 & 1 & 0 & 16 & 256 & 0.1 & SGD & 20 & 17 & 0 & 2 & 9 \\\\\n",
       "\t18 & 1 & 0 & 16 & 256 & 0.1 & SGD & 30 & 26 & 0 & 2 & 9 \\\\\n",
       "\t19 & 1 & 0 & 8 & 128 & 0.01 & Rmsprop & 20 & 23 & 0 & 2 & 9 \\\\\n",
       "\t20 & 1 & 0 & 8 & 128 & 0.1 & SGD & 20 & 15 & 0 & 2 & 9 \\\\\n",
       "\t21 & 1 & 0 & 2 & 256 & 0.1 & SGD & 30 & 24 & 0 & 3 & 9 \\\\\n",
       "\t22 & 1 & 0 & 4 & 128 & 0.01 & Rmsprop & 10 & 22 & 0 & 3 & 9 \\\\\n",
       "\t23 & 0 & 0 & 1 & 256 & 0.001 & Adam & 20 & 23 & 0 & 4 & 9 \\\\\n",
       "\t24 & 0 & 0 & 2 & 256 & 0.001 & Rmsprop & 20 & 22 & 0 & 4 & 9 \\\\\n",
       "\t25 & 0 & 0 & 2 & 128 & 0.001 & Rmsprop & 30 & 22 & 0 & 4 & 9 \\\\\n",
       "\t26 & 0 & 0 & 4 & 128 & 0.001 & Adam & 30 & 19 & 0 & 5 & 9 \\\\\n",
       "\t27 & 1 & 0 & 2 & 256 & 0.001 & Rmsprop & 30 & 23 & 0 & 6 & 9 \\\\\n",
       "\t28 & 0 & 0 & 16 & 128 & 0.001 & Adam & 30 & 19 & 0 & 6 & 9 \\\\\n",
       "\t29 & 0 & 0 & 2 & 128 & 0.1 & SGD & 20 & 24 & 0 & 8 & 9 \\\\\n",
       "\t30 & 0 & 0 & 2 & 256 & 0.1 & SGD & 30 & 23 & 0 & 9 & 9 \\\\\n",
       "\t31 & 1 & 0 & 16 & 128 & 0.1 & SGD & 10 & 19 & 0 & 9 & 9 \\\\\n",
       "\t32 & 0 & 0 & 4 & 256 & 0.1 & SGD & 20 & 20 & 0 & 13 & 9 \\\\\n",
       "\t33 & 1 & 0 & 4 & 256 & 0.1 & SGD & 10 & 23 & 0 & 14 & 9 \\\\\n",
       "\t34 & 1 & 0 & 16 & 256 & 0.1 & SGD & 10 & 22 & 0 & 14 & 9 \\\\\n",
       "\t35 & 0 & 0 & 16 & 256 & 0.001 & Rmsprop & 30 & 17 & 0 & 17 & 9 \\\\\n",
       "\t36 & 1 & 0 & 8 & 256 & 0.001 & Rmsprop & 20 & 21 & 0 & 27 & 9 \\\\\n",
       "\t37 & 1 & 0 & 1 & 256 & 0.01 & Adam & 10 & 23 & 1 & 0 & 8 \\\\\n",
       "\t38 & 1 & 0 & 4 & 256 & 0.01 & Adam & 30 & 22 & 1 & 0 & 8 \\\\\n",
       "\t39 & 1 & 0 & 16 & 256 & 0.01 & Adam & 20 & 21 & 1 & 0 & 8 \\\\\n",
       "\t40 & 1 & 0 & 16 & 256 & 0.01 & Adam & 30 & 20 & 1 & 0 & 8 \\\\\n",
       "\t41 & 1 & 0 & 1 & 128 & 0.01 & Adam & 20 & 18 & 1 & 0 & 8 \\\\\n",
       "\t42 & 1 & 0 & 2 & 128 & 0.01 & Adam & 20 & 17 & 1 & 0 & 8 \\\\\n",
       "\t43 & 1 & 0 & 4 & 128 & 0.01 & Adam & 20 & 20 & 1 & 0 & 8 \\\\\n",
       "\t44 & 1 & 0 & 4 & 128 & 0.01 & Rmsprop & 30 & 21 & 1 & 0 & 8 \\\\\n",
       "\t45 & 1 & 0 & 2 & 128 & 0.1 & SGD & 30 & 21 & 1 & 0 & 8 \\\\\n",
       "\t46 & 1 & 0 & 1 & 256 & 0.01 & Rmsprop & 30 & 24 & 1 & 1 & 8 \\\\\n",
       "\t47 & 1 & 0 & 16 & 256 & 0.01 & Rmsprop & 30 & 20 & 1 & 1 & 8 \\\\\n",
       "\t48 & 0 & 0 & 8 & 128 & 0.001 & Adam & 20 & 22 & 1 & 1 & 8 \\\\\n",
       "\t49 & 1 & 0 & 8 & 128 & 0.01 & Adam & 10 & 23 & 1 & 1 & 8 \\\\\n",
       "\t50 & 1 & 0 & 16 & 128 & 0.01 & Adam & 10 & 17 & 1 & 1 & 8 \\\\\n",
       "\t51 & 1 & 0 & 16 & 128 & 0.01 & Adam & 30 & 20 & 1 & 1 & 8 \\\\\n",
       "\t52 & 1 & 0 & 8 & 128 & 0.01 & Rmsprop & 30 & 26 & 1 & 1 & 8 \\\\\n",
       "\t53 & 1 & 0 & 1 & 128 & 0.1 & SGD & 20 & 19 & 1 & 1 & 8 \\\\\n",
       "\t54 & 1 & 0 & 16 & 256 & 0.001 & Adam & 30 & 21 & 1 & 2 & 8 \\\\\n",
       "\t55 & 1 & 0 & 8 & 256 & 0.01 & Adam & 20 & 26 & 1 & 2 & 8 \\\\\n",
       "\t56 & 0 & 0 & 8 & 256 & 0.001 & Rmsprop & 20 & 18 & 1 & 2 & 8 \\\\\n",
       "\t57 & 1 & 0 & 8 & 256 & 0.1 & SGD & 30 & 21 & 1 & 2 & 8 \\\\\n",
       "\t58 & 0 & 0 & 1 & 128 & 0.001 & Rmsprop & 20 & 21 & 1 & 2 & 8 \\\\\n",
       "\t59 & 1 & 0 & 1 & 128 & 0.01 & Rmsprop & 30 & 21 & 1 & 2 & 8 \\\\\n",
       "\t60 & 1 & 0 & 16 & 128 & 0.01 & Rmsprop & 10 & 21 & 1 & 2 & 8 \\\\\n",
       "\t61 & 1 & 0 & 4 & 128 & 0.1 & SGD & 20 & 20 & 1 & 2 & 8 \\\\\n",
       "\t62 & 1 & 0 & 8 & 128 & 0.1 & SGD & 30 & 21 & 1 & 2 & 8 \\\\\n",
       "\t63 & 1 & 0 & 4 & 256 & 0.001 & Adam & 30 & 20 & 1 & 3 & 8 \\\\\n",
       "\t64 & 0 & 0 & 16 & 256 & 0.001 & Rmsprop & 10 & 26 & 1 & 3 & 8 \\\\\n",
       "\t65 & 1 & 0 & 8 & 256 & 0.1 & SGD & 20 & 22 & 1 & 3 & 8 \\\\\n",
       "\t66 & 1 & 0 & 1 & 128 & 0.1 & Adam & 30 & 11 & 1 & 3 & 8 \\\\\n",
       "\t67 & 1 & 0 & 1 & 128 & 0.1 & SGD & 30 & 17 & 1 & 3 & 8 \\\\\n",
       "\t68 & 1 & 0 & 1 & 256 & 0.001 & Adam & 30 & 19 & 1 & 4 & 8 \\\\\n",
       "\t69 & 1 & 0 & 2 & 256 & 0.001 & Adam & 30 & 23 & 1 & 4 & 8 \\\\\n",
       "\t70 & 0 & 0 & 4 & 256 & 0.001 & Adam & 20 & 17 & 1 & 4 & 8 \\\\\n",
       "\t71 & 1 & 0 & 8 & 256 & 0.001 & Adam & 30 & 20 & 1 & 4 & 8 \\\\\n",
       "\t72 & 1 & 0 & 16 & 256 & 0.01 & Rmsprop & 20 & 28 & 1 & 4 & 8 \\\\\n",
       "\t73 & 1 & 0 & 8 & 128 & 0.01 & Rmsprop & 10 & 28 & 1 & 4 & 8 \\\\\n",
       "\t74 & 1 & 0 & 8 & 256 & 0.01 & Rmsprop & 30 & 26 & 1 & 5 & 8 \\\\\n",
       "\t75 & 1 & 0 & 4 & 256 & 0.1 & SGD & 20 & 22 & 1 & 5 & 8 \\\\\n",
       "\t76 & 0 & 0 & 2 & 128 & 0.001 & Adam & 30 & 19 & 1 & 5 & 8 \\\\\n",
       "\t77 & 0 & 0 & 4 & 128 & 0.001 & Rmsprop & 20 & 18 & 1 & 5 & 8 \\\\\n",
       "\t78 & 0 & 0 & 16 & 128 & 0.1 & SGD & 30 & 22 & 1 & 5 & 8 \\\\\n",
       "\t79 & 0 & 0 & 16 & 256 & 0.001 & Adam & 30 & 12 & 1 & 6 & 8 \\\\\n",
       "\t80 & 1 & 0 & 8 & 256 & 0.001 & Rmsprop & 30 & 18 & 1 & 6 & 8 \\\\\n",
       "\t81 & 0 & 0 & 4 & 128 & 0.1 & SGD & 20 & 28 & 1 & 6 & 8 \\\\\n",
       "\t82 & 1 & 0 & 4 & 256 & 0.001 & Rmsprop & 30 & 12 & 1 & 7 & 8 \\\\\n",
       "\t83 & 1 & 0 & 1 & 256 & 0.1 & SGD & 10 & 24 & 1 & 7 & 8 \\\\\n",
       "\t84 & 0 & 0 & 16 & 256 & 0.1 & SGD & 10 & 20 & 1 & 7 & 8 \\\\\n",
       "\t85 & 1 & 0 & 4 & 128 & 0.001 & Adam & 30 & 25 & 1 & 7 & 8 \\\\\n",
       "\t86 & 1 & 0 & 16 & 256 & 0.001 & Adam & 20 & 19 & 1 & 8 & 8 \\\\\n",
       "\t87 & 0 & 0 & 8 & 256 & 0.1 & SGD & 20 & 18 & 1 & 8 & 8 \\\\\n",
       "\t88 & 1 & 0 & 8 & 128 & 0.1 & SGD & 10 & 23 & 1 & 8 & 8 \\\\\n",
       "\t89 & 1 & 0 & 16 & 256 & 0.001 & Rmsprop & 30 & 19 & 1 & 9 & 8 \\\\\n",
       "\t90 & 0 & 0 & 4 & 128 & 0.001 & Adam & 10 & 15 & 1 & 9 & 8 \\\\\n",
       "\t91 & 0 & 0 & 1 & 256 & 0.1 & SGD & 20 & 23 & 1 & 10 & 8 \\\\\n",
       "\t92 & 1 & 0 & 2 & 128 & 0.001 & Adam & 30 & 14 & 1 & 10 & 8 \\\\\n",
       "\t93 & 0 & 0 & 1 & 256 & 0.1 & SGD & 30 & 22 & 1 & 11 & 8 \\\\\n",
       "\t94 & 0 & 0 & 4 & 256 & 0.1 & SGD & 30 & 15 & 1 & 11 & 8 \\\\\n",
       "\t95 & 0 & 0 & 4 & 128 & 0.001 & Rmsprop & 30 & 25 & 1 & 12 & 8 \\\\\n",
       "\t96 & 0 & 0 & 1 & 128 & 0.1 & SGD & 10 & 18 & 1 & 12 & 8 \\\\\n",
       "\t97 & 1 & 0 & 4 & 256 & 0.001 & Adam & 20 & 13 & 1 & 13 & 8 \\\\\n",
       "\t98 & 0 & 0 & 8 & 256 & 0.001 & Rmsprop & 30 & 18 & 1 & 13 & 8 \\\\\n",
       "\t99 & 0 & 0 & 16 & 256 & 0.1 & SGD & 30 & 17 & 1 & 13 & 8 \\\\\n",
       "\t100 & 1 & 0 & 1 & 256 & 0.001 & Adam & 20 & 14 & 1 & 14 & 8 \\\\\n",
       "\t$\\dots$ & $\\dots$ & $\\dots$ & $\\dots$ & $\\dots$ & $\\dots$ & $\\dots$ & $\\dots$ & $\\dots$ & $\\dots$ & $\\dots$ & $\\dots$ \\\\\n",
       "\\end{tabular}\n"
      ],
      "text/plain": [
       "1440×11 DataFrame\n",
       "│ Row  │ EncoderAtt │ DecoderAtt │ B     │ H     │ lr      │ Optimizer │ Epoch │ UnseenCnt │ MissedClass │ WrongCount │ UnseenClass │\n",
       "│      │ \u001b[90mBool\u001b[39m       │ \u001b[90mBool\u001b[39m       │ \u001b[90mInt64\u001b[39m │ \u001b[90mInt64\u001b[39m │ \u001b[90mFloat64\u001b[39m │ \u001b[90mString\u001b[39m    │ \u001b[90mInt64\u001b[39m │ \u001b[90mInt64\u001b[39m     │ \u001b[90mInt64\u001b[39m       │ \u001b[90mInt64\u001b[39m      │ \u001b[90mInt64\u001b[39m       │\n",
       "├──────┼────────────┼────────────┼───────┼───────┼─────────┼───────────┼───────┼───────────┼─────────────┼────────────┼─────────────┤\n",
       "│ 1    │ 0          │ 0          │ 4     │ 256   │ 0.001   │ Rmsprop   │ 20    │ 23        │ 0           │ 0          │ 9           │\n",
       "│ 2    │ 1          │ 0          │ 1     │ 256   │ 0.01    │ Rmsprop   │ 20    │ 21        │ 0           │ 0          │ 9           │\n",
       "│ 3    │ 1          │ 0          │ 4     │ 256   │ 0.01    │ Rmsprop   │ 10    │ 27        │ 0           │ 0          │ 9           │\n",
       "│ 4    │ 1          │ 0          │ 2     │ 128   │ 0.01    │ Rmsprop   │ 10    │ 20        │ 0           │ 0          │ 9           │\n",
       "│ 5    │ 1          │ 0          │ 16    │ 128   │ 0.01    │ Rmsprop   │ 30    │ 26        │ 0           │ 0          │ 9           │\n",
       "│ 6    │ 1          │ 0          │ 2     │ 128   │ 0.1     │ SGD       │ 20    │ 18        │ 0           │ 0          │ 9           │\n",
       "│ 7    │ 0          │ 0          │ 8     │ 256   │ 0.001   │ Adam      │ 10    │ 23        │ 0           │ 1          │ 9           │\n",
       "│ 8    │ 1          │ 0          │ 2     │ 256   │ 0.01    │ Adam      │ 30    │ 20        │ 0           │ 1          │ 9           │\n",
       "│ 9    │ 1          │ 0          │ 4     │ 256   │ 0.01    │ Adam      │ 20    │ 23        │ 0           │ 1          │ 9           │\n",
       "│ 10   │ 1          │ 0          │ 4     │ 256   │ 0.01    │ Rmsprop   │ 20    │ 26        │ 0           │ 1          │ 9           │\n",
       "│ 11   │ 1          │ 0          │ 8     │ 256   │ 0.01    │ Rmsprop   │ 20    │ 20        │ 0           │ 1          │ 9           │\n",
       "│ 12   │ 1          │ 0          │ 16    │ 256   │ 0.01    │ Rmsprop   │ 10    │ 18        │ 0           │ 1          │ 9           │\n",
       "│ 13   │ 1          │ 0          │ 8     │ 128   │ 0.01    │ Adam      │ 20    │ 21        │ 0           │ 1          │ 9           │\n",
       "│ 14   │ 1          │ 0          │ 1     │ 256   │ 0.01    │ Rmsprop   │ 10    │ 17        │ 0           │ 2          │ 9           │\n",
       "│ 15   │ 1          │ 0          │ 2     │ 256   │ 0.1     │ SGD       │ 20    │ 25        │ 0           │ 2          │ 9           │\n",
       "│ 16   │ 1          │ 0          │ 4     │ 256   │ 0.1     │ SGD       │ 30    │ 24        │ 0           │ 2          │ 9           │\n",
       "│ 17   │ 1          │ 0          │ 16    │ 256   │ 0.1     │ SGD       │ 20    │ 17        │ 0           │ 2          │ 9           │\n",
       "│ 18   │ 1          │ 0          │ 16    │ 256   │ 0.1     │ SGD       │ 30    │ 26        │ 0           │ 2          │ 9           │\n",
       "│ 19   │ 1          │ 0          │ 8     │ 128   │ 0.01    │ Rmsprop   │ 20    │ 23        │ 0           │ 2          │ 9           │\n",
       "│ 20   │ 1          │ 0          │ 8     │ 128   │ 0.1     │ SGD       │ 20    │ 15        │ 0           │ 2          │ 9           │\n",
       "│ 21   │ 1          │ 0          │ 2     │ 256   │ 0.1     │ SGD       │ 30    │ 24        │ 0           │ 3          │ 9           │\n",
       "│ 22   │ 1          │ 0          │ 4     │ 128   │ 0.01    │ Rmsprop   │ 10    │ 22        │ 0           │ 3          │ 9           │\n",
       "│ 23   │ 0          │ 0          │ 1     │ 256   │ 0.001   │ Adam      │ 20    │ 23        │ 0           │ 4          │ 9           │\n",
       "│ 24   │ 0          │ 0          │ 2     │ 256   │ 0.001   │ Rmsprop   │ 20    │ 22        │ 0           │ 4          │ 9           │\n",
       "│ 25   │ 0          │ 0          │ 2     │ 128   │ 0.001   │ Rmsprop   │ 30    │ 22        │ 0           │ 4          │ 9           │\n",
       "│ 26   │ 0          │ 0          │ 4     │ 128   │ 0.001   │ Adam      │ 30    │ 19        │ 0           │ 5          │ 9           │\n",
       "│ 27   │ 1          │ 0          │ 2     │ 256   │ 0.001   │ Rmsprop   │ 30    │ 23        │ 0           │ 6          │ 9           │\n",
       "│ 28   │ 0          │ 0          │ 16    │ 128   │ 0.001   │ Adam      │ 30    │ 19        │ 0           │ 6          │ 9           │\n",
       "│ 29   │ 0          │ 0          │ 2     │ 128   │ 0.1     │ SGD       │ 20    │ 24        │ 0           │ 8          │ 9           │\n",
       "│ 30   │ 0          │ 0          │ 2     │ 256   │ 0.1     │ SGD       │ 30    │ 23        │ 0           │ 9          │ 9           │\n",
       "│ 31   │ 1          │ 0          │ 16    │ 128   │ 0.1     │ SGD       │ 10    │ 19        │ 0           │ 9          │ 9           │\n",
       "│ 32   │ 0          │ 0          │ 4     │ 256   │ 0.1     │ SGD       │ 20    │ 20        │ 0           │ 13         │ 9           │\n",
       "│ 33   │ 1          │ 0          │ 4     │ 256   │ 0.1     │ SGD       │ 10    │ 23        │ 0           │ 14         │ 9           │\n",
       "│ 34   │ 1          │ 0          │ 16    │ 256   │ 0.1     │ SGD       │ 10    │ 22        │ 0           │ 14         │ 9           │\n",
       "│ 35   │ 0          │ 0          │ 16    │ 256   │ 0.001   │ Rmsprop   │ 30    │ 17        │ 0           │ 17         │ 9           │\n",
       "│ 36   │ 1          │ 0          │ 8     │ 256   │ 0.001   │ Rmsprop   │ 20    │ 21        │ 0           │ 27         │ 9           │\n",
       "│ 37   │ 1          │ 0          │ 1     │ 256   │ 0.01    │ Adam      │ 10    │ 23        │ 1           │ 0          │ 8           │\n",
       "│ 38   │ 1          │ 0          │ 4     │ 256   │ 0.01    │ Adam      │ 30    │ 22        │ 1           │ 0          │ 8           │\n",
       "│ 39   │ 1          │ 0          │ 16    │ 256   │ 0.01    │ Adam      │ 20    │ 21        │ 1           │ 0          │ 8           │\n",
       "│ 40   │ 1          │ 0          │ 16    │ 256   │ 0.01    │ Adam      │ 30    │ 20        │ 1           │ 0          │ 8           │\n",
       "│ 41   │ 1          │ 0          │ 1     │ 128   │ 0.01    │ Adam      │ 20    │ 18        │ 1           │ 0          │ 8           │\n",
       "│ 42   │ 1          │ 0          │ 2     │ 128   │ 0.01    │ Adam      │ 20    │ 17        │ 1           │ 0          │ 8           │\n",
       "│ 43   │ 1          │ 0          │ 4     │ 128   │ 0.01    │ Adam      │ 20    │ 20        │ 1           │ 0          │ 8           │\n",
       "│ 44   │ 1          │ 0          │ 4     │ 128   │ 0.01    │ Rmsprop   │ 30    │ 21        │ 1           │ 0          │ 8           │\n",
       "│ 45   │ 1          │ 0          │ 2     │ 128   │ 0.1     │ SGD       │ 30    │ 21        │ 1           │ 0          │ 8           │\n",
       "⋮\n",
       "│ 1395 │ 0          │ 1          │ 4     │ 128   │ 1.0     │ Rmsprop   │ 10    │ 0         │ 9           │ 100        │ 0           │\n",
       "│ 1396 │ 0          │ 0          │ 4     │ 128   │ 1.0     │ Rmsprop   │ 20    │ 0         │ 9           │ 100        │ 0           │\n",
       "│ 1397 │ 1          │ 0          │ 4     │ 128   │ 1.0     │ Rmsprop   │ 20    │ 0         │ 9           │ 100        │ 0           │\n",
       "│ 1398 │ 0          │ 1          │ 4     │ 128   │ 1.0     │ Rmsprop   │ 20    │ 0         │ 9           │ 100        │ 0           │\n",
       "│ 1399 │ 1          │ 1          │ 4     │ 128   │ 1.0     │ Rmsprop   │ 20    │ 0         │ 9           │ 100        │ 0           │\n",
       "│ 1400 │ 0          │ 0          │ 4     │ 128   │ 1.0     │ Rmsprop   │ 30    │ 0         │ 9           │ 100        │ 0           │\n",
       "│ 1401 │ 1          │ 0          │ 4     │ 128   │ 1.0     │ Rmsprop   │ 30    │ 0         │ 9           │ 100        │ 0           │\n",
       "│ 1402 │ 0          │ 1          │ 4     │ 128   │ 1.0     │ Rmsprop   │ 30    │ 0         │ 9           │ 100        │ 0           │\n",
       "│ 1403 │ 1          │ 1          │ 4     │ 128   │ 1.0     │ Rmsprop   │ 30    │ 0         │ 9           │ 100        │ 0           │\n",
       "│ 1404 │ 0          │ 0          │ 8     │ 128   │ 1.0     │ Rmsprop   │ 10    │ 0         │ 9           │ 100        │ 0           │\n",
       "│ 1405 │ 1          │ 0          │ 8     │ 128   │ 1.0     │ Rmsprop   │ 10    │ 0         │ 9           │ 100        │ 0           │\n",
       "│ 1406 │ 0          │ 1          │ 8     │ 128   │ 1.0     │ Rmsprop   │ 10    │ 0         │ 9           │ 100        │ 0           │\n",
       "│ 1407 │ 1          │ 1          │ 8     │ 128   │ 1.0     │ Rmsprop   │ 10    │ 0         │ 9           │ 100        │ 0           │\n",
       "│ 1408 │ 0          │ 0          │ 8     │ 128   │ 1.0     │ Rmsprop   │ 20    │ 0         │ 9           │ 100        │ 0           │\n",
       "│ 1409 │ 1          │ 0          │ 8     │ 128   │ 1.0     │ Rmsprop   │ 20    │ 0         │ 9           │ 100        │ 0           │\n",
       "│ 1410 │ 0          │ 1          │ 8     │ 128   │ 1.0     │ Rmsprop   │ 20    │ 0         │ 9           │ 100        │ 0           │\n",
       "│ 1411 │ 0          │ 0          │ 8     │ 128   │ 1.0     │ Rmsprop   │ 30    │ 0         │ 9           │ 100        │ 0           │\n",
       "│ 1412 │ 1          │ 0          │ 8     │ 128   │ 1.0     │ Rmsprop   │ 30    │ 0         │ 9           │ 100        │ 0           │\n",
       "│ 1413 │ 0          │ 1          │ 8     │ 128   │ 1.0     │ Rmsprop   │ 30    │ 0         │ 9           │ 100        │ 0           │\n",
       "│ 1414 │ 1          │ 1          │ 8     │ 128   │ 1.0     │ Rmsprop   │ 30    │ 0         │ 9           │ 100        │ 0           │\n",
       "│ 1415 │ 0          │ 0          │ 16    │ 128   │ 1.0     │ Rmsprop   │ 10    │ 0         │ 9           │ 100        │ 0           │\n",
       "│ 1416 │ 1          │ 0          │ 16    │ 128   │ 1.0     │ Rmsprop   │ 10    │ 0         │ 9           │ 100        │ 0           │\n",
       "│ 1417 │ 0          │ 1          │ 16    │ 128   │ 1.0     │ Rmsprop   │ 10    │ 0         │ 9           │ 100        │ 0           │\n",
       "│ 1418 │ 1          │ 1          │ 16    │ 128   │ 1.0     │ Rmsprop   │ 10    │ 0         │ 9           │ 100        │ 0           │\n",
       "│ 1419 │ 0          │ 0          │ 16    │ 128   │ 1.0     │ Rmsprop   │ 20    │ 0         │ 9           │ 100        │ 0           │\n",
       "│ 1420 │ 1          │ 0          │ 16    │ 128   │ 1.0     │ Rmsprop   │ 20    │ 0         │ 9           │ 100        │ 0           │\n",
       "│ 1421 │ 0          │ 1          │ 16    │ 128   │ 1.0     │ Rmsprop   │ 20    │ 0         │ 9           │ 100        │ 0           │\n",
       "│ 1422 │ 0          │ 0          │ 16    │ 128   │ 1.0     │ Rmsprop   │ 30    │ 0         │ 9           │ 100        │ 0           │\n",
       "│ 1423 │ 1          │ 0          │ 16    │ 128   │ 1.0     │ Rmsprop   │ 30    │ 0         │ 9           │ 100        │ 0           │\n",
       "│ 1424 │ 0          │ 1          │ 16    │ 128   │ 1.0     │ Rmsprop   │ 30    │ 0         │ 9           │ 100        │ 0           │\n",
       "│ 1425 │ 1          │ 1          │ 16    │ 128   │ 1.0     │ Rmsprop   │ 30    │ 0         │ 9           │ 100        │ 0           │\n",
       "│ 1426 │ 0          │ 0          │ 1     │ 128   │ 1.0     │ SGD       │ 10    │ 0         │ 9           │ 100        │ 0           │\n",
       "│ 1427 │ 0          │ 0          │ 1     │ 128   │ 1.0     │ SGD       │ 20    │ 0         │ 9           │ 100        │ 0           │\n",
       "│ 1428 │ 0          │ 0          │ 1     │ 128   │ 1.0     │ SGD       │ 30    │ 0         │ 9           │ 100        │ 0           │\n",
       "│ 1429 │ 0          │ 0          │ 2     │ 128   │ 1.0     │ SGD       │ 10    │ 0         │ 9           │ 100        │ 0           │\n",
       "│ 1430 │ 0          │ 0          │ 2     │ 128   │ 1.0     │ SGD       │ 20    │ 0         │ 9           │ 100        │ 0           │\n",
       "│ 1431 │ 0          │ 0          │ 2     │ 128   │ 1.0     │ SGD       │ 30    │ 0         │ 9           │ 100        │ 0           │\n",
       "│ 1432 │ 0          │ 0          │ 4     │ 128   │ 1.0     │ SGD       │ 10    │ 0         │ 9           │ 100        │ 0           │\n",
       "│ 1433 │ 0          │ 0          │ 4     │ 128   │ 1.0     │ SGD       │ 20    │ 0         │ 9           │ 100        │ 0           │\n",
       "│ 1434 │ 0          │ 0          │ 4     │ 128   │ 1.0     │ SGD       │ 30    │ 0         │ 9           │ 100        │ 0           │\n",
       "│ 1435 │ 0          │ 0          │ 8     │ 128   │ 1.0     │ SGD       │ 10    │ 0         │ 9           │ 100        │ 0           │\n",
       "│ 1436 │ 0          │ 0          │ 8     │ 128   │ 1.0     │ SGD       │ 20    │ 0         │ 9           │ 100        │ 0           │\n",
       "│ 1437 │ 0          │ 0          │ 8     │ 128   │ 1.0     │ SGD       │ 30    │ 0         │ 9           │ 100        │ 0           │\n",
       "│ 1438 │ 0          │ 0          │ 16    │ 128   │ 1.0     │ SGD       │ 10    │ 0         │ 9           │ 100        │ 0           │\n",
       "│ 1439 │ 0          │ 0          │ 16    │ 128   │ 1.0     │ SGD       │ 20    │ 0         │ 9           │ 100        │ 0           │\n",
       "│ 1440 │ 0          │ 0          │ 16    │ 128   │ 1.0     │ SGD       │ 30    │ 0         │ 9           │ 100        │ 0           │"
      ]
     },
     "execution_count": 157,
     "metadata": {},
     "output_type": "execute_result"
    }
   ],
   "source": [
    "df3 = df2 |> @orderby_descending(_.UnseenClass) |> @thenby(_.WrongCount) |> DataFrame"
   ]
  },
  {
   "cell_type": "code",
   "execution_count": 146,
   "metadata": {},
   "outputs": [
    {
     "data": {
      "text/plain": [
       "Dict{Any,Any} with 31 entries:\n",
       "  \"4a\" => (L = 2.30187, y = \"6b\", att = (αe = (αμ = K32(256,30)[1.8441857e-5⋯], ασ = K32(256,30)[4.5115175e-5⋯]), αd = nothing))\n",
       "  \"4d\" => (L = 1.86366, y = \"0c\", att = (αe = (αμ = K32(256,30)[1.749927e-5⋯], ασ = K32(256,30)[4.5498175e-5⋯]), αd = nothing))\n",
       "  \"6d\" => (L = 0.929366, y = \"6d\", att = (αe = (αμ = K32(256,30)[1.9662112e-7⋯], ασ = K32(256,30)[4.431309e-7⋯]), αd = nothing))\n",
       "  \"6b\" => (L = 1.87, y = \"8h\", att = (αe = (αμ = K32(256,30)[2.0375037e-7⋯], ασ = K32(256,30)[4.5178157e-7⋯]), αd = nothing))\n",
       "  \"6e\" => (L = 1.18254, y = \"4b\", att = (αe = (αμ = K32(256,30)[1.9590901e-7⋯], ασ = K32(256,30)[4.5182693e-7⋯]), αd = nothing))\n",
       "  \"6a\" => (L = 1.77329, y = \"8f\", att = (αe = (αμ = K32(256,30)[1.902861e-7⋯], ασ = K32(256,30)[4.3968257e-7⋯]), αd = nothing))\n",
       "  \"2h\" => (L = 1.78155, y = \"2d\", att = (αe = (αμ = K32(256,30)[9.932463e-7⋯], ασ = K32(256,30)[7.224869e-7⋯]), αd = nothing))\n",
       "  \"2g\" => (L = 0.947404, y = \"2a\", att = (αe = (αμ = K32(256,30)[1.0270276e-6⋯], ασ = K32(256,30)[7.550452e-7⋯]), αd = nothing))\n",
       "  \"8d\" => (L = 1.59162, y = \"0h\", att = (αe = (αμ = K32(256,30)[4.7031876e-6⋯], ασ = K32(256,30)[1.3284064e-5⋯]), αd = nothing))\n",
       "  \"0e\" => (L = 1.38597, y = \"0c\", att = (αe = (αμ = K32(256,30)[6.2948193e-6⋯], ασ = K32(256,30)[3.4498432e-6⋯]), αd = nothing))\n",
       "  \"0c\" => (L = 1.41038, y = \"0g\", att = (αe = (αμ = K32(256,30)[6.427956e-6⋯], ασ = K32(256,30)[3.4534705e-6⋯]), αd = nothing))\n",
       "  \"4h\" => (L = 2.18324, y = \"2d\", att = (αe = (αμ = K32(256,30)[1.8366909e-5⋯], ασ = K32(256,30)[4.5034496e-5⋯]), αd = nothing))\n",
       "  \"2b\" => (L = 1.63534, y = \"4g\", att = (αe = (αμ = K32(256,30)[1.0183885e-6⋯], ασ = K32(256,30)[7.515324e-7⋯]), αd = nothing))\n",
       "  \"2e\" => (L = 1.15216, y = \"2c\", att = (αe = (αμ = K32(256,30)[1.0118674e-6⋯], ασ = K32(256,30)[7.3971836e-7⋯]), αd = nothing))\n",
       "  \"4b\" => (L = 1.17628, y = \"4a\", att = (αe = (αμ = K32(256,30)[1.8585652e-5⋯], ασ = K32(256,30)[4.5781322e-5⋯]), αd = nothing))\n",
       "  \"4g\" => (L = 1.94238, y = \"2b\", att = (αe = (αμ = K32(256,30)[1.7670733e-5⋯], ασ = K32(256,30)[4.5795965e-5⋯]), αd = nothing))\n",
       "  \"2f\" => (L = 1.50596, y = \"4d\", att = (αe = (αμ = K32(256,30)[1.044122e-6⋯], ασ = K32(256,30)[7.740151e-7⋯]), αd = nothing))\n",
       "  \"8e\" => (L = 1.853, y = \"6b\", att = (αe = (αμ = K32(256,30)[4.708195e-6⋯], ασ = K32(256,30)[1.3341573e-5⋯]), αd = nothing))\n",
       "  \"2a\" => (L = 2.02609, y = \"4f\", att = (αe = (αμ = K32(256,30)[1.0917452e-6⋯], ασ = K32(256,30)[8.713588e-7⋯]), αd = nothing))\n",
       "  \"6f\" => (L = 1.33221, y = \"8g\", att = (αe = (αμ = K32(256,30)[2.1016665e-7⋯], ασ = K32(256,30)[4.7585158e-7⋯]), αd = nothing))\n",
       "  \"8b\" => (L = 1.39326, y = \"8d\", att = (αe = (αμ = K32(256,30)[4.8565366e-6⋯], ασ = K32(256,30)[1.3386443e-5⋯]), αd = nothing))\n",
       "  \"0g\" => (L = 1.19327, y = \"0d\", att = (αe = (αμ = K32(256,30)[6.3231987e-6⋯], ασ = K32(256,30)[3.4586462e-6⋯]), αd = nothing))\n",
       "  \"8a\" => (L = 1.39075, y = \"8g\", att = (αe = (αμ = K32(256,30)[4.8084753e-6⋯], ασ = K32(256,30)[1.3148827e-5⋯]), αd = nothing))\n",
       "  \"6g\" => (L = 1.5658, y = \"6a\", att = (αe = (αμ = K32(256,30)[2.0201352e-7⋯], ασ = K32(256,30)[4.675643e-7⋯]), αd = nothing))\n",
       "  \"6c\" => (L = 1.47414, y = \"8b\", att = (αe = (αμ = K32(256,30)[1.9822416e-7⋯], ασ = K32(256,30)[4.5080253e-7⋯]), αd = nothing))\n",
       "  \"0f\" => (L = 1.55879, y = \"6g\", att = (αe = (αμ = K32(256,30)[6.4019605e-6⋯], ασ = K32(256,30)[3.4699178e-6⋯]), αd = nothing))\n",
       "  \"8f\" => (L = 1.20566, y = \"2f\", att = (αe = (αμ = K32(256,30)[4.8005654e-6⋯], ασ = K32(256,30)[1.3669038e-5⋯]), αd = nothing))\n",
       "  \"0h\" => (L = 1.45457, y = \"0f\", att = (αe = (αμ = K32(256,30)[6.4426144e-6⋯], ασ = K32(256,30)[3.4375469e-6⋯]), αd = nothing))\n",
       "  \"0d\" => (L = 1.56026, y = \"0g\", att = (αe = (αμ = K32(256,30)[6.277979e-6⋯], ασ = K32(256,30)[3.4442626e-6⋯]), αd = nothing))\n",
       "  \"4c\" => (L = 0.895335, y = \"4c\", att = (αe = (αμ = K32(256,30)[1.828638e-5⋯], ασ = K32(256,30)[4.588832e-5⋯]), αd = nothing))\n",
       "  \"8c\" => (L = 2.39331, y = \"4g\", att = (αe = (αμ = K32(256,30)[4.8096917e-6⋯], ασ = K32(256,30)[1.3442486e-5⋯]), αd = nothing))"
      ]
     },
     "execution_count": 146,
     "metadata": {},
     "output_type": "execute_result"
    }
   ],
   "source": [
    "cmodel = get_vae_models(128)[2]\n",
    "train!(cmodel, 𝑿; epoch=60, optim=Adam())\n",
    "sampled = sample(cmodel, vocab, 𝑿; N=100)\n",
    "unseen = [s for s in sampled if s ∈ holdout]\n",
    "wrong  = [s for s in sampled if s ∉ [data;holdout]]\n",
    "result = eval(cmodel, vocab, 𝑿)"
   ]
  },
  {
   "cell_type": "code",
   "execution_count": 148,
   "metadata": {},
   "outputs": [
    {
     "data": {
      "text/plain": [
       "6-element Array{String,1}:\n",
       " \"8g\"\n",
       " \"4e\"\n",
       " \"4f\"\n",
       " \"2d\"\n",
       " \"0b\"\n",
       " \"2c\""
      ]
     },
     "execution_count": 148,
     "metadata": {},
     "output_type": "execute_result"
    }
   ],
   "source": [
    "unique(unseen)"
   ]
  },
  {
   "cell_type": "code",
   "execution_count": 150,
   "metadata": {},
   "outputs": [
    {
     "name": "stdout",
     "output_type": "stream",
     "text": [
      "(L = 0.92936647f0, y = \"6d\", att = (αe = (αμ = K32(256,30)[1.9662112e-7⋯], ασ = K32(256,30)[4.431309e-7⋯]), αd = nothing))\n",
      "(L = 0.8953346f0, y = \"4c\", att = (αe = (αμ = K32(256,30)[1.828638e-5⋯], ασ = K32(256,30)[4.588832e-5⋯]), αd = nothing))\n"
     ]
    }
   ],
   "source": [
    "for (k,v) in result\n",
    "    if k==v.y\n",
    "        println(v)\n",
    "    end\n",
    "end"
   ]
  },
  {
   "cell_type": "code",
   "execution_count": 152,
   "metadata": {},
   "outputs": [
    {
     "ename": "ErrorException",
     "evalue": "Cannot convert String to series data for plotting",
     "output_type": "error",
     "traceback": [
      "Cannot convert String to series data for plotting",
      "",
      "Stacktrace:",
      " [1] error(::String) at ./error.jl:33",
      " [2] prepareSeriesData(::String) at /kuacc/users/eakyurek13/.julia/packages/Plots/Iuc9S/src/series.jl:15",
      " [3] convertToAnyVector(::String, ::Dict{Symbol,Any}) at /kuacc/users/eakyurek13/.julia/packages/Plots/Iuc9S/src/series.jl:26",
      " [4] macro expansion at /kuacc/users/eakyurek13/.julia/packages/Plots/Iuc9S/src/series.jl:129 [inlined]",
      " [5] apply_recipe(::Dict{Symbol,Any}, ::Type{Plots.SliceIt}, ::String, ::KnetArray{Float32,2}, ::Nothing) at /kuacc/users/eakyurek13/.julia/packages/RecipesBase/zBoFG/src/RecipesBase.jl:275",
      " [6] _process_userrecipes(::Plots.Plot{Plots.PyPlotBackend}, ::Dict{Symbol,Any}, ::Tuple{String,KnetArray{Float32,2}}) at /kuacc/users/eakyurek13/.julia/packages/Plots/Iuc9S/src/pipeline.jl:83",
      " [7] _plot!(::Plots.Plot{Plots.PyPlotBackend}, ::Dict{Symbol,Any}, ::Tuple{String,KnetArray{Float32,2}}) at /kuacc/users/eakyurek13/.julia/packages/Plots/Iuc9S/src/plot.jl:178",
      " [8] #plot#137(::Base.Iterators.Pairs{Symbol,Any,NTuple{4,Symbol},NamedTuple{(:xticks, :title, :size, :seriestype),Tuple{Tuple{StepRangeLen{Float64,Base.TwicePrecision{Float64},Base.TwicePrecision{Float64}},String},String,Tuple{Int64,Int64},Symbol}}}, ::typeof(RecipesBase.plot), ::String, ::Vararg{Any,N} where N) at /kuacc/users/eakyurek13/.julia/packages/Plots/Iuc9S/src/plot.jl:57",
      " [9] (::getfield(RecipesBase, Symbol(\"#kw##plot\")))(::NamedTuple{(:xticks, :title, :size, :seriestype),Tuple{Tuple{StepRangeLen{Float64,Base.TwicePrecision{Float64},Base.TwicePrecision{Float64}},String},String,Tuple{Int64,Int64},Symbol}}, ::typeof(RecipesBase.plot), ::String, ::KnetArray{Float32,2}) at ./none:0",
      " [10] #bar#384(::Base.Iterators.Pairs{Symbol,Any,Tuple{Symbol,Symbol,Symbol},NamedTuple{(:xticks, :title, :size),Tuple{Tuple{StepRangeLen{Float64,Base.TwicePrecision{Float64},Base.TwicePrecision{Float64}},String},String,Tuple{Int64,Int64}}}}, ::typeof(Plots.bar), ::String, ::Vararg{Any,N} where N) at /kuacc/users/eakyurek13/.julia/packages/RecipesBase/zBoFG/src/RecipesBase.jl:369",
      " [11] (::getfield(Plots, Symbol(\"#kw##bar\")))(::NamedTuple{(:xticks, :title, :size),Tuple{Tuple{StepRangeLen{Float64,Base.TwicePrecision{Float64},Base.TwicePrecision{Float64}},String},String,Tuple{Int64,Int64}}}, ::typeof(Plots.bar), ::String, ::Vararg{Any,N} where N) at ./none:0",
      " [12] top-level scope at In[152]:3"
     ]
    }
   ],
   "source": [
    "inp = \"4h\"\n",
    "v = result[inp]\n",
    "StatsPlots.bar(v.y, sum(v.att.αe.αμ, dims=1), xticks=(0.5:1:length(v[2])-0.5, v[2]), title=\"$inp->$(v[1])\", size=(1200,300))"
   ]
  },
  {
   "cell_type": "code",
   "execution_count": 41,
   "metadata": {},
   "outputs": [
    {
     "data": {
      "image/png": "[encoded data removed]"
     },
     "execution_count": 41,
     "metadata": {},
     "output_type": "execute_result"
    }
   ],
   "source": [
    "inp = \"4d\"\n",
    "v = d[inp]\n",
    "StatsPlots.bar(1:length(v[4]), v[3], xticks=(1:length(v[2]), v[2]), title=\"$inp->$(v[1])\", size=(1200,300))"
   ]
  },
  {
   "cell_type": "code",
   "execution_count": null,
   "metadata": {},
   "outputs": [],
   "source": [
    "df2 |> @orderby_descending(_.UnseenClass) |> @thenby(_.WrongCount) |> DataFrame"
   ]
  },
  {
   "cell_type": "code",
   "execution_count": null,
   "metadata": {},
   "outputs": [],
   "source": [
    "bestmodels = df2 |>  @filter(_.Epoch==20 && _.Optimizer == \"Rmsprop\" && _.lr==0.001) |> DataFrame\n",
    "@df bestmodels groupedbar(:H, :UnseenClass , group = {Enc_Att = :EncoderAtt, Dec_Att  = :DecoderAtt}, xlabel = \"Models\", ylabel = \"# of Unseen Classes\", title = \"# of Unseen Classes vs Epoch on Different Models\")"
   ]
  },
  {
   "cell_type": "code",
   "execution_count": null,
   "metadata": {},
   "outputs": [],
   "source": [
    "bestmodels = df2 |>  @filter(_.Epoch==20 && _.Optimizer == \"Rmsprop\" && _.lr==0.001) |> DataFrame\n",
    "@df bestmodels groupedbar(:H, :WrongCount , group = {Enc_Att = :EncoderAtt, Dec_Att  = :DecoderAtt}, xlabel = \"Models\", ylabel = \"# of Unseen Classes\", title = \"# of Unseen Classes vs Epoch on Different Models\")"
   ]
  },
  {
   "cell_type": "code",
   "execution_count": null,
   "metadata": {},
   "outputs": [],
   "source": [
    "E = 64\n",
    "H = 256"
   ]
  },
  {
   "cell_type": "code",
   "execution_count": null,
   "metadata": {},
   "outputs": [],
   "source": [
    "forw(lmmodel,x; start_tok=length(vocab)) = lmmodel.output(lmmodel.rnn([length(vocab);x]').y)\n",
    "loss(lmmodel,x) = nll(forw(lmmodel,x),[x;0])\n",
    "    \n",
    "function predict(lmmodel,len; start_tok=length(vocab))\n",
    "    ys = zeros(Int,len)\n",
    "    input = start_tok\n",
    "    for i=1:len\n",
    "        yi = lmmodel.output(lmmodel.rnn([input]).y)\n",
    "        input = catsample(softmax(yi)) # put a random sampling here\n",
    "        ys[i] = input\n",
    "    end\n",
    "    return ys\n",
    "end\n",
    "\n",
    "function train!(model, x_onehot; epoch=20, optim=Adam())\n",
    "    setoptim!(model,optim)\n",
    "    for i=1:epoch\n",
    "        lss = 0.0\n",
    "        cnt = 0\n",
    "        x_onehot = shuffle(x_onehot)\n",
    "        for i=1:length(x_onehot)\n",
    "            x  = x_onehot[i]\n",
    "            J = @diff loss(model,  x)\n",
    "            lss += value(J)\n",
    "            cnt += 1\n",
    "            for w in params(J)\n",
    "                KnetLayers.update!(value(w), grad(J,w), w.opt)\n",
    "            end\n",
    "        end\n",
    "    end\n",
    "end\n",
    "\n",
    "function catsample(p)\n",
    "    p = convert(Array,p)\n",
    "    r = rand()\n",
    "    for c = 1:length(p)\n",
    "        r -= p[c]\n",
    "        r < 0 && return c\n",
    "    end\n",
    "end"
   ]
  },
  {
   "cell_type": "code",
   "execution_count": null,
   "metadata": {},
   "outputs": [],
   "source": [
    "lmmodel = (rnn=LSTM(input=V,hidden=H,embed=E,dropout=0.5), output=Linear(input=H,output=V))"
   ]
  },
  {
   "cell_type": "code",
   "execution_count": null,
   "metadata": {},
   "outputs": [],
   "source": [
    "train!(lmmodel,x_onehot; optim=Adam(lr=0.01))"
   ]
  },
  {
   "cell_type": "code",
   "execution_count": null,
   "metadata": {},
   "outputs": [],
   "source": [
    "loss(lmmodel,x_onehot[1])"
   ]
  },
  {
   "cell_type": "code",
   "execution_count": null,
   "metadata": {},
   "outputs": [],
   "source": [
    "sampled =[vocab[predict(lmmodel,2)] for i=1:100];"
   ]
  },
  {
   "cell_type": "code",
   "execution_count": null,
   "metadata": {},
   "outputs": [],
   "source": [
    "unseen = [join(s) for s in sampled if join(s) ∈ holdout]\n",
    "wrong  = [join(s) for s in sampled if join(s) ∉ [data;holdout]]\n",
    "dkl = KLDivergence(data,holdout,sampled)               "
   ]
  },
  {
   "cell_type": "code",
   "execution_count": null,
   "metadata": {},
   "outputs": [],
   "source": [
    "unseen"
   ]
  },
  {
   "cell_type": "code",
   "execution_count": null,
   "metadata": {},
   "outputs": [],
   "source": []
  },
  {
   "cell_type": "code",
   "execution_count": null,
   "metadata": {},
   "outputs": [],
   "source": []
  }
 ],
 "metadata": {
  "kernelspec": {
   "display_name": "Julia 1.2.0",
   "language": "julia",
   "name": "julia-1.2"
  },
  "language_info": {
   "file_extension": ".jl",
   "mimetype": "application/julia",
   "name": "julia",
   "version": "1.2.0"
  }
 },
 "nbformat": 4,
 "nbformat_minor": 4
}
