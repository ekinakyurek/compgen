{
 "cells": [
  {
   "cell_type": "code",
   "execution_count": 43,
   "metadata": {},
   "outputs": [
    {
     "name": "stderr",
     "output_type": "stream",
     "text": [
      "┌ Info: Recompiling stale cache file /home/gridsan/eakyurek/.julia/compiled/v1.2/StatsPlots/SiylL.ji for StatsPlots [f3b207a7-027a-5e70-b257-86293d7955fd]\n",
      "└ @ Base loading.jl:1240\n"
     ]
    }
   ],
   "source": [
    "using KnetLayers, Random, Plots, DataFrames, StatsPlots, Query, PlotThemes, CSV\n",
    "import KnetLayers: IndexedDict, arrtype, nllmask\n",
    "setoptim!(M, optimizer) = for p in params(M); p.opt = deepcopy(optimizer); end\n",
    "gpu(0)\n",
    "KnetLayers.gc()"
   ]
  },
  {
   "cell_type": "code",
   "execution_count": 44,
   "metadata": {},
   "outputs": [
    {
     "data": {
      "text/plain": [
       "100"
      ]
     },
     "execution_count": 44,
     "metadata": {},
     "output_type": "execute_result"
    }
   ],
   "source": [
    "gr()\n",
    "theme(:ggplot2)\n",
    "ENV[\"COLUMNS\"] = 500\n",
    "ENV[\"LINES\"]   = 100"
   ]
  },
  {
   "cell_type": "code",
   "execution_count": 5,
   "metadata": {},
   "outputs": [
    {
     "data": {
      "text/plain": [
       "31-element Array{String,1}:\n",
       " \"2a\"\n",
       " \"4a\"\n",
       " \"6a\"\n",
       " \"8a\"\n",
       " \"2b\"\n",
       " \"4b\"\n",
       " \"6b\"\n",
       " \"8b\"\n",
       " \"0c\"\n",
       " \"4c\"\n",
       " \"6c\"\n",
       " \"8c\"\n",
       " \"0d\"\n",
       " \"4d\"\n",
       " \"6d\"\n",
       " \"8d\"\n",
       " \"0e\"\n",
       " \"2e\"\n",
       " \"6e\"\n",
       " \"8e\"\n",
       " \"0f\"\n",
       " \"2f\"\n",
       " \"6f\"\n",
       " \"8f\"\n",
       " \"0g\"\n",
       " \"2g\"\n",
       " \"4g\"\n",
       " \"6g\"\n",
       " \"0h\"\n",
       " \"2h\"\n",
       " \"4h\""
      ]
     },
     "execution_count": 5,
     "metadata": {},
     "output_type": "execute_result"
    }
   ],
   "source": [
    "vocab    = IndexedDict([collect('0':'9'); collect('a':'z')])\n",
    "digits   = '0':2:'8'\n",
    "chars    = 'a':'h'\n",
    "holdout  = ['0' .* ('a':'b'); '2'.*('c':'d'); '4'.*('e':'f'); '8'.*('g':'h'); \"6h\"]\n",
    "data     = [d*c for d in digits, c in chars if d*c ∉ holdout ]"
   ]
  },
  {
   "cell_type": "code",
   "execution_count": 6,
   "metadata": {},
   "outputs": [
    {
     "data": {
      "text/plain": [
       "36"
      ]
     },
     "execution_count": 6,
     "metadata": {},
     "output_type": "execute_result"
    }
   ],
   "source": [
    "𝑿 = [vocab[collect(d)] for d in data]\n",
    "V = length(vocab)"
   ]
  },
  {
   "cell_type": "code",
   "execution_count": 7,
   "metadata": {},
   "outputs": [
    {
     "data": {
      "text/plain": [
       "elementtype (generic function with 1 method)"
      ]
     },
     "execution_count": 7,
     "metadata": {},
     "output_type": "execute_result"
    }
   ],
   "source": [
    "# interact(e,h,W)     = softmax(sum(e .* (W * h), dims=1))\n",
    "interact(e,h,W)     = softmax(e .* (W * h))\n",
    "drop(x)             = dropout(x, 0.5)\n",
    "function attend(e,h,W,layer) \n",
    "    α = interact(e,h,W)\n",
    "    layer(sum(drop(α .* h), dims=2)), α \n",
    "end\n",
    "function encode(model, xi, 𝑿╲i=nothing)\n",
    "    e   = drop(vec(model.encoder(xi))) # 2H\n",
    "    if isnothing(𝑿╲i)\n",
    "        model.Wμ(e), model.Wσ(e), nothing\n",
    "    else          \n",
    "        h          = drop(mat(model.encoder(𝑿╲i))) # H x 2 x (T-1)\n",
    "        μ, αμ      = attend(e,h,model.Wμa.weight,model.Wμ)\n",
    "        logσ², ασ  = attend(e,h,model.Wσa.weight,model.Wσ)\n",
    "        μ, logσ², (αμ=αμ,ασ=ασ)\n",
    "    end \n",
    "end\n",
    "\n",
    "function decode(model, zi, 𝑿╲i=nothing)\n",
    "    if !isnothing(𝑿╲i)\n",
    "        h      = mat(drop(model.encoder(𝑿╲i)))  # H x 2 x (T-1)\n",
    "        zi, αz = attend(zi,h,model.Wza.weight,model.Wz)\n",
    "        model.decoder(reshape(zi,size(zi,1) ÷ 2,2)), αz\n",
    "    else\n",
    "        model.decoder(reshape(zi,size(zi,1) ÷ 2,2)), nothing\n",
    "    end\n",
    "end\n",
    "    \n",
    "\n",
    "isencatt(model)    = haskey(model, :Wμa) &&  haskey(model, :Wσa) \n",
    "isdecatt(model)    = haskey(model, :Wza) \n",
    "hiddensize(model)  = size(model.encoder.weight,1)\n",
    "elementtype(model) = eltype(model.encoder.weight)"
   ]
  },
  {
   "cell_type": "code",
   "execution_count": 8,
   "metadata": {},
   "outputs": [
    {
     "data": {
      "text/plain": [
       "train! (generic function with 1 method)"
      ]
     },
     "execution_count": 8,
     "metadata": {},
     "output_type": "execute_result"
    }
   ],
   "source": [
    "function loss(model, xi, 𝑿╲i; encatt=false, decatt=false, results=false)\n",
    "    μ, logσ², αe =  encode(model, xi, (encatt ? 𝑿╲i : nothing))\n",
    "    σ² = exp.(logσ²)\n",
    "    σ  = sqrt.(σ²)\n",
    "    z  = μ .+ randn!(similar(μ)) .* σ\n",
    "    xp, αd = decode(model, z, (decatt ? 𝑿╲i : nothing))\n",
    "    KL = -sum(1 .+ logσ² .- μ.^2 .- σ²)/ 2length(μ)\n",
    "    L  = nll(xp,xi) + KL\n",
    "    if results\n",
    "        L, greedy(xp), (αe=αe, αd=αd)\n",
    "    else\n",
    "        L\n",
    "    end\n",
    "end\n",
    "\n",
    "function eval(model, vocab, 𝑿)\n",
    "    results  = Dict()\n",
    "    for i=1:length(𝑿)\n",
    "        xi  = 𝑿[i]\n",
    "        𝑿╲i = hcat([𝑿[1:i-1]; 𝑿[i+1:end]]...)\n",
    "        L, y, att = loss(model, xi,  𝑿╲i; encatt=isencatt(model), decatt=isdecatt(model), results=true)\n",
    "        results[xi] = (L=L,y=y,att=att)\n",
    "    end\n",
    "    decres = empty(results)\n",
    "    for (k,v) in results\n",
    "        decres[join(vocab[k])] = (L=v.L,y=join(vocab[v.y]), att = v.att)\n",
    "    end\n",
    "    return decres\n",
    "end\n",
    "\n",
    "function train!(model, 𝑿; epoch=20, optim=Adam())\n",
    "    setoptim!(model,optim)\n",
    "    for i=1:epoch\n",
    "        lss, cnt= 0.,0.\n",
    "        for (i,xi) in enumerate(shuffle(𝑿))\n",
    "            xi   = 𝑿[i]\n",
    "            𝑿╲i = hcat([𝑿[1:i-1]; 𝑿[i+1:end] ]...)\n",
    "            J = @diff loss(model, xi, 𝑿╲i, encatt=isencatt(model), decatt=isdecatt(model))\n",
    "            for w in params(J)\n",
    "                KnetLayers.update!(value(w), grad(J,w), w.opt)\n",
    "            end            \n",
    "            lss += value(J)\n",
    "            cnt += 1\n",
    "        end\n",
    "    end\n",
    "end"
   ]
  },
  {
   "cell_type": "code",
   "execution_count": 9,
   "metadata": {},
   "outputs": [
    {
     "data": {
      "text/plain": [
       "sample (generic function with 1 method)"
      ]
     },
     "execution_count": 9,
     "metadata": {},
     "output_type": "execute_result"
    }
   ],
   "source": [
    "function samplingparams(model, 𝑿; useprior=false)\n",
    "    H,T   = hiddensize(model), elementtype(model)\n",
    "    if useprior\n",
    "        arrtype(zeros(T,2H,1)), arrtype(ones(T,2H,1))\n",
    "    else\n",
    "        μ, σ² = arrtype(zeros(T,2H,1)), arrtype(zeros(T,2H,1))\n",
    "        for i=1:length(𝑿)\n",
    "            xi  = 𝑿[i]\n",
    "            𝑿╲i = hcat([𝑿[1:i-1];𝑿[i+1:end]]...)\n",
    "            μi, logσ²,_ =  encode(model, xi,  isencatt(model) ? 𝑿╲i : nothing)\n",
    "            μ  .+= μi\n",
    "            σ² .+= exp.(logσ²)\n",
    "        end\n",
    "        μ/length(𝑿),  σ²/length(𝑿)\n",
    "    end\n",
    "end\n",
    "\n",
    "function sample(model, vocab, 𝑿; N=100, useprior=false)\n",
    "    μ, σ² =  samplingparams(model,𝑿; useprior=useprior) \n",
    "    σ  = sqrt.(σ²)\n",
    "    𝑿 =  hcat(𝑿...)\n",
    "    samples = []\n",
    "    for i=1:N\n",
    "        z     = μ .+ randn!(similar(μ)) .* σ\n",
    "        xp, _ = decode(model, z, (isdecatt(model) ? 𝑿 : nothing))\n",
    "        push!(samples,join(vocab[greedy(xp)]))\n",
    "    end\n",
    "    return samples\n",
    "end"
   ]
  },
  {
   "cell_type": "code",
   "execution_count": 10,
   "metadata": {},
   "outputs": [
    {
     "data": {
      "text/plain": [
       "train! (generic function with 1 method)"
      ]
     },
     "execution_count": 10,
     "metadata": {},
     "output_type": "execute_result"
    }
   ],
   "source": [
    "# interact(e,h,W)     = softmax(sum(e .* (W * h), dims=1))\n",
    "# interact_b(e,h,mask::Nothing) = softmax(e .* h, dims=(1,2))\n",
    "# drop(x) = dropout(x, 0.5)\n",
    "function interact(e, h; mask=nothing, sumout=false)\n",
    "    y = isnothing(mask) ?  (e .* h) : ( e .* h .+ mask)\n",
    "    if sumout\n",
    "        α = softmax(mat(sum(y,dims=1)),dims=1)\n",
    "        reshape(α,1,size(α)...)\n",
    "    else\n",
    "        softmax(y, dims=(1,2))\n",
    "    end\n",
    "end\n",
    "\n",
    "function attend(e, h, W, layer, mask=nothing; sumout=false) \n",
    "    h3d = reshape(W*h, size(h,1),size(h,2),1)\n",
    "    h   = reshape(h, size(h,1),size(h,2),1)\n",
    "    α   = interact(e,h3d; mask=mask, sumout=sumout)  \n",
    "    layer(mat(sum(drop(α .* h), dims=2))), α \n",
    "end\n",
    "\n",
    "function encode(model, xi, 𝑿=nothing, mask=nothing)\n",
    "    e = drop(model.encoder(xi))\n",
    "    H,N,B = size(e)\n",
    "    if isnothing(𝑿)\n",
    "        e = reshape(e,H*N,B)\n",
    "        model.Wμ(e), model.Wσ(e), nothing\n",
    "    else   \n",
    "        e = reshape(e,H*N,1,B)\n",
    "        h  = drop(mat(model.encoder(𝑿))) # 2H x  L\n",
    "        μ, αμ    = attend(e,h,model.Wμa.weight,model.Wμ, mask)\n",
    "        logσ², ασ = attend(e,h,model.Wσa.weight,model.Wσ, mask)\n",
    "        μ, logσ², (αμ=αμ,ασ=ασ)\n",
    "    end \n",
    "end\n",
    "\n",
    "function decode(model, zi, 𝑿=nothing, mask=nothing)\n",
    "    if !isnothing(𝑿)\n",
    "        h      = mat(drop(model.encoder(𝑿)))  # 2H x B\n",
    "        zi     = reshape(zi,size(zi,1),1,size(zi,2))\n",
    "        zi, αz = attend(zi,h,model.Wza.weight,model.Wz, mask)\n",
    "        model.decoder(reshape(zi,size(zi,1) ÷ 2,2,size(zi,2))), αz\n",
    "    else\n",
    "        model.decoder(reshape(zi,size(zi,1) ÷ 2,2,size(zi,2))), nothing\n",
    "    end\n",
    "end\n",
    "\n",
    "\n",
    "function loss(model, xi, 𝑿; mask=nothing, encatt=false, decatt=false, results=false)\n",
    "    μ, logσ², αe =  encode(model, xi, (encatt ? 𝑿 : nothing), mask)\n",
    "    σ² = exp.(logσ²)\n",
    "    σ  = sqrt.(σ²)\n",
    "    z  = μ .+ randn!(similar(μ)) .* σ\n",
    "    xp, αd = decode(model, z, (decatt ? 𝑿 : nothing), mask)\n",
    "    KL = -sum(1.0f0 .+ logσ² .- μ.^2 .- σ²) / 2length(μ)\n",
    "    L  = nllmask(xp,xi) + KL\n",
    "    if results\n",
    "        L, greedy(xp), (αe=αe, αd=αd)\n",
    "    else\n",
    "        L\n",
    "    end\n",
    "end\n",
    "\n",
    "\n",
    "function get_mask(indices,L)\n",
    "    B = length(indices)\n",
    "    mask = zeros(Float32,1,L,B)\n",
    "    for (i,ind) in enumerate(indices)\n",
    "        mask[1,ind,i] = -1.0f30\n",
    "    end\n",
    "    return arrtype(mask)\n",
    "end\n",
    "    \n",
    "\n",
    "batches(X,B) = [collect(i:i+B-1) for i=1:B:length(X)-B+1]\n",
    "\n",
    "    \n",
    "function train!(model, 𝑿; epoch=20, optim=Adam(), B=2)\n",
    "    setoptim!(model,optim)\n",
    "    for i=1:epoch\n",
    "        lss, cnt= 0.,0.\n",
    "        X = shuffle(𝑿)\n",
    "        for (i,indices) in enumerate(batches(X,B))\n",
    "            xi   = hcat(X[indices]...)\n",
    "            xt   = hcat(X...)\n",
    "            mask = get_mask(indices,length(X))\n",
    "            J = @diff loss(model, xi, xt, mask=mask, encatt=isencatt(model), decatt=isdecatt(model))\n",
    "            for w in params(J)\n",
    "                KnetLayers.update!(value(w), grad(J,w), w.opt)\n",
    "            end            \n",
    "            lss += value(J)\n",
    "            cnt += 1\n",
    "        end\n",
    "    end\n",
    "end"
   ]
  },
  {
   "cell_type": "code",
   "execution_count": 12,
   "metadata": {},
   "outputs": [
    {
     "data": {
      "text/plain": [
       "get_vae_models (generic function with 2 methods)"
      ]
     },
     "execution_count": 12,
     "metadata": {},
     "output_type": "execute_result"
    }
   ],
   "source": [
    "function get_vae_models(H=256)\n",
    "    encoder    = Embed(input=V,output=H)\n",
    "    decoder    = Embed(input=H,output=V)\n",
    "    Wμa        = Multiply(input=2H,output=2H)\n",
    "    Wμ         = Dense(input=2H,output=2H, activation=ELU())\n",
    "    Wza        = Multiply(input=2H,output=2H)\n",
    "    Wz         = Dense(input=2H,output=2H, activation=ELU())\n",
    "    Wσa        = Multiply(input=2H,output=2H)\n",
    "    Wσ         = Dense(input=2H,output=2H, activation=ELU())\n",
    "    model_atte = (encoder=encoder, Wμa=Wμa, Wμ=Wμ, Wσa=Wσa, Wσ=Wσ, decoder=decoder)\n",
    "    model_vae  = (encoder=encoder, Wμa=Wμa, Wμ=Wμ, Wσ=Wσ, decoder=decoder)\n",
    "    model_attd = (encoder=encoder, Wμ=Wμ, Wσ=Wσ, Wza=Wza, Wz=Wz, decoder=decoder)\n",
    "    model_attde = (encoder=encoder, Wμa=Wμa, Wμ=Wμ, Wσa=Wσa, Wσ=Wσ, Wza=Wza, Wz=Wz, decoder=decoder)\n",
    "    (model_vae, model_atte, model_attd, model_attde);\n",
    "end"
   ]
  },
  {
   "cell_type": "code",
   "execution_count": 13,
   "metadata": {},
   "outputs": [
    {
     "data": {
      "text/plain": [
       "sample (generic function with 1 method)"
      ]
     },
     "execution_count": 13,
     "metadata": {},
     "output_type": "execute_result"
    }
   ],
   "source": [
    "function samplingparams(model, 𝑿; useprior=false, B=2)\n",
    "    H,T   = hiddensize(model), elementtype(model)\n",
    "    if useprior\n",
    "        arrtype(zeros(T,2H,1)), arrtype(ones(T,2H,1))\n",
    "    else\n",
    "        μ, σ² = arrtype(zeros(T,2H,1)), arrtype(zeros(T,2H,1))\n",
    "        for (i,indices) in enumerate(batches(𝑿,B))\n",
    "            xi   = hcat(𝑿[indices]...)\n",
    "            xt   = hcat(𝑿...)\n",
    "            mask = get_mask(indices,length(𝑿))\n",
    "            μi, logσ²,_ =  encode(model, xi,  isencatt(model) ? xt : nothing, mask)\n",
    "            μ  .+= sum(μi,dims=2)\n",
    "            σ² .+= sum(exp.(logσ²),dims=2)\n",
    "        end\n",
    "        μ/length(𝑿),  σ²/length(𝑿)\n",
    "    end\n",
    "end\n",
    "\n",
    "greedy(y) = mapslices(argmax, y, dims=1)\n",
    "function sample(model, vocab, 𝑿; N=100, useprior=false)\n",
    "    μ, σ² =  samplingparams(model,𝑿; useprior=useprior) \n",
    "    xt    =  hcat(𝑿...)\n",
    "    r     =  similar(μ,size(μ,1),N)\n",
    "    z     =  μ .+ randn!(r) .* sqrt.(σ²)\n",
    "    xp, _ =  decode(model, z, (isdecatt(model) ? xt : nothing),  nothing)\n",
    "    vec(mapslices(x->join(vocab[greedy(x)]), convert(Array, xp), dims=(1,2)))\n",
    "end"
   ]
  },
  {
   "cell_type": "code",
   "execution_count": 14,
   "metadata": {},
   "outputs": [
    {
     "data": {
      "text/plain": [
       "7-element Array{String,1}:\n",
       " \"0a\"\n",
       " \"8g\"\n",
       " \"6h\"\n",
       " \"0b\"\n",
       " \"2d\"\n",
       " \"4e\"\n",
       " \"4f\""
      ]
     },
     "execution_count": 14,
     "metadata": {},
     "output_type": "execute_result"
    }
   ],
   "source": [
    "cmodel = get_vae_models(256)[2]\n",
    "train!(cmodel, 𝑿; epoch=30, optim=Adam(),B=2)\n",
    "sampled = sample(cmodel, vocab, 𝑿; N=100)\n",
    "unseen = [s for s in sampled if s ∈ holdout]\n",
    "wrong  = [s for s in sampled if s ∉ [data;holdout]]   \n",
    "unique(unseen)\n",
    "# push!(df2, (isencatt(cmodel), isdecatt(cmodel), H, opt.lr, \"$opt\", epoch,  length(unseen), length(holdout)-length(unique(unseen)), length(wrong),length(unique(unseen)) ))\n",
    "# print((row+=1), \" \")"
   ]
  },
  {
   "cell_type": "code",
   "execution_count": 11,
   "metadata": {},
   "outputs": [
    {
     "ename": "UndefVarError",
     "evalue": "UndefVarError: cmodel not defined",
     "output_type": "error",
     "traceback": [
      "UndefVarError: cmodel not defined",
      "",
      "Stacktrace:",
      " [1] top-level scope at In[11]:1"
     ]
    }
   ],
   "source": [
    "sampled = sample(cmodel, vocab, 𝑿; N=100, useprior=true)\n",
    "unseen = [s for s in sampled if s ∈ holdout]\n",
    "wrong  = [s for s in sampled if s ∉ [data;holdout]]   \n",
    "unique(unseen)"
   ]
  },
  {
   "cell_type": "code",
   "execution_count": 12,
   "metadata": {},
   "outputs": [
    {
     "ename": "UndefVarError",
     "evalue": "UndefVarError: μ not defined",
     "output_type": "error",
     "traceback": [
      "UndefVarError: μ not defined",
      "",
      "Stacktrace:",
      " [1] top-level scope at In[12]:1"
     ]
    }
   ],
   "source": [
    "plot(Array(μ))"
   ]
  },
  {
   "cell_type": "code",
   "execution_count": 13,
   "metadata": {},
   "outputs": [
    {
     "data": {
      "text/plain": [
       "probmap (generic function with 1 method)"
      ]
     },
     "execution_count": 13,
     "metadata": {},
     "output_type": "execute_result"
    }
   ],
   "source": [
    "function probmap(y)\n",
    "    u=unique(y)\n",
    "    Dict([(i,count(x->x==i,y) / length(y)) for i in u])\n",
    "end"
   ]
  },
  {
   "cell_type": "code",
   "execution_count": 153,
   "metadata": {},
   "outputs": [
    {
     "data": {
      "text/html": [
       "<table class=\"data-frame\"><thead><tr><th></th><th>EncoderAtt</th><th>DecoderAtt</th><th>B</th><th>H</th><th>lr</th><th>Optimizer</th><th>Epoch</th><th>UnseenCnt</th><th>MissedClass</th><th>WrongCount</th></tr><tr><th></th><th>Bool</th><th>Bool</th><th>Int64</th><th>Int64</th><th>Float64</th><th>String</th><th>Int64</th><th>Int64</th><th>Int64</th><th>Int64</th></tr></thead><tbody><p>0 rows × 10 columns</p></tbody></table>"
      ],
      "text/latex": [
       "\\begin{tabular}{r|cccccccccc}\n",
       "\t& EncoderAtt & DecoderAtt & B & H & lr & Optimizer & Epoch & UnseenCnt & MissedClass & WrongCount\\\\\n",
       "\t\\hline\n",
       "\t& Bool & Bool & Int64 & Int64 & Float64 & String & Int64 & Int64 & Int64 & Int64\\\\\n",
       "\t\\hline\n",
       "\\end{tabular}\n"
      ],
      "text/plain": [
       "0×10 DataFrame\n"
      ]
     },
     "execution_count": 153,
     "metadata": {},
     "output_type": "execute_result"
    }
   ],
   "source": [
    "df2 = DataFrame(EncoderAtt = Bool[], DecoderAtt = Bool[], B=Int[], H = Int[], lr=Float64[], Optimizer = String[], Epoch = Int[], UnseenCnt=Int[], MissedClass=Int[], WrongCount=Int[])"
   ]
  },
  {
   "cell_type": "code",
   "execution_count": null,
   "metadata": {},
   "outputs": [
    {
     "name": "stdout",
     "output_type": "stream",
     "text": [
      "1 2 3 4 5 6 7 8 9 10 11 12 13 14 15 16 17 18 19 20 21 22 23 24 25 26 27 28 29 30 31 32 33 34 35 36 37 38 39 40 41 42 43 44 45 46 47 48 49 50 51 52 53 54 55 56 57 58 59 60 61 62 63 64 65 66 67 68 69 70 71 72 73 74 75 76 77 78 79 80 81 82 83 84 85 86 87 88 89 90 91 92 93 94 95 96 97 98 99 100 101 102 103 104 105 106 107 108 109 110 111 112 113 114 115 116 117 118 "
     ]
    }
   ],
   "source": [
    "row = 0\n",
    "for H in (256,128)\n",
    "    for opt in (Adam, Rmsprop, SGD)\n",
    "        for lr in (0.001, 0.01, 0.1, 1.0)\n",
    "            for B in (1,2,4,8,16)\n",
    "                for epoch in (10,20,30)\n",
    "                    for model in get_vae_models(H)\n",
    "                        cmodel = deepcopy(model)\n",
    "                        train!(cmodel, 𝑿; epoch=epoch, optim=opt(lr=lr))\n",
    "                        sampled = sample(cmodel, vocab, 𝑿; N=100)\n",
    "                        unseen = [s for s in sampled if s ∈ holdout]\n",
    "                        wrong  = [s for s in sampled if s ∉ [data;holdout]]              \n",
    "                        push!(df2, (isencatt(cmodel), isdecatt(cmodel), B, H, lr, \"$opt\", epoch,  length(unseen), length(holdout)-length(unique(unseen)), length(wrong)))\n",
    "                        print((row+=1), \" \")\n",
    "                    end\n",
    "                end\n",
    "           end\n",
    "        end\n",
    "    end\n",
    "end\n",
    "df2[!,:UnseenClass] = length(holdout) .- df2.MissedClass;"
   ]
  },
  {
   "cell_type": "code",
   "execution_count": 17,
   "metadata": {},
   "outputs": [],
   "source": [
    "df2[!,:UnseenClass] = length(holdout) .- df2.MissedClass;"
   ]
  },
  {
   "cell_type": "code",
   "execution_count": 157,
   "metadata": {},
   "outputs": [
    {
     "data": {
      "text/html": [
       "<table class=\"data-frame\"><thead><tr><th></th><th>EncoderAtt</th><th>DecoderAtt</th><th>B</th><th>H</th><th>lr</th><th>Optimizer</th><th>Epoch</th><th>UnseenCnt</th><th>MissedClass</th><th>WrongCount</th><th>UnseenClass</th></tr><tr><th></th><th>Bool</th><th>Bool</th><th>Int64</th><th>Int64</th><th>Float64</th><th>String</th><th>Int64</th><th>Int64</th><th>Int64</th><th>Int64</th><th>Int64</th></tr></thead><tbody><p>1,440 rows × 11 columns</p><tr><th>1</th><td>0</td><td>0</td><td>4</td><td>256</td><td>0.001</td><td>Rmsprop</td><td>20</td><td>23</td><td>0</td><td>0</td><td>9</td></tr><tr><th>2</th><td>1</td><td>0</td><td>1</td><td>256</td><td>0.01</td><td>Rmsprop</td><td>20</td><td>21</td><td>0</td><td>0</td><td>9</td></tr><tr><th>3</th><td>1</td><td>0</td><td>4</td><td>256</td><td>0.01</td><td>Rmsprop</td><td>10</td><td>27</td><td>0</td><td>0</td><td>9</td></tr><tr><th>4</th><td>1</td><td>0</td><td>2</td><td>128</td><td>0.01</td><td>Rmsprop</td><td>10</td><td>20</td><td>0</td><td>0</td><td>9</td></tr><tr><th>5</th><td>1</td><td>0</td><td>16</td><td>128</td><td>0.01</td><td>Rmsprop</td><td>30</td><td>26</td><td>0</td><td>0</td><td>9</td></tr><tr><th>6</th><td>1</td><td>0</td><td>2</td><td>128</td><td>0.1</td><td>SGD</td><td>20</td><td>18</td><td>0</td><td>0</td><td>9</td></tr><tr><th>7</th><td>0</td><td>0</td><td>8</td><td>256</td><td>0.001</td><td>Adam</td><td>10</td><td>23</td><td>0</td><td>1</td><td>9</td></tr><tr><th>8</th><td>1</td><td>0</td><td>2</td><td>256</td><td>0.01</td><td>Adam</td><td>30</td><td>20</td><td>0</td><td>1</td><td>9</td></tr><tr><th>9</th><td>1</td><td>0</td><td>4</td><td>256</td><td>0.01</td><td>Adam</td><td>20</td><td>23</td><td>0</td><td>1</td><td>9</td></tr><tr><th>10</th><td>1</td><td>0</td><td>4</td><td>256</td><td>0.01</td><td>Rmsprop</td><td>20</td><td>26</td><td>0</td><td>1</td><td>9</td></tr><tr><th>11</th><td>1</td><td>0</td><td>8</td><td>256</td><td>0.01</td><td>Rmsprop</td><td>20</td><td>20</td><td>0</td><td>1</td><td>9</td></tr><tr><th>12</th><td>1</td><td>0</td><td>16</td><td>256</td><td>0.01</td><td>Rmsprop</td><td>10</td><td>18</td><td>0</td><td>1</td><td>9</td></tr><tr><th>13</th><td>1</td><td>0</td><td>8</td><td>128</td><td>0.01</td><td>Adam</td><td>20</td><td>21</td><td>0</td><td>1</td><td>9</td></tr><tr><th>14</th><td>1</td><td>0</td><td>1</td><td>256</td><td>0.01</td><td>Rmsprop</td><td>10</td><td>17</td><td>0</td><td>2</td><td>9</td></tr><tr><th>15</th><td>1</td><td>0</td><td>2</td><td>256</td><td>0.1</td><td>SGD</td><td>20</td><td>25</td><td>0</td><td>2</td><td>9</td></tr><tr><th>16</th><td>1</td><td>0</td><td>4</td><td>256</td><td>0.1</td><td>SGD</td><td>30</td><td>24</td><td>0</td><td>2</td><td>9</td></tr><tr><th>17</th><td>1</td><td>0</td><td>16</td><td>256</td><td>0.1</td><td>SGD</td><td>20</td><td>17</td><td>0</td><td>2</td><td>9</td></tr><tr><th>18</th><td>1</td><td>0</td><td>16</td><td>256</td><td>0.1</td><td>SGD</td><td>30</td><td>26</td><td>0</td><td>2</td><td>9</td></tr><tr><th>19</th><td>1</td><td>0</td><td>8</td><td>128</td><td>0.01</td><td>Rmsprop</td><td>20</td><td>23</td><td>0</td><td>2</td><td>9</td></tr><tr><th>20</th><td>1</td><td>0</td><td>8</td><td>128</td><td>0.1</td><td>SGD</td><td>20</td><td>15</td><td>0</td><td>2</td><td>9</td></tr><tr><th>21</th><td>1</td><td>0</td><td>2</td><td>256</td><td>0.1</td><td>SGD</td><td>30</td><td>24</td><td>0</td><td>3</td><td>9</td></tr><tr><th>22</th><td>1</td><td>0</td><td>4</td><td>128</td><td>0.01</td><td>Rmsprop</td><td>10</td><td>22</td><td>0</td><td>3</td><td>9</td></tr><tr><th>23</th><td>0</td><td>0</td><td>1</td><td>256</td><td>0.001</td><td>Adam</td><td>20</td><td>23</td><td>0</td><td>4</td><td>9</td></tr><tr><th>24</th><td>0</td><td>0</td><td>2</td><td>256</td><td>0.001</td><td>Rmsprop</td><td>20</td><td>22</td><td>0</td><td>4</td><td>9</td></tr><tr><th>25</th><td>0</td><td>0</td><td>2</td><td>128</td><td>0.001</td><td>Rmsprop</td><td>30</td><td>22</td><td>0</td><td>4</td><td>9</td></tr><tr><th>26</th><td>0</td><td>0</td><td>4</td><td>128</td><td>0.001</td><td>Adam</td><td>30</td><td>19</td><td>0</td><td>5</td><td>9</td></tr><tr><th>27</th><td>1</td><td>0</td><td>2</td><td>256</td><td>0.001</td><td>Rmsprop</td><td>30</td><td>23</td><td>0</td><td>6</td><td>9</td></tr><tr><th>28</th><td>0</td><td>0</td><td>16</td><td>128</td><td>0.001</td><td>Adam</td><td>30</td><td>19</td><td>0</td><td>6</td><td>9</td></tr><tr><th>29</th><td>0</td><td>0</td><td>2</td><td>128</td><td>0.1</td><td>SGD</td><td>20</td><td>24</td><td>0</td><td>8</td><td>9</td></tr><tr><th>30</th><td>0</td><td>0</td><td>2</td><td>256</td><td>0.1</td><td>SGD</td><td>30</td><td>23</td><td>0</td><td>9</td><td>9</td></tr><tr><th>31</th><td>1</td><td>0</td><td>16</td><td>128</td><td>0.1</td><td>SGD</td><td>10</td><td>19</td><td>0</td><td>9</td><td>9</td></tr><tr><th>32</th><td>0</td><td>0</td><td>4</td><td>256</td><td>0.1</td><td>SGD</td><td>20</td><td>20</td><td>0</td><td>13</td><td>9</td></tr><tr><th>33</th><td>1</td><td>0</td><td>4</td><td>256</td><td>0.1</td><td>SGD</td><td>10</td><td>23</td><td>0</td><td>14</td><td>9</td></tr><tr><th>34</th><td>1</td><td>0</td><td>16</td><td>256</td><td>0.1</td><td>SGD</td><td>10</td><td>22</td><td>0</td><td>14</td><td>9</td></tr><tr><th>35</th><td>0</td><td>0</td><td>16</td><td>256</td><td>0.001</td><td>Rmsprop</td><td>30</td><td>17</td><td>0</td><td>17</td><td>9</td></tr><tr><th>36</th><td>1</td><td>0</td><td>8</td><td>256</td><td>0.001</td><td>Rmsprop</td><td>20</td><td>21</td><td>0</td><td>27</td><td>9</td></tr><tr><th>37</th><td>1</td><td>0</td><td>1</td><td>256</td><td>0.01</td><td>Adam</td><td>10</td><td>23</td><td>1</td><td>0</td><td>8</td></tr><tr><th>38</th><td>1</td><td>0</td><td>4</td><td>256</td><td>0.01</td><td>Adam</td><td>30</td><td>22</td><td>1</td><td>0</td><td>8</td></tr><tr><th>39</th><td>1</td><td>0</td><td>16</td><td>256</td><td>0.01</td><td>Adam</td><td>20</td><td>21</td><td>1</td><td>0</td><td>8</td></tr><tr><th>40</th><td>1</td><td>0</td><td>16</td><td>256</td><td>0.01</td><td>Adam</td><td>30</td><td>20</td><td>1</td><td>0</td><td>8</td></tr><tr><th>41</th><td>1</td><td>0</td><td>1</td><td>128</td><td>0.01</td><td>Adam</td><td>20</td><td>18</td><td>1</td><td>0</td><td>8</td></tr><tr><th>42</th><td>1</td><td>0</td><td>2</td><td>128</td><td>0.01</td><td>Adam</td><td>20</td><td>17</td><td>1</td><td>0</td><td>8</td></tr><tr><th>43</th><td>1</td><td>0</td><td>4</td><td>128</td><td>0.01</td><td>Adam</td><td>20</td><td>20</td><td>1</td><td>0</td><td>8</td></tr><tr><th>44</th><td>1</td><td>0</td><td>4</td><td>128</td><td>0.01</td><td>Rmsprop</td><td>30</td><td>21</td><td>1</td><td>0</td><td>8</td></tr><tr><th>45</th><td>1</td><td>0</td><td>2</td><td>128</td><td>0.1</td><td>SGD</td><td>30</td><td>21</td><td>1</td><td>0</td><td>8</td></tr><tr><th>46</th><td>1</td><td>0</td><td>1</td><td>256</td><td>0.01</td><td>Rmsprop</td><td>30</td><td>24</td><td>1</td><td>1</td><td>8</td></tr><tr><th>47</th><td>1</td><td>0</td><td>16</td><td>256</td><td>0.01</td><td>Rmsprop</td><td>30</td><td>20</td><td>1</td><td>1</td><td>8</td></tr><tr><th>48</th><td>0</td><td>0</td><td>8</td><td>128</td><td>0.001</td><td>Adam</td><td>20</td><td>22</td><td>1</td><td>1</td><td>8</td></tr><tr><th>49</th><td>1</td><td>0</td><td>8</td><td>128</td><td>0.01</td><td>Adam</td><td>10</td><td>23</td><td>1</td><td>1</td><td>8</td></tr><tr><th>50</th><td>1</td><td>0</td><td>16</td><td>128</td><td>0.01</td><td>Adam</td><td>10</td><td>17</td><td>1</td><td>1</td><td>8</td></tr><tr><th>51</th><td>1</td><td>0</td><td>16</td><td>128</td><td>0.01</td><td>Adam</td><td>30</td><td>20</td><td>1</td><td>1</td><td>8</td></tr><tr><th>52</th><td>1</td><td>0</td><td>8</td><td>128</td><td>0.01</td><td>Rmsprop</td><td>30</td><td>26</td><td>1</td><td>1</td><td>8</td></tr><tr><th>53</th><td>1</td><td>0</td><td>1</td><td>128</td><td>0.1</td><td>SGD</td><td>20</td><td>19</td><td>1</td><td>1</td><td>8</td></tr><tr><th>54</th><td>1</td><td>0</td><td>16</td><td>256</td><td>0.001</td><td>Adam</td><td>30</td><td>21</td><td>1</td><td>2</td><td>8</td></tr><tr><th>55</th><td>1</td><td>0</td><td>8</td><td>256</td><td>0.01</td><td>Adam</td><td>20</td><td>26</td><td>1</td><td>2</td><td>8</td></tr><tr><th>56</th><td>0</td><td>0</td><td>8</td><td>256</td><td>0.001</td><td>Rmsprop</td><td>20</td><td>18</td><td>1</td><td>2</td><td>8</td></tr><tr><th>57</th><td>1</td><td>0</td><td>8</td><td>256</td><td>0.1</td><td>SGD</td><td>30</td><td>21</td><td>1</td><td>2</td><td>8</td></tr><tr><th>58</th><td>0</td><td>0</td><td>1</td><td>128</td><td>0.001</td><td>Rmsprop</td><td>20</td><td>21</td><td>1</td><td>2</td><td>8</td></tr><tr><th>59</th><td>1</td><td>0</td><td>1</td><td>128</td><td>0.01</td><td>Rmsprop</td><td>30</td><td>21</td><td>1</td><td>2</td><td>8</td></tr><tr><th>60</th><td>1</td><td>0</td><td>16</td><td>128</td><td>0.01</td><td>Rmsprop</td><td>10</td><td>21</td><td>1</td><td>2</td><td>8</td></tr><tr><th>61</th><td>1</td><td>0</td><td>4</td><td>128</td><td>0.1</td><td>SGD</td><td>20</td><td>20</td><td>1</td><td>2</td><td>8</td></tr><tr><th>62</th><td>1</td><td>0</td><td>8</td><td>128</td><td>0.1</td><td>SGD</td><td>30</td><td>21</td><td>1</td><td>2</td><td>8</td></tr><tr><th>63</th><td>1</td><td>0</td><td>4</td><td>256</td><td>0.001</td><td>Adam</td><td>30</td><td>20</td><td>1</td><td>3</td><td>8</td></tr><tr><th>64</th><td>0</td><td>0</td><td>16</td><td>256</td><td>0.001</td><td>Rmsprop</td><td>10</td><td>26</td><td>1</td><td>3</td><td>8</td></tr><tr><th>65</th><td>1</td><td>0</td><td>8</td><td>256</td><td>0.1</td><td>SGD</td><td>20</td><td>22</td><td>1</td><td>3</td><td>8</td></tr><tr><th>66</th><td>1</td><td>0</td><td>1</td><td>128</td><td>0.1</td><td>Adam</td><td>30</td><td>11</td><td>1</td><td>3</td><td>8</td></tr><tr><th>67</th><td>1</td><td>0</td><td>1</td><td>128</td><td>0.1</td><td>SGD</td><td>30</td><td>17</td><td>1</td><td>3</td><td>8</td></tr><tr><th>68</th><td>1</td><td>0</td><td>1</td><td>256</td><td>0.001</td><td>Adam</td><td>30</td><td>19</td><td>1</td><td>4</td><td>8</td></tr><tr><th>69</th><td>1</td><td>0</td><td>2</td><td>256</td><td>0.001</td><td>Adam</td><td>30</td><td>23</td><td>1</td><td>4</td><td>8</td></tr><tr><th>70</th><td>0</td><td>0</td><td>4</td><td>256</td><td>0.001</td><td>Adam</td><td>20</td><td>17</td><td>1</td><td>4</td><td>8</td></tr><tr><th>71</th><td>1</td><td>0</td><td>8</td><td>256</td><td>0.001</td><td>Adam</td><td>30</td><td>20</td><td>1</td><td>4</td><td>8</td></tr><tr><th>72</th><td>1</td><td>0</td><td>16</td><td>256</td><td>0.01</td><td>Rmsprop</td><td>20</td><td>28</td><td>1</td><td>4</td><td>8</td></tr><tr><th>73</th><td>1</td><td>0</td><td>8</td><td>128</td><td>0.01</td><td>Rmsprop</td><td>10</td><td>28</td><td>1</td><td>4</td><td>8</td></tr><tr><th>74</th><td>1</td><td>0</td><td>8</td><td>256</td><td>0.01</td><td>Rmsprop</td><td>30</td><td>26</td><td>1</td><td>5</td><td>8</td></tr><tr><th>75</th><td>1</td><td>0</td><td>4</td><td>256</td><td>0.1</td><td>SGD</td><td>20</td><td>22</td><td>1</td><td>5</td><td>8</td></tr><tr><th>76</th><td>0</td><td>0</td><td>2</td><td>128</td><td>0.001</td><td>Adam</td><td>30</td><td>19</td><td>1</td><td>5</td><td>8</td></tr><tr><th>77</th><td>0</td><td>0</td><td>4</td><td>128</td><td>0.001</td><td>Rmsprop</td><td>20</td><td>18</td><td>1</td><td>5</td><td>8</td></tr><tr><th>78</th><td>0</td><td>0</td><td>16</td><td>128</td><td>0.1</td><td>SGD</td><td>30</td><td>22</td><td>1</td><td>5</td><td>8</td></tr><tr><th>79</th><td>0</td><td>0</td><td>16</td><td>256</td><td>0.001</td><td>Adam</td><td>30</td><td>12</td><td>1</td><td>6</td><td>8</td></tr><tr><th>80</th><td>1</td><td>0</td><td>8</td><td>256</td><td>0.001</td><td>Rmsprop</td><td>30</td><td>18</td><td>1</td><td>6</td><td>8</td></tr><tr><th>81</th><td>0</td><td>0</td><td>4</td><td>128</td><td>0.1</td><td>SGD</td><td>20</td><td>28</td><td>1</td><td>6</td><td>8</td></tr><tr><th>82</th><td>1</td><td>0</td><td>4</td><td>256</td><td>0.001</td><td>Rmsprop</td><td>30</td><td>12</td><td>1</td><td>7</td><td>8</td></tr><tr><th>83</th><td>1</td><td>0</td><td>1</td><td>256</td><td>0.1</td><td>SGD</td><td>10</td><td>24</td><td>1</td><td>7</td><td>8</td></tr><tr><th>84</th><td>0</td><td>0</td><td>16</td><td>256</td><td>0.1</td><td>SGD</td><td>10</td><td>20</td><td>1</td><td>7</td><td>8</td></tr><tr><th>85</th><td>1</td><td>0</td><td>4</td><td>128</td><td>0.001</td><td>Adam</td><td>30</td><td>25</td><td>1</td><td>7</td><td>8</td></tr><tr><th>86</th><td>1</td><td>0</td><td>16</td><td>256</td><td>0.001</td><td>Adam</td><td>20</td><td>19</td><td>1</td><td>8</td><td>8</td></tr><tr><th>87</th><td>0</td><td>0</td><td>8</td><td>256</td><td>0.1</td><td>SGD</td><td>20</td><td>18</td><td>1</td><td>8</td><td>8</td></tr><tr><th>88</th><td>1</td><td>0</td><td>8</td><td>128</td><td>0.1</td><td>SGD</td><td>10</td><td>23</td><td>1</td><td>8</td><td>8</td></tr><tr><th>89</th><td>1</td><td>0</td><td>16</td><td>256</td><td>0.001</td><td>Rmsprop</td><td>30</td><td>19</td><td>1</td><td>9</td><td>8</td></tr><tr><th>90</th><td>0</td><td>0</td><td>4</td><td>128</td><td>0.001</td><td>Adam</td><td>10</td><td>15</td><td>1</td><td>9</td><td>8</td></tr><tr><th>91</th><td>0</td><td>0</td><td>1</td><td>256</td><td>0.1</td><td>SGD</td><td>20</td><td>23</td><td>1</td><td>10</td><td>8</td></tr><tr><th>92</th><td>1</td><td>0</td><td>2</td><td>128</td><td>0.001</td><td>Adam</td><td>30</td><td>14</td><td>1</td><td>10</td><td>8</td></tr><tr><th>93</th><td>0</td><td>0</td><td>1</td><td>256</td><td>0.1</td><td>SGD</td><td>30</td><td>22</td><td>1</td><td>11</td><td>8</td></tr><tr><th>94</th><td>0</td><td>0</td><td>4</td><td>256</td><td>0.1</td><td>SGD</td><td>30</td><td>15</td><td>1</td><td>11</td><td>8</td></tr><tr><th>95</th><td>0</td><td>0</td><td>4</td><td>128</td><td>0.001</td><td>Rmsprop</td><td>30</td><td>25</td><td>1</td><td>12</td><td>8</td></tr><tr><th>96</th><td>0</td><td>0</td><td>1</td><td>128</td><td>0.1</td><td>SGD</td><td>10</td><td>18</td><td>1</td><td>12</td><td>8</td></tr><tr><th>97</th><td>1</td><td>0</td><td>4</td><td>256</td><td>0.001</td><td>Adam</td><td>20</td><td>13</td><td>1</td><td>13</td><td>8</td></tr><tr><th>98</th><td>0</td><td>0</td><td>8</td><td>256</td><td>0.001</td><td>Rmsprop</td><td>30</td><td>18</td><td>1</td><td>13</td><td>8</td></tr><tr><th>99</th><td>0</td><td>0</td><td>16</td><td>256</td><td>0.1</td><td>SGD</td><td>30</td><td>17</td><td>1</td><td>13</td><td>8</td></tr><tr><th>100</th><td>1</td><td>0</td><td>1</td><td>256</td><td>0.001</td><td>Adam</td><td>20</td><td>14</td><td>1</td><td>14</td><td>8</td></tr><tr><th>&vellip;</th><td>&vellip;</td><td>&vellip;</td><td>&vellip;</td><td>&vellip;</td><td>&vellip;</td><td>&vellip;</td><td>&vellip;</td><td>&vellip;</td><td>&vellip;</td><td>&vellip;</td><td>&vellip;</td></tr></tbody></table>"
      ],
      "text/latex": [
       "\\begin{tabular}{r|ccccccccccc}\n",
       "\t& EncoderAtt & DecoderAtt & B & H & lr & Optimizer & Epoch & UnseenCnt & MissedClass & WrongCount & UnseenClass\\\\\n",
       "\t\\hline\n",
       "\t& Bool & Bool & Int64 & Int64 & Float64 & String & Int64 & Int64 & Int64 & Int64 & Int64\\\\\n",
       "\t\\hline\n",
       "\t1 & 0 & 0 & 4 & 256 & 0.001 & Rmsprop & 20 & 23 & 0 & 0 & 9 \\\\\n",
       "\t2 & 1 & 0 & 1 & 256 & 0.01 & Rmsprop & 20 & 21 & 0 & 0 & 9 \\\\\n",
       "\t3 & 1 & 0 & 4 & 256 & 0.01 & Rmsprop & 10 & 27 & 0 & 0 & 9 \\\\\n",
       "\t4 & 1 & 0 & 2 & 128 & 0.01 & Rmsprop & 10 & 20 & 0 & 0 & 9 \\\\\n",
       "\t5 & 1 & 0 & 16 & 128 & 0.01 & Rmsprop & 30 & 26 & 0 & 0 & 9 \\\\\n",
       "\t6 & 1 & 0 & 2 & 128 & 0.1 & SGD & 20 & 18 & 0 & 0 & 9 \\\\\n",
       "\t7 & 0 & 0 & 8 & 256 & 0.001 & Adam & 10 & 23 & 0 & 1 & 9 \\\\\n",
       "\t8 & 1 & 0 & 2 & 256 & 0.01 & Adam & 30 & 20 & 0 & 1 & 9 \\\\\n",
       "\t9 & 1 & 0 & 4 & 256 & 0.01 & Adam & 20 & 23 & 0 & 1 & 9 \\\\\n",
       "\t10 & 1 & 0 & 4 & 256 & 0.01 & Rmsprop & 20 & 26 & 0 & 1 & 9 \\\\\n",
       "\t11 & 1 & 0 & 8 & 256 & 0.01 & Rmsprop & 20 & 20 & 0 & 1 & 9 \\\\\n",
       "\t12 & 1 & 0 & 16 & 256 & 0.01 & Rmsprop & 10 & 18 & 0 & 1 & 9 \\\\\n",
       "\t13 & 1 & 0 & 8 & 128 & 0.01 & Adam & 20 & 21 & 0 & 1 & 9 \\\\\n",
       "\t14 & 1 & 0 & 1 & 256 & 0.01 & Rmsprop & 10 & 17 & 0 & 2 & 9 \\\\\n",
       "\t15 & 1 & 0 & 2 & 256 & 0.1 & SGD & 20 & 25 & 0 & 2 & 9 \\\\\n",
       "\t16 & 1 & 0 & 4 & 256 & 0.1 & SGD & 30 & 24 & 0 & 2 & 9 \\\\\n",
       "\t17 & 1 & 0 & 16 & 256 & 0.1 & SGD & 20 & 17 & 0 & 2 & 9 \\\\\n",
       "\t18 & 1 & 0 & 16 & 256 & 0.1 & SGD & 30 & 26 & 0 & 2 & 9 \\\\\n",
       "\t19 & 1 & 0 & 8 & 128 & 0.01 & Rmsprop & 20 & 23 & 0 & 2 & 9 \\\\\n",
       "\t20 & 1 & 0 & 8 & 128 & 0.1 & SGD & 20 & 15 & 0 & 2 & 9 \\\\\n",
       "\t21 & 1 & 0 & 2 & 256 & 0.1 & SGD & 30 & 24 & 0 & 3 & 9 \\\\\n",
       "\t22 & 1 & 0 & 4 & 128 & 0.01 & Rmsprop & 10 & 22 & 0 & 3 & 9 \\\\\n",
       "\t23 & 0 & 0 & 1 & 256 & 0.001 & Adam & 20 & 23 & 0 & 4 & 9 \\\\\n",
       "\t24 & 0 & 0 & 2 & 256 & 0.001 & Rmsprop & 20 & 22 & 0 & 4 & 9 \\\\\n",
       "\t25 & 0 & 0 & 2 & 128 & 0.001 & Rmsprop & 30 & 22 & 0 & 4 & 9 \\\\\n",
       "\t26 & 0 & 0 & 4 & 128 & 0.001 & Adam & 30 & 19 & 0 & 5 & 9 \\\\\n",
       "\t27 & 1 & 0 & 2 & 256 & 0.001 & Rmsprop & 30 & 23 & 0 & 6 & 9 \\\\\n",
       "\t28 & 0 & 0 & 16 & 128 & 0.001 & Adam & 30 & 19 & 0 & 6 & 9 \\\\\n",
       "\t29 & 0 & 0 & 2 & 128 & 0.1 & SGD & 20 & 24 & 0 & 8 & 9 \\\\\n",
       "\t30 & 0 & 0 & 2 & 256 & 0.1 & SGD & 30 & 23 & 0 & 9 & 9 \\\\\n",
       "\t31 & 1 & 0 & 16 & 128 & 0.1 & SGD & 10 & 19 & 0 & 9 & 9 \\\\\n",
       "\t32 & 0 & 0 & 4 & 256 & 0.1 & SGD & 20 & 20 & 0 & 13 & 9 \\\\\n",
       "\t33 & 1 & 0 & 4 & 256 & 0.1 & SGD & 10 & 23 & 0 & 14 & 9 \\\\\n",
       "\t34 & 1 & 0 & 16 & 256 & 0.1 & SGD & 10 & 22 & 0 & 14 & 9 \\\\\n",
       "\t35 & 0 & 0 & 16 & 256 & 0.001 & Rmsprop & 30 & 17 & 0 & 17 & 9 \\\\\n",
       "\t36 & 1 & 0 & 8 & 256 & 0.001 & Rmsprop & 20 & 21 & 0 & 27 & 9 \\\\\n",
       "\t37 & 1 & 0 & 1 & 256 & 0.01 & Adam & 10 & 23 & 1 & 0 & 8 \\\\\n",
       "\t38 & 1 & 0 & 4 & 256 & 0.01 & Adam & 30 & 22 & 1 & 0 & 8 \\\\\n",
       "\t39 & 1 & 0 & 16 & 256 & 0.01 & Adam & 20 & 21 & 1 & 0 & 8 \\\\\n",
       "\t40 & 1 & 0 & 16 & 256 & 0.01 & Adam & 30 & 20 & 1 & 0 & 8 \\\\\n",
       "\t41 & 1 & 0 & 1 & 128 & 0.01 & Adam & 20 & 18 & 1 & 0 & 8 \\\\\n",
       "\t42 & 1 & 0 & 2 & 128 & 0.01 & Adam & 20 & 17 & 1 & 0 & 8 \\\\\n",
       "\t43 & 1 & 0 & 4 & 128 & 0.01 & Adam & 20 & 20 & 1 & 0 & 8 \\\\\n",
       "\t44 & 1 & 0 & 4 & 128 & 0.01 & Rmsprop & 30 & 21 & 1 & 0 & 8 \\\\\n",
       "\t45 & 1 & 0 & 2 & 128 & 0.1 & SGD & 30 & 21 & 1 & 0 & 8 \\\\\n",
       "\t46 & 1 & 0 & 1 & 256 & 0.01 & Rmsprop & 30 & 24 & 1 & 1 & 8 \\\\\n",
       "\t47 & 1 & 0 & 16 & 256 & 0.01 & Rmsprop & 30 & 20 & 1 & 1 & 8 \\\\\n",
       "\t48 & 0 & 0 & 8 & 128 & 0.001 & Adam & 20 & 22 & 1 & 1 & 8 \\\\\n",
       "\t49 & 1 & 0 & 8 & 128 & 0.01 & Adam & 10 & 23 & 1 & 1 & 8 \\\\\n",
       "\t50 & 1 & 0 & 16 & 128 & 0.01 & Adam & 10 & 17 & 1 & 1 & 8 \\\\\n",
       "\t51 & 1 & 0 & 16 & 128 & 0.01 & Adam & 30 & 20 & 1 & 1 & 8 \\\\\n",
       "\t52 & 1 & 0 & 8 & 128 & 0.01 & Rmsprop & 30 & 26 & 1 & 1 & 8 \\\\\n",
       "\t53 & 1 & 0 & 1 & 128 & 0.1 & SGD & 20 & 19 & 1 & 1 & 8 \\\\\n",
       "\t54 & 1 & 0 & 16 & 256 & 0.001 & Adam & 30 & 21 & 1 & 2 & 8 \\\\\n",
       "\t55 & 1 & 0 & 8 & 256 & 0.01 & Adam & 20 & 26 & 1 & 2 & 8 \\\\\n",
       "\t56 & 0 & 0 & 8 & 256 & 0.001 & Rmsprop & 20 & 18 & 1 & 2 & 8 \\\\\n",
       "\t57 & 1 & 0 & 8 & 256 & 0.1 & SGD & 30 & 21 & 1 & 2 & 8 \\\\\n",
       "\t58 & 0 & 0 & 1 & 128 & 0.001 & Rmsprop & 20 & 21 & 1 & 2 & 8 \\\\\n",
       "\t59 & 1 & 0 & 1 & 128 & 0.01 & Rmsprop & 30 & 21 & 1 & 2 & 8 \\\\\n",
       "\t60 & 1 & 0 & 16 & 128 & 0.01 & Rmsprop & 10 & 21 & 1 & 2 & 8 \\\\\n",
       "\t61 & 1 & 0 & 4 & 128 & 0.1 & SGD & 20 & 20 & 1 & 2 & 8 \\\\\n",
       "\t62 & 1 & 0 & 8 & 128 & 0.1 & SGD & 30 & 21 & 1 & 2 & 8 \\\\\n",
       "\t63 & 1 & 0 & 4 & 256 & 0.001 & Adam & 30 & 20 & 1 & 3 & 8 \\\\\n",
       "\t64 & 0 & 0 & 16 & 256 & 0.001 & Rmsprop & 10 & 26 & 1 & 3 & 8 \\\\\n",
       "\t65 & 1 & 0 & 8 & 256 & 0.1 & SGD & 20 & 22 & 1 & 3 & 8 \\\\\n",
       "\t66 & 1 & 0 & 1 & 128 & 0.1 & Adam & 30 & 11 & 1 & 3 & 8 \\\\\n",
       "\t67 & 1 & 0 & 1 & 128 & 0.1 & SGD & 30 & 17 & 1 & 3 & 8 \\\\\n",
       "\t68 & 1 & 0 & 1 & 256 & 0.001 & Adam & 30 & 19 & 1 & 4 & 8 \\\\\n",
       "\t69 & 1 & 0 & 2 & 256 & 0.001 & Adam & 30 & 23 & 1 & 4 & 8 \\\\\n",
       "\t70 & 0 & 0 & 4 & 256 & 0.001 & Adam & 20 & 17 & 1 & 4 & 8 \\\\\n",
       "\t71 & 1 & 0 & 8 & 256 & 0.001 & Adam & 30 & 20 & 1 & 4 & 8 \\\\\n",
       "\t72 & 1 & 0 & 16 & 256 & 0.01 & Rmsprop & 20 & 28 & 1 & 4 & 8 \\\\\n",
       "\t73 & 1 & 0 & 8 & 128 & 0.01 & Rmsprop & 10 & 28 & 1 & 4 & 8 \\\\\n",
       "\t74 & 1 & 0 & 8 & 256 & 0.01 & Rmsprop & 30 & 26 & 1 & 5 & 8 \\\\\n",
       "\t75 & 1 & 0 & 4 & 256 & 0.1 & SGD & 20 & 22 & 1 & 5 & 8 \\\\\n",
       "\t76 & 0 & 0 & 2 & 128 & 0.001 & Adam & 30 & 19 & 1 & 5 & 8 \\\\\n",
       "\t77 & 0 & 0 & 4 & 128 & 0.001 & Rmsprop & 20 & 18 & 1 & 5 & 8 \\\\\n",
       "\t78 & 0 & 0 & 16 & 128 & 0.1 & SGD & 30 & 22 & 1 & 5 & 8 \\\\\n",
       "\t79 & 0 & 0 & 16 & 256 & 0.001 & Adam & 30 & 12 & 1 & 6 & 8 \\\\\n",
       "\t80 & 1 & 0 & 8 & 256 & 0.001 & Rmsprop & 30 & 18 & 1 & 6 & 8 \\\\\n",
       "\t81 & 0 & 0 & 4 & 128 & 0.1 & SGD & 20 & 28 & 1 & 6 & 8 \\\\\n",
       "\t82 & 1 & 0 & 4 & 256 & 0.001 & Rmsprop & 30 & 12 & 1 & 7 & 8 \\\\\n",
       "\t83 & 1 & 0 & 1 & 256 & 0.1 & SGD & 10 & 24 & 1 & 7 & 8 \\\\\n",
       "\t84 & 0 & 0 & 16 & 256 & 0.1 & SGD & 10 & 20 & 1 & 7 & 8 \\\\\n",
       "\t85 & 1 & 0 & 4 & 128 & 0.001 & Adam & 30 & 25 & 1 & 7 & 8 \\\\\n",
       "\t86 & 1 & 0 & 16 & 256 & 0.001 & Adam & 20 & 19 & 1 & 8 & 8 \\\\\n",
       "\t87 & 0 & 0 & 8 & 256 & 0.1 & SGD & 20 & 18 & 1 & 8 & 8 \\\\\n",
       "\t88 & 1 & 0 & 8 & 128 & 0.1 & SGD & 10 & 23 & 1 & 8 & 8 \\\\\n",
       "\t89 & 1 & 0 & 16 & 256 & 0.001 & Rmsprop & 30 & 19 & 1 & 9 & 8 \\\\\n",
       "\t90 & 0 & 0 & 4 & 128 & 0.001 & Adam & 10 & 15 & 1 & 9 & 8 \\\\\n",
       "\t91 & 0 & 0 & 1 & 256 & 0.1 & SGD & 20 & 23 & 1 & 10 & 8 \\\\\n",
       "\t92 & 1 & 0 & 2 & 128 & 0.001 & Adam & 30 & 14 & 1 & 10 & 8 \\\\\n",
       "\t93 & 0 & 0 & 1 & 256 & 0.1 & SGD & 30 & 22 & 1 & 11 & 8 \\\\\n",
       "\t94 & 0 & 0 & 4 & 256 & 0.1 & SGD & 30 & 15 & 1 & 11 & 8 \\\\\n",
       "\t95 & 0 & 0 & 4 & 128 & 0.001 & Rmsprop & 30 & 25 & 1 & 12 & 8 \\\\\n",
       "\t96 & 0 & 0 & 1 & 128 & 0.1 & SGD & 10 & 18 & 1 & 12 & 8 \\\\\n",
       "\t97 & 1 & 0 & 4 & 256 & 0.001 & Adam & 20 & 13 & 1 & 13 & 8 \\\\\n",
       "\t98 & 0 & 0 & 8 & 256 & 0.001 & Rmsprop & 30 & 18 & 1 & 13 & 8 \\\\\n",
       "\t99 & 0 & 0 & 16 & 256 & 0.1 & SGD & 30 & 17 & 1 & 13 & 8 \\\\\n",
       "\t100 & 1 & 0 & 1 & 256 & 0.001 & Adam & 20 & 14 & 1 & 14 & 8 \\\\\n",
       "\t$\\dots$ & $\\dots$ & $\\dots$ & $\\dots$ & $\\dots$ & $\\dots$ & $\\dots$ & $\\dots$ & $\\dots$ & $\\dots$ & $\\dots$ & $\\dots$ \\\\\n",
       "\\end{tabular}\n"
      ],
      "text/plain": [
       "1440×11 DataFrame\n",
       "│ Row  │ EncoderAtt │ DecoderAtt │ B     │ H     │ lr      │ Optimizer │ Epoch │ UnseenCnt │ MissedClass │ WrongCount │ UnseenClass │\n",
       "│      │ \u001b[90mBool\u001b[39m       │ \u001b[90mBool\u001b[39m       │ \u001b[90mInt64\u001b[39m │ \u001b[90mInt64\u001b[39m │ \u001b[90mFloat64\u001b[39m │ \u001b[90mString\u001b[39m    │ \u001b[90mInt64\u001b[39m │ \u001b[90mInt64\u001b[39m     │ \u001b[90mInt64\u001b[39m       │ \u001b[90mInt64\u001b[39m      │ \u001b[90mInt64\u001b[39m       │\n",
       "├──────┼────────────┼────────────┼───────┼───────┼─────────┼───────────┼───────┼───────────┼─────────────┼────────────┼─────────────┤\n",
       "│ 1    │ 0          │ 0          │ 4     │ 256   │ 0.001   │ Rmsprop   │ 20    │ 23        │ 0           │ 0          │ 9           │\n",
       "│ 2    │ 1          │ 0          │ 1     │ 256   │ 0.01    │ Rmsprop   │ 20    │ 21        │ 0           │ 0          │ 9           │\n",
       "│ 3    │ 1          │ 0          │ 4     │ 256   │ 0.01    │ Rmsprop   │ 10    │ 27        │ 0           │ 0          │ 9           │\n",
       "│ 4    │ 1          │ 0          │ 2     │ 128   │ 0.01    │ Rmsprop   │ 10    │ 20        │ 0           │ 0          │ 9           │\n",
       "│ 5    │ 1          │ 0          │ 16    │ 128   │ 0.01    │ Rmsprop   │ 30    │ 26        │ 0           │ 0          │ 9           │\n",
       "│ 6    │ 1          │ 0          │ 2     │ 128   │ 0.1     │ SGD       │ 20    │ 18        │ 0           │ 0          │ 9           │\n",
       "│ 7    │ 0          │ 0          │ 8     │ 256   │ 0.001   │ Adam      │ 10    │ 23        │ 0           │ 1          │ 9           │\n",
       "│ 8    │ 1          │ 0          │ 2     │ 256   │ 0.01    │ Adam      │ 30    │ 20        │ 0           │ 1          │ 9           │\n",
       "│ 9    │ 1          │ 0          │ 4     │ 256   │ 0.01    │ Adam      │ 20    │ 23        │ 0           │ 1          │ 9           │\n",
       "│ 10   │ 1          │ 0          │ 4     │ 256   │ 0.01    │ Rmsprop   │ 20    │ 26        │ 0           │ 1          │ 9           │\n",
       "│ 11   │ 1          │ 0          │ 8     │ 256   │ 0.01    │ Rmsprop   │ 20    │ 20        │ 0           │ 1          │ 9           │\n",
       "│ 12   │ 1          │ 0          │ 16    │ 256   │ 0.01    │ Rmsprop   │ 10    │ 18        │ 0           │ 1          │ 9           │\n",
       "│ 13   │ 1          │ 0          │ 8     │ 128   │ 0.01    │ Adam      │ 20    │ 21        │ 0           │ 1          │ 9           │\n",
       "│ 14   │ 1          │ 0          │ 1     │ 256   │ 0.01    │ Rmsprop   │ 10    │ 17        │ 0           │ 2          │ 9           │\n",
       "│ 15   │ 1          │ 0          │ 2     │ 256   │ 0.1     │ SGD       │ 20    │ 25        │ 0           │ 2          │ 9           │\n",
       "│ 16   │ 1          │ 0          │ 4     │ 256   │ 0.1     │ SGD       │ 30    │ 24        │ 0           │ 2          │ 9           │\n",
       "│ 17   │ 1          │ 0          │ 16    │ 256   │ 0.1     │ SGD       │ 20    │ 17        │ 0           │ 2          │ 9           │\n",
       "│ 18   │ 1          │ 0          │ 16    │ 256   │ 0.1     │ SGD       │ 30    │ 26        │ 0           │ 2          │ 9           │\n",
       "│ 19   │ 1          │ 0          │ 8     │ 128   │ 0.01    │ Rmsprop   │ 20    │ 23        │ 0           │ 2          │ 9           │\n",
       "│ 20   │ 1          │ 0          │ 8     │ 128   │ 0.1     │ SGD       │ 20    │ 15        │ 0           │ 2          │ 9           │\n",
       "│ 21   │ 1          │ 0          │ 2     │ 256   │ 0.1     │ SGD       │ 30    │ 24        │ 0           │ 3          │ 9           │\n",
       "│ 22   │ 1          │ 0          │ 4     │ 128   │ 0.01    │ Rmsprop   │ 10    │ 22        │ 0           │ 3          │ 9           │\n",
       "│ 23   │ 0          │ 0          │ 1     │ 256   │ 0.001   │ Adam      │ 20    │ 23        │ 0           │ 4          │ 9           │\n",
       "│ 24   │ 0          │ 0          │ 2     │ 256   │ 0.001   │ Rmsprop   │ 20    │ 22        │ 0           │ 4          │ 9           │\n",
       "│ 25   │ 0          │ 0          │ 2     │ 128   │ 0.001   │ Rmsprop   │ 30    │ 22        │ 0           │ 4          │ 9           │\n",
       "│ 26   │ 0          │ 0          │ 4     │ 128   │ 0.001   │ Adam      │ 30    │ 19        │ 0           │ 5          │ 9           │\n",
       "│ 27   │ 1          │ 0          │ 2     │ 256   │ 0.001   │ Rmsprop   │ 30    │ 23        │ 0           │ 6          │ 9           │\n",
       "│ 28   │ 0          │ 0          │ 16    │ 128   │ 0.001   │ Adam      │ 30    │ 19        │ 0           │ 6          │ 9           │\n",
       "│ 29   │ 0          │ 0          │ 2     │ 128   │ 0.1     │ SGD       │ 20    │ 24        │ 0           │ 8          │ 9           │\n",
       "│ 30   │ 0          │ 0          │ 2     │ 256   │ 0.1     │ SGD       │ 30    │ 23        │ 0           │ 9          │ 9           │\n",
       "│ 31   │ 1          │ 0          │ 16    │ 128   │ 0.1     │ SGD       │ 10    │ 19        │ 0           │ 9          │ 9           │\n",
       "│ 32   │ 0          │ 0          │ 4     │ 256   │ 0.1     │ SGD       │ 20    │ 20        │ 0           │ 13         │ 9           │\n",
       "│ 33   │ 1          │ 0          │ 4     │ 256   │ 0.1     │ SGD       │ 10    │ 23        │ 0           │ 14         │ 9           │\n",
       "│ 34   │ 1          │ 0          │ 16    │ 256   │ 0.1     │ SGD       │ 10    │ 22        │ 0           │ 14         │ 9           │\n",
       "│ 35   │ 0          │ 0          │ 16    │ 256   │ 0.001   │ Rmsprop   │ 30    │ 17        │ 0           │ 17         │ 9           │\n",
       "│ 36   │ 1          │ 0          │ 8     │ 256   │ 0.001   │ Rmsprop   │ 20    │ 21        │ 0           │ 27         │ 9           │\n",
       "│ 37   │ 1          │ 0          │ 1     │ 256   │ 0.01    │ Adam      │ 10    │ 23        │ 1           │ 0          │ 8           │\n",
       "│ 38   │ 1          │ 0          │ 4     │ 256   │ 0.01    │ Adam      │ 30    │ 22        │ 1           │ 0          │ 8           │\n",
       "│ 39   │ 1          │ 0          │ 16    │ 256   │ 0.01    │ Adam      │ 20    │ 21        │ 1           │ 0          │ 8           │\n",
       "│ 40   │ 1          │ 0          │ 16    │ 256   │ 0.01    │ Adam      │ 30    │ 20        │ 1           │ 0          │ 8           │\n",
       "│ 41   │ 1          │ 0          │ 1     │ 128   │ 0.01    │ Adam      │ 20    │ 18        │ 1           │ 0          │ 8           │\n",
       "│ 42   │ 1          │ 0          │ 2     │ 128   │ 0.01    │ Adam      │ 20    │ 17        │ 1           │ 0          │ 8           │\n",
       "│ 43   │ 1          │ 0          │ 4     │ 128   │ 0.01    │ Adam      │ 20    │ 20        │ 1           │ 0          │ 8           │\n",
       "│ 44   │ 1          │ 0          │ 4     │ 128   │ 0.01    │ Rmsprop   │ 30    │ 21        │ 1           │ 0          │ 8           │\n",
       "│ 45   │ 1          │ 0          │ 2     │ 128   │ 0.1     │ SGD       │ 30    │ 21        │ 1           │ 0          │ 8           │\n",
       "⋮\n",
       "│ 1395 │ 0          │ 1          │ 4     │ 128   │ 1.0     │ Rmsprop   │ 10    │ 0         │ 9           │ 100        │ 0           │\n",
       "│ 1396 │ 0          │ 0          │ 4     │ 128   │ 1.0     │ Rmsprop   │ 20    │ 0         │ 9           │ 100        │ 0           │\n",
       "│ 1397 │ 1          │ 0          │ 4     │ 128   │ 1.0     │ Rmsprop   │ 20    │ 0         │ 9           │ 100        │ 0           │\n",
       "│ 1398 │ 0          │ 1          │ 4     │ 128   │ 1.0     │ Rmsprop   │ 20    │ 0         │ 9           │ 100        │ 0           │\n",
       "│ 1399 │ 1          │ 1          │ 4     │ 128   │ 1.0     │ Rmsprop   │ 20    │ 0         │ 9           │ 100        │ 0           │\n",
       "│ 1400 │ 0          │ 0          │ 4     │ 128   │ 1.0     │ Rmsprop   │ 30    │ 0         │ 9           │ 100        │ 0           │\n",
       "│ 1401 │ 1          │ 0          │ 4     │ 128   │ 1.0     │ Rmsprop   │ 30    │ 0         │ 9           │ 100        │ 0           │\n",
       "│ 1402 │ 0          │ 1          │ 4     │ 128   │ 1.0     │ Rmsprop   │ 30    │ 0         │ 9           │ 100        │ 0           │\n",
       "│ 1403 │ 1          │ 1          │ 4     │ 128   │ 1.0     │ Rmsprop   │ 30    │ 0         │ 9           │ 100        │ 0           │\n",
       "│ 1404 │ 0          │ 0          │ 8     │ 128   │ 1.0     │ Rmsprop   │ 10    │ 0         │ 9           │ 100        │ 0           │\n",
       "│ 1405 │ 1          │ 0          │ 8     │ 128   │ 1.0     │ Rmsprop   │ 10    │ 0         │ 9           │ 100        │ 0           │\n",
       "│ 1406 │ 0          │ 1          │ 8     │ 128   │ 1.0     │ Rmsprop   │ 10    │ 0         │ 9           │ 100        │ 0           │\n",
       "│ 1407 │ 1          │ 1          │ 8     │ 128   │ 1.0     │ Rmsprop   │ 10    │ 0         │ 9           │ 100        │ 0           │\n",
       "│ 1408 │ 0          │ 0          │ 8     │ 128   │ 1.0     │ Rmsprop   │ 20    │ 0         │ 9           │ 100        │ 0           │\n",
       "│ 1409 │ 1          │ 0          │ 8     │ 128   │ 1.0     │ Rmsprop   │ 20    │ 0         │ 9           │ 100        │ 0           │\n",
       "│ 1410 │ 0          │ 1          │ 8     │ 128   │ 1.0     │ Rmsprop   │ 20    │ 0         │ 9           │ 100        │ 0           │\n",
       "│ 1411 │ 0          │ 0          │ 8     │ 128   │ 1.0     │ Rmsprop   │ 30    │ 0         │ 9           │ 100        │ 0           │\n",
       "│ 1412 │ 1          │ 0          │ 8     │ 128   │ 1.0     │ Rmsprop   │ 30    │ 0         │ 9           │ 100        │ 0           │\n",
       "│ 1413 │ 0          │ 1          │ 8     │ 128   │ 1.0     │ Rmsprop   │ 30    │ 0         │ 9           │ 100        │ 0           │\n",
       "│ 1414 │ 1          │ 1          │ 8     │ 128   │ 1.0     │ Rmsprop   │ 30    │ 0         │ 9           │ 100        │ 0           │\n",
       "│ 1415 │ 0          │ 0          │ 16    │ 128   │ 1.0     │ Rmsprop   │ 10    │ 0         │ 9           │ 100        │ 0           │\n",
       "│ 1416 │ 1          │ 0          │ 16    │ 128   │ 1.0     │ Rmsprop   │ 10    │ 0         │ 9           │ 100        │ 0           │\n",
       "│ 1417 │ 0          │ 1          │ 16    │ 128   │ 1.0     │ Rmsprop   │ 10    │ 0         │ 9           │ 100        │ 0           │\n",
       "│ 1418 │ 1          │ 1          │ 16    │ 128   │ 1.0     │ Rmsprop   │ 10    │ 0         │ 9           │ 100        │ 0           │\n",
       "│ 1419 │ 0          │ 0          │ 16    │ 128   │ 1.0     │ Rmsprop   │ 20    │ 0         │ 9           │ 100        │ 0           │\n",
       "│ 1420 │ 1          │ 0          │ 16    │ 128   │ 1.0     │ Rmsprop   │ 20    │ 0         │ 9           │ 100        │ 0           │\n",
       "│ 1421 │ 0          │ 1          │ 16    │ 128   │ 1.0     │ Rmsprop   │ 20    │ 0         │ 9           │ 100        │ 0           │\n",
       "│ 1422 │ 0          │ 0          │ 16    │ 128   │ 1.0     │ Rmsprop   │ 30    │ 0         │ 9           │ 100        │ 0           │\n",
       "│ 1423 │ 1          │ 0          │ 16    │ 128   │ 1.0     │ Rmsprop   │ 30    │ 0         │ 9           │ 100        │ 0           │\n",
       "│ 1424 │ 0          │ 1          │ 16    │ 128   │ 1.0     │ Rmsprop   │ 30    │ 0         │ 9           │ 100        │ 0           │\n",
       "│ 1425 │ 1          │ 1          │ 16    │ 128   │ 1.0     │ Rmsprop   │ 30    │ 0         │ 9           │ 100        │ 0           │\n",
       "│ 1426 │ 0          │ 0          │ 1     │ 128   │ 1.0     │ SGD       │ 10    │ 0         │ 9           │ 100        │ 0           │\n",
       "│ 1427 │ 0          │ 0          │ 1     │ 128   │ 1.0     │ SGD       │ 20    │ 0         │ 9           │ 100        │ 0           │\n",
       "│ 1428 │ 0          │ 0          │ 1     │ 128   │ 1.0     │ SGD       │ 30    │ 0         │ 9           │ 100        │ 0           │\n",
       "│ 1429 │ 0          │ 0          │ 2     │ 128   │ 1.0     │ SGD       │ 10    │ 0         │ 9           │ 100        │ 0           │\n",
       "│ 1430 │ 0          │ 0          │ 2     │ 128   │ 1.0     │ SGD       │ 20    │ 0         │ 9           │ 100        │ 0           │\n",
       "│ 1431 │ 0          │ 0          │ 2     │ 128   │ 1.0     │ SGD       │ 30    │ 0         │ 9           │ 100        │ 0           │\n",
       "│ 1432 │ 0          │ 0          │ 4     │ 128   │ 1.0     │ SGD       │ 10    │ 0         │ 9           │ 100        │ 0           │\n",
       "│ 1433 │ 0          │ 0          │ 4     │ 128   │ 1.0     │ SGD       │ 20    │ 0         │ 9           │ 100        │ 0           │\n",
       "│ 1434 │ 0          │ 0          │ 4     │ 128   │ 1.0     │ SGD       │ 30    │ 0         │ 9           │ 100        │ 0           │\n",
       "│ 1435 │ 0          │ 0          │ 8     │ 128   │ 1.0     │ SGD       │ 10    │ 0         │ 9           │ 100        │ 0           │\n",
       "│ 1436 │ 0          │ 0          │ 8     │ 128   │ 1.0     │ SGD       │ 20    │ 0         │ 9           │ 100        │ 0           │\n",
       "│ 1437 │ 0          │ 0          │ 8     │ 128   │ 1.0     │ SGD       │ 30    │ 0         │ 9           │ 100        │ 0           │\n",
       "│ 1438 │ 0          │ 0          │ 16    │ 128   │ 1.0     │ SGD       │ 10    │ 0         │ 9           │ 100        │ 0           │\n",
       "│ 1439 │ 0          │ 0          │ 16    │ 128   │ 1.0     │ SGD       │ 20    │ 0         │ 9           │ 100        │ 0           │\n",
       "│ 1440 │ 0          │ 0          │ 16    │ 128   │ 1.0     │ SGD       │ 30    │ 0         │ 9           │ 100        │ 0           │"
      ]
     },
     "execution_count": 157,
     "metadata": {},
     "output_type": "execute_result"
    }
   ],
   "source": [
    "df3 = df2 |> @orderby_descending(_.UnseenClass) |> @thenby(_.WrongCount) |> DataFrame"
   ]
  },
  {
   "cell_type": "code",
   "execution_count": 166,
   "metadata": {},
   "outputs": [
    {
     "name": "stderr",
     "output_type": "stream",
     "text": [
      "┌ Info: Building the CUDAnative run-time library for your sm_70 device, this might take a while...\n",
      "└ @ CUDAnative /home/gridsan/eakyurek/.julia/packages/CUDAnative/Lr0yj/src/compiler/rtlib.jl:173\n"
     ]
    },
    {
     "ename": "BoundsError",
     "evalue": "BoundsError: attempt to access (128, 2)\n  at index [3]",
     "output_type": "error",
     "traceback": [
      "BoundsError: attempt to access (128, 2)\n  at index [3]",
      "",
      "Stacktrace:",
      " [1] indexed_iterate(::Tuple{Int64,Int64}, ::Int64, ::Int64) at ./tuple.jl:63",
      " [2] encode(::NamedTuple{(:encoder, :Wμa, :Wμ, :Wσa, :Wσ, :decoder),Tuple{Multiply{Param{KnetArray{Float32,2}}},Multiply{Param{KnetArray{Float32,2}}},Dense{ELU},Multiply{Param{KnetArray{Float32,2}}},Dense{ELU},Multiply{Param{KnetArray{Float32,2}}}}}, ::Array{Int64,1}, ::Array{Int64,2}, ::Nothing) at ./In[8]:23",
      " [3] #loss#21(::Nothing, ::Bool, ::Bool, ::Bool, ::typeof(loss), ::NamedTuple{(:encoder, :Wμa, :Wμ, :Wσa, :Wσ, :decoder),Tuple{Multiply{Param{KnetArray{Float32,2}}},Multiply{Param{KnetArray{Float32,2}}},Dense{ELU},Multiply{Param{KnetArray{Float32,2}}},Dense{ELU},Multiply{Param{KnetArray{Float32,2}}}}}, ::Array{Int64,1}, ::Array{Int64,2}) at ./In[8]:49",
      " [4] (::getfield(Main, Symbol(\"#kw##loss\")))(::NamedTuple{(:encatt, :decatt, :results),Tuple{Bool,Bool,Bool}}, ::typeof(loss), ::NamedTuple{(:encoder, :Wμa, :Wμ, :Wσa, :Wσ, :decoder),Tuple{Multiply{Param{KnetArray{Float32,2}}},Multiply{Param{KnetArray{Float32,2}}},Dense{ELU},Multiply{Param{KnetArray{Float32,2}}},Dense{ELU},Multiply{Param{KnetArray{Float32,2}}}}}, ::Array{Int64,1}, ::Array{Int64,2}) at ./none:0",
      " [5] eval(::NamedTuple{(:encoder, :Wμa, :Wμ, :Wσa, :Wσ, :decoder),Tuple{Multiply{Param{KnetArray{Float32,2}}},Multiply{Param{KnetArray{Float32,2}}},Dense{ELU},Multiply{Param{KnetArray{Float32,2}}},Dense{ELU},Multiply{Param{KnetArray{Float32,2}}}}}, ::IndexedDict{Char}, ::Array{Array{Int64,1},1}) at ./In[6]:21",
      " [6] top-level scope at In[166]:6"
     ]
    }
   ],
   "source": [
    "cmodel = get_vae_models(128)[2]\n",
    "train!(cmodel, 𝑿; epoch=60, optim=Adam())\n",
    "sampled = sample(cmodel, vocab, 𝑿; N=100)\n",
    "unseen = [s for s in sampled if s ∈ holdout]\n",
    "wrong  = [s for s in sampled if s ∉ [data;holdout]]\n",
    "result = eval(cmodel, vocab, 𝑿)"
   ]
  },
  {
   "cell_type": "code",
   "execution_count": 148,
   "metadata": {},
   "outputs": [
    {
     "data": {
      "text/plain": [
       "6-element Array{String,1}:\n",
       " \"8g\"\n",
       " \"4e\"\n",
       " \"4f\"\n",
       " \"2d\"\n",
       " \"0b\"\n",
       " \"2c\""
      ]
     },
     "execution_count": 148,
     "metadata": {},
     "output_type": "execute_result"
    }
   ],
   "source": [
    "unique(unseen)"
   ]
  },
  {
   "cell_type": "code",
   "execution_count": 150,
   "metadata": {},
   "outputs": [
    {
     "name": "stdout",
     "output_type": "stream",
     "text": [
      "(L = 0.92936647f0, y = \"6d\", att = (αe = (αμ = K32(256,30)[1.9662112e-7⋯], ασ = K32(256,30)[4.431309e-7⋯]), αd = nothing))\n",
      "(L = 0.8953346f0, y = \"4c\", att = (αe = (αμ = K32(256,30)[1.828638e-5⋯], ασ = K32(256,30)[4.588832e-5⋯]), αd = nothing))\n"
     ]
    }
   ],
   "source": [
    "for (k,v) in result\n",
    "    if k==v.y\n",
    "        println(v)\n",
    "    end\n",
    "end"
   ]
  },
  {
   "cell_type": "code",
   "execution_count": 152,
   "metadata": {},
   "outputs": [
    {
     "ename": "ErrorException",
     "evalue": "Cannot convert String to series data for plotting",
     "output_type": "error",
     "traceback": [
      "Cannot convert String to series data for plotting",
      "",
      "Stacktrace:",
      " [1] error(::String) at ./error.jl:33",
      " [2] prepareSeriesData(::String) at /kuacc/users/eakyurek13/.julia/packages/Plots/Iuc9S/src/series.jl:15",
      " [3] convertToAnyVector(::String, ::Dict{Symbol,Any}) at /kuacc/users/eakyurek13/.julia/packages/Plots/Iuc9S/src/series.jl:26",
      " [4] macro expansion at /kuacc/users/eakyurek13/.julia/packages/Plots/Iuc9S/src/series.jl:129 [inlined]",
      " [5] apply_recipe(::Dict{Symbol,Any}, ::Type{Plots.SliceIt}, ::String, ::KnetArray{Float32,2}, ::Nothing) at /kuacc/users/eakyurek13/.julia/packages/RecipesBase/zBoFG/src/RecipesBase.jl:275",
      " [6] _process_userrecipes(::Plots.Plot{Plots.PyPlotBackend}, ::Dict{Symbol,Any}, ::Tuple{String,KnetArray{Float32,2}}) at /kuacc/users/eakyurek13/.julia/packages/Plots/Iuc9S/src/pipeline.jl:83",
      " [7] _plot!(::Plots.Plot{Plots.PyPlotBackend}, ::Dict{Symbol,Any}, ::Tuple{String,KnetArray{Float32,2}}) at /kuacc/users/eakyurek13/.julia/packages/Plots/Iuc9S/src/plot.jl:178",
      " [8] #plot#137(::Base.Iterators.Pairs{Symbol,Any,NTuple{4,Symbol},NamedTuple{(:xticks, :title, :size, :seriestype),Tuple{Tuple{StepRangeLen{Float64,Base.TwicePrecision{Float64},Base.TwicePrecision{Float64}},String},String,Tuple{Int64,Int64},Symbol}}}, ::typeof(RecipesBase.plot), ::String, ::Vararg{Any,N} where N) at /kuacc/users/eakyurek13/.julia/packages/Plots/Iuc9S/src/plot.jl:57",
      " [9] (::getfield(RecipesBase, Symbol(\"#kw##plot\")))(::NamedTuple{(:xticks, :title, :size, :seriestype),Tuple{Tuple{StepRangeLen{Float64,Base.TwicePrecision{Float64},Base.TwicePrecision{Float64}},String},String,Tuple{Int64,Int64},Symbol}}, ::typeof(RecipesBase.plot), ::String, ::KnetArray{Float32,2}) at ./none:0",
      " [10] #bar#384(::Base.Iterators.Pairs{Symbol,Any,Tuple{Symbol,Symbol,Symbol},NamedTuple{(:xticks, :title, :size),Tuple{Tuple{StepRangeLen{Float64,Base.TwicePrecision{Float64},Base.TwicePrecision{Float64}},String},String,Tuple{Int64,Int64}}}}, ::typeof(Plots.bar), ::String, ::Vararg{Any,N} where N) at /kuacc/users/eakyurek13/.julia/packages/RecipesBase/zBoFG/src/RecipesBase.jl:369",
      " [11] (::getfield(Plots, Symbol(\"#kw##bar\")))(::NamedTuple{(:xticks, :title, :size),Tuple{Tuple{StepRangeLen{Float64,Base.TwicePrecision{Float64},Base.TwicePrecision{Float64}},String},String,Tuple{Int64,Int64}}}, ::typeof(Plots.bar), ::String, ::Vararg{Any,N} where N) at ./none:0",
      " [12] top-level scope at In[152]:3"
     ]
    }
   ],
   "source": [
    "inp = \"4h\"\n",
    "v = result[inp]\n",
    "StatsPlots.bar(v.y, sum(v.att.αe.αμ, dims=1), xticks=(0.5:1:length(v[2])-0.5, v[2]), title=\"$inp->$(v[1])\", size=(1200,300))"
   ]
  },
  {
   "cell_type": "code",
   "execution_count": 41,
   "metadata": {},
   "outputs": [
    {
     "data": {
      "image/png": "[encoded data removed]"
     },
     "execution_count": 41,
     "metadata": {},
     "output_type": "execute_result"
    }
   ],
   "source": [
    "inp = \"4d\"\n",
    "v = d[inp]\n",
    "StatsPlots.bar(1:length(v[4]), v[3], xticks=(1:length(v[2]), v[2]), title=\"$inp->$(v[1])\", size=(1200,300))"
   ]
  },
  {
   "cell_type": "code",
   "execution_count": null,
   "metadata": {},
   "outputs": [],
   "source": [
    "df2 |> @orderby_descending(_.UnseenClass) |> @thenby(_.WrongCount) |> DataFrame"
   ]
  },
  {
   "cell_type": "code",
   "execution_count": null,
   "metadata": {},
   "outputs": [],
   "source": [
    "bestmodels = df2 |>  @filter(_.Epoch==20 && _.Optimizer == \"Rmsprop\" && _.lr==0.001) |> DataFrame\n",
    "@df bestmodels groupedbar(:H, :UnseenClass , group = {Enc_Att = :EncoderAtt, Dec_Att  = :DecoderAtt}, xlabel = \"Models\", ylabel = \"# of Unseen Classes\", title = \"# of Unseen Classes vs Epoch on Different Models\")"
   ]
  },
  {
   "cell_type": "code",
   "execution_count": null,
   "metadata": {},
   "outputs": [],
   "source": [
    "bestmodels = df2 |>  @filter(_.Epoch==20 && _.Optimizer == \"Rmsprop\" && _.lr==0.001) |> DataFrame\n",
    "@df bestmodels groupedbar(:H, :WrongCount , group = {Enc_Att = :EncoderAtt, Dec_Att  = :DecoderAtt}, xlabel = \"Models\", ylabel = \"# of Unseen Classes\", title = \"# of Unseen Classes vs Epoch on Different Models\")"
   ]
  },
  {
   "cell_type": "code",
   "execution_count": null,
   "metadata": {},
   "outputs": [],
   "source": [
    "E = 64\n",
    "H = 256"
   ]
  },
  {
   "cell_type": "code",
   "execution_count": null,
   "metadata": {},
   "outputs": [],
   "source": [
    "lmmodel = (rnn=LSTM(input=V,hidden=H,embed=E,dropout=0.5), output=Linear(input=H,output=V))"
   ]
  },
  {
   "cell_type": "code",
   "execution_count": null,
   "metadata": {},
   "outputs": [],
   "source": [
    "train!(lmmodel,x_onehot; optim=Adam(lr=0.01))"
   ]
  },
  {
   "cell_type": "code",
   "execution_count": null,
   "metadata": {},
   "outputs": [],
   "source": [
    "loss(lmmodel,x_onehot[1])"
   ]
  },
  {
   "cell_type": "code",
   "execution_count": null,
   "metadata": {},
   "outputs": [],
   "source": [
    "sampled =[vocab[predict(lmmodel,2)] for i=1:100];"
   ]
  },
  {
   "cell_type": "code",
   "execution_count": null,
   "metadata": {},
   "outputs": [],
   "source": [
    "unseen = [join(s) for s in sampled if join(s) ∈ holdout]\n",
    "wrong  = [join(s) for s in sampled if join(s) ∉ [data;holdout]]\n",
    "dkl = KLDivergence(data,holdout,sampled)               "
   ]
  },
  {
   "cell_type": "code",
   "execution_count": null,
   "metadata": {},
   "outputs": [],
   "source": [
    "unseen"
   ]
  },
  {
   "cell_type": "markdown",
   "metadata": {},
   "source": [
    "# Morph Data"
   ]
  },
  {
   "cell_type": "code",
   "execution_count": 220,
   "metadata": {},
   "outputs": [
    {
     "data": {
      "text/plain": [
       "50"
      ]
     },
     "execution_count": 220,
     "metadata": {},
     "output_type": "execute_result"
    }
   ],
   "source": [
    "using KnetLayers, Plots\n",
    "import KnetLayers: nllmask, arrtype\n",
    "setoptim!(M, optimizer) = for p in params(M); p.opt = deepcopy(optimizer); end\n",
    "gpu(0)\n",
    "KnetLayers.gc()\n",
    "include(\"parser.jl\")\n",
    "download(SIGDataSet)\n",
    "ENV[\"LINES\"]   = 50"
   ]
  },
  {
   "cell_type": "code",
   "execution_count": 221,
   "metadata": {},
   "outputs": [],
   "source": [
    "data  = map(parseDataLine, eachline(\"./data/Sigmorphon/task1/all/spanish-train-high\"));\n",
    "vocab = Vocabulary(data)\n",
    "edata = encode(data,vocab);\n",
    "test  = map(parseDataLine, eachline(\"./data/Sigmorphon/task1/all/spanish-test\"));\n",
    "tdata = encode(test,vocab);"
   ]
  },
  {
   "cell_type": "code",
   "execution_count": 222,
   "metadata": {},
   "outputs": [
    {
     "data": {
      "text/plain": [
       "IndexedDict{Char}(Dict('n' => 5,'f' => 33,'á' => 22,'w' => 38,'d' => 26,'e' => 9,'o' => 6,'ñ' => 29,'🎬' => 4,'ú' => 20…), ['❓', '⭕', '🏁', '🎬', 'n', 'o', ' ', 'r', 'e', 'i'  …  'ñ', 'x', 'é', 'v', 'f', 'ó', 'y', 'ü', 'k', 'w'])"
      ]
     },
     "execution_count": 222,
     "metadata": {},
     "output_type": "execute_result"
    }
   ],
   "source": [
    "vocab.chars"
   ]
  },
  {
   "cell_type": "code",
   "execution_count": 223,
   "metadata": {},
   "outputs": [
    {
     "data": {
      "text/plain": [
       "1000-element Array{String,1}:\n",
       " \"no viralice\"   \n",
       " \"trapeé\"        \n",
       " \"se preciaron\"  \n",
       " \"sacudiría\"     \n",
       " \"amputó\"        \n",
       " \"arrasan\"       \n",
       " \"mayaba\"        \n",
       " \"espacien\"      \n",
       " \"retransmitiere\"\n",
       " \"no evidencies\" \n",
       " \"pinchare\"      \n",
       " \"facilitas\"     \n",
       " \"guacarearon\"   \n",
       " \"confluyereis\"  \n",
       " \"trabo\"         \n",
       " \"acantonaría\"   \n",
       " \"instrumentadas\"\n",
       " \"desnataren\"    \n",
       " \"customizad\"    \n",
       " \"enmascarado\"   \n",
       " \"derruya\"       \n",
       " \"conminen\"      \n",
       " \"ramificarais\"  \n",
       " ⋮               \n",
       " \"generalicemos\" \n",
       " \"desescombraras\"\n",
       " \"independizado\" \n",
       " \"enlistado\"     \n",
       " \"apuran\"        \n",
       " \"encuadernare\"  \n",
       " \"se acobardó\"   \n",
       " \"petamos\"       \n",
       " \"segará\"        \n",
       " \"reunieron\"     \n",
       " \"finalizaréis\"  \n",
       " \"citado\"        \n",
       " \"versifique\"    \n",
       " \"manipulareis\"  \n",
       " \"mangonearán\"   \n",
       " \"abrocharéis\"   \n",
       " \"batisteis\"     \n",
       " \"entrecierra\"   \n",
       " \"transmigres\"   \n",
       " \"exculparían\"   \n",
       " \"escanees\"      \n",
       " \"cuadriplicó\"   "
      ]
     },
     "execution_count": 223,
     "metadata": {},
     "output_type": "execute_result"
    }
   ],
   "source": [
    "trainsfs = unique(map(x->join(x.surface),data))\n",
    "testsfs =  unique(map(x->join(x.surface),test)) "
   ]
  },
  {
   "cell_type": "code",
   "execution_count": 224,
   "metadata": {},
   "outputs": [
    {
     "data": {
      "text/plain": [
       "(unk = 1, mask = 2, eow = 3, bow = 4)"
      ]
     },
     "execution_count": 224,
     "metadata": {},
     "output_type": "execute_result"
    }
   ],
   "source": [
    "vocab.specialIndices"
   ]
  },
  {
   "cell_type": "code",
   "execution_count": 225,
   "metadata": {},
   "outputs": [
    {
     "data": {
      "text/plain": [
       "catsample (generic function with 1 method)"
      ]
     },
     "execution_count": 225,
     "metadata": {},
     "output_type": "execute_result"
    }
   ],
   "source": [
    "drop(x) = dropout(x, 0.3)\n",
    "function interact(e, h; sumout=false)\n",
    "    y = e .* h\n",
    "    if sumout\n",
    "        α = softmax(mat(sum(y,dims=1)),dims=1)\n",
    "        reshape(α,1,size(α)...)\n",
    "    else\n",
    "        softmax(y, dims=(1,2))\n",
    "    end\n",
    "end\n",
    "\n",
    "function attend(ea,  h, W, layer; sumout=false) \n",
    "    α   = interact(ea,W(h); sumout=sumout)  \n",
    "    layer(mat(sum(drop(α .* h), dims=2))), α \n",
    "end\n",
    "function encode(morph, xi, xt) \n",
    "    e     = morph.encoder(xi.tokens; batchSizes=xi.batchSizes, hy=true).hidden\n",
    "    H,B,_ = size(e)\n",
    "    h     = reshape(cat1d((morph.encoder(ex.tokens; batchSizes=ex.batchSizes, hy=true).hidden for ex  in xt)...), H, 2morph.num, B)\n",
    "    μ, αu = attend(reshape(morph.Weaμ(e),H,1,B), h, morph.Wμa, morph.Wμ; sumout=false) \n",
    "    logσ², ασ = attend(reshape(morph.Weaσ(e),H,1,B), h, morph.Wσa,  morph.Wσ; sumout=false)    \n",
    "    return μ, logσ², (αu=αu,ασ=ασ)\n",
    "end\n",
    "\n",
    "function decode(morph, z, xi=nothing; bow=4, maxL=20)\n",
    "    if isnothing(xi)\n",
    "         B      = size(z,2)\n",
    "         H      = hiddensize(morph)\n",
    "         input  = fill!(Vector{Int}(undef,B),bow)\n",
    "         #y      = morph.decoder(input;batchSizes=[B]).y\n",
    "         preds  = zeros(Int,B,maxL)\n",
    "         h,c = z, zero.(z)\n",
    "         for i=1:maxL\n",
    "            out      = morph.decoder(input,h,c;batchSizes=[B], hy=true, cy=true)\n",
    "            h,c = out.hidden, out.memory          \n",
    "            input  = vec(mapslices(x->catsample(softmax(x)), convert(Array,morph.output(out.y)), dims=1))\n",
    "            preds[:,i] = input\n",
    "         end\n",
    "        return preds\n",
    "    else\n",
    "        x = pad_packed_sequence(xi, bow, toend=false)\n",
    "        y = morph.decoder(x.tokens, reshape(z,size(z)...,1); batchSizes=x.batchSizes).y\n",
    "        morph.output(y)\n",
    "    end\n",
    "end\n",
    "\n",
    "function loss(morph, vocab, xi, x; λ=0.0)\n",
    "    μ, logσ², _ =  encode(morph, xi,x)\n",
    "    σ² = exp.(logσ²)\n",
    "    σ  = sqrt.(σ²)\n",
    "    z  = μ .+ randn!(similar(μ)) .* σ\n",
    "    y  = decode(morph, z, xi; bow=vocab.specialIndices.bow)\n",
    "    KL = -sum(1.0f0 .+ logσ² .- μ.^2 .- σ²) / 2length(μ)\n",
    "    yt  = pad_packed_sequence(xi, vocab.specialIndices.eow)\n",
    "    L  = KnetLayers.nllmask(y,yt.tokens) + λ * KL\n",
    "end\n",
    "\n",
    "function attentions(model, data, vocab;  B=16)\n",
    "    edata = Iterators.Stateful(data)\n",
    "    attentions = []\n",
    "    while ((d = getbatch(edata,B)) !== nothing)\n",
    "        xi,xt = d\n",
    "        μ,logσ²,αs = encode(model, xi, xt)\n",
    "        sfs = map(inds -> xi.tokens[inds],_batchSizes2indices(xi.batchSizes))\n",
    "        exs = [map(inds -> x.tokens[inds],_batchSizes2indices(x.batchSizes)) for x in xt]\n",
    "        push!(attentions, (sfs,exs,map(Array,αs)))\n",
    "    end\n",
    "    return attentions\n",
    "end\n",
    "\n",
    "function train!(model, data, vocab; epoch=20, optim=Adam(), B=16, λrate = 1/1000 )\n",
    "    setoptim!(model,optim)\n",
    "    λ = 1.0\n",
    "    for i=1:epoch\n",
    "        lss = 0.0\n",
    "        cnt = 0\n",
    "        edata = Iterators.Stateful(data)\n",
    "        while ((d = getbatch(edata,B)) !== nothing)\n",
    "            J = @diff loss(model ,vocab, d...;λ=λ)\n",
    "            lss += value(J)\n",
    "            cnt += 1\n",
    "            for w in params(J)\n",
    "                KnetLayers.update!(value(w), grad(J,w), w.opt)\n",
    "            end\n",
    "        end\n",
    "        println(lss/cnt)\n",
    "    end\n",
    "end\n",
    "\n",
    "hiddensize(model)  = encoder.specs.hiddenSize\n",
    "elementtype(model) = eltype(model.encoder.params)\n",
    "\n",
    "function samplingparams(model, data; useprior=false, B=16)\n",
    "    H,T   = hiddensize(model), elementtype(model)\n",
    "    if useprior\n",
    "        arrtype(zeros(T,H,1)), arrtype(ones(T,H,1))\n",
    "    else\n",
    "        μ, σ² = arrtype(zeros(T,H,1)), arrtype(zeros(T,H,1))\n",
    "        cnt = 0\n",
    "        edata = Iterators.Stateful(data)\n",
    "        while ((d = getbatch(edata,B)) !== nothing)\n",
    "            μi, logσ² = encode(model, d...)\n",
    "            μ  .+= sum(μi,dims=2)\n",
    "            σ² .+= sum(exp.(logσ²),dims=2)\n",
    "            cnt += 1\n",
    "        end\n",
    "        μ/cnt, σ²/cnt\n",
    "    end\n",
    "end\n",
    "\n",
    "greedy(y) = mapslices(argmax, y, dims=1)\n",
    "function trim(chars::Vector{Int},vocab)\n",
    "    out = Int[]\n",
    "    for c in chars\n",
    "        c == vocab.specialIndices.eow && break\n",
    "        if c ∉ vocab.specialIndices\n",
    "            push!(out,c)\n",
    "        end\n",
    "    end\n",
    "    return join(vocab.chars[out])\n",
    "    end \n",
    "\n",
    "function sample(model, vocab, data; N=5, useprior=false)\n",
    "    μ, σ² =  samplingparams(model, data; useprior=useprior) \n",
    "    samples = []\n",
    "    for i = 1 : (N ÷ 5) +1\n",
    "        r     =  similar(μ,size(μ,1),5)\n",
    "        z     =  μ .+ randn!(r) .* sqrt.(σ²)\n",
    "        y     = decode(model, z)\n",
    "        s     = mapslices(x->trim(x,vocab),y, dims=2)\n",
    "        push!(samples,s)\n",
    "    end\n",
    "    cat1d(samples...)\n",
    "end\n",
    "\n",
    "function catsample(p)\n",
    "    r = rand()\n",
    "    for c = 1:length(p)\n",
    "        r -= p[c]\n",
    "        r < 0 && return c\n",
    "    end\n",
    "    \n",
    "end"
   ]
  },
  {
   "cell_type": "code",
   "execution_count": 226,
   "metadata": {},
   "outputs": [
    {
     "name": "stdout",
     "output_type": "stream",
     "text": [
      "2.1497849525293744\n",
      "1.76964672601372\n",
      "1.6852867977980293\n",
      "1.5988201742304955\n",
      "1.5129492849426112\n",
      "1.4262491313421983\n",
      "1.3440428750794264\n",
      "1.268919750915817\n",
      "1.2018812495973368\n",
      "1.1409334288551065\n",
      "1.086325445798767\n",
      "1.0420982188073802\n",
      "1.008205027415062\n",
      "0.9838466062018765\n",
      "0.966398172309075\n",
      "0.9487767411171866\n",
      "0.9330511933676607\n",
      "0.9182144466122089\n",
      "0.90654075805209\n",
      "0.8935091253168357\n",
      "0.8829627912385623\n",
      "0.877599291314662\n",
      "0.8709365196763654\n",
      "0.8671383793702174\n",
      "0.863075113719434\n",
      "0.8566398145610176\n",
      "0.8537189716255816\n",
      "0.8544000424520171\n",
      "0.8511666156408842\n",
      "0.8456175854082568\n"
     ]
    }
   ],
   "source": [
    "H=512\n",
    "E=128\n",
    "V=length(vocab.chars)\n",
    "encoder = LSTM(input=V,hidden=H,embed=E,dropout=0.3)\n",
    "decoder = LSTM(input=V,hidden=H,embed=E,dropout=0.3)\n",
    "decoder.embedding = encoder.embedding\n",
    "morph = (encoder=encoder,\n",
    "         Wμ=MLP(H,H,H, activation=Tanh()), \n",
    "         Wσ=MLP(H,H,H, activation=Tanh()), \n",
    "         Weaμ=Multiply(input=H, output=H),\n",
    "         Weaσ=Multiply(input=H, output=H),\n",
    "         Wμa=Multiply(input=H, output=H), \n",
    "         Wσa=Multiply(input=H, output=H),\n",
    "         output=Linear(input=H,output=V), \n",
    "         decoder = decoder, \n",
    "         num=edata.num)\n",
    "train!(morph, edata, vocab; optim=Adam(), epoch=30)"
   ]
  },
  {
   "cell_type": "code",
   "execution_count": 227,
   "metadata": {},
   "outputs": [
    {
     "data": {
      "text/plain": [
       "5617-element Array{String,1}:\n",
       " \"paleaba\"         \n",
       " \"derritieron\"     \n",
       " \"contrarrechada\"  \n",
       " \"envolvía\"        \n",
       " \"emborracaban\"    \n",
       " \"entretarais\"     \n",
       " \"tipificasen\"     \n",
       " \"pilló\"           \n",
       " \"os desarotaréis\" \n",
       " \"me tongara\"      \n",
       " \"descendráis\"     \n",
       " \"malentenderá\"    \n",
       " \"llaveemos\"       \n",
       " \"equivaldría\"     \n",
       " \"cionifica\"       \n",
       " \"idearen\"         \n",
       " \"doplamos\"        \n",
       " \"capitanea\"       \n",
       " \"rayó\"            \n",
       " \"ladeabais\"       \n",
       " \"estabilizabais\"  \n",
       " \"prodigases\"      \n",
       " \"confortas\"       \n",
       " ⋮                 \n",
       " \"desnomban\"       \n",
       " \"os convocases\"   \n",
       " \"alboreemos\"      \n",
       " \"balpanciaríais\"  \n",
       " \"domestuantáremos\"\n",
       " \"no barequeemos\"  \n",
       " \"descibrarais\"    \n",
       " \"desmediría\"      \n",
       " \"disfacásemos\"    \n",
       " \"abatuéis\"        \n",
       " \"saltimbran\"      \n",
       " \"no candoláremos\" \n",
       " \"demoquean\"       \n",
       " \"no mordisqueéis\" \n",
       " \"encendes\"        \n",
       " \"peregratundee\"   \n",
       " \"pondearais\"      \n",
       " \"gezaran\"         \n",
       " \"recamarás\"       \n",
       " \"reaniváramos\"    \n",
       " \"llutiquen\"       \n",
       " \"extraposaríais\"  "
      ]
     },
     "execution_count": 227,
     "metadata": {},
     "output_type": "execute_result"
    }
   ],
   "source": [
    "samples = unique(sample(morph, vocab, edata; N=10000, useprior=true))"
   ]
  },
  {
   "cell_type": "code",
   "execution_count": 250,
   "metadata": {},
   "outputs": [
    {
     "data": {
      "text/plain": [
       "getsingle (generic function with 1 method)"
      ]
     },
     "execution_count": 250,
     "metadata": {},
     "output_type": "execute_result"
    }
   ],
   "source": [
    "sfs,exs,αs = atts[1]\n",
    "getsingle(sfs,exs,αs,i) = join(vocab.chars[sfs[i]]), map(e->join(vocab.chars[e]),exs[i]), map(x->x[:,:,i],αs)"
   ]
  },
  {
   "cell_type": "code",
   "execution_count": 251,
   "metadata": {},
   "outputs": [
    {
     "data": {
      "text/plain": [
       "(\"menudeases\", [\"zancajeases\", \"menudeases\", \"colindases\", \"menudee\"], (αu = Float32[0.0 0.0 0.0 0.0; 0.0 0.0 0.0 0.0; … ; 0.0 0.0 0.0 0.0; 0.0 0.0 0.0 0.0], ασ = Float32[0.0 0.0 0.0 0.0; 0.0 0.0 0.0 0.0; … ; 0.0 0.0 0.0 0.0; 0.0 0.0 0.0 0.0]))"
      ]
     },
     "execution_count": 251,
     "metadata": {},
     "output_type": "execute_result"
    }
   ],
   "source": [
    "i = rand(1:length(atts))\n",
    "s1,e1,α1 =  getsingle(atts[i]...,rand(1:16))"
   ]
  },
  {
   "cell_type": "code",
   "execution_count": 243,
   "metadata": {},
   "outputs": [
    {
     "data": {
      "image/png": "[encoded data removed]"
     },
     "execution_count": 243,
     "metadata": {},
     "output_type": "execute_result"
    }
   ],
   "source": [
    "xs = e1\n",
    "ys = 1:512\n",
    "z = α1.ασ\n",
    "heatmap(xs, ys, z;size=(1200,1200))"
   ]
  },
  {
   "cell_type": "code",
   "execution_count": 228,
   "metadata": {},
   "outputs": [
    {
     "data": {
      "text/plain": [
       "1903-element Array{String,1}:\n",
       " \"paleaba\"          \n",
       " \"derritieron\"      \n",
       " \"envolvía\"         \n",
       " \"tipificasen\"      \n",
       " \"pilló\"            \n",
       " \"malentenderá\"     \n",
       " \"llaveemos\"        \n",
       " \"equivaldría\"      \n",
       " \"idearen\"          \n",
       " \"capitanea\"        \n",
       " \"rayó\"             \n",
       " \"ladeabais\"        \n",
       " \"prodigases\"       \n",
       " \"confortas\"        \n",
       " \"apasionases\"      \n",
       " \"descoceréis\"      \n",
       " \"vivificareis\"     \n",
       " \"abatata\"          \n",
       " \"no inmortalicemos\"\n",
       " \"mezclará\"         \n",
       " \"pellizca\"         \n",
       " \"despiezaran\"      \n",
       " \"alongarás\"        \n",
       " ⋮                  \n",
       " \"crujiendo\"        \n",
       " \"pregúntese\"       \n",
       " \"significaren\"     \n",
       " \"controlamos\"      \n",
       " \"orbitaréis\"       \n",
       " \"refrigeraba\"      \n",
       " \"pegáis\"           \n",
       " \"acantorares\"      \n",
       " \"escoplee\"         \n",
       " \"buceares\"         \n",
       " \"olfatearan\"       \n",
       " \"calificases\"      \n",
       " \"no viciemos\"      \n",
       " \"no piropeemos\"    \n",
       " \"plagaba\"          \n",
       " \"desalojó\"         \n",
       " \"asestara\"         \n",
       " \"veneró\"           \n",
       " \"transfirieres\"    \n",
       " \"barbarizadas\"     \n",
       " \"no barequeemos\"   \n",
       " \"recamarás\"        "
      ]
     },
     "execution_count": 228,
     "metadata": {},
     "output_type": "execute_result"
    }
   ],
   "source": [
    "samples[findall([s ∈ trainsfs for s in samples])]"
   ]
  },
  {
   "cell_type": "code",
   "execution_count": 229,
   "metadata": {},
   "outputs": [
    {
     "data": {
      "text/plain": [
       "4-element Array{String,1}:\n",
       " \"balbuciera\" \n",
       " \"aplomamos\"  \n",
       " \"amaitinad\"  \n",
       " \"retradujere\""
      ]
     },
     "execution_count": 229,
     "metadata": {},
     "output_type": "execute_result"
    }
   ],
   "source": [
    "samples[findall([s ∈ testsfs for s in samples])]"
   ]
  },
  {
   "cell_type": "code",
   "execution_count": 66,
   "metadata": {},
   "outputs": [
    {
     "data": {
      "text/plain": [
       "2827-element Array{String,1}:\n",
       " \"bufetearon\"      \n",
       " \"vadearían\"       \n",
       " \"desacatarais\"    \n",
       " \"encansaré\"       \n",
       " \"dute\"            \n",
       " \"plebisdis\"       \n",
       " \"empollan\"        \n",
       " \"estrapiaran\"     \n",
       " \"desnutriría\"     \n",
       " \"posifican\"       \n",
       " \"no desluemas\"    \n",
       " \"venteaba\"        \n",
       " \"conmemos\"        \n",
       " \"ecursionen\"      \n",
       " \"despepitases\"    \n",
       " \"os apoyaríais\"   \n",
       " \"magnifique\"      \n",
       " \"enjaularían\"     \n",
       " \"amarsaría\"       \n",
       " \"eletaríais\"      \n",
       " \"ajustares\"       \n",
       " \"flejanes\"        \n",
       " \"encureáremos\"    \n",
       " ⋮                 \n",
       " \"occidentalizamos\"\n",
       " \"descontinuado\"   \n",
       " \"vibroclamaría\"   \n",
       " \"despepásemos\"    \n",
       " \"no hundamos\"     \n",
       " \"jerandará\"       \n",
       " \"alfombaré\"       \n",
       " \"no lactemos\"     \n",
       " \"inmiturba\"       \n",
       " \"destrazamos\"     \n",
       " \"felizca\"         \n",
       " \"reconsideras\"    \n",
       " \"despeloter\"      \n",
       " \"abetunara\"       \n",
       " \"docarías\"        \n",
       " \"denunciamos\"     \n",
       " \"picada\"          \n",
       " \"desembecinaseis\" \n",
       " \"recrudieras\"     \n",
       " \"esnifada\"        \n",
       " \"autopestundamos\" \n",
       " \"no anociemos\"    "
      ]
     },
     "execution_count": 66,
     "metadata": {},
     "output_type": "execute_result"
    }
   ],
   "source": [
    "samples[findall([s ∉ testsfs && s ∉ trainsfs for s in samples])]"
   ]
  },
  {
   "cell_type": "code",
   "execution_count": 67,
   "metadata": {},
   "outputs": [
    {
     "data": {
      "text/plain": [
       "6470-element Array{String,1}:\n",
       " \"malentenderá\"      \n",
       " \"desolle\"           \n",
       " \"erradiquen\"        \n",
       " \"superviviese\"      \n",
       " \"enrancias\"         \n",
       " \"no tomes\"          \n",
       " \"sobrecaliento\"     \n",
       " \"derritieron\"       \n",
       " \"atragantáramos\"    \n",
       " \"grincheare\"        \n",
       " \"desestabilizáremos\"\n",
       " \"rebautiza\"         \n",
       " \"refanfinflares\"    \n",
       " \"universalicé\"      \n",
       " \"desluzcamos\"       \n",
       " \"destoque\"          \n",
       " \"entumeciesen\"      \n",
       " \"cojoreásemos\"      \n",
       " \"licerare\"          \n",
       " \"terraplenan\"       \n",
       " \"informaban\"        \n",
       " \"crujieseis\"        \n",
       " \"dirminaría\"        \n",
       " ⋮                   \n",
       " \"no ó\"              \n",
       " \"colisione\"         \n",
       " \"atragantearás\"     \n",
       " \"llegaríais\"        \n",
       " \"hendía\"            \n",
       " \"cernear\"           \n",
       " \"fajado\"            \n",
       " \"culturemos\"        \n",
       " \"tiznada\"           \n",
       " \"asumiría\"          \n",
       " \"hiparás\"           \n",
       " \"trastorsado\"       \n",
       " \"castigamos\"        \n",
       " \"jerar\"             \n",
       " \"chocado\"           \n",
       " \"galvees\"           \n",
       " \"ardullarías\"       \n",
       " \"choque\"            \n",
       " \"se despedidos\"     \n",
       " \"yultamos\"          \n",
       " \"poseyesen\"         \n",
       " \"iguatabas\"         "
      ]
     },
     "execution_count": 67,
     "metadata": {},
     "output_type": "execute_result"
    }
   ],
   "source": [
    "samples2 = unique(sample(morph, vocab, edata; N=10000, useprior=false))"
   ]
  },
  {
   "cell_type": "code",
   "execution_count": 68,
   "metadata": {},
   "outputs": [
    {
     "data": {
      "text/plain": [
       "2334-element Array{String,1}:\n",
       " \"malentenderá\"      \n",
       " \"desolle\"           \n",
       " \"erradiquen\"        \n",
       " \"superviviese\"      \n",
       " \"enrancias\"         \n",
       " \"no tomes\"          \n",
       " \"sobrecaliento\"     \n",
       " \"derritieron\"       \n",
       " \"atragantáramos\"    \n",
       " \"desestabilizáremos\"\n",
       " \"rebautiza\"         \n",
       " \"refanfinflares\"    \n",
       " \"universalicé\"      \n",
       " \"desluzcamos\"       \n",
       " \"destoque\"          \n",
       " \"terraplenan\"       \n",
       " \"contagiabais\"      \n",
       " \"aliviara\"          \n",
       " \"remedaría\"         \n",
       " \"parlamentaba\"      \n",
       " \"elucubro\"          \n",
       " \"leuden\"            \n",
       " \"incriminando\"      \n",
       " ⋮                   \n",
       " \"añejaron\"          \n",
       " \"fastidiaron\"       \n",
       " \"laboraban\"         \n",
       " \"ahijáis\"           \n",
       " \"achantará\"         \n",
       " \"privemos\"          \n",
       " \"orinamos\"          \n",
       " \"carburizaron\"      \n",
       " \"se acomodaran\"     \n",
       " \"crepitásemos\"      \n",
       " \"nevisca\"           \n",
       " \"divagáremos\"       \n",
       " \"repostado\"         \n",
       " \"no fotocopien\"     \n",
       " \"martillé\"          \n",
       " \"colisione\"         \n",
       " \"hendía\"            \n",
       " \"culturemos\"        \n",
       " \"asumiría\"          \n",
       " \"castigamos\"        \n",
       " \"choque\"            \n",
       " \"poseyesen\"         "
      ]
     },
     "execution_count": 68,
     "metadata": {},
     "output_type": "execute_result"
    }
   ],
   "source": [
    "samples2[findall([s ∈ trainsfs for s in samples2])]"
   ]
  },
  {
   "cell_type": "code",
   "execution_count": 69,
   "metadata": {},
   "outputs": [
    {
     "data": {
      "text/plain": [
       "9-element Array{String,1}:\n",
       " \"mostremos\"   \n",
       " \"aplomamos\"   \n",
       " \"agrada\"      \n",
       " \"cumplimos\"   \n",
       " \"vallaríais\"  \n",
       " \"caminaba\"    \n",
       " \"raparon\"     \n",
       " \"interpondría\"\n",
       " \"sonrosare\"   "
      ]
     },
     "execution_count": 69,
     "metadata": {},
     "output_type": "execute_result"
    }
   ],
   "source": [
    "samples2[findall([s ∈ testsfs for s in samples2])]"
   ]
  },
  {
   "cell_type": "code",
   "execution_count": null,
   "metadata": {},
   "outputs": [],
   "source": []
  }
 ],
 "metadata": {
  "kernelspec": {
   "display_name": "Julia 1.2.0",
   "language": "julia",
   "name": "julia-1.2"
  },
  "language_info": {
   "file_extension": ".jl",
   "mimetype": "application/julia",
   "name": "julia",
   "version": "1.2.0"
  }
 },
 "nbformat": 4,
 "nbformat_minor": 4
}
